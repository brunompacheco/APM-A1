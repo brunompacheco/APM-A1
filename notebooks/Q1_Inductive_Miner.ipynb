{
 "cells": [
  {
   "cell_type": "code",
   "execution_count": 1,
   "metadata": {},
   "outputs": [
    {
     "data": {
      "text/plain": [
       "'1.2.13'"
      ]
     },
     "execution_count": 1,
     "metadata": {},
     "output_type": "execute_result"
    }
   ],
   "source": [
    "import pm4py\n",
    "pm4py.__version__"
   ]
  },
  {
   "cell_type": "markdown",
   "metadata": {},
   "source": [
    "# Inductive Miner\n",
    "\n",
    "> In this question you should discover a model for the given event log with a special focus on the Inductive Miner implemented in PM4Py.\n",
    "\n",
    "## Data loading"
   ]
  },
  {
   "cell_type": "code",
   "execution_count": 19,
   "metadata": {},
   "outputs": [
    {
     "data": {
      "text/html": [
       "<div>\n",
       "<style scoped>\n",
       "    .dataframe tbody tr th:only-of-type {\n",
       "        vertical-align: middle;\n",
       "    }\n",
       "\n",
       "    .dataframe tbody tr th {\n",
       "        vertical-align: top;\n",
       "    }\n",
       "\n",
       "    .dataframe thead th {\n",
       "        text-align: right;\n",
       "    }\n",
       "</style>\n",
       "<table border=\"1\" class=\"dataframe\">\n",
       "  <thead>\n",
       "    <tr style=\"text-align: right;\">\n",
       "      <th></th>\n",
       "      <th>Patient</th>\n",
       "      <th>Activity</th>\n",
       "      <th>Resource</th>\n",
       "      <th>case:PatientName</th>\n",
       "      <th>case:Age</th>\n",
       "      <th>case:Insurance</th>\n",
       "      <th>start_timestamp</th>\n",
       "      <th>Timestamp</th>\n",
       "      <th>@@duration</th>\n",
       "    </tr>\n",
       "  </thead>\n",
       "  <tbody>\n",
       "    <tr>\n",
       "      <th>0</th>\n",
       "      <td>1</td>\n",
       "      <td>Register</td>\n",
       "      <td>Alexander</td>\n",
       "      <td>Hermann the 1.</td>\n",
       "      <td>51</td>\n",
       "      <td>STAT</td>\n",
       "      <td>2020-06-01 06:00:00</td>\n",
       "      <td>2020-06-01 06:08:53</td>\n",
       "      <td>533.0</td>\n",
       "    </tr>\n",
       "    <tr>\n",
       "      <th>1</th>\n",
       "      <td>1</td>\n",
       "      <td>Initial Exam</td>\n",
       "      <td>Anna</td>\n",
       "      <td>Hermann the 1.</td>\n",
       "      <td>51</td>\n",
       "      <td>STAT</td>\n",
       "      <td>2020-06-01 06:10:48</td>\n",
       "      <td>2020-06-01 06:25:43</td>\n",
       "      <td>895.0</td>\n",
       "    </tr>\n",
       "    <tr>\n",
       "      <th>2</th>\n",
       "      <td>1</td>\n",
       "      <td>Initial Exam Decision</td>\n",
       "      <td>Amelie,Anna</td>\n",
       "      <td>Hermann the 1.</td>\n",
       "      <td>51</td>\n",
       "      <td>STAT</td>\n",
       "      <td>2020-06-01 06:26:43</td>\n",
       "      <td>2020-06-01 06:31:52</td>\n",
       "      <td>309.0</td>\n",
       "    </tr>\n",
       "    <tr>\n",
       "      <th>3</th>\n",
       "      <td>1</td>\n",
       "      <td>Inform about Isolation</td>\n",
       "      <td>Alexander</td>\n",
       "      <td>Hermann the 1.</td>\n",
       "      <td>51</td>\n",
       "      <td>STAT</td>\n",
       "      <td>2020-06-01 06:33:45</td>\n",
       "      <td>2020-06-01 06:33:45</td>\n",
       "      <td>0.0</td>\n",
       "    </tr>\n",
       "    <tr>\n",
       "      <th>4</th>\n",
       "      <td>1</td>\n",
       "      <td>Test III</td>\n",
       "      <td>Anna</td>\n",
       "      <td>Hermann the 1.</td>\n",
       "      <td>51</td>\n",
       "      <td>STAT</td>\n",
       "      <td>2020-06-01 06:35:35</td>\n",
       "      <td>2020-06-01 07:03:47</td>\n",
       "      <td>1692.0</td>\n",
       "    </tr>\n",
       "  </tbody>\n",
       "</table>\n",
       "</div>"
      ],
      "text/plain": [
       "   Patient                Activity     Resource case:PatientName  case:Age  \\\n",
       "0        1                Register    Alexander   Hermann the 1.        51   \n",
       "1        1            Initial Exam         Anna   Hermann the 1.        51   \n",
       "2        1   Initial Exam Decision  Amelie,Anna   Hermann the 1.        51   \n",
       "3        1  Inform about Isolation    Alexander   Hermann the 1.        51   \n",
       "4        1                Test III         Anna   Hermann the 1.        51   \n",
       "\n",
       "  case:Insurance     start_timestamp           Timestamp  @@duration  \n",
       "0           STAT 2020-06-01 06:00:00 2020-06-01 06:08:53       533.0  \n",
       "1           STAT 2020-06-01 06:10:48 2020-06-01 06:25:43       895.0  \n",
       "2           STAT 2020-06-01 06:26:43 2020-06-01 06:31:52       309.0  \n",
       "3           STAT 2020-06-01 06:33:45 2020-06-01 06:33:45         0.0  \n",
       "4           STAT 2020-06-01 06:35:35 2020-06-01 07:03:47      1692.0  "
      ]
     },
     "execution_count": 19,
     "metadata": {},
     "output_type": "execute_result"
    }
   ],
   "source": [
    "import os\n",
    "import pandas as pd\n",
    "\n",
    "PROJ_ROOT = os.path.abspath(os.path.pardir)\n",
    "data_path = os.path.join(PROJ_ROOT, 'data', 'log.csv')\n",
    "\n",
    "assert os.path.exists(data_path)\n",
    "\n",
    "# load csv and rename patieent and activity column\n",
    "df_log = pd.read_csv(data_path)\n",
    "\n",
    "# convert timestamp columns to datetime friendly format\n",
    "df_log['Timestamp'] = pd.to_datetime(df_log['Timestamp'])\n",
    "df_log['start_timestamp'] = pd.to_datetime(df_log['start_timestamp'])\n",
    "\n",
    "df_log = df_log.rename(columns={\"Age\": \"case:Age\", \"Insurance\": \"case:Insurance\", \"PatientName\": \"case:PatientName\"})\n",
    "\n",
    "df_log.head()"
   ]
  },
  {
   "cell_type": "code",
   "execution_count": 3,
   "metadata": {},
   "outputs": [
    {
     "ename": "ModuleNotFoundError",
     "evalue": "No module named 'pandas_profiling'",
     "output_type": "error",
     "traceback": [
      "\u001b[0;31m---------------------------------------------------------------------------\u001b[0m",
      "\u001b[0;31mModuleNotFoundError\u001b[0m                       Traceback (most recent call last)",
      "\u001b[0;32m<ipython-input-3-c7fdc6dd175e>\u001b[0m in \u001b[0;36m<module>\u001b[0;34m()\u001b[0m\n\u001b[0;32m----> 1\u001b[0;31m \u001b[0;32mfrom\u001b[0m \u001b[0mpandas_profiling\u001b[0m \u001b[0;32mimport\u001b[0m \u001b[0mProfileReport\u001b[0m\u001b[0;34m\u001b[0m\u001b[0m\n\u001b[0m\u001b[1;32m      2\u001b[0m \u001b[0;34m\u001b[0m\u001b[0m\n\u001b[1;32m      3\u001b[0m \u001b[0mlog_profile\u001b[0m \u001b[0;34m=\u001b[0m \u001b[0mProfileReport\u001b[0m\u001b[0;34m(\u001b[0m\u001b[0mdf_log\u001b[0m\u001b[0;34m,\u001b[0m \u001b[0mtitle\u001b[0m\u001b[0;34m=\u001b[0m\u001b[0;34m\"Raw Log Profile\"\u001b[0m\u001b[0;34m)\u001b[0m\u001b[0;34m\u001b[0m\u001b[0m\n\u001b[1;32m      4\u001b[0m \u001b[0;34m\u001b[0m\u001b[0m\n\u001b[1;32m      5\u001b[0m \u001b[0mlog_profile\u001b[0m\u001b[0;34m.\u001b[0m\u001b[0mto_notebook_iframe\u001b[0m\u001b[0;34m(\u001b[0m\u001b[0;34m)\u001b[0m\u001b[0;34m\u001b[0m\u001b[0m\n",
      "\u001b[0;31mModuleNotFoundError\u001b[0m: No module named 'pandas_profiling'"
     ]
    }
   ],
   "source": [
    "from pandas_profiling import ProfileReport\n",
    "\n",
    "log_profile = ProfileReport(df_log, title=\"Raw Log Profile\")\n",
    "\n",
    "log_profile.to_notebook_iframe()"
   ]
  },
  {
   "cell_type": "markdown",
   "metadata": {},
   "source": [
    "We first verify if the `Patient` has repeated traces, i.e., if it is used again in case the patient returns to the institution. We can test this through the `PatientName` column."
   ]
  },
  {
   "cell_type": "code",
   "execution_count": 20,
   "metadata": {},
   "outputs": [
    {
     "data": {
      "text/plain": [
       "False"
      ]
     },
     "execution_count": 20,
     "metadata": {},
     "output_type": "execute_result"
    }
   ],
   "source": [
    "patients_ids = df_log.groupby('case:PatientName')['Patient'].unique()\n",
    "\n",
    "(patients_ids.apply(len) > 1).any()"
   ]
  },
  {
   "cell_type": "markdown",
   "metadata": {},
   "source": [
    "So no patient has more than one ID, which means we can use the `Patient` column as an identifier of the traces.\n",
    "\n",
    "Let's take a look at some traces:"
   ]
  },
  {
   "cell_type": "code",
   "execution_count": 21,
   "metadata": {},
   "outputs": [
    {
     "data": {
      "text/plain": [
       "array([array(['Register', 'Initial Exam', 'Initial Exam Decision',\n",
       "       'Discharge Init Exam'], dtype=object),\n",
       "       array(['Register', 'Initial Exam', 'Initial Exam Decision',\n",
       "       'Inform about Isolation', 'Control Call', 'Control Call',\n",
       "       'Control Call', 'Control Call', 'Control Call', 'Control Call',\n",
       "       'Test III', 'Test III Decision', 'Inform Authority Fill Form',\n",
       "       'Inform Authority Send Form', 'Control Call', 'Control Call',\n",
       "       'Control Call', 'Control Call', 'Control Call', 'Control Call',\n",
       "       'Control Call', 'Control Call', 'Control Call', 'Control Call',\n",
       "       'Referral', 'Decide Treatment', 'Treatment B', 'Check Treatment B',\n",
       "       'Treatment B', 'Check Treatment B', 'Treatment B', 'Treatment B',\n",
       "       'Check Treatment B', 'Treatment B', 'Check Treatment B',\n",
       "       'Discharge'], dtype=object),\n",
       "       array(['Register', 'Initial Exam', 'Initial Exam Decision',\n",
       "       'Inform about Isolation', 'Control Call', 'Control Call',\n",
       "       'Control Call', 'Control Call', 'Control Call', 'Control Call',\n",
       "       'Test III', 'Test III Decision', 'Inform Authority Fill Form',\n",
       "       'Inform Authority Send Form', 'Control Call', 'Control Call',\n",
       "       'Control Call', 'Control Call', 'Control Call', 'Control Call',\n",
       "       'Control Call', 'Control Call', 'Control Call', 'Control Call',\n",
       "       'Referral', 'Register Facility', 'Decide Treatment', 'Treatment B',\n",
       "       'Check Treatment B', 'Treatment B', 'Check Treatment B',\n",
       "       'Treatment B', 'Check Treatment B', 'Treatment B',\n",
       "       'Check Treatment B', 'Treatment B', 'Check Treatment B',\n",
       "       'Discharge'], dtype=object),\n",
       "       array(['Register', 'Initial Exam', 'Initial Exam Decision',\n",
       "       'Discharge Init Exam'], dtype=object),\n",
       "       array(['Register', 'Initial Exam', 'Initial Exam Decision',\n",
       "       'Inform about Isolation', 'Control Call', 'Control Call',\n",
       "       'Control Call', 'Control Call', 'Test III', 'Test III Decision',\n",
       "       'Discharge Test'], dtype=object),\n",
       "       array(['Register', 'Initial Exam', 'Initial Exam Decision',\n",
       "       'Inform about Isolation', 'Control Call', 'Control Call',\n",
       "       'Control Call', 'Control Call', 'Control Call', 'Control Call',\n",
       "       'Control Call', 'Control Call', 'Control Call', 'Test III',\n",
       "       'Test III Decision'], dtype=object),\n",
       "       array(['Register', 'Initial Exam', 'Initial Exam Decision',\n",
       "       'Discharge Init Exam'], dtype=object),\n",
       "       array(['Register', 'Initial Exam', 'Initial Exam Decision',\n",
       "       'Inform about Isolation', 'Control Call', 'Control Call',\n",
       "       'Control Call', 'Control Call', 'Control Call', 'Control Call',\n",
       "       'Control Call', 'Control Call', 'Test III', 'Test III Decision',\n",
       "       'Prescripe Special Medication', 'Referral', 'Register Facility',\n",
       "       'Decide Treatment', 'Treatment A3', 'Check Treatment A3',\n",
       "       'Treatment A1', 'Inform Authority Fill Form',\n",
       "       'Inform Authority Send Form', 'Check Treatment A1', 'Treatment A2',\n",
       "       'Check Treatment A2', 'Check Treatment A1', 'Treatment A1',\n",
       "       'Check Treatment A1', 'Treatment A2', 'Check Treatment A2',\n",
       "       'Treatment A1', 'Check Treatment A1', 'Treatment A1',\n",
       "       'Check Treatment A1', 'Treatment A1', 'Check Treatment A1',\n",
       "       'Treatment A3', 'Check Treatment A3', 'Treatment A2',\n",
       "       'Check Treatment A2', 'Check Treatment A1', 'Treatment A1',\n",
       "       'Check Treatment A1', 'Treatment A2', 'Check Treatment A2',\n",
       "       'Treatment A1', 'Check Treatment A1', 'Treatment A1',\n",
       "       'Check Treatment A1', 'Treatment A1', 'Check Treatment A1',\n",
       "       'Treatment A3', 'Check Treatment A3', 'Treatment A2',\n",
       "       'Check Treatment A2', 'Treatment A1', 'Check Treatment A1',\n",
       "       'Treatment A1', 'Check Treatment A1', 'Treatment A2',\n",
       "       'Check Treatment A2', 'Treatment A1', 'Check Treatment A1',\n",
       "       'Treatment A1', 'Treatment A1', 'Check Treatment A1',\n",
       "       'Treatment A3', 'Check Treatment A3', 'Treatment A2',\n",
       "       'Treatment A1', 'Check Treatment A1', 'Treatment A1',\n",
       "       'Check Treatment A1', 'Treatment A1', 'Check Treatment A1',\n",
       "       'Treatment A2', 'Check Treatment A2', 'Treatment A1',\n",
       "       'Check Treatment A1', 'Check Treatment A1', 'Discharge'],\n",
       "      dtype=object),\n",
       "       array(['Register', 'Initial Exam', 'Initial Exam Decision',\n",
       "       'Discharge Init Exam'], dtype=object),\n",
       "       array(['Register', 'Initial Exam', 'Discharge Init Exam'], dtype=object)],\n",
       "      dtype=object)"
      ]
     },
     "execution_count": 21,
     "metadata": {},
     "output_type": "execute_result"
    }
   ],
   "source": [
    "import numpy as np\n",
    "\n",
    "# group activities into traces\n",
    "traces = df_log.groupby('Patient')['Activity'].apply(np.array)\n",
    "traces.sample(10).values"
   ]
  },
  {
   "cell_type": "code",
   "execution_count": 22,
   "metadata": {},
   "outputs": [
    {
     "data": {
      "text/plain": [
       "[{'attributes': {'PatientName': 'Hermann the 1.', 'Age': 51, 'Insurance': 'STAT', 'concept:name': 1}, 'events': [{'Patient': 1, 'Activity': 'Register', 'Resource': 'Alexander', 'start_timestamp': Timestamp('2020-06-01 06:00:00'), 'Timestamp': Timestamp('2020-06-01 06:08:53'), '@@duration': 533.0}, '..', {'Patient': 1, 'Activity': 'Discharge', 'Resource': 'Brigitte', 'start_timestamp': Timestamp('2020-06-06 10:58:34'), 'Timestamp': Timestamp('2020-06-06 11:04:55'), '@@duration': 381.0}]}, '....', {'attributes': {'PatientName': 'Ulrich the 1500.', 'Age': 51, 'Insurance': 'PRIV', 'concept:name': 1500}, 'events': [{'Patient': 1500, 'Activity': 'Register', 'Resource': 'Alexander', 'start_timestamp': Timestamp('2020-07-12 11:23:10'), 'Timestamp': Timestamp('2020-07-12 11:33:39'), '@@duration': 629.0}, '..', {'Patient': 1500, 'Activity': 'Discharge Test', 'Resource': 'Alexander', 'start_timestamp': Timestamp('2020-07-14 14:21:11'), 'Timestamp': Timestamp('2020-07-14 14:28:18'), '@@duration': 427.0}]}]"
      ]
     },
     "execution_count": 22,
     "metadata": {},
     "output_type": "execute_result"
    }
   ],
   "source": [
    "from pm4py.objects.conversion.log import factory as log_converter\n",
    "from pm4py.util import constants\n",
    "\n",
    "# map dataset columns to PM4Py keys\n",
    "param_keys={constants.PARAMETER_CONSTANT_CASEID_KEY: 'Patient',\n",
    "            constants.PARAMETER_CONSTANT_RESOURCE_KEY: 'Resource', \n",
    "            constants.PARAMETER_CONSTANT_ACTIVITY_KEY: 'Activity',\n",
    "            constants.PARAMETER_CONSTANT_TIMESTAMP_KEY: 'Timestamp',\n",
    "            constants.PARAMETER_CONSTANT_START_TIMESTAMP_KEY: 'start_timestamp'}\n",
    "\n",
    "event_log = log_converter.apply(df_log, parameters=param_keys)\n",
    "\n",
    "event_log"
   ]
  },
  {
   "cell_type": "markdown",
   "metadata": {},
   "source": [
    "## a)\n",
    "\n",
    "> Apply the Inductive Miner implemented in PM4Py to the given event log and describe the process. Furthermore, give and reason about the fitness and precision results, respectively. On a high level, describe the potential problems of the model and reason how they were caused by the algorithm and the log."
   ]
  },
  {
   "cell_type": "code",
   "execution_count": 23,
   "metadata": {},
   "outputs": [
    {
     "data": {
      "text/plain": [
       "'/Users/Tom/Documents/Uni/4. Semester M/Advanced Process Mining/Assignments/Assignment 1/APM-A1/report/figures/q1_a_petrinet.pdf'"
      ]
     },
     "execution_count": 23,
     "metadata": {},
     "output_type": "execute_result"
    }
   ],
   "source": [
    "from pm4py.algo.discovery.inductive import factory as inductive_miner\n",
    "from pm4py.visualization.petrinet import factory as pn_visualizer\n",
    "\n",
    "net, initial_marking, final_marking = inductive_miner.apply(event_log, parameters=param_keys)\n",
    "\n",
    "net_graph = pn_visualizer.apply(net,\n",
    "                                initial_marking=initial_marking,\n",
    "                                final_marking=final_marking)\n",
    "\n",
    "figures_dir = os.path.join(PROJ_ROOT, 'report', 'figures')\n",
    "\n",
    "# fix place size\n",
    "import numpy as np\n",
    "body = np.array(net_graph.body)\n",
    "body[body ==  '\\tnode [fixedsize=true shape=circle width=0.75]'] = '\\tnode [fixedsize=true shape=circle width=1]'\n",
    "net_graph.body = body\n",
    "\n",
    "net_graph.render(os.path.join(figures_dir, 'q1_a_petrinet'),\n",
    "                 format='pdf',\n",
    "                 view=True)"
   ]
  },
  {
   "cell_type": "code",
   "execution_count": 24,
   "metadata": {},
   "outputs": [
    {
     "data": {
      "text/plain": [
       "'/Users/Tom/Documents/Uni/4. Semester M/Advanced Process Mining/Assignments/Assignment 1/APM-A1/report/figures/q1_a_tree.pdf'"
      ]
     },
     "execution_count": 24,
     "metadata": {},
     "output_type": "execute_result"
    }
   ],
   "source": [
    "from pm4py.visualization.process_tree import factory as pt_visualizer\n",
    "\n",
    "tree = inductive_miner.apply_tree(event_log, parameters=param_keys)\n",
    "\n",
    "tree_graph = pt_visualizer.apply(tree)\n",
    "\n",
    "# fix operations size\n",
    "tree_graph.body = list(map(lambda r:r.replace('width=0.6', 'width=1'),\n",
    "                           tree_graph.body))\n",
    "\n",
    "tree_graph.render(os.path.join(figures_dir, 'q1_a_tree'),\n",
    "                 format='pdf',\n",
    "                 view=True)"
   ]
  },
  {
   "cell_type": "markdown",
   "metadata": {},
   "source": [
    "Let's look for noise on the data."
   ]
  },
  {
   "cell_type": "code",
   "execution_count": 25,
   "metadata": {},
   "outputs": [
    {
     "data": {
      "text/plain": [
       "Register                 1438\n",
       "Initial Exam               60\n",
       "Initial Exam Decision       2\n",
       "Name: Activity, dtype: int64"
      ]
     },
     "execution_count": 25,
     "metadata": {},
     "output_type": "execute_result"
    }
   ],
   "source": [
    "df_log.groupby('Patient')['Activity'].first().value_counts()"
   ]
  },
  {
   "cell_type": "code",
   "execution_count": 26,
   "metadata": {},
   "outputs": [
    {
     "data": {
      "text/plain": [
       "True     1304\n",
       "False     196\n",
       "Name: Activity, dtype: int64"
      ]
     },
     "execution_count": 26,
     "metadata": {},
     "output_type": "execute_result"
    }
   ],
   "source": [
    "initial_trace = np.array(['Register', 'Initial Exam', 'Initial Exam Decision'])\n",
    "\n",
    "# compares the beginning of all traces to the `initial_trace`\n",
    "is_initial_trace = traces.apply(lambda t: np.array_equal(t[:len(initial_trace)], initial_trace))\n",
    "\n",
    "is_initial_trace.value_counts()"
   ]
  },
  {
   "cell_type": "markdown",
   "metadata": {},
   "source": [
    "We see that the majority of the traces start with the initial trace."
   ]
  },
  {
   "cell_type": "code",
   "execution_count": 27,
   "metadata": {},
   "outputs": [
    {
     "data": {
      "text/plain": [
       "Patient\n",
       "6       [Register, Initial Exam Decision, Discharge In...\n",
       "7       [Register, Initial Exam Decision, Inform about...\n",
       "21      [Register, Initial Exam, Inform about Isolatio...\n",
       "31      [Register, Initial Exam, Inform about Isolatio...\n",
       "38      [Initial Exam, Initial Exam Decision, Inform a...\n",
       "                              ...                        \n",
       "1458                  [Initial Exam, Discharge Init Exam]\n",
       "1466    [Register, Initial Exam Decision, Discharge In...\n",
       "1475    [Initial Exam, Initial Exam Decision, Inform a...\n",
       "1478    [Register, Initial Exam Decision, Inform about...\n",
       "1479    [Register, Initial Exam, Inform about Isolatio...\n",
       "Name: Activity, Length: 196, dtype: object"
      ]
     },
     "execution_count": 27,
     "metadata": {},
     "output_type": "execute_result"
    }
   ],
   "source": [
    "traces[~is_initial_trace]"
   ]
  },
  {
   "cell_type": "markdown",
   "metadata": {},
   "source": [
    "And that the ones that don't are likely because of the noisy absence of one of the activities."
   ]
  },
  {
   "cell_type": "markdown",
   "metadata": {},
   "source": [
    "As the Inductive miner guarantess perfect fitness to the generated model, we can notice the influence of noise in the results. As tested, there is plenty of noise in the data, which resulted in several silent transitions (another characteristic of the IM). Another characteristic of the IM is its inability to capture non-local dependencies, as it shows by failing to constrain the `Check Treatment *` activities to follow, not necessarily directly, the respective treatment activity. Still, the model indeed is possible to describe the whole event log."
   ]
  },
  {
   "cell_type": "markdown",
   "metadata": {},
   "source": [
    "## b)\n",
    "\n",
    "> From the process owner we know that patients are called in order to control the quarantine and that there are two potential quarantine phases, i.e., before and after a positive test. Implement a function that resolves the duplicate activity Control Call by context sensitive renaming. Discuss the impact on the discovered model."
   ]
  },
  {
   "cell_type": "markdown",
   "metadata": {},
   "source": [
    "Let's assume that `Test III` is the test that distinguishes the two `Control Call` possibilities. We'll rename the one after the positive test as `Control Call (+)`."
   ]
  },
  {
   "cell_type": "code",
   "execution_count": 28,
   "metadata": {},
   "outputs": [
    {
     "data": {
      "text/plain": [
       "Control Call                        5082\n",
       "Control Call (+)                    4872\n",
       "Check Treatment A1                  2921\n",
       "Treatment A1                        2897\n",
       "Treatment B                         2238\n",
       "Check Treatment B                   1678\n",
       "Register                            1438\n",
       "Initial Exam                        1436\n",
       "Initial Exam Decision               1419\n",
       "Check Treatment A2                  1134\n",
       "Treatment A2                        1133\n",
       "Test III                             779\n",
       "Inform about Isolation               758\n",
       "Test III Decision                    745\n",
       "Discharge Init Exam                  687\n",
       "Treatment A3                         595\n",
       "Check Treatment A3                   584\n",
       "Inform Authority Send Form           533\n",
       "Discharge                            532\n",
       "Referral                             529\n",
       "Inform Authority Fill Form           529\n",
       "Decide Treatment                     527\n",
       "Register Facility                    523\n",
       "Discharge Test                       216\n",
       "Prescripe Special Medication          78\n",
       "Emergency Send 2 Facility (Wait)       1\n",
       "Name: Activity, dtype: int64"
      ]
     },
     "execution_count": 28,
     "metadata": {},
     "output_type": "execute_result"
    }
   ],
   "source": [
    "new_cc_name = 'Control Call (+)'\n",
    "split_on_activity = 'Test III'\n",
    "\n",
    "# get `Test III` moment\n",
    "df_log_test = df_log[df_log['Activity'] == split_on_activity]\n",
    "split_timestamp = df_log_test.groupby('Patient')['Timestamp'].first()\n",
    "\n",
    "# map timestamp to whole patient trace\n",
    "df_renaming = df_log.copy()\n",
    "df_renaming[split_on_activity + ' Timestamp'] = df_log['Patient'].map(split_timestamp)\n",
    "\n",
    "# renames `Control Call` activities that happen after `Test III`\n",
    "new_cc = df_renaming['Activity'].str.replace('Control Call', new_cc_name)\n",
    "df_renaming['Activity'] = new_cc.where(\n",
    "    df_renaming['Timestamp'] > df_renaming[split_on_activity + ' Timestamp'],\n",
    "    df_renaming['Activity']\n",
    ")\n",
    "df_renaming['Activity'].value_counts()"
   ]
  },
  {
   "cell_type": "markdown",
   "metadata": {},
   "source": [
    "Check if it worked."
   ]
  },
  {
   "cell_type": "code",
   "execution_count": 29,
   "metadata": {},
   "outputs": [
    {
     "data": {
      "text/plain": [
       "Check Treatment A1                  0\n",
       "Treatment A1                        0\n",
       "Treatment B                         0\n",
       "Check Treatment B                   0\n",
       "Register                            0\n",
       "Initial Exam                        0\n",
       "Initial Exam Decision               0\n",
       "Check Treatment A2                  0\n",
       "Treatment A2                        0\n",
       "Test III                            0\n",
       "Inform about Isolation              0\n",
       "Test III Decision                   0\n",
       "Discharge Init Exam                 0\n",
       "Treatment A3                        0\n",
       "Check Treatment A3                  0\n",
       "Inform Authority Send Form          0\n",
       "Discharge                           0\n",
       "Referral                            0\n",
       "Inform Authority Fill Form          0\n",
       "Decide Treatment                    0\n",
       "Register Facility                   0\n",
       "Discharge Test                      0\n",
       "Prescripe Special Medication        0\n",
       "Emergency Send 2 Facility (Wait)    0\n",
       "Name: Activity, dtype: int64"
      ]
     },
     "execution_count": 29,
     "metadata": {},
     "output_type": "execute_result"
    }
   ],
   "source": [
    "df_renaming['Activity'].value_counts().drop(['Control Call', new_cc_name]) - \\\n",
    "    df_log['Activity'].value_counts().drop('Control Call')"
   ]
  },
  {
   "cell_type": "code",
   "execution_count": 30,
   "metadata": {},
   "outputs": [
    {
     "data": {
      "text/plain": [
       "array([array(['Register', 'Initial Exam', 'Initial Exam Decision',\n",
       "       'Inform about Isolation', 'Control Call', 'Control Call',\n",
       "       'Control Call', 'Test III', 'Test III Decision', 'Discharge Test'],\n",
       "      dtype=object),\n",
       "       array(['Register', 'Initial Exam', 'Initial Exam Decision',\n",
       "       'Inform about Isolation', 'Control Call', 'Control Call',\n",
       "       'Control Call', 'Control Call', 'Test III', 'Test III Decision',\n",
       "       'Inform Authority Fill Form', 'Inform Authority Send Form',\n",
       "       'Control Call (+)', 'Control Call (+)', 'Control Call (+)',\n",
       "       'Control Call (+)', 'Control Call (+)', 'Control Call (+)',\n",
       "       'Control Call (+)', 'Control Call (+)', 'Control Call (+)',\n",
       "       'Control Call (+)', 'Control Call (+)', 'Control Call (+)',\n",
       "       'Control Call (+)', 'Control Call (+)', 'Control Call (+)',\n",
       "       'Referral', 'Register Facility', 'Decide Treatment',\n",
       "       'Check Treatment B', 'Treatment B', 'Check Treatment B',\n",
       "       'Treatment B', 'Check Treatment B', 'Treatment B',\n",
       "       'Check Treatment B', 'Check Treatment B', 'Discharge'],\n",
       "      dtype=object),\n",
       "       array(['Register', 'Initial Exam', 'Initial Exam Decision',\n",
       "       'Discharge Init Exam'], dtype=object),\n",
       "       array(['Register', 'Initial Exam', 'Initial Exam Decision',\n",
       "       'Inform about Isolation', 'Control Call', 'Control Call',\n",
       "       'Control Call', 'Control Call', 'Control Call', 'Control Call',\n",
       "       'Test III', 'Test III Decision', 'Inform Authority Fill Form',\n",
       "       'Control Call (+)', 'Control Call (+)', 'Control Call (+)',\n",
       "       'Control Call (+)', 'Control Call (+)', 'Control Call (+)',\n",
       "       'Control Call (+)', 'Control Call (+)', 'Control Call (+)',\n",
       "       'Control Call (+)', 'Control Call (+)', 'Referral',\n",
       "       'Register Facility', 'Decide Treatment', 'Treatment B',\n",
       "       'Treatment B', 'Treatment B', 'Treatment B', 'Check Treatment B',\n",
       "       'Treatment B', 'Treatment B', 'Treatment B', 'Discharge'],\n",
       "      dtype=object),\n",
       "       array(['Register', 'Initial Exam', 'Initial Exam Decision',\n",
       "       'Discharge Init Exam'], dtype=object),\n",
       "       array(['Register', 'Initial Exam', 'Initial Exam Decision',\n",
       "       'Inform about Isolation', 'Control Call', 'Control Call',\n",
       "       'Control Call', 'Control Call', 'Test III', 'Test III Decision',\n",
       "       'Prescripe Special Medication', 'Control Call (+)',\n",
       "       'Inform Authority Fill Form', 'Inform Authority Send Form',\n",
       "       'Control Call (+)', 'Control Call (+)', 'Control Call (+)',\n",
       "       'Control Call (+)', 'Control Call (+)', 'Control Call (+)',\n",
       "       'Control Call (+)', 'Control Call (+)', 'Control Call (+)',\n",
       "       'Control Call (+)', 'Control Call (+)', 'Referral',\n",
       "       'Decide Treatment', 'Treatment A2', 'Check Treatment A2',\n",
       "       'Treatment A3', 'Check Treatment A3', 'Treatment A1',\n",
       "       'Check Treatment A1', 'Treatment A1', 'Check Treatment A1',\n",
       "       'Treatment A1', 'Check Treatment A1', 'Treatment A2',\n",
       "       'Check Treatment A2', 'Treatment A1', 'Check Treatment A1',\n",
       "       'Treatment A1', 'Treatment A3', 'Check Treatment A3',\n",
       "       'Treatment A2', 'Check Treatment A2', 'Treatment A1',\n",
       "       'Check Treatment A1', 'Treatment A1', 'Check Treatment A1',\n",
       "       'Treatment A1', 'Check Treatment A1', 'Treatment A2',\n",
       "       'Check Treatment A2', 'Treatment A1', 'Check Treatment A1',\n",
       "       'Treatment A1', 'Check Treatment A1', 'Treatment A1',\n",
       "       'Check Treatment A1', 'Treatment A3', 'Check Treatment A3',\n",
       "       'Treatment A2', 'Check Treatment A2', 'Treatment A1',\n",
       "       'Check Treatment A1', 'Treatment A1', 'Check Treatment A1',\n",
       "       'Check Treatment A2', 'Treatment A1', 'Check Treatment A1',\n",
       "       'Treatment A1', 'Check Treatment A1', 'Treatment A1',\n",
       "       'Check Treatment A1', 'Treatment A3', 'Check Treatment A3',\n",
       "       'Treatment A2', 'Check Treatment A2', 'Check Treatment A1',\n",
       "       'Treatment A1', 'Check Treatment A1', 'Treatment A2',\n",
       "       'Treatment A1', 'Check Treatment A1', 'Treatment A1',\n",
       "       'Check Treatment A1', 'Treatment A1', 'Check Treatment A1',\n",
       "       'Treatment A3', 'Check Treatment A3', 'Treatment A2',\n",
       "       'Check Treatment A2', 'Check Treatment A1', 'Treatment A1',\n",
       "       'Check Treatment A1', 'Treatment A2', 'Check Treatment A2',\n",
       "       'Treatment A1', 'Check Treatment A1', 'Check Treatment A1'],\n",
       "      dtype=object),\n",
       "       array(['Register', 'Initial Exam', 'Initial Exam Decision',\n",
       "       'Inform about Isolation', 'Control Call', 'Control Call',\n",
       "       'Control Call', 'Control Call', 'Test III', 'Test III Decision',\n",
       "       'Discharge Test'], dtype=object),\n",
       "       array(['Register', 'Initial Exam', 'Initial Exam Decision',\n",
       "       'Discharge Init Exam'], dtype=object),\n",
       "       array(['Register', 'Initial Exam Decision'], dtype=object),\n",
       "       array(['Register', 'Initial Exam', 'Initial Exam Decision',\n",
       "       'Discharge Init Exam'], dtype=object)], dtype=object)"
      ]
     },
     "execution_count": 30,
     "metadata": {},
     "output_type": "execute_result"
    }
   ],
   "source": [
    "renamed_traces = df_renaming.groupby('Patient')['Activity'].apply(np.array)\n",
    "\n",
    "renamed_traces.sample(10).values"
   ]
  },
  {
   "cell_type": "markdown",
   "metadata": {},
   "source": [
    "No problems detected.\n",
    "\n",
    "Generate the tree."
   ]
  },
  {
   "cell_type": "code",
   "execution_count": 31,
   "metadata": {},
   "outputs": [
    {
     "data": {
      "text/plain": [
       "'/Users/Tom/Documents/Uni/4. Semester M/Advanced Process Mining/Assignments/Assignment 1/APM-A1/report/figures/q1_b_tree.pdf'"
      ]
     },
     "execution_count": 31,
     "metadata": {},
     "output_type": "execute_result"
    }
   ],
   "source": [
    "renamed_event_log = log_converter.apply(df_renaming, parameters=param_keys)\n",
    "\n",
    "#save the renamed event log\n",
    "from pm4py.objects.log.exporter.xes import factory as xes_exporter\n",
    "log_path = os.path.join(PROJ_ROOT, 'data', 'processed_log.xes')\n",
    "xes_exporter.apply(renamed_event_log, log_path)\n",
    "\n",
    "tree = inductive_miner.apply_tree(renamed_event_log, parameters=param_keys)\n",
    "\n",
    "tree_graph = pt_visualizer.apply(tree)\n",
    "\n",
    "# fix operations size\n",
    "tree_graph.body = list(map(lambda r:r.replace('width=0.6', 'width=1'),\n",
    "                           tree_graph.body))\n",
    "\n",
    "tree_graph.render(os.path.join(figures_dir, 'q1_b_tree'),\n",
    "                 format='pdf',\n",
    "                 view=True)"
   ]
  },
  {
   "cell_type": "markdown",
   "metadata": {},
   "source": [
    "We can see that not only the `Control Call` activity was removed from the loop+silent-activity at the bottom, but also the `Test III` and `Test III Decision` were brought up to the first sequence operator, of course still within a exclusive-choice operator with a silent activity, due to the noise on the data."
   ]
  },
  {
   "cell_type": "markdown",
   "metadata": {},
   "source": [
    "## c)\n",
    "\n",
    "> The log contains a considerable amount of noise induced by errors during the event logging. Apply the IM to a DFG filtered for noise. Describe your results and explain why the IM mines a different model. Which type of noise is prominent in the log?"
   ]
  },
  {
   "cell_type": "markdown",
   "metadata": {},
   "source": [
    "Original DFG:"
   ]
  },
  {
   "cell_type": "code",
   "execution_count": 32,
   "metadata": {},
   "outputs": [
    {
     "data": {
      "text/plain": [
       "'/Users/Tom/Documents/Uni/4. Semester M/Advanced Process Mining/Assignments/Assignment 1/APM-A1/report/figures/q1_c_og_dfg.pdf'"
      ]
     },
     "execution_count": 32,
     "metadata": {},
     "output_type": "execute_result"
    }
   ],
   "source": [
    "from pm4py.algo.discovery.dfg import factory as dfg_discovery\n",
    "\n",
    "og_dfg = dfg_discovery.apply(event_log, parameters=param_keys)\n",
    "\n",
    "from pm4py.visualization.dfg import factory as dfg_visualization\n",
    "og_dfg_viz = dfg_visualization.apply(og_dfg, log=event_log, parameters=param_keys)\n",
    "\n",
    "og_dfg_viz.render(os.path.join(figures_dir, 'q1_c_og_dfg'),\n",
    "                  format='pdf',\n",
    "                  view=True)"
   ]
  },
  {
   "cell_type": "markdown",
   "metadata": {},
   "source": [
    "DFG after context-sensitive renaming:"
   ]
  },
  {
   "cell_type": "code",
   "execution_count": 33,
   "metadata": {},
   "outputs": [
    {
     "data": {
      "text/plain": [
       "'/Users/Tom/Documents/Uni/4. Semester M/Advanced Process Mining/Assignments/Assignment 1/APM-A1/report/figures/q1_c_dfg_renaming.pdf'"
      ]
     },
     "execution_count": 33,
     "metadata": {},
     "output_type": "execute_result"
    }
   ],
   "source": [
    "dfg = dfg_discovery.apply(renamed_event_log, parameters=param_keys)\n",
    "\n",
    "dfg_viz = dfg_visualization.apply(dfg, log=renamed_event_log, parameters=param_keys)\n",
    "\n",
    "dfg_viz.render(os.path.join(figures_dir, 'q1_c_dfg_renaming'),\n",
    "               format='pdf',\n",
    "               view=True)"
   ]
  },
  {
   "cell_type": "markdown",
   "metadata": {},
   "source": [
    "Filter DFG."
   ]
  },
  {
   "cell_type": "code",
   "execution_count": 34,
   "metadata": {},
   "outputs": [
    {
     "data": {
      "text/plain": [
       "array(['Register', 'Initial Exam', 'Initial Exam Decision',\n",
       "       'Inform about Isolation', 'Test III', 'Test III Decision',\n",
       "       'Inform Authority Fill Form', 'Referral',\n",
       "       'Inform Authority Send Form', 'Register Facility',\n",
       "       'Decide Treatment', 'Treatment B', 'Check Treatment B',\n",
       "       'Discharge', 'Treatment A1', 'Check Treatment A1', 'Treatment A2',\n",
       "       'Check Treatment A2', 'Treatment A3', 'Check Treatment A3',\n",
       "       'Discharge Test', 'Discharge Init Exam', 'Control Call',\n",
       "       'Prescripe Special Medication', 'Control Call (+)',\n",
       "       'Emergency Send 2 Facility (Wait)'], dtype=object)"
      ]
     },
     "execution_count": 34,
     "metadata": {},
     "output_type": "execute_result"
    }
   ],
   "source": [
    "df_renaming['Activity'].unique()"
   ]
  },
  {
   "cell_type": "code",
   "execution_count": 35,
   "metadata": {},
   "outputs": [
    {
     "data": {
      "text/plain": [
       "'/Users/Tom/Documents/Uni/4. Semester M/Advanced Process Mining/Assignments/Assignment 1/APM-A1/report/figures/q1_c_dfg_filtered.pdf'"
      ]
     },
     "execution_count": 35,
     "metadata": {},
     "output_type": "execute_result"
    }
   ],
   "source": [
    "from pm4py.objects.dfg.filtering import dfg_filtering\n",
    "\n",
    "filt_dfg = dfg_filtering.apply(dfg, parameters=param_keys)\n",
    "\n",
    "filt_dfg_viz = dfg_visualization.apply(filt_dfg, log=renamed_event_log, parameters=param_keys)\n",
    "\n",
    "filt_dfg_viz.render(os.path.join(figures_dir, 'q1_c_dfg_filtered'),\n",
    "                    format='pdf',\n",
    "                    view=True)"
   ]
  },
  {
   "cell_type": "markdown",
   "metadata": {},
   "source": [
    "We can already notice the improvement in the DFG, which is much more readable. There are way less edges and the flow seems much more linear. Even though, the structure about the treatments A1, A2 and A3 is still unsettled."
   ]
  },
  {
   "cell_type": "code",
   "execution_count": 36,
   "metadata": {},
   "outputs": [
    {
     "data": {
      "text/plain": [
       "'/Users/Tom/Documents/Uni/4. Semester M/Advanced Process Mining/Assignments/Assignment 1/APM-A1/report/figures/q1_c_filt_tree.pdf'"
      ]
     },
     "execution_count": 36,
     "metadata": {},
     "output_type": "execute_result"
    }
   ],
   "source": [
    "filt_tree = inductive_miner.apply_tree_dfg(filt_dfg, parameters=param_keys)\n",
    "\n",
    "tree_graph = pt_visualizer.apply(filt_tree)\n",
    "\n",
    "# fix operations size\n",
    "tree_graph.body = list(map(lambda r:r.replace('width=0.6', 'width=1'),\n",
    "                           tree_graph.body))\n",
    "\n",
    "tree_graph.render(os.path.join(figures_dir, 'q1_c_filt_tree'),\n",
    "                  format='pdf',\n",
    "                  view=True)"
   ]
  },
  {
   "cell_type": "markdown",
   "metadata": {},
   "source": [
    "The new model generated is much closer to the expected from the superficial analysis of the traces. The noise removed, as already previously stated, comes mostly from skipped activities, as we can notice that the amount of silent activities was drastically reduced. Still, there are plenty of them, caused by the traces related to the `Treatment A*` activities."
   ]
  },
  {
   "cell_type": "code",
   "execution_count": 37,
   "metadata": {},
   "outputs": [
    {
     "data": {
      "text/plain": [
       "123"
      ]
     },
     "execution_count": 37,
     "metadata": {},
     "output_type": "execute_result"
    }
   ],
   "source": [
    "treatment_A_traces = renamed_traces[renamed_traces.apply(lambda t: any('Treatment A' in a for a in t))]\n",
    "\n",
    "treatment_A_traces.shape[0]"
   ]
  },
  {
   "cell_type": "code",
   "execution_count": 38,
   "metadata": {},
   "outputs": [
    {
     "data": {
      "text/plain": [
       "array([array(['Register', 'Initial Exam', 'Initial Exam Decision',\n",
       "       'Inform about Isolation', 'Control Call', 'Control Call',\n",
       "       'Control Call', 'Control Call', 'Control Call', 'Control Call',\n",
       "       'Control Call', 'Control Call', 'Control Call', 'Test III',\n",
       "       'Test III Decision', 'Referral', 'Register Facility',\n",
       "       'Decide Treatment', 'Treatment A2', 'Check Treatment A2',\n",
       "       'Inform Authority Fill Form', 'Treatment A1',\n",
       "       'Inform Authority Send Form', 'Check Treatment A1', 'Treatment A3',\n",
       "       'Check Treatment A3', 'Treatment A1', 'Check Treatment A1',\n",
       "       'Treatment A1', 'Check Treatment A1', 'Treatment A2',\n",
       "       'Check Treatment A2', 'Treatment A1', 'Check Treatment A1',\n",
       "       'Treatment A1', 'Check Treatment A1', 'Treatment A2',\n",
       "       'Check Treatment A2', 'Treatment A3', 'Check Treatment A3',\n",
       "       'Treatment A1', 'Check Treatment A1', 'Treatment A1',\n",
       "       'Check Treatment A1', 'Treatment A1', 'Check Treatment A1',\n",
       "       'Treatment A2', 'Check Treatment A2', 'Treatment A1',\n",
       "       'Check Treatment A1', 'Treatment A1', 'Check Treatment A1',\n",
       "       'Treatment A3', 'Check Treatment A3', 'Treatment A2',\n",
       "       'Check Treatment A2', 'Treatment A1', 'Check Treatment A1',\n",
       "       'Treatment A1', 'Check Treatment A1', 'Treatment A1',\n",
       "       'Check Treatment A1', 'Treatment A2', 'Check Treatment A2',\n",
       "       'Treatment A1', 'Check Treatment A1', 'Treatment A1',\n",
       "       'Check Treatment A1', 'Check Treatment A1', 'Treatment A3',\n",
       "       'Check Treatment A3', 'Treatment A2', 'Check Treatment A2',\n",
       "       'Treatment A1', 'Check Treatment A1', 'Treatment A1',\n",
       "       'Check Treatment A1', 'Treatment A1', 'Check Treatment A1',\n",
       "       'Treatment A2', 'Check Treatment A2', 'Treatment A1',\n",
       "       'Check Treatment A1', 'Treatment A1', 'Check Treatment A1',\n",
       "       'Treatment A3', 'Check Treatment A3', 'Treatment A2',\n",
       "       'Check Treatment A2', 'Treatment A1', 'Check Treatment A1',\n",
       "       'Treatment A1', 'Check Treatment A1', 'Treatment A1',\n",
       "       'Check Treatment A1', 'Treatment A2', 'Check Treatment A2',\n",
       "       'Treatment A1', 'Check Treatment A1', 'Check Treatment A1',\n",
       "       'Treatment A3', 'Check Treatment A3', 'Treatment A2',\n",
       "       'Check Treatment A2', 'Check Treatment A1', 'Treatment A1',\n",
       "       'Check Treatment A1', 'Discharge'], dtype=object),\n",
       "       array(['Register', 'Initial Exam', 'Initial Exam Decision',\n",
       "       'Inform about Isolation', 'Control Call', 'Control Call',\n",
       "       'Control Call', 'Control Call', 'Control Call', 'Control Call',\n",
       "       'Control Call', 'Control Call', 'Control Call', 'Control Call',\n",
       "       'Test III', 'Test III Decision', 'Referral', 'Register Facility',\n",
       "       'Decide Treatment', 'Treatment A3', 'Check Treatment A3',\n",
       "       'Treatment A2', 'Check Treatment A2', 'Treatment A1',\n",
       "       'Inform Authority Fill Form', 'Inform Authority Send Form',\n",
       "       'Check Treatment A1', 'Treatment A1', 'Check Treatment A1',\n",
       "       'Treatment A1', 'Check Treatment A1', 'Treatment A2',\n",
       "       'Check Treatment A2', 'Treatment A1', 'Check Treatment A1',\n",
       "       'Treatment A1', 'Check Treatment A1', 'Treatment A3',\n",
       "       'Treatment A2', 'Check Treatment A2', 'Treatment A1',\n",
       "       'Check Treatment A1', 'Treatment A1', 'Check Treatment A1',\n",
       "       'Treatment A1', 'Check Treatment A1', 'Treatment A2',\n",
       "       'Check Treatment A2', 'Treatment A1', 'Check Treatment A1',\n",
       "       'Treatment A1', 'Check Treatment A1', 'Treatment A3',\n",
       "       'Check Treatment A3', 'Treatment A1', 'Check Treatment A1',\n",
       "       'Treatment A2', 'Check Treatment A2', 'Treatment A1',\n",
       "       'Check Treatment A1', 'Treatment A1', 'Check Treatment A1',\n",
       "       'Treatment A2', 'Check Treatment A2', 'Treatment A1',\n",
       "       'Check Treatment A1', 'Treatment A1', 'Check Treatment A1',\n",
       "       'Treatment A3', 'Check Treatment A3', 'Treatment A1',\n",
       "       'Check Treatment A1', 'Treatment A2', 'Check Treatment A2',\n",
       "       'Treatment A1', 'Check Treatment A1', 'Treatment A1',\n",
       "       'Check Treatment A1', 'Treatment A1', 'Check Treatment A1',\n",
       "       'Treatment A2', 'Check Treatment A2', 'Treatment A1',\n",
       "       'Check Treatment A1', 'Treatment A3', 'Check Treatment A3',\n",
       "       'Treatment A1', 'Check Treatment A1', 'Treatment A2',\n",
       "       'Check Treatment A2', 'Treatment A1', 'Check Treatment A1',\n",
       "       'Treatment A1', 'Check Treatment A1', 'Treatment A1',\n",
       "       'Check Treatment A1', 'Treatment A2', 'Check Treatment A2',\n",
       "       'Treatment A1', 'Check Treatment A1', 'Treatment A3',\n",
       "       'Check Treatment A3', 'Treatment A1', 'Check Treatment A1',\n",
       "       'Treatment A2', 'Check Treatment A2', 'Treatment A1',\n",
       "       'Check Treatment A1', 'Treatment A1', 'Check Treatment A1',\n",
       "       'Discharge'], dtype=object),\n",
       "       array(['Register', 'Initial Exam Decision', 'Inform about Isolation',\n",
       "       'Control Call', 'Control Call', 'Control Call', 'Control Call',\n",
       "       'Control Call', 'Control Call', 'Test III', 'Test III Decision',\n",
       "       'Control Call (+)', 'Inform Authority Fill Form',\n",
       "       'Inform Authority Send Form', 'Control Call (+)',\n",
       "       'Control Call (+)', 'Control Call (+)', 'Control Call (+)',\n",
       "       'Control Call (+)', 'Control Call (+)', 'Control Call (+)',\n",
       "       'Referral', 'Register Facility', 'Decide Treatment',\n",
       "       'Treatment A1', 'Check Treatment A1', 'Treatment A2',\n",
       "       'Check Treatment A2', 'Treatment A3', 'Check Treatment A3',\n",
       "       'Treatment A1', 'Check Treatment A1', 'Treatment A1',\n",
       "       'Check Treatment A1', 'Treatment A2', 'Check Treatment A2',\n",
       "       'Treatment A1', 'Check Treatment A1', 'Treatment A1',\n",
       "       'Check Treatment A1', 'Treatment A1', 'Check Treatment A1',\n",
       "       'Treatment A3', 'Treatment A2', 'Check Treatment A2',\n",
       "       'Treatment A1', 'Check Treatment A1', 'Treatment A1',\n",
       "       'Check Treatment A1', 'Treatment A2', 'Check Treatment A2',\n",
       "       'Treatment A1', 'Treatment A1', 'Treatment A1',\n",
       "       'Check Treatment A1', 'Treatment A3', 'Check Treatment A3',\n",
       "       'Treatment A2', 'Check Treatment A2', 'Treatment A1',\n",
       "       'Check Treatment A1', 'Treatment A1', 'Check Treatment A1',\n",
       "       'Check Treatment A2', 'Check Treatment A1', 'Treatment A1',\n",
       "       'Check Treatment A1', 'Check Treatment A1', 'Treatment A3',\n",
       "       'Check Treatment A3', 'Treatment A2', 'Check Treatment A2',\n",
       "       'Treatment A1', 'Check Treatment A1', 'Treatment A1',\n",
       "       'Check Treatment A1', 'Treatment A1', 'Check Treatment A1',\n",
       "       'Treatment A2', 'Check Treatment A2', 'Treatment A1',\n",
       "       'Check Treatment A1', 'Treatment A1', 'Check Treatment A1',\n",
       "       'Treatment A3', 'Check Treatment A3', 'Treatment A2',\n",
       "       'Check Treatment A2', 'Treatment A1', 'Check Treatment A1',\n",
       "       'Treatment A1', 'Check Treatment A1', 'Treatment A1',\n",
       "       'Check Treatment A1', 'Treatment A2', 'Check Treatment A2',\n",
       "       'Treatment A1', 'Check Treatment A1', 'Treatment A1',\n",
       "       'Check Treatment A1', 'Treatment A3', 'Check Treatment A3',\n",
       "       'Treatment A1', 'Check Treatment A1', 'Treatment A2',\n",
       "       'Check Treatment A2', 'Treatment A1', 'Check Treatment A1',\n",
       "       'Treatment A1', 'Check Treatment A1', 'Treatment A2',\n",
       "       'Check Treatment A2', 'Check Treatment A1', 'Treatment A1',\n",
       "       'Check Treatment A1', 'Treatment A3', 'Check Treatment A3',\n",
       "       'Treatment A1', 'Check Treatment A1', 'Treatment A2',\n",
       "       'Check Treatment A2', 'Treatment A1', 'Check Treatment A1',\n",
       "       'Discharge'], dtype=object),\n",
       "       array(['Register', 'Initial Exam', 'Initial Exam Decision',\n",
       "       'Inform about Isolation', 'Control Call', 'Control Call',\n",
       "       'Control Call', 'Control Call', 'Control Call', 'Control Call',\n",
       "       'Test III', 'Test III Decision', 'Prescripe Special Medication',\n",
       "       'Control Call (+)', 'Control Call (+)',\n",
       "       'Inform Authority Fill Form', 'Inform Authority Send Form',\n",
       "       'Control Call (+)', 'Control Call (+)', 'Control Call (+)',\n",
       "       'Control Call (+)', 'Control Call (+)', 'Control Call (+)',\n",
       "       'Control Call (+)', 'Control Call (+)', 'Control Call (+)',\n",
       "       'Control Call (+)', 'Control Call (+)', 'Control Call (+)',\n",
       "       'Control Call (+)', 'Control Call (+)', 'Control Call (+)',\n",
       "       'Control Call (+)', 'Control Call (+)', 'Control Call (+)',\n",
       "       'Control Call (+)', 'Referral', 'Register Facility',\n",
       "       'Decide Treatment', 'Treatment A3', 'Check Treatment A3',\n",
       "       'Treatment A2', 'Check Treatment A2', 'Treatment A1',\n",
       "       'Check Treatment A1', 'Treatment A1', 'Check Treatment A1',\n",
       "       'Treatment A1', 'Treatment A2', 'Treatment A1',\n",
       "       'Check Treatment A1', 'Treatment A1', 'Check Treatment A1',\n",
       "       'Treatment A1', 'Check Treatment A1', 'Treatment A3',\n",
       "       'Check Treatment A3', 'Treatment A2', 'Check Treatment A2',\n",
       "       'Treatment A1', 'Treatment A1', 'Check Treatment A1',\n",
       "       'Treatment A2', 'Check Treatment A2', 'Treatment A1',\n",
       "       'Treatment A1', 'Check Treatment A1', 'Treatment A3',\n",
       "       'Check Treatment A3', 'Treatment A1', 'Check Treatment A1',\n",
       "       'Treatment A2', 'Check Treatment A2', 'Treatment A1',\n",
       "       'Check Treatment A1', 'Treatment A1', 'Check Treatment A1',\n",
       "       'Treatment A2', 'Check Treatment A2', 'Treatment A1',\n",
       "       'Check Treatment A1', 'Treatment A1', 'Check Treatment A1',\n",
       "       'Treatment A1', 'Check Treatment A1', 'Treatment A3',\n",
       "       'Check Treatment A3', 'Treatment A2', 'Check Treatment A2',\n",
       "       'Treatment A1', 'Check Treatment A1', 'Treatment A1',\n",
       "       'Check Treatment A1', 'Treatment A2', 'Check Treatment A2',\n",
       "       'Treatment A1', 'Check Treatment A1', 'Treatment A1',\n",
       "       'Check Treatment A1', 'Treatment A1', 'Check Treatment A1',\n",
       "       'Treatment A3', 'Check Treatment A3', 'Treatment A2',\n",
       "       'Check Treatment A2', 'Treatment A1', 'Check Treatment A1',\n",
       "       'Treatment A1', 'Check Treatment A1', 'Treatment A1',\n",
       "       'Check Treatment A1', 'Treatment A2', 'Check Treatment A2',\n",
       "       'Treatment A1', 'Check Treatment A1', 'Treatment A1',\n",
       "       'Check Treatment A1', 'Discharge'], dtype=object),\n",
       "       array(['Register', 'Initial Exam', 'Initial Exam Decision',\n",
       "       'Inform about Isolation', 'Control Call', 'Control Call',\n",
       "       'Control Call', 'Control Call', 'Control Call', 'Control Call',\n",
       "       'Control Call', 'Test III', 'Test III Decision',\n",
       "       'Inform Authority Fill Form', 'Inform Authority Send Form',\n",
       "       'Control Call (+)', 'Control Call (+)', 'Control Call (+)',\n",
       "       'Control Call (+)', 'Control Call (+)', 'Control Call (+)',\n",
       "       'Control Call (+)', 'Control Call (+)', 'Control Call (+)',\n",
       "       'Control Call (+)', 'Referral', 'Decide Treatment', 'Treatment A1',\n",
       "       'Check Treatment A1', 'Treatment A2', 'Check Treatment A2',\n",
       "       'Treatment A3', 'Check Treatment A3', 'Treatment A1',\n",
       "       'Check Treatment A1', 'Treatment A1', 'Check Treatment A1',\n",
       "       'Treatment A2', 'Check Treatment A2', 'Treatment A1',\n",
       "       'Check Treatment A1', 'Treatment A1', 'Check Treatment A1',\n",
       "       'Treatment A1', 'Check Treatment A1', 'Treatment A3',\n",
       "       'Check Treatment A3', 'Treatment A2', 'Check Treatment A2',\n",
       "       'Treatment A1', 'Check Treatment A1', 'Treatment A1',\n",
       "       'Check Treatment A1', 'Treatment A2', 'Check Treatment A2',\n",
       "       'Treatment A1', 'Check Treatment A1', 'Treatment A1',\n",
       "       'Check Treatment A1', 'Check Treatment A1', 'Treatment A3',\n",
       "       'Check Treatment A3', 'Treatment A2', 'Check Treatment A2',\n",
       "       'Treatment A1', 'Check Treatment A1', 'Treatment A1',\n",
       "       'Check Treatment A1', 'Treatment A2', 'Check Treatment A2',\n",
       "       'Check Treatment A1', 'Treatment A1', 'Check Treatment A1',\n",
       "       'Treatment A1', 'Check Treatment A1', 'Treatment A3',\n",
       "       'Check Treatment A3', 'Treatment A2', 'Check Treatment A2',\n",
       "       'Treatment A1', 'Check Treatment A1', 'Treatment A1',\n",
       "       'Check Treatment A1', 'Treatment A1', 'Check Treatment A1',\n",
       "       'Treatment A2', 'Check Treatment A2', 'Treatment A1',\n",
       "       'Check Treatment A1', 'Treatment A1', 'Check Treatment A1',\n",
       "       'Treatment A3', 'Check Treatment A3', 'Treatment A1',\n",
       "       'Check Treatment A1', 'Treatment A2', 'Check Treatment A2',\n",
       "       'Treatment A1', 'Check Treatment A1', 'Treatment A1',\n",
       "       'Check Treatment A1', 'Treatment A2', 'Check Treatment A2',\n",
       "       'Treatment A1', 'Check Treatment A1', 'Treatment A1',\n",
       "       'Check Treatment A1', 'Treatment A3', 'Check Treatment A3',\n",
       "       'Treatment A1', 'Check Treatment A1', 'Treatment A2',\n",
       "       'Check Treatment A2', 'Treatment A1', 'Check Treatment A1',\n",
       "       'Treatment A1', 'Check Treatment A1', 'Treatment A2',\n",
       "       'Check Treatment A2', 'Treatment A1', 'Check Treatment A1',\n",
       "       'Treatment A1', 'Treatment A3', 'Check Treatment A3',\n",
       "       'Treatment A1', 'Check Treatment A1', 'Treatment A2',\n",
       "       'Check Treatment A2', 'Treatment A1', 'Check Treatment A1',\n",
       "       'Discharge'], dtype=object),\n",
       "       array(['Register', 'Initial Exam', 'Initial Exam Decision',\n",
       "       'Inform about Isolation', 'Control Call', 'Control Call',\n",
       "       'Control Call', 'Control Call', 'Control Call', 'Control Call',\n",
       "       'Control Call', 'Control Call', 'Test III', 'Test III Decision',\n",
       "       'Prescripe Special Medication', 'Referral',\n",
       "       'Inform Authority Fill Form', 'Inform Authority Send Form',\n",
       "       'Register Facility', 'Decide Treatment', 'Treatment A1',\n",
       "       'Check Treatment A1', 'Treatment A3', 'Check Treatment A3',\n",
       "       'Treatment A2', 'Check Treatment A2', 'Check Treatment A1',\n",
       "       'Treatment A1', 'Check Treatment A1', 'Treatment A2',\n",
       "       'Check Treatment A2', 'Treatment A1', 'Check Treatment A1',\n",
       "       'Treatment A1', 'Check Treatment A1', 'Treatment A3',\n",
       "       'Check Treatment A3', 'Treatment A1', 'Check Treatment A1',\n",
       "       'Treatment A2', 'Check Treatment A2', 'Treatment A1',\n",
       "       'Check Treatment A1', 'Treatment A1', 'Check Treatment A1',\n",
       "       'Treatment A2', 'Check Treatment A2', 'Treatment A1',\n",
       "       'Treatment A1', 'Check Treatment A1', 'Treatment A3',\n",
       "       'Check Treatment A3', 'Treatment A1', 'Check Treatment A1',\n",
       "       'Treatment A2', 'Check Treatment A2', 'Treatment A1',\n",
       "       'Check Treatment A1', 'Treatment A1', 'Check Treatment A1',\n",
       "       'Treatment A2', 'Check Treatment A2', 'Treatment A1',\n",
       "       'Check Treatment A1', 'Treatment A1', 'Check Treatment A1',\n",
       "       'Treatment A3', 'Check Treatment A3', 'Treatment A1',\n",
       "       'Check Treatment A1', 'Treatment A2', 'Check Treatment A2',\n",
       "       'Treatment A1', 'Check Treatment A1', 'Treatment A1',\n",
       "       'Check Treatment A1', 'Treatment A2', 'Check Treatment A2',\n",
       "       'Treatment A1', 'Check Treatment A1', 'Treatment A1',\n",
       "       'Check Treatment A1', 'Discharge'], dtype=object),\n",
       "       array(['Register', 'Initial Exam', 'Initial Exam Decision',\n",
       "       'Inform about Isolation', 'Control Call', 'Control Call',\n",
       "       'Control Call', 'Control Call', 'Control Call', 'Control Call',\n",
       "       'Control Call', 'Test III', 'Test III Decision',\n",
       "       'Inform Authority Fill Form', 'Inform Authority Send Form',\n",
       "       'Control Call (+)', 'Control Call (+)', 'Control Call (+)',\n",
       "       'Control Call (+)', 'Control Call (+)', 'Control Call (+)',\n",
       "       'Referral', 'Register Facility', 'Decide Treatment',\n",
       "       'Treatment A3', 'Check Treatment A3', 'Treatment A1',\n",
       "       'Check Treatment A1', 'Treatment A2', 'Check Treatment A2',\n",
       "       'Treatment A1', 'Check Treatment A1', 'Check Treatment A1',\n",
       "       'Treatment A2', 'Check Treatment A2', 'Treatment A1',\n",
       "       'Check Treatment A1', 'Treatment A1', 'Check Treatment A1',\n",
       "       'Treatment A1', 'Check Treatment A1', 'Treatment A3',\n",
       "       'Check Treatment A3', 'Treatment A2', 'Check Treatment A2',\n",
       "       'Treatment A1', 'Check Treatment A1', 'Treatment A1',\n",
       "       'Check Treatment A1', 'Treatment A1', 'Check Treatment A1',\n",
       "       'Treatment A2', 'Check Treatment A2', 'Treatment A1',\n",
       "       'Check Treatment A1', 'Treatment A1', 'Check Treatment A1',\n",
       "       'Treatment A3', 'Check Treatment A3', 'Treatment A2',\n",
       "       'Check Treatment A2', 'Treatment A1', 'Check Treatment A1',\n",
       "       'Treatment A1', 'Check Treatment A1', 'Treatment A1',\n",
       "       'Check Treatment A1', 'Treatment A2', 'Check Treatment A2',\n",
       "       'Treatment A1', 'Check Treatment A1', 'Treatment A1',\n",
       "       'Check Treatment A1', 'Treatment A3', 'Check Treatment A3',\n",
       "       'Treatment A1', 'Check Treatment A1', 'Treatment A2',\n",
       "       'Check Treatment A2', 'Treatment A1', 'Check Treatment A1',\n",
       "       'Treatment A1', 'Check Treatment A1', 'Treatment A1',\n",
       "       'Check Treatment A1', 'Treatment A2', 'Check Treatment A2',\n",
       "       'Treatment A1', 'Check Treatment A1', 'Treatment A3',\n",
       "       'Check Treatment A3', 'Treatment A1', 'Check Treatment A1',\n",
       "       'Treatment A2', 'Check Treatment A2', 'Treatment A1',\n",
       "       'Check Treatment A1', 'Check Treatment A1', 'Treatment A1',\n",
       "       'Check Treatment A1', 'Treatment A2', 'Check Treatment A2',\n",
       "       'Treatment A1', 'Check Treatment A1', 'Treatment A3',\n",
       "       'Check Treatment A3', 'Treatment A1', 'Check Treatment A1',\n",
       "       'Treatment A1', 'Check Treatment A1', 'Treatment A2',\n",
       "       'Check Treatment A2', 'Treatment A1', 'Check Treatment A1',\n",
       "       'Discharge'], dtype=object),\n",
       "       array(['Register', 'Initial Exam Decision', 'Inform about Isolation',\n",
       "       'Control Call', 'Control Call', 'Control Call', 'Control Call',\n",
       "       'Control Call', 'Control Call', 'Test III', 'Test III Decision',\n",
       "       'Control Call (+)', 'Inform Authority Fill Form',\n",
       "       'Inform Authority Send Form', 'Control Call (+)',\n",
       "       'Control Call (+)', 'Control Call (+)', 'Control Call (+)',\n",
       "       'Control Call (+)', 'Control Call (+)', 'Control Call (+)',\n",
       "       'Control Call (+)', 'Control Call (+)', 'Referral',\n",
       "       'Register Facility', 'Decide Treatment', 'Treatment A3',\n",
       "       'Check Treatment A3', 'Treatment A2', 'Check Treatment A2',\n",
       "       'Treatment A1', 'Check Treatment A1', 'Treatment A1',\n",
       "       'Check Treatment A1', 'Treatment A1', 'Check Treatment A1',\n",
       "       'Treatment A2', 'Check Treatment A2', 'Treatment A1',\n",
       "       'Check Treatment A1', 'Treatment A1', 'Check Treatment A1',\n",
       "       'Treatment A3', 'Check Treatment A3', 'Treatment A2',\n",
       "       'Check Treatment A2', 'Treatment A1', 'Check Treatment A1',\n",
       "       'Treatment A1', 'Check Treatment A1', 'Treatment A1',\n",
       "       'Check Treatment A1', 'Treatment A2', 'Check Treatment A2',\n",
       "       'Treatment A1', 'Check Treatment A1', 'Treatment A1',\n",
       "       'Check Treatment A1', 'Treatment A3', 'Check Treatment A3',\n",
       "       'Treatment A1', 'Check Treatment A1', 'Treatment A2',\n",
       "       'Check Treatment A2', 'Treatment A1', 'Check Treatment A1',\n",
       "       'Treatment A1', 'Check Treatment A1', 'Treatment A2',\n",
       "       'Check Treatment A2', 'Treatment A1', 'Check Treatment A1',\n",
       "       'Treatment A1', 'Check Treatment A1', 'Treatment A3',\n",
       "       'Treatment A1', 'Check Treatment A1', 'Treatment A2',\n",
       "       'Check Treatment A2', 'Check Treatment A1', 'Treatment A1',\n",
       "       'Check Treatment A1', 'Treatment A2', 'Check Treatment A2',\n",
       "       'Treatment A1', 'Check Treatment A1', 'Treatment A1',\n",
       "       'Check Treatment A1', 'Treatment A3', 'Check Treatment A3',\n",
       "       'Treatment A1', 'Check Treatment A1', 'Treatment A2',\n",
       "       'Check Treatment A2', 'Treatment A1', 'Treatment A1',\n",
       "       'Check Treatment A1', 'Treatment A2', 'Treatment A1',\n",
       "       'Check Treatment A1', 'Treatment A1', 'Check Treatment A1',\n",
       "       'Treatment A1', 'Check Treatment A1', 'Treatment A3',\n",
       "       'Check Treatment A3', 'Treatment A2', 'Check Treatment A2',\n",
       "       'Treatment A1', 'Check Treatment A1', 'Treatment A1',\n",
       "       'Check Treatment A1', 'Discharge'], dtype=object),\n",
       "       array(['Register', 'Initial Exam', 'Initial Exam Decision',\n",
       "       'Inform about Isolation', 'Control Call', 'Control Call',\n",
       "       'Control Call', 'Control Call', 'Control Call', 'Control Call',\n",
       "       'Control Call', 'Control Call', 'Test III', 'Test III Decision',\n",
       "       'Prescripe Special Medication', 'Referral', 'Register Facility',\n",
       "       'Decide Treatment', 'Treatment A2', 'Check Treatment A2',\n",
       "       'Treatment A1', 'Check Treatment A1', 'Treatment A3',\n",
       "       'Check Treatment A3', 'Treatment A1', 'Check Treatment A1',\n",
       "       'Inform Authority Fill Form', 'Inform Authority Send Form',\n",
       "       'Treatment A1', 'Treatment A2', 'Check Treatment A2',\n",
       "       'Treatment A1', 'Check Treatment A1', 'Treatment A1',\n",
       "       'Check Treatment A1', 'Treatment A1', 'Check Treatment A1',\n",
       "       'Treatment A2', 'Treatment A3', 'Check Treatment A3',\n",
       "       'Treatment A1', 'Check Treatment A1', 'Treatment A1',\n",
       "       'Check Treatment A1', 'Treatment A1', 'Check Treatment A1',\n",
       "       'Treatment A2', 'Check Treatment A2', 'Treatment A1',\n",
       "       'Check Treatment A1', 'Treatment A1', 'Check Treatment A1',\n",
       "       'Treatment A3', 'Check Treatment A3', 'Check Treatment A2',\n",
       "       'Treatment A1', 'Check Treatment A1', 'Treatment A1',\n",
       "       'Check Treatment A1', 'Treatment A1', 'Treatment A2',\n",
       "       'Check Treatment A2', 'Treatment A1', 'Check Treatment A1',\n",
       "       'Treatment A1', 'Check Treatment A1', 'Treatment A3',\n",
       "       'Check Treatment A3', 'Treatment A1', 'Check Treatment A1',\n",
       "       'Treatment A2', 'Check Treatment A2', 'Treatment A1',\n",
       "       'Check Treatment A1', 'Treatment A1', 'Check Treatment A1',\n",
       "       'Treatment A1', 'Check Treatment A1', 'Treatment A2',\n",
       "       'Check Treatment A2', 'Treatment A1', 'Check Treatment A1',\n",
       "       'Treatment A3', 'Check Treatment A3', 'Treatment A1',\n",
       "       'Check Treatment A1', 'Treatment A1', 'Check Treatment A1',\n",
       "       'Treatment A2', 'Check Treatment A2', 'Treatment A1',\n",
       "       'Treatment A1', 'Check Treatment A1', 'Treatment A2',\n",
       "       'Check Treatment A2', 'Check Treatment A1', 'Discharge'],\n",
       "      dtype=object),\n",
       "       array(['Register', 'Initial Exam', 'Initial Exam Decision',\n",
       "       'Inform about Isolation', 'Control Call', 'Control Call',\n",
       "       'Control Call', 'Control Call', 'Control Call', 'Control Call',\n",
       "       'Test III', 'Test III Decision', 'Prescripe Special Medication',\n",
       "       'Control Call (+)', 'Inform Authority Fill Form',\n",
       "       'Inform Authority Send Form', 'Control Call (+)',\n",
       "       'Control Call (+)', 'Control Call (+)', 'Control Call (+)',\n",
       "       'Control Call (+)', 'Control Call (+)', 'Control Call (+)',\n",
       "       'Control Call (+)', 'Control Call (+)', 'Control Call (+)',\n",
       "       'Referral', 'Register Facility', 'Decide Treatment',\n",
       "       'Treatment A3', 'Check Treatment A3', 'Treatment A2',\n",
       "       'Check Treatment A2', 'Treatment A1', 'Check Treatment A1',\n",
       "       'Treatment A1', 'Check Treatment A1', 'Treatment A1',\n",
       "       'Check Treatment A1', 'Treatment A2', 'Check Treatment A2',\n",
       "       'Check Treatment A1', 'Treatment A1', 'Check Treatment A1',\n",
       "       'Treatment A1', 'Check Treatment A1', 'Treatment A3',\n",
       "       'Check Treatment A3', 'Treatment A2', 'Check Treatment A2',\n",
       "       'Treatment A1', 'Check Treatment A1', 'Treatment A1',\n",
       "       'Check Treatment A1', 'Treatment A2', 'Check Treatment A2',\n",
       "       'Treatment A1', 'Check Treatment A1', 'Treatment A1',\n",
       "       'Check Treatment A1', 'Treatment A1', 'Check Treatment A1',\n",
       "       'Treatment A3', 'Treatment A2', 'Check Treatment A2',\n",
       "       'Treatment A1', 'Check Treatment A1', 'Treatment A1',\n",
       "       'Check Treatment A1', 'Treatment A2', 'Check Treatment A2',\n",
       "       'Treatment A1', 'Check Treatment A1', 'Treatment A1',\n",
       "       'Check Treatment A1', 'Treatment A1', 'Check Treatment A1',\n",
       "       'Treatment A3', 'Check Treatment A3', 'Treatment A2',\n",
       "       'Check Treatment A2', 'Treatment A1', 'Check Treatment A1',\n",
       "       'Treatment A1', 'Check Treatment A1', 'Treatment A1',\n",
       "       'Check Treatment A1', 'Treatment A2', 'Check Treatment A2',\n",
       "       'Treatment A1', 'Check Treatment A1', 'Treatment A1',\n",
       "       'Check Treatment A1', 'Discharge'], dtype=object)], dtype=object)"
      ]
     },
     "execution_count": 38,
     "metadata": {},
     "output_type": "execute_result"
    }
   ],
   "source": [
    "treatment_A_traces.sample(10).values"
   ]
  },
  {
   "cell_type": "markdown",
   "metadata": {},
   "source": [
    "We can notice how the rarity of traces with `Treatment A*` activities impacted in them being filtered, as the transitions from `Decide Treatment` to the `Treatment A*` were filtered out. But as the `Treatment A*` happen many times in a single trace, the structure was roughly kept."
   ]
  },
  {
   "cell_type": "markdown",
   "metadata": {},
   "source": [
    "## d)\n",
    "\n",
    "> Investigate the DFG of the log after applying the preceding steps. Which activities might be filtered out in order to obtain an improved model that explains most of the process more precisely? Why might this yield better results when applying the IM? Implement a filter and apply the IM to the filtered log."
   ]
  },
  {
   "cell_type": "markdown",
   "metadata": {},
   "source": [
    "Perhaps the resulting model can be improved by tuning the noise threshold or by removing the `* Treatment A*` activities completely.\n",
    "\n",
    "#### Total `* Treatment A*` removal\n",
    "\n",
    "As the traces in which the A* treatments were applied account for only 123 traces (8,2%), we can say that removing them totally we will still represent the majority of the process."
   ]
  },
  {
   "cell_type": "code",
   "execution_count": 23,
   "metadata": {},
   "outputs": [
    {
     "data": {
      "text/html": [
       "<div>\n",
       "<style scoped>\n",
       "    .dataframe tbody tr th:only-of-type {\n",
       "        vertical-align: middle;\n",
       "    }\n",
       "\n",
       "    .dataframe tbody tr th {\n",
       "        vertical-align: top;\n",
       "    }\n",
       "\n",
       "    .dataframe thead th {\n",
       "        text-align: right;\n",
       "    }\n",
       "</style>\n",
       "<table border=\"1\" class=\"dataframe\">\n",
       "  <thead>\n",
       "    <tr style=\"text-align: right;\">\n",
       "      <th></th>\n",
       "      <th>Patient</th>\n",
       "      <th>Activity</th>\n",
       "      <th>Resource</th>\n",
       "      <th>PatientName</th>\n",
       "      <th>Age</th>\n",
       "      <th>Insurance</th>\n",
       "      <th>start_timestamp</th>\n",
       "      <th>Timestamp</th>\n",
       "      <th>@@duration</th>\n",
       "      <th>Test III Timestamp</th>\n",
       "    </tr>\n",
       "  </thead>\n",
       "  <tbody>\n",
       "    <tr>\n",
       "      <th>0</th>\n",
       "      <td>1</td>\n",
       "      <td>Register</td>\n",
       "      <td>Alexander</td>\n",
       "      <td>Hermann the 1.</td>\n",
       "      <td>51</td>\n",
       "      <td>STAT</td>\n",
       "      <td>2020-06-01 06:00:00</td>\n",
       "      <td>2020-06-01 06:08:53</td>\n",
       "      <td>533.0</td>\n",
       "      <td>2020-06-01 07:03:47</td>\n",
       "    </tr>\n",
       "    <tr>\n",
       "      <th>1</th>\n",
       "      <td>1</td>\n",
       "      <td>Initial Exam</td>\n",
       "      <td>Anna</td>\n",
       "      <td>Hermann the 1.</td>\n",
       "      <td>51</td>\n",
       "      <td>STAT</td>\n",
       "      <td>2020-06-01 06:10:48</td>\n",
       "      <td>2020-06-01 06:25:43</td>\n",
       "      <td>895.0</td>\n",
       "      <td>2020-06-01 07:03:47</td>\n",
       "    </tr>\n",
       "    <tr>\n",
       "      <th>2</th>\n",
       "      <td>1</td>\n",
       "      <td>Initial Exam Decision</td>\n",
       "      <td>Amelie,Anna</td>\n",
       "      <td>Hermann the 1.</td>\n",
       "      <td>51</td>\n",
       "      <td>STAT</td>\n",
       "      <td>2020-06-01 06:26:43</td>\n",
       "      <td>2020-06-01 06:31:52</td>\n",
       "      <td>309.0</td>\n",
       "      <td>2020-06-01 07:03:47</td>\n",
       "    </tr>\n",
       "    <tr>\n",
       "      <th>3</th>\n",
       "      <td>1</td>\n",
       "      <td>Inform about Isolation</td>\n",
       "      <td>Alexander</td>\n",
       "      <td>Hermann the 1.</td>\n",
       "      <td>51</td>\n",
       "      <td>STAT</td>\n",
       "      <td>2020-06-01 06:33:45</td>\n",
       "      <td>2020-06-01 06:33:45</td>\n",
       "      <td>0.0</td>\n",
       "      <td>2020-06-01 07:03:47</td>\n",
       "    </tr>\n",
       "    <tr>\n",
       "      <th>4</th>\n",
       "      <td>1</td>\n",
       "      <td>Test III</td>\n",
       "      <td>Anna</td>\n",
       "      <td>Hermann the 1.</td>\n",
       "      <td>51</td>\n",
       "      <td>STAT</td>\n",
       "      <td>2020-06-01 06:35:35</td>\n",
       "      <td>2020-06-01 07:03:47</td>\n",
       "      <td>1692.0</td>\n",
       "      <td>2020-06-01 07:03:47</td>\n",
       "    </tr>\n",
       "    <tr>\n",
       "      <th>...</th>\n",
       "      <td>...</td>\n",
       "      <td>...</td>\n",
       "      <td>...</td>\n",
       "      <td>...</td>\n",
       "      <td>...</td>\n",
       "      <td>...</td>\n",
       "      <td>...</td>\n",
       "      <td>...</td>\n",
       "      <td>...</td>\n",
       "      <td>...</td>\n",
       "    </tr>\n",
       "    <tr>\n",
       "      <th>33859</th>\n",
       "      <td>1500</td>\n",
       "      <td>Control Call</td>\n",
       "      <td>InspectorInis</td>\n",
       "      <td>Ulrich the 1500.</td>\n",
       "      <td>51</td>\n",
       "      <td>PRIV</td>\n",
       "      <td>2020-07-14 07:35:39</td>\n",
       "      <td>2020-07-14 07:40:58</td>\n",
       "      <td>319.0</td>\n",
       "      <td>2020-07-14 14:13:27</td>\n",
       "    </tr>\n",
       "    <tr>\n",
       "      <th>33860</th>\n",
       "      <td>1500</td>\n",
       "      <td>Control Call</td>\n",
       "      <td>InspectorInis</td>\n",
       "      <td>Ulrich the 1500.</td>\n",
       "      <td>51</td>\n",
       "      <td>PRIV</td>\n",
       "      <td>2020-07-14 11:05:01</td>\n",
       "      <td>2020-07-14 11:09:47</td>\n",
       "      <td>286.0</td>\n",
       "      <td>2020-07-14 14:13:27</td>\n",
       "    </tr>\n",
       "    <tr>\n",
       "      <th>33861</th>\n",
       "      <td>1500</td>\n",
       "      <td>Test III</td>\n",
       "      <td>Amalia</td>\n",
       "      <td>Ulrich the 1500.</td>\n",
       "      <td>51</td>\n",
       "      <td>PRIV</td>\n",
       "      <td>2020-07-14 13:41:46</td>\n",
       "      <td>2020-07-14 14:13:27</td>\n",
       "      <td>1901.0</td>\n",
       "      <td>2020-07-14 14:13:27</td>\n",
       "    </tr>\n",
       "    <tr>\n",
       "      <th>33862</th>\n",
       "      <td>1500</td>\n",
       "      <td>Test III Decision</td>\n",
       "      <td>Amelie,Amalia</td>\n",
       "      <td>Ulrich the 1500.</td>\n",
       "      <td>51</td>\n",
       "      <td>PRIV</td>\n",
       "      <td>2020-07-14 14:13:27</td>\n",
       "      <td>2020-07-14 14:19:18</td>\n",
       "      <td>351.0</td>\n",
       "      <td>2020-07-14 14:13:27</td>\n",
       "    </tr>\n",
       "    <tr>\n",
       "      <th>33863</th>\n",
       "      <td>1500</td>\n",
       "      <td>Discharge Test</td>\n",
       "      <td>Alexander</td>\n",
       "      <td>Ulrich the 1500.</td>\n",
       "      <td>51</td>\n",
       "      <td>PRIV</td>\n",
       "      <td>2020-07-14 14:21:11</td>\n",
       "      <td>2020-07-14 14:28:18</td>\n",
       "      <td>427.0</td>\n",
       "      <td>2020-07-14 14:13:27</td>\n",
       "    </tr>\n",
       "  </tbody>\n",
       "</table>\n",
       "<p>21131 rows × 10 columns</p>\n",
       "</div>"
      ],
      "text/plain": [
       "       Patient                Activity       Resource       PatientName  Age  \\\n",
       "0            1                Register      Alexander    Hermann the 1.   51   \n",
       "1            1            Initial Exam           Anna    Hermann the 1.   51   \n",
       "2            1   Initial Exam Decision    Amelie,Anna    Hermann the 1.   51   \n",
       "3            1  Inform about Isolation      Alexander    Hermann the 1.   51   \n",
       "4            1                Test III           Anna    Hermann the 1.   51   \n",
       "...        ...                     ...            ...               ...  ...   \n",
       "33859     1500            Control Call  InspectorInis  Ulrich the 1500.   51   \n",
       "33860     1500            Control Call  InspectorInis  Ulrich the 1500.   51   \n",
       "33861     1500                Test III         Amalia  Ulrich the 1500.   51   \n",
       "33862     1500       Test III Decision  Amelie,Amalia  Ulrich the 1500.   51   \n",
       "33863     1500          Discharge Test      Alexander  Ulrich the 1500.   51   \n",
       "\n",
       "      Insurance     start_timestamp           Timestamp  @@duration  \\\n",
       "0          STAT 2020-06-01 06:00:00 2020-06-01 06:08:53       533.0   \n",
       "1          STAT 2020-06-01 06:10:48 2020-06-01 06:25:43       895.0   \n",
       "2          STAT 2020-06-01 06:26:43 2020-06-01 06:31:52       309.0   \n",
       "3          STAT 2020-06-01 06:33:45 2020-06-01 06:33:45         0.0   \n",
       "4          STAT 2020-06-01 06:35:35 2020-06-01 07:03:47      1692.0   \n",
       "...         ...                 ...                 ...         ...   \n",
       "33859      PRIV 2020-07-14 07:35:39 2020-07-14 07:40:58       319.0   \n",
       "33860      PRIV 2020-07-14 11:05:01 2020-07-14 11:09:47       286.0   \n",
       "33861      PRIV 2020-07-14 13:41:46 2020-07-14 14:13:27      1901.0   \n",
       "33862      PRIV 2020-07-14 14:13:27 2020-07-14 14:19:18       351.0   \n",
       "33863      PRIV 2020-07-14 14:21:11 2020-07-14 14:28:18       427.0   \n",
       "\n",
       "       Test III Timestamp  \n",
       "0     2020-06-01 07:03:47  \n",
       "1     2020-06-01 07:03:47  \n",
       "2     2020-06-01 07:03:47  \n",
       "3     2020-06-01 07:03:47  \n",
       "4     2020-06-01 07:03:47  \n",
       "...                   ...  \n",
       "33859 2020-07-14 14:13:27  \n",
       "33860 2020-07-14 14:13:27  \n",
       "33861 2020-07-14 14:13:27  \n",
       "33862 2020-07-14 14:13:27  \n",
       "33863 2020-07-14 14:13:27  \n",
       "\n",
       "[21131 rows x 10 columns]"
      ]
     },
     "execution_count": 23,
     "metadata": {},
     "output_type": "execute_result"
    }
   ],
   "source": [
    "df_no_A = df_renaming[~df_renaming['Patient'].isin(treatment_A_traces.index)]\n",
    "\n",
    "df_no_A"
   ]
  },
  {
   "cell_type": "code",
   "execution_count": 24,
   "metadata": {},
   "outputs": [
    {
     "data": {
      "text/plain": [
       "'/home/bruno/Desktop/APM-A1/report/figures/q1_d_no_A.pdf'"
      ]
     },
     "execution_count": 24,
     "metadata": {},
     "output_type": "execute_result"
    }
   ],
   "source": [
    "log_no_A = log_converter.apply(df_no_A, parameters=param_keys)\n",
    "\n",
    "dfg_no_A = dfg_discovery.apply(log_no_A, parameters=param_keys)\n",
    "\n",
    "dfg_no_A = dfg_filtering.apply(dfg_no_A, parameters=param_keys)\n",
    "\n",
    "dfg_viz = dfg_visualization.apply(dfg_no_A, log=log_no_A, parameters=param_keys)\n",
    "\n",
    "dfg_viz.render(os.path.join(figures_dir, 'q1_d_no_A'),\n",
    "               format='pdf',\n",
    "               view=True)"
   ]
  },
  {
   "cell_type": "markdown",
   "metadata": {},
   "source": [
    "The DFG now looks very concise."
   ]
  },
  {
   "cell_type": "code",
   "execution_count": 25,
   "metadata": {},
   "outputs": [
    {
     "data": {
      "text/plain": [
       "'/home/bruno/Desktop/APM-A1/report/figures/q1_d_tree_no_A.pdf'"
      ]
     },
     "execution_count": 25,
     "metadata": {},
     "output_type": "execute_result"
    }
   ],
   "source": [
    "tree_no_A = inductive_miner.apply_tree_dfg(dfg_no_A, parameters=param_keys)\n",
    "\n",
    "tree_graph = pt_visualizer.apply(tree_no_A)\n",
    "\n",
    "# fix operations size\n",
    "tree_graph.body = list(map(lambda r:r.replace('width=0.6', 'width=1'),\n",
    "                           tree_graph.body))\n",
    "\n",
    "tree_graph.render(os.path.join(figures_dir, 'q1_d_tree_no_A'),\n",
    "                  format='pdf',\n",
    "                  view=True)"
   ]
  },
  {
   "cell_type": "markdown",
   "metadata": {},
   "source": [
    "We can see that the PT is also much closer to the majority of the traces, representing well the process. Still, it keeps the silent activities."
   ]
  },
  {
   "cell_type": "markdown",
   "metadata": {},
   "source": [
    "#### Partial `* Treatment A*` removal\n",
    "\n",
    "We can also remove only the activities related to these treatments, keeping the traces. This ensures that we do not loose too much data."
   ]
  },
  {
   "cell_type": "code",
   "execution_count": 26,
   "metadata": {},
   "outputs": [
    {
     "data": {
      "text/html": [
       "<div>\n",
       "<style scoped>\n",
       "    .dataframe tbody tr th:only-of-type {\n",
       "        vertical-align: middle;\n",
       "    }\n",
       "\n",
       "    .dataframe tbody tr th {\n",
       "        vertical-align: top;\n",
       "    }\n",
       "\n",
       "    .dataframe thead th {\n",
       "        text-align: right;\n",
       "    }\n",
       "</style>\n",
       "<table border=\"1\" class=\"dataframe\">\n",
       "  <thead>\n",
       "    <tr style=\"text-align: right;\">\n",
       "      <th></th>\n",
       "      <th>Patient</th>\n",
       "      <th>Activity</th>\n",
       "      <th>Resource</th>\n",
       "      <th>PatientName</th>\n",
       "      <th>Age</th>\n",
       "      <th>Insurance</th>\n",
       "      <th>start_timestamp</th>\n",
       "      <th>Timestamp</th>\n",
       "      <th>@@duration</th>\n",
       "      <th>Test III Timestamp</th>\n",
       "    </tr>\n",
       "  </thead>\n",
       "  <tbody>\n",
       "    <tr>\n",
       "      <th>0</th>\n",
       "      <td>1</td>\n",
       "      <td>Register</td>\n",
       "      <td>Alexander</td>\n",
       "      <td>Hermann the 1.</td>\n",
       "      <td>51</td>\n",
       "      <td>STAT</td>\n",
       "      <td>2020-06-01 06:00:00</td>\n",
       "      <td>2020-06-01 06:08:53</td>\n",
       "      <td>533.0</td>\n",
       "      <td>2020-06-01 07:03:47</td>\n",
       "    </tr>\n",
       "    <tr>\n",
       "      <th>1</th>\n",
       "      <td>1</td>\n",
       "      <td>Initial Exam</td>\n",
       "      <td>Anna</td>\n",
       "      <td>Hermann the 1.</td>\n",
       "      <td>51</td>\n",
       "      <td>STAT</td>\n",
       "      <td>2020-06-01 06:10:48</td>\n",
       "      <td>2020-06-01 06:25:43</td>\n",
       "      <td>895.0</td>\n",
       "      <td>2020-06-01 07:03:47</td>\n",
       "    </tr>\n",
       "    <tr>\n",
       "      <th>2</th>\n",
       "      <td>1</td>\n",
       "      <td>Initial Exam Decision</td>\n",
       "      <td>Amelie,Anna</td>\n",
       "      <td>Hermann the 1.</td>\n",
       "      <td>51</td>\n",
       "      <td>STAT</td>\n",
       "      <td>2020-06-01 06:26:43</td>\n",
       "      <td>2020-06-01 06:31:52</td>\n",
       "      <td>309.0</td>\n",
       "      <td>2020-06-01 07:03:47</td>\n",
       "    </tr>\n",
       "    <tr>\n",
       "      <th>3</th>\n",
       "      <td>1</td>\n",
       "      <td>Inform about Isolation</td>\n",
       "      <td>Alexander</td>\n",
       "      <td>Hermann the 1.</td>\n",
       "      <td>51</td>\n",
       "      <td>STAT</td>\n",
       "      <td>2020-06-01 06:33:45</td>\n",
       "      <td>2020-06-01 06:33:45</td>\n",
       "      <td>0.0</td>\n",
       "      <td>2020-06-01 07:03:47</td>\n",
       "    </tr>\n",
       "    <tr>\n",
       "      <th>4</th>\n",
       "      <td>1</td>\n",
       "      <td>Test III</td>\n",
       "      <td>Anna</td>\n",
       "      <td>Hermann the 1.</td>\n",
       "      <td>51</td>\n",
       "      <td>STAT</td>\n",
       "      <td>2020-06-01 06:35:35</td>\n",
       "      <td>2020-06-01 07:03:47</td>\n",
       "      <td>1692.0</td>\n",
       "      <td>2020-06-01 07:03:47</td>\n",
       "    </tr>\n",
       "    <tr>\n",
       "      <th>...</th>\n",
       "      <td>...</td>\n",
       "      <td>...</td>\n",
       "      <td>...</td>\n",
       "      <td>...</td>\n",
       "      <td>...</td>\n",
       "      <td>...</td>\n",
       "      <td>...</td>\n",
       "      <td>...</td>\n",
       "      <td>...</td>\n",
       "      <td>...</td>\n",
       "    </tr>\n",
       "    <tr>\n",
       "      <th>33859</th>\n",
       "      <td>1500</td>\n",
       "      <td>Control Call</td>\n",
       "      <td>InspectorInis</td>\n",
       "      <td>Ulrich the 1500.</td>\n",
       "      <td>51</td>\n",
       "      <td>PRIV</td>\n",
       "      <td>2020-07-14 07:35:39</td>\n",
       "      <td>2020-07-14 07:40:58</td>\n",
       "      <td>319.0</td>\n",
       "      <td>2020-07-14 14:13:27</td>\n",
       "    </tr>\n",
       "    <tr>\n",
       "      <th>33860</th>\n",
       "      <td>1500</td>\n",
       "      <td>Control Call</td>\n",
       "      <td>InspectorInis</td>\n",
       "      <td>Ulrich the 1500.</td>\n",
       "      <td>51</td>\n",
       "      <td>PRIV</td>\n",
       "      <td>2020-07-14 11:05:01</td>\n",
       "      <td>2020-07-14 11:09:47</td>\n",
       "      <td>286.0</td>\n",
       "      <td>2020-07-14 14:13:27</td>\n",
       "    </tr>\n",
       "    <tr>\n",
       "      <th>33861</th>\n",
       "      <td>1500</td>\n",
       "      <td>Test III</td>\n",
       "      <td>Amalia</td>\n",
       "      <td>Ulrich the 1500.</td>\n",
       "      <td>51</td>\n",
       "      <td>PRIV</td>\n",
       "      <td>2020-07-14 13:41:46</td>\n",
       "      <td>2020-07-14 14:13:27</td>\n",
       "      <td>1901.0</td>\n",
       "      <td>2020-07-14 14:13:27</td>\n",
       "    </tr>\n",
       "    <tr>\n",
       "      <th>33862</th>\n",
       "      <td>1500</td>\n",
       "      <td>Test III Decision</td>\n",
       "      <td>Amelie,Amalia</td>\n",
       "      <td>Ulrich the 1500.</td>\n",
       "      <td>51</td>\n",
       "      <td>PRIV</td>\n",
       "      <td>2020-07-14 14:13:27</td>\n",
       "      <td>2020-07-14 14:19:18</td>\n",
       "      <td>351.0</td>\n",
       "      <td>2020-07-14 14:13:27</td>\n",
       "    </tr>\n",
       "    <tr>\n",
       "      <th>33863</th>\n",
       "      <td>1500</td>\n",
       "      <td>Discharge Test</td>\n",
       "      <td>Alexander</td>\n",
       "      <td>Ulrich the 1500.</td>\n",
       "      <td>51</td>\n",
       "      <td>PRIV</td>\n",
       "      <td>2020-07-14 14:21:11</td>\n",
       "      <td>2020-07-14 14:28:18</td>\n",
       "      <td>427.0</td>\n",
       "      <td>2020-07-14 14:13:27</td>\n",
       "    </tr>\n",
       "  </tbody>\n",
       "</table>\n",
       "<p>24600 rows × 10 columns</p>\n",
       "</div>"
      ],
      "text/plain": [
       "       Patient                Activity       Resource       PatientName  Age  \\\n",
       "0            1                Register      Alexander    Hermann the 1.   51   \n",
       "1            1            Initial Exam           Anna    Hermann the 1.   51   \n",
       "2            1   Initial Exam Decision    Amelie,Anna    Hermann the 1.   51   \n",
       "3            1  Inform about Isolation      Alexander    Hermann the 1.   51   \n",
       "4            1                Test III           Anna    Hermann the 1.   51   \n",
       "...        ...                     ...            ...               ...  ...   \n",
       "33859     1500            Control Call  InspectorInis  Ulrich the 1500.   51   \n",
       "33860     1500            Control Call  InspectorInis  Ulrich the 1500.   51   \n",
       "33861     1500                Test III         Amalia  Ulrich the 1500.   51   \n",
       "33862     1500       Test III Decision  Amelie,Amalia  Ulrich the 1500.   51   \n",
       "33863     1500          Discharge Test      Alexander  Ulrich the 1500.   51   \n",
       "\n",
       "      Insurance     start_timestamp           Timestamp  @@duration  \\\n",
       "0          STAT 2020-06-01 06:00:00 2020-06-01 06:08:53       533.0   \n",
       "1          STAT 2020-06-01 06:10:48 2020-06-01 06:25:43       895.0   \n",
       "2          STAT 2020-06-01 06:26:43 2020-06-01 06:31:52       309.0   \n",
       "3          STAT 2020-06-01 06:33:45 2020-06-01 06:33:45         0.0   \n",
       "4          STAT 2020-06-01 06:35:35 2020-06-01 07:03:47      1692.0   \n",
       "...         ...                 ...                 ...         ...   \n",
       "33859      PRIV 2020-07-14 07:35:39 2020-07-14 07:40:58       319.0   \n",
       "33860      PRIV 2020-07-14 11:05:01 2020-07-14 11:09:47       286.0   \n",
       "33861      PRIV 2020-07-14 13:41:46 2020-07-14 14:13:27      1901.0   \n",
       "33862      PRIV 2020-07-14 14:13:27 2020-07-14 14:19:18       351.0   \n",
       "33863      PRIV 2020-07-14 14:21:11 2020-07-14 14:28:18       427.0   \n",
       "\n",
       "       Test III Timestamp  \n",
       "0     2020-06-01 07:03:47  \n",
       "1     2020-06-01 07:03:47  \n",
       "2     2020-06-01 07:03:47  \n",
       "3     2020-06-01 07:03:47  \n",
       "4     2020-06-01 07:03:47  \n",
       "...                   ...  \n",
       "33859 2020-07-14 14:13:27  \n",
       "33860 2020-07-14 14:13:27  \n",
       "33861 2020-07-14 14:13:27  \n",
       "33862 2020-07-14 14:13:27  \n",
       "33863 2020-07-14 14:13:27  \n",
       "\n",
       "[24600 rows x 10 columns]"
      ]
     },
     "execution_count": 26,
     "metadata": {},
     "output_type": "execute_result"
    }
   ],
   "source": [
    "df_silent_A = df_renaming[df_renaming['Activity'].str.find('Treatment A') == -1]\n",
    "df_silent_A"
   ]
  },
  {
   "cell_type": "code",
   "execution_count": 27,
   "metadata": {},
   "outputs": [
    {
     "data": {
      "text/plain": [
       "'/home/bruno/Desktop/APM-A1/report/figures/q1_d_silent_A.pdf'"
      ]
     },
     "execution_count": 27,
     "metadata": {},
     "output_type": "execute_result"
    }
   ],
   "source": [
    "log_silent_A = log_converter.apply(df_silent_A, parameters=param_keys)\n",
    "\n",
    "dfg_silent_A = dfg_discovery.apply(log_silent_A, parameters=param_keys)\n",
    "\n",
    "dfg_silent_A = dfg_filtering.apply(dfg_silent_A, parameters=param_keys)\n",
    "\n",
    "dfg_viz = dfg_visualization.apply(dfg_silent_A, log=log_silent_A, parameters=param_keys)\n",
    "\n",
    "dfg_viz.render(os.path.join(figures_dir, 'q1_d_silent_A'),\n",
    "               format='pdf',\n",
    "               view=True)"
   ]
  },
  {
   "cell_type": "markdown",
   "metadata": {},
   "source": [
    "We notice this way the `Prescripe Special Medication` activity is kept."
   ]
  },
  {
   "cell_type": "code",
   "execution_count": 28,
   "metadata": {},
   "outputs": [
    {
     "data": {
      "text/plain": [
       "'/home/bruno/Desktop/APM-A1/report/figures/q1_d_tree_silent_A.pdf'"
      ]
     },
     "execution_count": 28,
     "metadata": {},
     "output_type": "execute_result"
    }
   ],
   "source": [
    "tree_silent_A = inductive_miner.apply_tree_dfg(dfg_silent_A, parameters=param_keys)\n",
    "\n",
    "tree_graph = pt_visualizer.apply(tree_silent_A)\n",
    "\n",
    "# fix operations size\n",
    "tree_graph.body = list(map(lambda r:r.replace('width=0.6', 'width=1'),\n",
    "                           tree_graph.body))\n",
    "\n",
    "tree_graph.render(os.path.join(figures_dir, 'q1_d_tree_silent_A'),\n",
    "                  format='pdf',\n",
    "                  view=True)"
   ]
  },
  {
   "cell_type": "markdown",
   "metadata": {},
   "source": [
    "The biggest difference in the Process Tree is that the `Discharge Test` activity was dragged away from the exclusive choice operator with the other 3 activities to a different exclusive choice with `Prescripe Special Medication`."
   ]
  },
  {
   "cell_type": "markdown",
   "metadata": {},
   "source": [
    "#### Noise threshold tuning\n",
    "\n",
    "For the reasons stated in c), the noise threshold will be tuned."
   ]
  },
  {
   "cell_type": "code",
   "execution_count": 29,
   "metadata": {},
   "outputs": [
    {
     "data": {
      "text/plain": [
       "'/home/bruno/Desktop/APM-A1/report/figures/q1_d_noise_threshold_tuning.pdf'"
      ]
     },
     "execution_count": 29,
     "metadata": {},
     "output_type": "execute_result"
    }
   ],
   "source": [
    "param_keys['noiseThreshold'] = 0.07\n",
    "\n",
    "filt_dfg = dfg_filtering.apply(dfg, parameters=param_keys)\n",
    "\n",
    "filt_dfg_viz = dfg_visualization.apply(filt_dfg, log=renamed_event_log, parameters=param_keys)\n",
    "\n",
    "filt_dfg_viz.render(os.path.join(figures_dir, 'q1_d_noise_threshold_tuning'),\n",
    "                    format='pdf',\n",
    "                    view=True)"
   ]
  },
  {
   "cell_type": "markdown",
   "metadata": {},
   "source": [
    "We can already notice the improvement in the DFG, which is much more readable. There are way less edges and the flow seems much more linear. Even though, the structure about the treatments A1, A2 and A3 is still unsettled."
   ]
  },
  {
   "cell_type": "code",
   "execution_count": 30,
   "metadata": {},
   "outputs": [
    {
     "data": {
      "text/plain": [
       "'/home/bruno/Desktop/APM-A1/report/figures/q1_d_noise_threshold_tuning.pdf'"
      ]
     },
     "execution_count": 30,
     "metadata": {},
     "output_type": "execute_result"
    }
   ],
   "source": [
    "filt_tree = inductive_miner.apply_tree_dfg(filt_dfg, parameters=param_keys)\n",
    "\n",
    "tree_graph = pt_visualizer.apply(filt_tree)\n",
    "\n",
    "# fix operations size\n",
    "tree_graph.body = list(map(lambda r:r.replace('width=0.6', 'width=1'),\n",
    "                           tree_graph.body))\n",
    "\n",
    "tree_graph.render(os.path.join(figures_dir, 'q1_d_noise_threshold_tuning'),\n",
    "                  format='pdf',\n",
    "                  view=True)"
   ]
  },
  {
   "cell_type": "markdown",
   "metadata": {},
   "source": [
    "Even though the final model is not so readable and can still accept some unreasonable mixes between applying one treatment and checking for another, one can say that it is more complete as to the amount of structures that it presents."
   ]
  },
  {
   "cell_type": "code",
   "execution_count": 31,
   "metadata": {},
   "outputs": [],
   "source": [
    "from pm4py.objects.conversion.process_tree import factory as pt_converter\n",
    "from pm4py.objects.petri.exporter import factory as pnml_exporter\n",
    "\n",
    "# convert the obtained process tree into a petri net\n",
    "filt_net, filt_initial_marking, filt_final_marking = pt_converter.apply(filt_tree, variant=pt_converter.TO_PETRI_NET)\n",
    "\n",
    "#save the obtained petri net for further use\n",
    "pnml_path = os.path.join(PROJ_ROOT, 'results', 'Q1', 'filtered_petri.pnml')\n",
    "pnml_exporter.apply(filt_net, filt_initial_marking, pnml_path, final_marking=filt_final_marking)"
   ]
  },
  {
   "cell_type": "markdown",
   "metadata": {},
   "source": [
    "## e)\n",
    "\n",
    "> Consider the process model for the patients who were prescript the special medication. What do you observe? How is this behavior captured by the complete model in d)?"
   ]
  },
  {
   "cell_type": "code",
   "execution_count": 32,
   "metadata": {},
   "outputs": [
    {
     "data": {
      "text/plain": [
       "array([array(['Register', 'Initial Exam', 'Initial Exam Decision',\n",
       "       'Inform about Isolation', 'Control Call', 'Control Call',\n",
       "       'Control Call', 'Control Call', 'Control Call', 'Test III',\n",
       "       'Test III Decision', 'Prescripe Special Medication',\n",
       "       'Inform Authority Fill Form', 'Inform Authority Send Form',\n",
       "       'Control Call (+)', 'Control Call (+)', 'Control Call (+)',\n",
       "       'Control Call (+)', 'Control Call (+)', 'Control Call (+)',\n",
       "       'Control Call (+)', 'Control Call (+)', 'Control Call (+)',\n",
       "       'Control Call (+)', 'Control Call (+)', 'Control Call (+)',\n",
       "       'Control Call (+)', 'Control Call (+)', 'Control Call (+)',\n",
       "       'Control Call (+)', 'Control Call (+)', 'Control Call (+)',\n",
       "       'Control Call (+)', 'Referral', 'Register Facility',\n",
       "       'Decide Treatment', 'Treatment A2', 'Check Treatment A2',\n",
       "       'Treatment A3', 'Treatment A1', 'Check Treatment A1',\n",
       "       'Treatment A1', 'Check Treatment A1', 'Treatment A1',\n",
       "       'Check Treatment A1', 'Treatment A2', 'Check Treatment A2',\n",
       "       'Treatment A1', 'Check Treatment A1', 'Treatment A1',\n",
       "       'Check Treatment A1', 'Treatment A1', 'Check Treatment A1',\n",
       "       'Treatment A3', 'Check Treatment A3', 'Check Treatment A1',\n",
       "       'Treatment A1', 'Check Treatment A1', 'Treatment A2',\n",
       "       'Check Treatment A2', 'Treatment A1', 'Check Treatment A1',\n",
       "       'Treatment A1', 'Check Treatment A1', 'Treatment A1',\n",
       "       'Check Treatment A1', 'Treatment A3', 'Check Treatment A3',\n",
       "       'Treatment A2', 'Check Treatment A2', 'Treatment A1',\n",
       "       'Check Treatment A1', 'Treatment A1', 'Check Treatment A1',\n",
       "       'Treatment A2', 'Check Treatment A2', 'Treatment A1',\n",
       "       'Check Treatment A1', 'Treatment A1', 'Check Treatment A1',\n",
       "       'Treatment A1', 'Check Treatment A1', 'Treatment A3',\n",
       "       'Check Treatment A3', 'Treatment A2', 'Check Treatment A2',\n",
       "       'Treatment A1', 'Check Treatment A1', 'Treatment A1',\n",
       "       'Check Treatment A1', 'Treatment A2', 'Check Treatment A2',\n",
       "       'Treatment A1', 'Check Treatment A1', 'Treatment A1',\n",
       "       'Check Treatment A1', 'Treatment A1', 'Check Treatment A1',\n",
       "       'Treatment A3', 'Check Treatment A3', 'Treatment A2',\n",
       "       'Check Treatment A2', 'Treatment A1', 'Check Treatment A1',\n",
       "       'Treatment A1', 'Treatment A1', 'Check Treatment A1',\n",
       "       'Treatment A2', 'Check Treatment A2', 'Treatment A1',\n",
       "       'Check Treatment A1', 'Check Treatment A1', 'Discharge'],\n",
       "      dtype=object),\n",
       "       array(['Register', 'Initial Exam', 'Initial Exam Decision',\n",
       "       'Inform about Isolation', 'Control Call', 'Control Call',\n",
       "       'Control Call', 'Control Call', 'Control Call', 'Control Call',\n",
       "       'Control Call', 'Test III', 'Test III Decision',\n",
       "       'Prescripe Special Medication', 'Inform Authority Fill Form',\n",
       "       'Inform Authority Send Form', 'Control Call (+)',\n",
       "       'Control Call (+)', 'Control Call (+)', 'Control Call (+)',\n",
       "       'Control Call (+)', 'Control Call (+)', 'Control Call (+)',\n",
       "       'Control Call (+)', 'Referral', 'Register Facility',\n",
       "       'Decide Treatment', 'Treatment A3', 'Check Treatment A3',\n",
       "       'Treatment A2', 'Check Treatment A2', 'Treatment A1',\n",
       "       'Treatment A1', 'Treatment A1', 'Check Treatment A1',\n",
       "       'Treatment A2', 'Check Treatment A2', 'Treatment A1',\n",
       "       'Check Treatment A1', 'Check Treatment A1', 'Treatment A1',\n",
       "       'Check Treatment A1', 'Treatment A3', 'Check Treatment A3',\n",
       "       'Check Treatment A2', 'Treatment A1', 'Check Treatment A1',\n",
       "       'Treatment A1', 'Check Treatment A1', 'Treatment A2',\n",
       "       'Check Treatment A2', 'Treatment A1', 'Check Treatment A1',\n",
       "       'Treatment A1', 'Check Treatment A1', 'Treatment A1',\n",
       "       'Check Treatment A1', 'Treatment A3', 'Treatment A2',\n",
       "       'Check Treatment A2', 'Treatment A1', 'Check Treatment A1',\n",
       "       'Treatment A1', 'Check Treatment A1', 'Check Treatment A2',\n",
       "       'Treatment A1', 'Check Treatment A1', 'Treatment A1',\n",
       "       'Check Treatment A1', 'Treatment A1', 'Check Treatment A1',\n",
       "       'Treatment A3', 'Check Treatment A3', 'Treatment A2',\n",
       "       'Check Treatment A2', 'Treatment A1', 'Check Treatment A1',\n",
       "       'Treatment A1', 'Check Treatment A1', 'Treatment A1',\n",
       "       'Check Treatment A1', 'Treatment A2', 'Check Treatment A2',\n",
       "       'Treatment A1', 'Check Treatment A1', 'Treatment A1',\n",
       "       'Check Treatment A1', 'Treatment A3', 'Check Treatment A3',\n",
       "       'Treatment A2', 'Check Treatment A2', 'Check Treatment A1',\n",
       "       'Treatment A1', 'Check Treatment A1', 'Treatment A1',\n",
       "       'Check Treatment A1', 'Treatment A2', 'Check Treatment A2',\n",
       "       'Treatment A1', 'Check Treatment A1', 'Treatment A1',\n",
       "       'Check Treatment A1', 'Discharge'], dtype=object),\n",
       "       array(['Register', 'Initial Exam', 'Initial Exam Decision',\n",
       "       'Inform about Isolation', 'Control Call', 'Control Call',\n",
       "       'Control Call', 'Control Call', 'Control Call', 'Control Call',\n",
       "       'Control Call', 'Control Call', 'Test III', 'Test III Decision',\n",
       "       'Prescripe Special Medication', 'Control Call (+)',\n",
       "       'Control Call (+)', 'Inform Authority Fill Form',\n",
       "       'Inform Authority Send Form', 'Control Call (+)',\n",
       "       'Control Call (+)', 'Control Call (+)', 'Control Call (+)',\n",
       "       'Control Call (+)', 'Referral', 'Register Facility',\n",
       "       'Decide Treatment', 'Treatment A1', 'Check Treatment A1',\n",
       "       'Treatment A3', 'Check Treatment A3', 'Treatment A2',\n",
       "       'Check Treatment A2', 'Treatment A1', 'Check Treatment A1',\n",
       "       'Treatment A1', 'Check Treatment A1', 'Check Treatment A2',\n",
       "       'Treatment A1', 'Check Treatment A1', 'Treatment A1',\n",
       "       'Check Treatment A1', 'Check Treatment A1', 'Treatment A3',\n",
       "       'Check Treatment A3', 'Treatment A2', 'Check Treatment A2',\n",
       "       'Treatment A1', 'Check Treatment A1', 'Treatment A1',\n",
       "       'Check Treatment A1', 'Treatment A2', 'Check Treatment A2',\n",
       "       'Treatment A1', 'Check Treatment A1', 'Treatment A1',\n",
       "       'Check Treatment A1', 'Treatment A1', 'Check Treatment A1',\n",
       "       'Treatment A3', 'Check Treatment A3', 'Treatment A2',\n",
       "       'Check Treatment A2', 'Treatment A1', 'Check Treatment A1',\n",
       "       'Treatment A1', 'Check Treatment A1', 'Treatment A2',\n",
       "       'Check Treatment A2', 'Treatment A1', 'Check Treatment A1',\n",
       "       'Treatment A1', 'Check Treatment A1', 'Check Treatment A1',\n",
       "       'Treatment A3', 'Check Treatment A3', 'Treatment A2',\n",
       "       'Check Treatment A2', 'Treatment A1', 'Check Treatment A1',\n",
       "       'Treatment A1', 'Check Treatment A1', 'Treatment A1',\n",
       "       'Check Treatment A1', 'Treatment A2', 'Check Treatment A2',\n",
       "       'Treatment A1', 'Check Treatment A1', 'Treatment A1',\n",
       "       'Check Treatment A1', 'Discharge'], dtype=object),\n",
       "       array(['Register', 'Initial Exam', 'Initial Exam Decision',\n",
       "       'Inform about Isolation', 'Control Call', 'Control Call',\n",
       "       'Control Call', 'Control Call', 'Control Call', 'Control Call',\n",
       "       'Control Call', 'Control Call', 'Test III', 'Test III Decision',\n",
       "       'Prescripe Special Medication', 'Inform Authority Fill Form',\n",
       "       'Inform Authority Send Form', 'Control Call (+)',\n",
       "       'Control Call (+)', 'Control Call (+)', 'Control Call (+)',\n",
       "       'Control Call (+)', 'Control Call (+)', 'Control Call (+)',\n",
       "       'Control Call (+)', 'Control Call (+)', 'Control Call (+)',\n",
       "       'Control Call (+)', 'Control Call (+)', 'Control Call (+)',\n",
       "       'Control Call (+)', 'Control Call (+)', 'Control Call (+)',\n",
       "       'Control Call (+)', 'Control Call (+)', 'Control Call (+)',\n",
       "       'Referral', 'Register Facility', 'Decide Treatment',\n",
       "       'Treatment A1', 'Check Treatment A1', 'Treatment A2',\n",
       "       'Check Treatment A2', 'Treatment A3', 'Check Treatment A3',\n",
       "       'Treatment A1', 'Check Treatment A1', 'Treatment A1',\n",
       "       'Check Treatment A1', 'Treatment A2', 'Check Treatment A2',\n",
       "       'Treatment A1', 'Check Treatment A1', 'Treatment A1',\n",
       "       'Check Treatment A1', 'Treatment A3', 'Check Treatment A3',\n",
       "       'Check Treatment A2', 'Treatment A1', 'Treatment A1',\n",
       "       'Check Treatment A1', 'Treatment A1', 'Check Treatment A1',\n",
       "       'Treatment A2', 'Check Treatment A2', 'Check Treatment A1',\n",
       "       'Check Treatment A1', 'Treatment A3', 'Check Treatment A3',\n",
       "       'Treatment A2', 'Check Treatment A2', 'Treatment A1',\n",
       "       'Check Treatment A1', 'Treatment A1', 'Check Treatment A1',\n",
       "       'Treatment A1', 'Check Treatment A1', 'Treatment A2',\n",
       "       'Check Treatment A2', 'Treatment A1', 'Check Treatment A1',\n",
       "       'Treatment A1', 'Check Treatment A1', 'Treatment A3',\n",
       "       'Check Treatment A3', 'Treatment A1', 'Check Treatment A1',\n",
       "       'Treatment A2', 'Check Treatment A2', 'Treatment A1',\n",
       "       'Check Treatment A1', 'Treatment A1', 'Treatment A2',\n",
       "       'Check Treatment A2', 'Treatment A1', 'Check Treatment A1',\n",
       "       'Treatment A1', 'Check Treatment A1', 'Treatment A1',\n",
       "       'Check Treatment A1', 'Treatment A3', 'Treatment A2',\n",
       "       'Check Treatment A2', 'Treatment A1', 'Check Treatment A1',\n",
       "       'Treatment A1', 'Check Treatment A1', 'Treatment A2',\n",
       "       'Check Treatment A2', 'Treatment A1', 'Check Treatment A1',\n",
       "       'Treatment A1', 'Check Treatment A1', 'Discharge'], dtype=object),\n",
       "       array(['Register', 'Initial Exam', 'Initial Exam Decision',\n",
       "       'Inform about Isolation', 'Control Call', 'Control Call',\n",
       "       'Control Call', 'Control Call', 'Control Call', 'Control Call',\n",
       "       'Control Call', 'Test III', 'Test III Decision',\n",
       "       'Prescripe Special Medication', 'Inform Authority Fill Form',\n",
       "       'Inform Authority Send Form', 'Control Call (+)',\n",
       "       'Control Call (+)', 'Control Call (+)', 'Control Call (+)',\n",
       "       'Control Call (+)', 'Control Call (+)', 'Control Call (+)',\n",
       "       'Control Call (+)', 'Control Call (+)', 'Control Call (+)',\n",
       "       'Referral', 'Register Facility', 'Decide Treatment',\n",
       "       'Treatment A2', 'Check Treatment A2', 'Treatment A1',\n",
       "       'Check Treatment A1', 'Treatment A3', 'Check Treatment A3',\n",
       "       'Check Treatment A1', 'Treatment A1', 'Check Treatment A1',\n",
       "       'Treatment A2', 'Check Treatment A2', 'Treatment A1',\n",
       "       'Check Treatment A1', 'Treatment A1', 'Check Treatment A1',\n",
       "       'Treatment A3', 'Check Treatment A3', 'Treatment A2',\n",
       "       'Check Treatment A2', 'Treatment A1', 'Check Treatment A1',\n",
       "       'Treatment A1', 'Check Treatment A1', 'Treatment A1',\n",
       "       'Check Treatment A1', 'Treatment A2', 'Check Treatment A2',\n",
       "       'Treatment A1', 'Check Treatment A1', 'Treatment A1',\n",
       "       'Check Treatment A1', 'Treatment A1', 'Check Treatment A1',\n",
       "       'Treatment A3', 'Check Treatment A3', 'Treatment A2',\n",
       "       'Check Treatment A2', 'Treatment A1', 'Check Treatment A1',\n",
       "       'Treatment A1', 'Check Treatment A1', 'Treatment A2',\n",
       "       'Check Treatment A2', 'Treatment A1', 'Check Treatment A1',\n",
       "       'Treatment A1', 'Treatment A3', 'Check Treatment A3',\n",
       "       'Treatment A1', 'Check Treatment A1', 'Treatment A2',\n",
       "       'Check Treatment A2', 'Treatment A1', 'Check Treatment A1',\n",
       "       'Treatment A1', 'Check Treatment A1', 'Check Treatment A2',\n",
       "       'Treatment A1', 'Check Treatment A1', 'Treatment A1',\n",
       "       'Check Treatment A1', 'Discharge'], dtype=object),\n",
       "       array(['Register', 'Initial Exam', 'Initial Exam Decision',\n",
       "       'Inform about Isolation', 'Control Call', 'Control Call',\n",
       "       'Control Call', 'Control Call', 'Control Call', 'Test III',\n",
       "       'Test III Decision', 'Prescripe Special Medication',\n",
       "       'Inform Authority Fill Form', 'Inform Authority Send Form',\n",
       "       'Control Call (+)', 'Control Call (+)', 'Control Call (+)',\n",
       "       'Control Call (+)', 'Control Call (+)', 'Control Call (+)',\n",
       "       'Control Call (+)', 'Control Call (+)', 'Control Call (+)',\n",
       "       'Control Call (+)', 'Control Call (+)', 'Control Call (+)',\n",
       "       'Control Call (+)', 'Referral', 'Register Facility',\n",
       "       'Decide Treatment', 'Treatment A3', 'Check Treatment A3',\n",
       "       'Treatment A2', 'Check Treatment A2', 'Treatment A1',\n",
       "       'Check Treatment A1', 'Treatment A1', 'Check Treatment A1',\n",
       "       'Treatment A1', 'Check Treatment A1', 'Treatment A2',\n",
       "       'Check Treatment A2', 'Treatment A1', 'Check Treatment A1',\n",
       "       'Treatment A1', 'Check Treatment A1', 'Treatment A3',\n",
       "       'Check Treatment A3', 'Treatment A2', 'Check Treatment A2',\n",
       "       'Check Treatment A1', 'Treatment A1', 'Treatment A1',\n",
       "       'Check Treatment A1', 'Treatment A2', 'Check Treatment A2',\n",
       "       'Treatment A1', 'Check Treatment A1', 'Treatment A1',\n",
       "       'Check Treatment A1', 'Treatment A3', 'Check Treatment A3',\n",
       "       'Treatment A1', 'Check Treatment A1', 'Treatment A2',\n",
       "       'Check Treatment A2', 'Check Treatment A1', 'Treatment A1',\n",
       "       'Check Treatment A1', 'Treatment A2', 'Check Treatment A2',\n",
       "       'Treatment A1', 'Check Treatment A1', 'Treatment A1',\n",
       "       'Check Treatment A1', 'Treatment A1', 'Check Treatment A1',\n",
       "       'Treatment A3', 'Check Treatment A3', 'Treatment A2',\n",
       "       'Check Treatment A2', 'Treatment A1', 'Check Treatment A1',\n",
       "       'Treatment A1', 'Check Treatment A1', 'Treatment A2',\n",
       "       'Check Treatment A2', 'Treatment A1', 'Check Treatment A1',\n",
       "       'Treatment A1', 'Check Treatment A1', 'Treatment A1',\n",
       "       'Check Treatment A1', 'Treatment A3', 'Check Treatment A3',\n",
       "       'Treatment A2', 'Check Treatment A2', 'Treatment A1',\n",
       "       'Check Treatment A1', 'Treatment A1', 'Check Treatment A1',\n",
       "       'Check Treatment A2', 'Treatment A1', 'Check Treatment A1',\n",
       "       'Treatment A1', 'Check Treatment A1', 'Discharge'], dtype=object),\n",
       "       array(['Register', 'Initial Exam', 'Initial Exam Decision',\n",
       "       'Inform about Isolation', 'Control Call', 'Control Call',\n",
       "       'Control Call', 'Control Call', 'Control Call', 'Control Call',\n",
       "       'Test III', 'Test III Decision', 'Prescripe Special Medication',\n",
       "       'Control Call (+)', 'Inform Authority Fill Form',\n",
       "       'Inform Authority Send Form', 'Control Call (+)',\n",
       "       'Control Call (+)', 'Control Call (+)', 'Control Call (+)',\n",
       "       'Control Call (+)', 'Control Call (+)', 'Control Call (+)',\n",
       "       'Control Call (+)', 'Control Call (+)', 'Control Call (+)',\n",
       "       'Control Call (+)', 'Register Facility', 'Decide Treatment',\n",
       "       'Treatment A3', 'Check Treatment A3', 'Treatment A2',\n",
       "       'Check Treatment A2', 'Treatment A1', 'Check Treatment A1',\n",
       "       'Treatment A1', 'Check Treatment A1', 'Treatment A1',\n",
       "       'Check Treatment A1', 'Check Treatment A2', 'Treatment A1',\n",
       "       'Check Treatment A1', 'Treatment A1', 'Check Treatment A1',\n",
       "       'Treatment A1', 'Check Treatment A1', 'Treatment A3',\n",
       "       'Check Treatment A3', 'Treatment A2', 'Check Treatment A2',\n",
       "       'Treatment A1', 'Treatment A1', 'Check Treatment A1',\n",
       "       'Treatment A1', 'Check Treatment A1', 'Treatment A2',\n",
       "       'Check Treatment A2', 'Treatment A1', 'Check Treatment A1',\n",
       "       'Treatment A1', 'Check Treatment A1', 'Treatment A3',\n",
       "       'Check Treatment A3', 'Check Treatment A1', 'Treatment A2',\n",
       "       'Check Treatment A2', 'Treatment A1', 'Check Treatment A1',\n",
       "       'Treatment A1', 'Check Treatment A1', 'Treatment A2',\n",
       "       'Treatment A1', 'Check Treatment A1', 'Treatment A1',\n",
       "       'Check Treatment A1', 'Check Treatment A1', 'Treatment A3',\n",
       "       'Treatment A2', 'Check Treatment A2', 'Treatment A1',\n",
       "       'Check Treatment A1', 'Treatment A1', 'Treatment A1',\n",
       "       'Check Treatment A1', 'Treatment A2', 'Check Treatment A2',\n",
       "       'Treatment A1', 'Check Treatment A1', 'Discharge'], dtype=object),\n",
       "       array(['Register', 'Initial Exam', 'Initial Exam Decision',\n",
       "       'Inform about Isolation', 'Control Call', 'Control Call',\n",
       "       'Control Call', 'Control Call', 'Control Call', 'Control Call',\n",
       "       'Test III', 'Test III Decision', 'Prescripe Special Medication',\n",
       "       'Control Call (+)', 'Control Call (+)',\n",
       "       'Inform Authority Fill Form', 'Inform Authority Send Form',\n",
       "       'Control Call (+)', 'Control Call (+)', 'Control Call (+)',\n",
       "       'Control Call (+)', 'Control Call (+)', 'Referral',\n",
       "       'Register Facility', 'Decide Treatment', 'Treatment A2',\n",
       "       'Check Treatment A2', 'Treatment A1', 'Check Treatment A1',\n",
       "       'Treatment A3', 'Check Treatment A3', 'Treatment A1',\n",
       "       'Check Treatment A1', 'Treatment A1', 'Check Treatment A1',\n",
       "       'Treatment A2', 'Check Treatment A2', 'Treatment A1',\n",
       "       'Check Treatment A1', 'Treatment A1', 'Check Treatment A1',\n",
       "       'Treatment A1', 'Check Treatment A1', 'Treatment A2',\n",
       "       'Check Treatment A2', 'Treatment A3', 'Check Treatment A3',\n",
       "       'Treatment A1', 'Check Treatment A1', 'Treatment A1',\n",
       "       'Check Treatment A1', 'Check Treatment A2', 'Treatment A1',\n",
       "       'Check Treatment A1', 'Treatment A1', 'Check Treatment A1',\n",
       "       'Treatment A1', 'Check Treatment A1', 'Check Treatment A3',\n",
       "       'Treatment A2', 'Check Treatment A2', 'Treatment A1',\n",
       "       'Check Treatment A1', 'Treatment A1', 'Check Treatment A1',\n",
       "       'Treatment A1', 'Check Treatment A1', 'Treatment A2',\n",
       "       'Check Treatment A2', 'Treatment A1', 'Check Treatment A1',\n",
       "       'Treatment A1', 'Check Treatment A1', 'Treatment A3',\n",
       "       'Check Treatment A3', 'Treatment A2', 'Check Treatment A2',\n",
       "       'Treatment A1', 'Check Treatment A1', 'Treatment A1',\n",
       "       'Treatment A1', 'Check Treatment A1', 'Treatment A2',\n",
       "       'Check Treatment A2', 'Treatment A1', 'Check Treatment A1',\n",
       "       'Treatment A1', 'Check Treatment A1', 'Treatment A3',\n",
       "       'Check Treatment A3', 'Treatment A2', 'Check Treatment A2',\n",
       "       'Treatment A1', 'Check Treatment A1', 'Treatment A1',\n",
       "       'Check Treatment A1', 'Treatment A1', 'Check Treatment A1',\n",
       "       'Treatment A2', 'Check Treatment A2', 'Treatment A1',\n",
       "       'Check Treatment A1', 'Treatment A1', 'Check Treatment A1',\n",
       "       'Discharge'], dtype=object),\n",
       "       array(['Register', 'Initial Exam', 'Initial Exam Decision',\n",
       "       'Inform about Isolation', 'Control Call', 'Control Call',\n",
       "       'Control Call', 'Control Call', 'Control Call', 'Control Call',\n",
       "       'Control Call', 'Control Call', 'Test III', 'Test III Decision',\n",
       "       'Prescripe Special Medication', 'Inform Authority Fill Form',\n",
       "       'Inform Authority Send Form', 'Control Call (+)',\n",
       "       'Control Call (+)', 'Control Call (+)', 'Control Call (+)',\n",
       "       'Control Call (+)', 'Control Call (+)', 'Control Call (+)',\n",
       "       'Control Call (+)', 'Control Call (+)', 'Control Call (+)',\n",
       "       'Control Call (+)', 'Control Call (+)', 'Control Call (+)',\n",
       "       'Referral', 'Register Facility', 'Decide Treatment',\n",
       "       'Treatment A3', 'Check Treatment A3', 'Treatment A2',\n",
       "       'Check Treatment A2', 'Treatment A1', 'Check Treatment A1',\n",
       "       'Treatment A1', 'Check Treatment A1', 'Treatment A1',\n",
       "       'Check Treatment A1', 'Treatment A2', 'Check Treatment A2',\n",
       "       'Treatment A1', 'Check Treatment A1', 'Treatment A1',\n",
       "       'Check Treatment A1', 'Treatment A1', 'Check Treatment A1',\n",
       "       'Treatment A3', 'Check Treatment A3', 'Treatment A2',\n",
       "       'Check Treatment A2', 'Treatment A1', 'Check Treatment A1',\n",
       "       'Treatment A1', 'Check Treatment A1', 'Treatment A2',\n",
       "       'Check Treatment A2', 'Treatment A1', 'Treatment A1',\n",
       "       'Check Treatment A1', 'Treatment A1', 'Check Treatment A1',\n",
       "       'Treatment A3', 'Check Treatment A3', 'Treatment A2',\n",
       "       'Check Treatment A2', 'Treatment A1', 'Check Treatment A1',\n",
       "       'Treatment A1', 'Check Treatment A1', 'Treatment A2',\n",
       "       'Treatment A1', 'Check Treatment A1', 'Treatment A1',\n",
       "       'Check Treatment A1', 'Treatment A1', 'Check Treatment A1',\n",
       "       'Treatment A3', 'Check Treatment A3', 'Treatment A2',\n",
       "       'Check Treatment A2', 'Treatment A1', 'Check Treatment A1',\n",
       "       'Treatment A1', 'Check Treatment A1', 'Treatment A1',\n",
       "       'Check Treatment A1', 'Treatment A2', 'Check Treatment A2',\n",
       "       'Treatment A1', 'Check Treatment A1', 'Treatment A1',\n",
       "       'Check Treatment A1', 'Discharge'], dtype=object),\n",
       "       array(['Register', 'Initial Exam', 'Initial Exam Decision',\n",
       "       'Inform about Isolation', 'Control Call', 'Control Call',\n",
       "       'Control Call', 'Control Call', 'Control Call', 'Control Call',\n",
       "       'Control Call', 'Test III', 'Test III Decision',\n",
       "       'Prescripe Special Medication', 'Control Call (+)',\n",
       "       'Inform Authority Fill Form', 'Inform Authority Send Form',\n",
       "       'Control Call (+)', 'Control Call (+)', 'Control Call (+)',\n",
       "       'Control Call (+)', 'Control Call (+)', 'Control Call (+)',\n",
       "       'Control Call (+)', 'Referral', 'Register Facility',\n",
       "       'Decide Treatment', 'Treatment A2', 'Check Treatment A2',\n",
       "       'Treatment A1', 'Check Treatment A1', 'Treatment A3',\n",
       "       'Check Treatment A3', 'Treatment A1', 'Check Treatment A1',\n",
       "       'Treatment A1', 'Check Treatment A1', 'Treatment A2',\n",
       "       'Check Treatment A2', 'Treatment A1', 'Check Treatment A1',\n",
       "       'Treatment A1', 'Check Treatment A1', 'Treatment A1',\n",
       "       'Check Treatment A1', 'Treatment A2', 'Treatment A3',\n",
       "       'Check Treatment A3', 'Treatment A1', 'Check Treatment A1',\n",
       "       'Treatment A1', 'Check Treatment A1', 'Treatment A2',\n",
       "       'Check Treatment A2', 'Treatment A1', 'Check Treatment A1',\n",
       "       'Treatment A1', 'Check Treatment A1', 'Treatment A1',\n",
       "       'Check Treatment A1', 'Treatment A3', 'Check Treatment A3',\n",
       "       'Treatment A2', 'Check Treatment A2', 'Treatment A1',\n",
       "       'Check Treatment A1', 'Treatment A1', 'Check Treatment A1',\n",
       "       'Treatment A2', 'Check Treatment A2', 'Treatment A1',\n",
       "       'Check Treatment A1', 'Check Treatment A1', 'Treatment A1',\n",
       "       'Check Treatment A1', 'Check Treatment A3', 'Treatment A1',\n",
       "       'Check Treatment A1', 'Treatment A2', 'Check Treatment A2',\n",
       "       'Treatment A1', 'Check Treatment A1', 'Treatment A1',\n",
       "       'Check Treatment A1', 'Treatment A2', 'Check Treatment A2',\n",
       "       'Treatment A1', 'Check Treatment A1', 'Treatment A1',\n",
       "       'Check Treatment A1', 'Discharge'], dtype=object)], dtype=object)"
      ]
     },
     "execution_count": 32,
     "metadata": {},
     "output_type": "execute_result"
    }
   ],
   "source": [
    "special_medication_traces = renamed_traces[renamed_traces.apply(lambda t: 'Prescripe Special Medication' in t)]\n",
    "\n",
    "special_medication_traces.sample(10).values"
   ]
  },
  {
   "cell_type": "code",
   "execution_count": 33,
   "metadata": {},
   "outputs": [
    {
     "data": {
      "text/plain": [
       "Series([], Name: Activity, dtype: object)"
      ]
     },
     "execution_count": 33,
     "metadata": {},
     "output_type": "execute_result"
    }
   ],
   "source": [
    "special_medication_traces[special_medication_traces.apply(lambda t: 'Treatment B' in t)]"
   ]
  },
  {
   "cell_type": "markdown",
   "metadata": {},
   "source": [
    "Through further inspection we can assume that the special medication is only prescribed together with the A treatments, therefore it was damaged by the actions taken in d), as previously highlighted."
   ]
  },
  {
   "cell_type": "code",
   "execution_count": 34,
   "metadata": {},
   "outputs": [
    {
     "data": {
      "text/html": [
       "<div>\n",
       "<style scoped>\n",
       "    .dataframe tbody tr th:only-of-type {\n",
       "        vertical-align: middle;\n",
       "    }\n",
       "\n",
       "    .dataframe tbody tr th {\n",
       "        vertical-align: top;\n",
       "    }\n",
       "\n",
       "    .dataframe thead th {\n",
       "        text-align: right;\n",
       "    }\n",
       "</style>\n",
       "<table border=\"1\" class=\"dataframe\">\n",
       "  <thead>\n",
       "    <tr style=\"text-align: right;\">\n",
       "      <th></th>\n",
       "      <th>Patient</th>\n",
       "      <th>Activity</th>\n",
       "      <th>Resource</th>\n",
       "      <th>PatientName</th>\n",
       "      <th>Age</th>\n",
       "      <th>Insurance</th>\n",
       "      <th>start_timestamp</th>\n",
       "      <th>Timestamp</th>\n",
       "      <th>@@duration</th>\n",
       "      <th>Test III Timestamp</th>\n",
       "    </tr>\n",
       "  </thead>\n",
       "  <tbody>\n",
       "    <tr>\n",
       "      <th>405</th>\n",
       "      <td>31</td>\n",
       "      <td>Register</td>\n",
       "      <td>Alexander</td>\n",
       "      <td>Alexander the 31.</td>\n",
       "      <td>60</td>\n",
       "      <td>STAT</td>\n",
       "      <td>2020-06-01 15:24:21</td>\n",
       "      <td>2020-06-01 15:33:24</td>\n",
       "      <td>543.0</td>\n",
       "      <td>2020-06-02 10:58:47</td>\n",
       "    </tr>\n",
       "    <tr>\n",
       "      <th>406</th>\n",
       "      <td>31</td>\n",
       "      <td>Initial Exam</td>\n",
       "      <td>Anna</td>\n",
       "      <td>Alexander the 31.</td>\n",
       "      <td>60</td>\n",
       "      <td>STAT</td>\n",
       "      <td>2020-06-01 15:35:24</td>\n",
       "      <td>2020-06-01 15:50:21</td>\n",
       "      <td>897.0</td>\n",
       "      <td>2020-06-02 10:58:47</td>\n",
       "    </tr>\n",
       "    <tr>\n",
       "      <th>407</th>\n",
       "      <td>31</td>\n",
       "      <td>Inform about Isolation</td>\n",
       "      <td>Anna</td>\n",
       "      <td>Alexander the 31.</td>\n",
       "      <td>60</td>\n",
       "      <td>STAT</td>\n",
       "      <td>2020-06-01 15:58:38</td>\n",
       "      <td>2020-06-01 15:58:38</td>\n",
       "      <td>0.0</td>\n",
       "      <td>2020-06-02 10:58:47</td>\n",
       "    </tr>\n",
       "    <tr>\n",
       "      <th>408</th>\n",
       "      <td>31</td>\n",
       "      <td>Control Call</td>\n",
       "      <td>InspectorInis</td>\n",
       "      <td>Alexander the 31.</td>\n",
       "      <td>60</td>\n",
       "      <td>STAT</td>\n",
       "      <td>2020-06-01 19:00:26</td>\n",
       "      <td>2020-06-01 19:05:29</td>\n",
       "      <td>303.0</td>\n",
       "      <td>2020-06-02 10:58:47</td>\n",
       "    </tr>\n",
       "    <tr>\n",
       "      <th>409</th>\n",
       "      <td>31</td>\n",
       "      <td>Control Call</td>\n",
       "      <td>InspectorInis</td>\n",
       "      <td>Alexander the 31.</td>\n",
       "      <td>60</td>\n",
       "      <td>STAT</td>\n",
       "      <td>2020-06-02 06:00:00</td>\n",
       "      <td>2020-06-02 06:05:11</td>\n",
       "      <td>311.0</td>\n",
       "      <td>2020-06-02 10:58:47</td>\n",
       "    </tr>\n",
       "    <tr>\n",
       "      <th>...</th>\n",
       "      <td>...</td>\n",
       "      <td>...</td>\n",
       "      <td>...</td>\n",
       "      <td>...</td>\n",
       "      <td>...</td>\n",
       "      <td>...</td>\n",
       "      <td>...</td>\n",
       "      <td>...</td>\n",
       "      <td>...</td>\n",
       "      <td>...</td>\n",
       "    </tr>\n",
       "    <tr>\n",
       "      <th>33171</th>\n",
       "      <td>1460</td>\n",
       "      <td>Check Treatment A2</td>\n",
       "      <td>Caddy,Cornelia</td>\n",
       "      <td>Dietrich the 1460.</td>\n",
       "      <td>59</td>\n",
       "      <td>STAT</td>\n",
       "      <td>2020-07-29 16:55:35</td>\n",
       "      <td>2020-07-29 17:00:29</td>\n",
       "      <td>294.0</td>\n",
       "      <td>2020-07-13 15:10:20</td>\n",
       "    </tr>\n",
       "    <tr>\n",
       "      <th>33172</th>\n",
       "      <td>1460</td>\n",
       "      <td>Treatment A1</td>\n",
       "      <td>Carla</td>\n",
       "      <td>Dietrich the 1460.</td>\n",
       "      <td>59</td>\n",
       "      <td>STAT</td>\n",
       "      <td>2020-07-29 22:53:20</td>\n",
       "      <td>2020-07-29 23:13:04</td>\n",
       "      <td>1184.0</td>\n",
       "      <td>2020-07-13 15:10:20</td>\n",
       "    </tr>\n",
       "    <tr>\n",
       "      <th>33173</th>\n",
       "      <td>1460</td>\n",
       "      <td>Check Treatment A1</td>\n",
       "      <td>Carlotta,Carla</td>\n",
       "      <td>Dietrich the 1460.</td>\n",
       "      <td>59</td>\n",
       "      <td>STAT</td>\n",
       "      <td>2020-07-29 23:14:25</td>\n",
       "      <td>2020-07-29 23:19:38</td>\n",
       "      <td>313.0</td>\n",
       "      <td>2020-07-13 15:10:20</td>\n",
       "    </tr>\n",
       "    <tr>\n",
       "      <th>33174</th>\n",
       "      <td>1460</td>\n",
       "      <td>Treatment A1</td>\n",
       "      <td>Claudia</td>\n",
       "      <td>Dietrich the 1460.</td>\n",
       "      <td>59</td>\n",
       "      <td>STAT</td>\n",
       "      <td>2020-07-30 07:19:51</td>\n",
       "      <td>2020-07-30 07:39:25</td>\n",
       "      <td>1174.0</td>\n",
       "      <td>2020-07-13 15:10:20</td>\n",
       "    </tr>\n",
       "    <tr>\n",
       "      <th>33175</th>\n",
       "      <td>1460</td>\n",
       "      <td>Discharge</td>\n",
       "      <td>Cadan</td>\n",
       "      <td>Dietrich the 1460.</td>\n",
       "      <td>59</td>\n",
       "      <td>STAT</td>\n",
       "      <td>2020-07-30 10:49:19</td>\n",
       "      <td>2020-07-30 10:56:35</td>\n",
       "      <td>436.0</td>\n",
       "      <td>2020-07-13 15:10:20</td>\n",
       "    </tr>\n",
       "  </tbody>\n",
       "</table>\n",
       "<p>7572 rows × 10 columns</p>\n",
       "</div>"
      ],
      "text/plain": [
       "       Patient                Activity        Resource         PatientName  \\\n",
       "405         31                Register       Alexander   Alexander the 31.   \n",
       "406         31            Initial Exam            Anna   Alexander the 31.   \n",
       "407         31  Inform about Isolation            Anna   Alexander the 31.   \n",
       "408         31            Control Call   InspectorInis   Alexander the 31.   \n",
       "409         31            Control Call   InspectorInis   Alexander the 31.   \n",
       "...        ...                     ...             ...                 ...   \n",
       "33171     1460      Check Treatment A2  Caddy,Cornelia  Dietrich the 1460.   \n",
       "33172     1460            Treatment A1           Carla  Dietrich the 1460.   \n",
       "33173     1460      Check Treatment A1  Carlotta,Carla  Dietrich the 1460.   \n",
       "33174     1460            Treatment A1         Claudia  Dietrich the 1460.   \n",
       "33175     1460               Discharge           Cadan  Dietrich the 1460.   \n",
       "\n",
       "       Age Insurance     start_timestamp           Timestamp  @@duration  \\\n",
       "405     60      STAT 2020-06-01 15:24:21 2020-06-01 15:33:24       543.0   \n",
       "406     60      STAT 2020-06-01 15:35:24 2020-06-01 15:50:21       897.0   \n",
       "407     60      STAT 2020-06-01 15:58:38 2020-06-01 15:58:38         0.0   \n",
       "408     60      STAT 2020-06-01 19:00:26 2020-06-01 19:05:29       303.0   \n",
       "409     60      STAT 2020-06-02 06:00:00 2020-06-02 06:05:11       311.0   \n",
       "...    ...       ...                 ...                 ...         ...   \n",
       "33171   59      STAT 2020-07-29 16:55:35 2020-07-29 17:00:29       294.0   \n",
       "33172   59      STAT 2020-07-29 22:53:20 2020-07-29 23:13:04      1184.0   \n",
       "33173   59      STAT 2020-07-29 23:14:25 2020-07-29 23:19:38       313.0   \n",
       "33174   59      STAT 2020-07-30 07:19:51 2020-07-30 07:39:25      1174.0   \n",
       "33175   59      STAT 2020-07-30 10:49:19 2020-07-30 10:56:35       436.0   \n",
       "\n",
       "       Test III Timestamp  \n",
       "405   2020-06-02 10:58:47  \n",
       "406   2020-06-02 10:58:47  \n",
       "407   2020-06-02 10:58:47  \n",
       "408   2020-06-02 10:58:47  \n",
       "409   2020-06-02 10:58:47  \n",
       "...                   ...  \n",
       "33171 2020-07-13 15:10:20  \n",
       "33172 2020-07-13 15:10:20  \n",
       "33173 2020-07-13 15:10:20  \n",
       "33174 2020-07-13 15:10:20  \n",
       "33175 2020-07-13 15:10:20  \n",
       "\n",
       "[7572 rows x 10 columns]"
      ]
     },
     "execution_count": 34,
     "metadata": {},
     "output_type": "execute_result"
    }
   ],
   "source": [
    "df_special = df_renaming[df_renaming['Patient'].isin(special_medication_traces.index)]\n",
    "\n",
    "df_special"
   ]
  },
  {
   "cell_type": "code",
   "execution_count": 35,
   "metadata": {},
   "outputs": [
    {
     "data": {
      "text/plain": [
       "'/home/bruno/Desktop/APM-A1/report/figures/q1_e_special.pdf'"
      ]
     },
     "execution_count": 35,
     "metadata": {},
     "output_type": "execute_result"
    }
   ],
   "source": [
    "log_special = log_converter.apply(df_special, parameters=param_keys)\n",
    "\n",
    "dfg_special = dfg_discovery.apply(log_special, parameters=param_keys)\n",
    "\n",
    "dfg_special = dfg_filtering.apply(dfg_special, parameters=param_keys)\n",
    "\n",
    "dfg_viz = dfg_visualization.apply(dfg_special, log=log_special, parameters=param_keys)\n",
    "\n",
    "dfg_viz.render(os.path.join(figures_dir, 'q1_e_special'),\n",
    "               format='pdf',\n",
    "               view=True)"
   ]
  },
  {
   "cell_type": "code",
   "execution_count": 36,
   "metadata": {},
   "outputs": [
    {
     "data": {
      "text/plain": [
       "'/home/bruno/Desktop/APM-A1/report/figures/q1_e_tree_special.pdf'"
      ]
     },
     "execution_count": 36,
     "metadata": {},
     "output_type": "execute_result"
    }
   ],
   "source": [
    "tree_special = inductive_miner.apply_tree_dfg(dfg_special, parameters=param_keys)\n",
    "\n",
    "tree_graph = pt_visualizer.apply(tree_special)\n",
    "\n",
    "# fix operations size\n",
    "tree_graph.body = list(map(lambda r:r.replace('width=0.6', 'width=1'),\n",
    "                           tree_graph.body))\n",
    "\n",
    "tree_graph.render(os.path.join(figures_dir, 'q1_e_tree_special'),\n",
    "                  format='pdf',\n",
    "                  view=True)"
   ]
  },
  {
   "cell_type": "markdown",
   "metadata": {},
   "source": [
    "It is very similar, as previously stated. One can say that the previous models failed to capture the non-local influence of the `Prescripe Special Medication` in the choice of the treatment, which it is possible to assume that must be one of the A treatments."
   ]
  },
  {
   "cell_type": "markdown",
   "metadata": {},
   "source": [
    "## f)\n",
    "\n",
    "> Apply additional miners to the log and compare the results. Which model is the best model?\n",
    "\n",
    "#### Alpha Miner"
   ]
  },
  {
   "cell_type": "code",
   "execution_count": 37,
   "metadata": {},
   "outputs": [
    {
     "data": {
      "text/plain": [
       "'/home/bruno/Desktop/APM-A1/report/figures/q1_f_alpha_miner.pdf'"
      ]
     },
     "execution_count": 37,
     "metadata": {},
     "output_type": "execute_result"
    }
   ],
   "source": [
    "from pm4py.algo.discovery.alpha import factory as alpha_miner\n",
    "from pm4py.objects.dfg.filtering.dfg_filtering import DEFAULT_NOISE_THRESH_DF\n",
    "\n",
    "param_keys['noiseThreshold'] = DEFAULT_NOISE_THRESH_DF\n",
    "filt_dfg = dfg_filtering.apply(dfg, parameters=param_keys)\n",
    "\n",
    "net, initial_marking, final_marking = alpha_miner.apply_dfg(filt_dfg, parameters=param_keys)\n",
    "\n",
    "net_graph = pn_visualizer.apply(net,\n",
    "                                initial_marking=initial_marking,\n",
    "                                final_marking=final_marking)\n",
    "\n",
    "figures_dir = os.path.join(PROJ_ROOT, 'report', 'figures')\n",
    "\n",
    "# fix place size\n",
    "import numpy as np\n",
    "body = np.array(net_graph.body)\n",
    "body[body ==  '\\tnode [fixedsize=true shape=circle width=0.75]'] = '\\tnode [fixedsize=true shape=circle width=1]'\n",
    "net_graph.body = body\n",
    "\n",
    "net_graph.render(os.path.join(figures_dir, 'q1_f_alpha_miner'),\n",
    "                 format='pdf',\n",
    "                 view=True)"
   ]
  },
  {
   "cell_type": "markdown",
   "metadata": {},
   "source": [
    "#### Heuristics Miner"
   ]
  },
  {
   "cell_type": "code",
   "execution_count": 38,
   "metadata": {},
   "outputs": [
    {
     "data": {
      "text/plain": [
       "'/home/bruno/Desktop/APM-A1/report/figures/q1_f_heuristics_miner.pdf'"
      ]
     },
     "execution_count": 38,
     "metadata": {},
     "output_type": "execute_result"
    }
   ],
   "source": [
    "from pm4py.algo.discovery.heuristics import factory as heuristics_miner\n",
    "\n",
    "net, initial_marking, final_marking = heuristics_miner.apply_dfg(filt_dfg, parameters=param_keys)\n",
    "\n",
    "net_graph = pn_visualizer.apply(net,\n",
    "                                initial_marking=initial_marking,\n",
    "                                final_marking=final_marking)\n",
    "\n",
    "figures_dir = os.path.join(PROJ_ROOT, 'report', 'figures')\n",
    "\n",
    "# fix place size\n",
    "import numpy as np\n",
    "body = np.array(net_graph.body)\n",
    "body[body ==  '\\tnode [fixedsize=true shape=circle width=0.75]'] = '\\tnode [fixedsize=true shape=circle width=1]'\n",
    "net_graph.body = body\n",
    "\n",
    "net_graph.render(os.path.join(figures_dir, 'q1_f_heuristics_miner'),\n",
    "                 format='pdf',\n",
    "                 view=True)"
   ]
  },
  {
   "cell_type": "markdown",
   "metadata": {},
   "source": [
    "The Alpha miner fails completely to most of the structures beyond the initial activities. The Heuristics miner presents a good job up until the treatments start, showing precisely the control calls and its relation with the `Inform Authority*` activities. Both fail to understand non-local influence of the `Prescripe Special Medication` and the sequencing of the A treatments and checks. Therefore, one can say the most precise model is still the one generated by the IM, even though the one generated by the HM is more readable."
   ]
  }
 ],
 "metadata": {
  "kernelspec": {
   "display_name": "Python 3",
   "language": "python",
   "name": "python3"
  },
  "language_info": {
   "codemirror_mode": {
    "name": "ipython",
    "version": 3
   },
   "file_extension": ".py",
   "mimetype": "text/x-python",
   "name": "python",
   "nbconvert_exporter": "python",
   "pygments_lexer": "ipython3",
   "version": "3.6.3"
  }
 },
 "nbformat": 4,
 "nbformat_minor": 4
}
