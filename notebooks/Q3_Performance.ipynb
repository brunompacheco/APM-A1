{
 "cells": [
  {
   "cell_type": "code",
   "execution_count": null,
   "metadata": {
    "ExecuteTime": {
     "end_time": "2020-05-29T19:54:42.477882Z",
     "start_time": "2020-05-29T19:54:39.628461Z"
    }
   },
   "outputs": [],
   "source": [
    "import pm4py\n",
    "pm4py.__version__"
   ]
  },
  {
   "cell_type": "markdown",
   "metadata": {},
   "source": [
    "# Performance Analysis\n",
    "\n",
    "> Which parts of the process have the biggest influence on the total case duration?\n",
    "\n",
    "## Data loading\n",
    "\n",
    "Import the log."
   ]
  },
  {
   "cell_type": "code",
   "execution_count": null,
   "metadata": {
    "ExecuteTime": {
     "end_time": "2020-05-29T19:54:46.916606Z",
     "start_time": "2020-05-29T19:54:42.485875Z"
    }
   },
   "outputs": [],
   "source": [
    "import os\n",
    "import pandas as pd\n",
    "from pm4py.objects.log.importer.xes import factory as xes_import_factory\n",
    "from pm4py.objects.petri.importer import factory as pnml_importer\n",
    "\n",
    "PROJ_ROOT = os.path.abspath(os.path.pardir)\n",
    "data_path = os.path.join(PROJ_ROOT, 'data', 'log.csv')\n",
    "\n",
    "assert os.path.exists(data_path)\n",
    "\n",
    "# load csv\n",
    "df_log = pd.read_csv(data_path)\n",
    "\n",
    "# convert timestamp columns to datetime friendly format\n",
    "df_log['Timestamp'] = pd.to_datetime(df_log['Timestamp'])\n",
    "df_log['start_timestamp'] = pd.to_datetime(df_log['start_timestamp'])\n",
    "\n",
    "#import the renamed event log from Q1\n",
    "event_log = xes_import_factory.apply(PROJ_ROOT+\"/data/processed_log.xes\")\n",
    "\n",
    "#import the filtered petri net obtained in Q1\n",
    "pnml_path = os.path.join(PROJ_ROOT, 'results', 'Q1', 'filtered_petri.pnml')\n",
    "net, initial_marking, final_marking = pnml_importer.apply(pnml_path)"
   ]
  },
  {
   "cell_type": "code",
   "execution_count": null,
   "metadata": {
    "ExecuteTime": {
     "end_time": "2020-05-29T19:54:47.526254Z",
     "start_time": "2020-05-29T19:54:46.923598Z"
    }
   },
   "outputs": [],
   "source": [
    "import seaborn as sns\n",
    "import matplotlib.pyplot as plt\n",
    "\n",
    "# set default plot size\n",
    "plt.rcParams['figure.figsize'] = (15, 10)\n",
    "plt.rcParams['figure.figsize'] = (15, 10)"
   ]
  },
  {
   "cell_type": "markdown",
   "metadata": {},
   "source": [
    "---\n",
    "\n",
    "# a)\n",
    "> Provide and briefly describe results of your performance analysis. Remember to also consider your current results which may give you a good entry point for a deeper analysis."
   ]
  },
  {
   "cell_type": "markdown",
   "metadata": {},
   "source": [
    "### Activities duration\n",
    "\n",
    "We start our exploration of the process performance by evaluating the performance of single activities. At first we visualize the activities duration. The results can be found below."
   ]
  },
  {
   "cell_type": "code",
   "execution_count": null,
   "metadata": {
    "ExecuteTime": {
     "end_time": "2020-05-29T19:54:49.271487Z",
     "start_time": "2020-05-29T19:54:47.564231Z"
    }
   },
   "outputs": [],
   "source": [
    "ax = sns.boxplot(data=df_log, y='Activity', x='@@duration', orient='h')\n",
    "ax.set_title(\"Boxplots of the Activity Service Times\", size=25)\n",
    "ax.set_ylabel(\"Activity\", size=20)\n",
    "ax.set_xlabel(\"Service Time in seconds\", size=20)\n",
    "plt.show()"
   ]
  },
  {
   "cell_type": "markdown",
   "metadata": {},
   "source": [
    "What we can observe here is that the _Prescripe Special Medication_ activity has by far the largest average duration. Also, _Test III_ has the second largest average duration.\n",
    "\n",
    "Administrative tasks like registration activities also show a long duration, while examination decisions and treatment checks have the shortest duration.\n",
    "\n",
    "All of the standard deviations are small considering the overall duration of the activities, this means that there is not much variation in the time that is required for a specific activity in between cases. We also notice that there is no presence of anomalies in the distributions, all of them seem very close to a normal distribution.\n",
    "\n",
    "In general we see that the activities related to treatments have long durations, we can take a closer look."
   ]
  },
  {
   "cell_type": "code",
   "execution_count": null,
   "metadata": {
    "ExecuteTime": {
     "end_time": "2020-05-29T19:54:50.047024Z",
     "start_time": "2020-05-29T19:54:49.281463Z"
    }
   },
   "outputs": [],
   "source": [
    "ax = sns.boxplot(data=df_log[df_log['Activity'].str.contains('Treatment')], y='Activity', x='@@duration', orient='h')\n",
    "ax.set_title(\"Service Time Boxplots of Treatment Related Activities\", size=25)\n",
    "ax.set_ylabel(\"Activity\", size=20)\n",
    "ax.set_xlabel(\"Service Time in seconds\", size=20)\n",
    "plt.show()"
   ]
  },
  {
   "cell_type": "markdown",
   "metadata": {},
   "source": [
    "We see that _Treatment A2_ has the largest average duration, but knowing that this activities are performed many times in a single process, it is useful to evaluate their summed duration."
   ]
  },
  {
   "cell_type": "code",
   "execution_count": null,
   "metadata": {
    "ExecuteTime": {
     "end_time": "2020-05-29T19:54:51.117411Z",
     "start_time": "2020-05-29T19:54:50.052022Z"
    }
   },
   "outputs": [],
   "source": [
    "df_activities_duration = (df_log.groupby(['Patient', 'Activity'])['@@duration'].sum()\n",
    "                                .reset_index().rename({'@@duration': 'total_@@duration'}, axis='columns'))\n",
    "df_treatment_durations = df_activities_duration[df_activities_duration['Activity'].str.contains('Treatment')]\n",
    "\n",
    "ax = sns.boxplot(data=df_treatment_durations, y='Activity', x='total_@@duration', orient='h')\n",
    "ax.set_title(\"Service Time Spent on Treatment Related Activities per Case\", size=25)\n",
    "ax.set_ylabel(\"Activity\", size=20)\n",
    "ax.set_xlabel(\"Total Service Time of the Activity in Seconds\", size=20)\n",
    "plt.show()"
   ]
  },
  {
   "cell_type": "markdown",
   "metadata": {},
   "source": [
    "So we see that even though _Treatment A2_ has the biggest average duration, it is not the one with the largest total duration (taking on account all the times it was executed) in a process, this being _Treatment A1_.\n",
    "\n",
    "We can also notice that when we are dealing with the total duration of the activities, the values become bigger by one order of magnitude, which makes us interested in the total duration of the remaining activities."
   ]
  },
  {
   "cell_type": "code",
   "execution_count": null,
   "metadata": {
    "ExecuteTime": {
     "end_time": "2020-05-29T19:54:52.439652Z",
     "start_time": "2020-05-29T19:54:51.129404Z"
    }
   },
   "outputs": [],
   "source": [
    "df_ = df_activities_duration[~df_activities_duration['Activity'].str.contains('Treatment')]\n",
    "\n",
    "ax = sns.boxplot(data=df_, y='Activity', x='total_@@duration', orient='h')\n",
    "ax.set_title(\"Service Time Spent on Other Activities per Case\", size=25)\n",
    "ax.set_ylabel(\"Activity\", size=20)\n",
    "ax.set_xlabel(\"Total Service Time of the Activity in Seconds\", size=20)\n",
    "plt.show()"
   ]
  },
  {
   "cell_type": "markdown",
   "metadata": {},
   "source": [
    "This way we can see that the _Control Call_ activity is actually more time demanding than we have estimated by the previous analysis."
   ]
  },
  {
   "cell_type": "code",
   "execution_count": null,
   "metadata": {
    "ExecuteTime": {
     "end_time": "2020-05-29T19:54:52.461644Z",
     "start_time": "2020-05-29T19:54:52.446648Z"
    }
   },
   "outputs": [],
   "source": [
    "total_process_duration = df_log.groupby('Patient')['@@duration'].sum()"
   ]
  },
  {
   "cell_type": "code",
   "execution_count": null,
   "metadata": {
    "ExecuteTime": {
     "end_time": "2020-05-29T19:54:54.527088Z",
     "start_time": "2020-05-29T19:54:52.466639Z"
    }
   },
   "outputs": [],
   "source": [
    "total_process_duration = df_log.groupby('Patient')['@@duration'].sum()\n",
    "df_activities_duration['process_total_duration'] = df_activities_duration['Patient'].map(total_process_duration)\n",
    "\n",
    "ax = sns.boxplot(data=df_activities_duration, y='Activity', x='process_total_duration')\n",
    "ax.set_title(\"Total Case Service Time Boxplots\", size=25)\n",
    "ax.set_ylabel(\"Activity\", size=20)\n",
    "ax.set_xlabel(\"Total Service Time in Seconds of the Case\", size=20)\n",
    "plt.show()"
   ]
  },
  {
   "cell_type": "markdown",
   "metadata": {},
   "source": [
    "Comparing the activities with the total process duration in which they are present, we see that the Treatments A1, A2 and A3 correlate to much longer processes."
   ]
  },
  {
   "cell_type": "markdown",
   "metadata": {},
   "source": [
    "---\n",
    "\n",
    "# b)\n",
    "> Discuss insights obtained from you analysis, for example identify bottlenecks, and discuss their impact."
   ]
  },
  {
   "cell_type": "markdown",
   "metadata": {},
   "source": [
    "### Process length\n",
    "\n",
    "We could notice in the previous graph that the processes can be divided in two groups regarding their length, let's take a deeper look into that."
   ]
  },
  {
   "cell_type": "code",
   "execution_count": null,
   "metadata": {
    "ExecuteTime": {
     "end_time": "2020-05-29T19:54:55.167734Z",
     "start_time": "2020-05-29T19:54:54.533080Z"
    }
   },
   "outputs": [],
   "source": [
    "ax = sns.distplot(total_process_duration)\n",
    "ax.set_title(\"Distribution of Total Case Service Time\", size=25)\n",
    "ax.set_xlabel(\"Total Service Time of Cases in Seconds\", size=20)\n",
    "plt.show()"
   ]
  },
  {
   "cell_type": "markdown",
   "metadata": {},
   "source": [
    "We notice roughly two groups here, separated by the 40000 seconds duration mark.\n",
    "\n",
    "Let's investigate further if this is also reflected in the lead time of the processes."
   ]
  },
  {
   "cell_type": "code",
   "execution_count": null,
   "metadata": {
    "ExecuteTime": {
     "end_time": "2020-05-29T19:54:55.626471Z",
     "start_time": "2020-05-29T19:54:55.172714Z"
    }
   },
   "outputs": [],
   "source": [
    "lead_time = df_log.groupby('Patient')['Timestamp'].max() - \\\n",
    "            df_log.groupby('Patient')['start_timestamp'].min()\n",
    "\n",
    "ax = sns.distplot(lead_time.apply(lambda t: t.total_seconds()), bins=20)\n",
    "ax.set_title(\"Distribution of Total Case Lead Time\", size=25)\n",
    "ax.set_xlabel(\"Total Lead Time of Cases in Seconds\", size=20)\n",
    "plt.show()"
   ]
  },
  {
   "cell_type": "markdown",
   "metadata": {},
   "source": [
    "Again we see that the lead time has two groupings, split around 370000 seconds.\n",
    "\n",
    "We can search for the causes of this difference by seeing it as a classification problem being the features the presence of the activities. This way, the most influential features as the main causes for the lead time."
   ]
  },
  {
   "cell_type": "code",
   "execution_count": null,
   "metadata": {
    "ExecuteTime": {
     "end_time": "2020-05-29T19:54:57.533075Z",
     "start_time": "2020-05-29T19:54:55.631451Z"
    }
   },
   "outputs": [],
   "source": [
    "from pm4py.objects.log.util import get_log_representation, get_class_representation\n",
    "\n",
    "data, feature_names = get_log_representation.get_representation(\n",
    "    log=event_log,\n",
    "    str_tr_attr=[],\n",
    "    str_ev_attr=['Activity'],\n",
    "    num_tr_attr=[],\n",
    "    num_ev_attr=[]\n",
    ")\n",
    "target, classes = get_class_representation.get_class_representation_by_trace_duration(event_log, target_trace_duration=370000, timestamp_key='Timestamp')\n",
    "\n",
    "from sklearn.tree import DecisionTreeClassifier\n",
    "\n",
    "# limit DT depth to get a simpler representation, with the main approaches\n",
    "clf = DecisionTreeClassifier(min_samples_leaf=5)\n",
    "# clf = DecisionTreeClassifier(min_samples_leaf=15)\n",
    "clf = clf.fit(data, target)\n",
    "\n",
    "from pm4py.visualization.decisiontree import factory as dt_visualizer\n",
    "\n",
    "dt_vis = dt_visualizer.apply(clf, feature_names, classes)\n",
    "\n",
    "figures_dir = os.path.join(PROJ_ROOT, 'report', 'figures')\n",
    "dt_vis.render(os.path.join(figures_dir, 'q3_decision_tree'),\n",
    "              #format='pdf',\n",
    "              view=True)"
   ]
  },
  {
   "cell_type": "markdown",
   "metadata": {},
   "source": [
    "We can see that the major cause for the long lead time of the processes is the happening of `Inform Authority Send Form`, which means that the patient will be forwarded to treatment, therefore taking longer time under observation."
   ]
  },
  {
   "cell_type": "code",
   "execution_count": null,
   "metadata": {
    "ExecuteTime": {
     "end_time": "2020-05-29T19:55:30.186479Z",
     "start_time": "2020-05-29T19:54:57.545068Z"
    },
    "scrolled": true
   },
   "outputs": [],
   "source": [
    "from pm4py.visualization.petrinet import factory as pn_visualizer\n",
    "from pm4py.algo.discovery.inductive import factory as inductive_miner\n",
    "from pm4py.util import constants\n",
    "\n",
    "# map dataset columns to PM4Py keys\n",
    "param_keys={constants.PARAMETER_CONSTANT_CASEID_KEY: 'Patient',\n",
    "            constants.PARAMETER_CONSTANT_RESOURCE_KEY: 'Resource', \n",
    "            constants.PARAMETER_CONSTANT_ACTIVITY_KEY: 'Activity',\n",
    "            constants.PARAMETER_CONSTANT_TIMESTAMP_KEY: 'Timestamp',\n",
    "            constants.PARAMETER_CONSTANT_START_TIMESTAMP_KEY: 'start_timestamp'}\n",
    "\n",
    "#annotate the mined petri net with performance measures\n",
    "perf_net_vis = pn_visualizer.apply(net, initial_marking, final_marking=final_marking,\n",
    "                                   variant=pn_visualizer.PERFORMANCE_DECORATION,\n",
    "                                   log=event_log, parameters=param_keys)\n",
    "\n",
    "figures_dir = os.path.join(PROJ_ROOT, 'report', 'figures')\n",
    "\n",
    "# fix place size\n",
    "import numpy as np\n",
    "body = np.array(perf_net_vis.body)\n",
    "body[body ==  '\\tnode [fixedsize=true shape=circle width=0.75]'] = '\\tnode [fixedsize=true shape=circle width=1]'\n",
    "perf_net_vis.body = body\n",
    "\n",
    "perf_net_vis.render(os.path.join(figures_dir, 'q3_perf_petrinet'),\n",
    "                 #format='pdf',\n",
    "                 view=True)"
   ]
  },
  {
   "cell_type": "markdown",
   "metadata": {},
   "source": [
    "We have annotated the petri net that was obtained in Q1 after preprocessing the log with a performance metric. The metric used is the mean time between two events.\n",
    "\n",
    "<h2 style=\"color:red\">TODO: analysis on the annotated petri net.</h2>"
   ]
  },
  {
   "cell_type": "markdown",
   "metadata": {},
   "source": [
    "### Components\n",
    "\n",
    "We can also visualize if the components (as discussed in Q2) have any impact in the performance of the processes."
   ]
  },
  {
   "cell_type": "code",
   "execution_count": null,
   "metadata": {
    "ExecuteTime": {
     "end_time": "2020-05-29T19:55:31.902493Z",
     "start_time": "2020-05-29T19:55:30.193474Z"
    }
   },
   "outputs": [],
   "source": [
    "df_log['Component'] = df_log['Resource'].str[0]\n",
    "\n",
    "df_components = df_log.groupby(['Component', 'Patient'])['@@duration'].sum().reset_index()\n",
    "\n",
    "ax = sns.boxplot(data=df_components, x='Component', y='@@duration')\n",
    "ax.set_title(\"Boxplots of Components against Total Service Time\", size=25)\n",
    "ax.set_xlabel(\"Component Type\", size=20)\n",
    "ax.set_ylabel(\"Total Service Time in Seconds\", size=20)\n",
    "plt.show()"
   ]
  },
  {
   "cell_type": "markdown",
   "metadata": {},
   "source": [
    "We see that the component C is presenting longer processes duration for the activities than their counterparts B and D, which perform similar activities."
   ]
  },
  {
   "cell_type": "code",
   "execution_count": null,
   "metadata": {
    "ExecuteTime": {
     "end_time": "2020-05-29T19:55:33.618526Z",
     "start_time": "2020-05-29T19:55:31.909489Z"
    }
   },
   "outputs": [],
   "source": [
    "df_treatment = df_log[(df_log['Component'].isin(['B', 'C', 'D'])) & \\\n",
    "                      (df_log['Activity'].str.contains('Treatment'))]\n",
    "\n",
    "ax = sns.boxplot(data=df_treatment, x='Activity', y='@@duration', hue='Component')\n",
    "ax.set_title(\"Boxplots of Treatment Service Times for Different Components\", size=25)\n",
    "ax.set_xlabel(\"Activity\", size=20)\n",
    "ax.set_ylabel(\"Service Time in Seconds\", size=20)\n",
    "plt.show()"
   ]
  },
  {
   "cell_type": "markdown",
   "metadata": {},
   "source": [
    "We see no difference in the performance of the activities comparing the three components that deal with the treatments. Therefore, we can estimate that the difference is in the amount of activities performed in the processes related to component C."
   ]
  },
  {
   "cell_type": "code",
   "execution_count": null,
   "metadata": {
    "ExecuteTime": {
     "end_time": "2020-05-29T19:55:33.665482Z",
     "start_time": "2020-05-29T19:55:33.623507Z"
    }
   },
   "outputs": [],
   "source": [
    "activities_per_component = df_log.groupby('Component')['Activity'].count()\n",
    "patients_per_component = df_log.groupby('Component')['Patient'].nunique()\n",
    "\n",
    "activities_per_component / patients_per_component"
   ]
  },
  {
   "cell_type": "markdown",
   "metadata": {},
   "source": [
    "We confirm our idea that the component C performs more tasks for each related process, having an average of 31 activities per process (in which it actuates)."
   ]
  },
  {
   "cell_type": "markdown",
   "metadata": {},
   "source": [
    "### Age\n",
    "\n",
    "We can also inspect if the age of the patients has any influence on the performance."
   ]
  },
  {
   "cell_type": "code",
   "execution_count": null,
   "metadata": {
    "ExecuteTime": {
     "end_time": "2020-05-29T19:55:37.000203Z",
     "start_time": "2020-05-29T19:55:33.674478Z"
    }
   },
   "outputs": [],
   "source": [
    "g = sns.jointplot(data=df_log, x='@@duration', y='Age')\n",
    "#g.ax_joint.set_title(\"Scatterplot of the Activity Service Time Against the age\", size=25)\n",
    "g.ax_joint.set_xlabel(\"Activity Service Time in Seconds\", size=20)\n",
    "g.ax_joint.set_ylabel(\"Patient Age in Years\", size=20)\n",
    "plt.show()"
   ]
  },
  {
   "cell_type": "code",
   "execution_count": null,
   "metadata": {
    "ExecuteTime": {
     "end_time": "2020-05-29T19:55:38.922096Z",
     "start_time": "2020-05-29T19:55:37.006198Z"
    }
   },
   "outputs": [],
   "source": [
    "df_ = pd.DataFrame(total_process_duration).rename({'@@duration':'total_duration'}, axis='columns')\n",
    "df_['Age'] = df_log.groupby('Patient')['Age'].first()\n",
    "\n",
    "g = sns.jointplot(data=df_, x='total_duration', y='Age')\n",
    "g.ax_joint.set_xlabel(\"Total Case Service Time in Seconds\", size=20)\n",
    "g.ax_joint.set_ylabel(\"Patient Age in Years\", size=20)\n",
    "plt.show()"
   ]
  },
  {
   "cell_type": "markdown",
   "metadata": {},
   "source": [
    "So we see that neither the duration of the individual activities nor the total duration of the process are related to the age of the patients."
   ]
  },
  {
   "cell_type": "markdown",
   "metadata": {},
   "source": [
    "### Insurance"
   ]
  },
  {
   "cell_type": "code",
   "execution_count": null,
   "metadata": {
    "ExecuteTime": {
     "end_time": "2020-05-29T19:55:40.224350Z",
     "start_time": "2020-05-29T19:55:38.930096Z"
    }
   },
   "outputs": [],
   "source": [
    "for ins in df_log['Insurance'].unique():\n",
    "    ax = sns.distplot(df_log[df_log['Insurance'] == ins]['@@duration'], label=ins)\n",
    "    ax.set_title(\"Distribution of Activity Service Times for Different Insurance Types\", size=25)\n",
    "    ax.set_xlabel(\"Activity Service Time\", size=20)\n",
    "\n",
    "plt.legend()\n",
    "plt.show()"
   ]
  },
  {
   "cell_type": "code",
   "execution_count": null,
   "metadata": {
    "ExecuteTime": {
     "end_time": "2020-05-29T19:55:41.341708Z",
     "start_time": "2020-05-29T19:55:40.231347Z"
    }
   },
   "outputs": [],
   "source": [
    "df_['Insurance'] = df_log.groupby('Patient')['Insurance'].first()\n",
    "\n",
    "for ins in df_['Insurance'].unique():\n",
    "    ax = sns.distplot(df_[df_['Insurance'] == ins]['total_duration'], label=ins)\n",
    "    ax.set_title(\"Distribution of Total Service Times for Different Insurance Types\", size=25)\n",
    "    ax.set_xlabel(\"Total Service Time\", size=20)\n",
    "plt.legend()\n",
    "plt.show()"
   ]
  },
  {
   "cell_type": "markdown",
   "metadata": {},
   "source": [
    "Again, no apparent influence."
   ]
  },
  {
   "cell_type": "code",
   "execution_count": null,
   "metadata": {
    "ExecuteTime": {
     "end_time": "2020-05-29T19:55:41.417707Z",
     "start_time": "2020-05-29T19:55:41.347705Z"
    }
   },
   "outputs": [],
   "source": [
    "case_duration = (df_log.groupby('Patient')['Timestamp'].max() - \n",
    "                    df_log.groupby('Patient')['start_timestamp'].min())\n",
    "case_duration = lead_time.apply(lambda x: x.total_seconds())\n",
    "case_duration.name = 'case_duration'"
   ]
  },
  {
   "cell_type": "markdown",
   "metadata": {},
   "source": [
    "As we have seen there is a group of cases that take substantially longer than the majority of cases we will now focus on this group for further analysis"
   ]
  },
  {
   "cell_type": "code",
   "execution_count": null,
   "metadata": {
    "ExecuteTime": {
     "end_time": "2020-05-29T19:55:41.666154Z",
     "start_time": "2020-05-29T19:55:41.421663Z"
    }
   },
   "outputs": [],
   "source": [
    "new_cc_name = 'Control Call (+)'\n",
    "split_on_activity = 'Test III'\n",
    "\n",
    "# get `Test III` moment\n",
    "df_log_test = df_log[df_log['Activity'] == split_on_activity]\n",
    "split_timestamp = df_log_test.groupby('Patient')['Timestamp'].first()\n",
    "\n",
    "# map timestamp to whole patient trace\n",
    "df_renaming = df_log.copy()\n",
    "df_renaming[split_on_activity + ' Timestamp'] = df_log['Patient'].map(split_timestamp)\n",
    "\n",
    "# renames `Control Call` activities that happen after `Test III`\n",
    "new_cc = df_renaming['Activity'].str.replace('Control Call', new_cc_name)\n",
    "df_renaming['Activity'] = new_cc.where(\n",
    "    df_renaming['Timestamp'] > df_renaming[split_on_activity + ' Timestamp'],\n",
    "    df_renaming['Activity']\n",
    ")"
   ]
  },
  {
   "cell_type": "code",
   "execution_count": null,
   "metadata": {
    "ExecuteTime": {
     "end_time": "2020-05-29T19:55:41.831731Z",
     "start_time": "2020-05-29T19:55:41.669113Z"
    }
   },
   "outputs": [],
   "source": [
    "\n",
    "long_cases = df_renaming.join(case_duration ,on='Patient')\n",
    "long_cases = long_cases[long_cases['case_duration']>300000]\n"
   ]
  },
  {
   "cell_type": "markdown",
   "metadata": {},
   "source": [
    "We can now have a look at the dfg visualisations of the long cases both from a performance and a frequency perspective:"
   ]
  },
  {
   "cell_type": "code",
   "execution_count": null,
   "metadata": {
    "ExecuteTime": {
     "end_time": "2020-05-29T19:55:46.479972Z",
     "start_time": "2020-05-29T19:55:41.841635Z"
    }
   },
   "outputs": [],
   "source": [
    "from pm4py.algo.discovery.dfg import algorithm as dfg_discovery\n",
    "from pm4py.visualization.dfg import visualizer as dfg_visualization\n",
    "from pm4py.objects.conversion.log import converter as log_converter\n",
    "\n",
    "long_cases_log = log_converter.apply(long_cases, parameters=param_keys)\n",
    "\n",
    "dfg = dfg_discovery.apply(long_cases_log, variant=dfg_discovery.Variants.PERFORMANCE, parameters=param_keys)\n",
    "gviz = dfg_visualization.apply(dfg, log=long_cases_log, variant=dfg_visualization.Variants.PERFORMANCE)\n",
    "dfg_visualization.view(gviz)"
   ]
  },
  {
   "cell_type": "code",
   "execution_count": null,
   "metadata": {
    "ExecuteTime": {
     "end_time": "2020-05-29T19:55:47.399447Z",
     "start_time": "2020-05-29T19:55:46.484969Z"
    }
   },
   "outputs": [],
   "source": [
    "dfg = dfg_discovery.apply(long_cases_log, variant=dfg_discovery.Variants.FREQUENCY, parameters=param_keys)\n",
    "gviz = dfg_visualization.apply(dfg, log=long_cases_log, variant=dfg_visualization.Variants.FREQUENCY)\n",
    "dfg_visualization.view(gviz)"
   ]
  },
  {
   "cell_type": "markdown",
   "metadata": {},
   "source": [
    "When we look at the frequency graph we can see that the control call activities are both very often repeated and have a high mean lead time of 7 or 8 hours. They are a big factor in the long running cases."
   ]
  },
  {
   "cell_type": "code",
   "execution_count": null,
   "metadata": {
    "ExecuteTime": {
     "end_time": "2020-05-29T19:55:47.453415Z",
     "start_time": "2020-05-29T19:55:47.403443Z"
    }
   },
   "outputs": [],
   "source": [
    "print(long_cases['Activity'].value_counts()[:2])\n",
    "print(df_renaming['Activity'].value_counts()[:2])"
   ]
  },
  {
   "cell_type": "markdown",
   "metadata": {},
   "source": [
    "A brief comparison of the number of control call activities shows that all control calls after a positive test are still included. This is normal because patients that receive a positive test results will naturally have longer case durations. What is really interesting is that around 72% of the control calls before the test are still included in the long cases. This means that some of the long running cases are caused by patients waiting a long time for a test (and receiving calls while they do)."
   ]
  },
  {
   "cell_type": "code",
   "execution_count": null,
   "metadata": {},
   "outputs": [],
   "source": []
  }
 ],
 "metadata": {
  "kernelspec": {
   "display_name": "Python 3",
   "language": "python",
   "name": "python3"
  },
  "language_info": {
   "codemirror_mode": {
    "name": "ipython",
    "version": 3
   },
   "file_extension": ".py",
   "mimetype": "text/x-python",
   "name": "python",
   "nbconvert_exporter": "python",
   "pygments_lexer": "ipython3",
   "version": "3.6.3"
  }
 },
 "nbformat": 4,
 "nbformat_minor": 4
}
