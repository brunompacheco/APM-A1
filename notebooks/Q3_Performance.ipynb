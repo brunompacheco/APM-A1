{
 "cells": [
  {
   "cell_type": "code",
   "execution_count": 1,
   "metadata": {},
   "outputs": [
    {
     "data": {
      "text/plain": [
       "'1.2.13'"
      ]
     },
     "execution_count": 1,
     "metadata": {},
     "output_type": "execute_result"
    }
   ],
   "source": [
    "import pm4py\n",
    "pm4py.__version__"
   ]
  },
  {
   "cell_type": "markdown",
   "metadata": {},
   "source": [
    "# Performance Analysis\n",
    "\n",
    "> Which parts of the process have the biggest influence on the total case duration?\n",
    "\n",
    "## Data loading\n",
    "\n",
    "Import the log."
   ]
  },
  {
   "cell_type": "code",
   "execution_count": 26,
   "metadata": {},
   "outputs": [],
   "source": [
    "import os\n",
    "import pandas as pd\n",
    "from pm4py.objects.log.importer.xes import factory as xes_import_factory\n",
    "from pm4py.objects.petri.importer import factory as pnml_importer\n",
    "\n",
    "PROJ_ROOT = os.path.abspath(os.path.pardir)\n",
    "\n",
    "#import the renamed event log from Q1\n",
    "event_log = xes_import_factory.apply(PROJ_ROOT+\"/data/processed_log.xes\")\n",
    "\n",
    "#import the filtered petri net obtained in Q1\n",
    "pnml_path = os.path.join(PROJ_ROOT, 'results', 'Q1', 'filtered_petri.pnml')\n",
    "net, initial_marking, final_marking = pnml_importer.apply(pnml_path)"
   ]
  },
  {
   "cell_type": "markdown",
   "metadata": {},
   "source": [
    "---\n",
    "\n",
    "# a)\n",
    "> Provide and briefly describe results of your performance analysis. Remember to also consider your current results which may give you a good entry point for a deeper analysis."
   ]
  },
  {
   "cell_type": "code",
   "execution_count": 24,
   "metadata": {
    "scrolled": true
   },
   "outputs": [
    {
     "data": {
      "text/plain": [
       "'/Users/Tom/Documents/Uni/4. Semester M/Advanced Process Mining/Assignments/Assignment 1/APM-A1/report/figures/q3_perf_petrinet.pdf'"
      ]
     },
     "execution_count": 24,
     "metadata": {},
     "output_type": "execute_result"
    }
   ],
   "source": [
    "from pm4py.visualization.petrinet import factory as pn_visualizer\n",
    "from pm4py.algo.discovery.inductive import factory as inductive_miner\n",
    "\n",
    "#annotate the mined petri net with performance measures\n",
    "perf_net_vis = pn_visualizer.apply(net, initial_marking, final_marking=final_marking,\n",
    "                                   variant=pn_visualizer.PERFORMANCE_DECORATION, log=event_log,\n",
    "                                   parameters=param_keys)\n",
    "\n",
    "figures_dir = os.path.join(PROJ_ROOT, 'report', 'figures')\n",
    "\n",
    "# fix place size\n",
    "import numpy as np\n",
    "body = np.array(perf_net_vis.body)\n",
    "body[body ==  '\\tnode [fixedsize=true shape=circle width=0.75]'] = '\\tnode [fixedsize=true shape=circle width=1]'\n",
    "perf_net_vis.body = body\n",
    "\n",
    "perf_net_vis.render(os.path.join(figures_dir, 'q3_perf_petrinet'),\n",
    "                 format='pdf',\n",
    "                 view=True)"
   ]
  },
  {
   "cell_type": "markdown",
   "metadata": {},
   "source": [
    "We have annotated the petri net that was obtained in Q1 after preprocessing the log with a performance metric. The metric used is the mean time between two events."
   ]
  },
  {
   "cell_type": "markdown",
   "metadata": {},
   "source": [
    "---\n",
    "\n",
    "# b)\n",
    "> Discuss insights obtained from you analysis, for example identify bottlenecks, and discuss their impact."
   ]
  },
  {
   "cell_type": "code",
   "execution_count": null,
   "metadata": {},
   "outputs": [],
   "source": []
  }
 ],
 "metadata": {
  "kernelspec": {
   "display_name": "Python 3",
   "language": "python",
   "name": "python3"
  },
  "language_info": {
   "codemirror_mode": {
    "name": "ipython",
    "version": 3
   },
   "file_extension": ".py",
   "mimetype": "text/x-python",
   "name": "python",
   "nbconvert_exporter": "python",
   "pygments_lexer": "ipython3",
   "version": "3.6.3"
  }
 },
 "nbformat": 4,
 "nbformat_minor": 4
}
