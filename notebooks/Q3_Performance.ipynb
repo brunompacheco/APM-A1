{
 "cells": [
  {
   "cell_type": "code",
   "execution_count": 1,
   "metadata": {},
   "outputs": [
    {
     "data": {
      "text/plain": [
       "'1.3.0'"
      ]
     },
     "execution_count": 1,
     "metadata": {},
     "output_type": "execute_result"
    }
   ],
   "source": [
    "import pm4py\n",
    "pm4py.__version__"
   ]
  },
  {
   "cell_type": "markdown",
   "metadata": {},
   "source": [
    "# Performance Analysis\n",
    "\n",
    "> Which parts of the process have the biggest influence on the total case duration?\n",
    "\n",
    "## Data loading\n",
    "\n",
    "Import the log."
   ]
  },
  {
   "cell_type": "code",
   "execution_count": 42,
   "metadata": {},
   "outputs": [
    {
     "name": "stderr",
     "output_type": "stream",
     "text": [
      "/Library/Frameworks/Python.framework/Versions/3.6/lib/python3.6/site-packages/ipykernel_launcher.py:21: DeprecatedWarning: apply is deprecated as of 1.3.0 and will be removed in 2.0.0. Use algorithm entrypoint instead\n"
     ]
    }
   ],
   "source": [
    "import os\n",
    "import pandas as pd\n",
    "from pm4py.objects.conversion.log import factory as log_converter\n",
    "from pm4py.util import constants\n",
    "from pm4py.objects.log.importer.xes import importer as xes_importer\n",
    "\n",
    "PROJ_ROOT = os.path.abspath(os.path.pardir)\n",
    "data_path = os.path.join(PROJ_ROOT, 'data', 'log.csv')\n",
    "\n",
    "assert os.path.exists(data_path)\n",
    "\n",
    "df_log = pd.read_csv(data_path).rename(columns={\"Patient\":\"case:concept:name\", \"Activity\":\"concept:name\", \"Timestamp\":\"time:timestamp\"})\n",
    "\n",
    "# map dataset columns to PM4Py keys\n",
    "param_keys={constants.PARAMETER_CONSTANT_CASEID_KEY: 'case:concept:name',\n",
    "            constants.PARAMETER_CONSTANT_RESOURCE_KEY: 'Resource', \n",
    "            constants.PARAMETER_CONSTANT_ACTIVITY_KEY: 'concept:name',\n",
    "            constants.PARAMETER_CONSTANT_TIMESTAMP_KEY: 'time:timestamp',\n",
    "            constants.PARAMETER_CONSTANT_START_TIMESTAMP_KEY: 'start_timestamp'}\n",
    "\n",
    "event_log = log_converter.apply(df_log, parameters=param_keys)\n",
    "\n",
    "#event_log = xes_importer.apply(PROJ_ROOT+\"/data/processed_log.xes\")\n"
   ]
  },
  {
   "cell_type": "code",
   "execution_count": 38,
   "metadata": {},
   "outputs": [],
   "source": [
    "from pm4py.objects.petri.importer import importer as pnml_importer\n",
    "\n",
    "#import the filtered petri net obtained in Q1\n",
    "net, initial_marking, final_marking = pnml_importer.apply(PROJ_ROOT+\"/results/Q1/filtered_petri.pnml\")\n"
   ]
  },
  {
   "cell_type": "markdown",
   "metadata": {},
   "source": [
    "---\n",
    "\n",
    "# a)\n",
    "> Provide and briefly describe results of your performance analysis. Remember to also consider your current results which may give you a good entry point for a deeper analysis."
   ]
  },
  {
   "cell_type": "code",
   "execution_count": 43,
   "metadata": {
    "scrolled": true
   },
   "outputs": [
    {
     "name": "stderr",
     "output_type": "stream",
     "text": [
      "/Library/Frameworks/Python.framework/Versions/3.6/lib/python3.6/site-packages/ipykernel_launcher.py:4: DeprecatedWarning: apply is deprecated as of 1.3.0 and will be removed in 2.0.0. Use algorithm entrypoint instead\n",
      "  after removing the cwd from sys.path.\n",
      "/Library/Frameworks/Python.framework/Versions/3.6/lib/python3.6/site-packages/ipykernel_launcher.py:6: DeprecatedWarning: apply is deprecated as of 1.3.0 and will be removed in 2.0.0. Use visualizer module instead.\n",
      "  \n"
     ]
    },
    {
     "ename": "TypeError",
     "evalue": "unsupported operand type(s) for -: 'str' and 'str'",
     "output_type": "error",
     "traceback": [
      "\u001b[0;31m---------------------------------------------------------------------------\u001b[0m",
      "\u001b[0;31mTypeError\u001b[0m                                 Traceback (most recent call last)",
      "\u001b[0;32m<ipython-input-43-55ce4fbdbb79>\u001b[0m in \u001b[0;36m<module>\u001b[0;34m()\u001b[0m\n\u001b[1;32m      4\u001b[0m \u001b[0mnet\u001b[0m\u001b[0;34m,\u001b[0m \u001b[0minitial_marking\u001b[0m\u001b[0;34m,\u001b[0m \u001b[0mfinal_marking\u001b[0m \u001b[0;34m=\u001b[0m \u001b[0minductive_miner\u001b[0m\u001b[0;34m.\u001b[0m\u001b[0mapply\u001b[0m\u001b[0;34m(\u001b[0m\u001b[0mevent_log\u001b[0m\u001b[0;34m,\u001b[0m \u001b[0mparameters\u001b[0m\u001b[0;34m=\u001b[0m\u001b[0mparam_keys\u001b[0m\u001b[0;34m)\u001b[0m\u001b[0;34m\u001b[0m\u001b[0m\n\u001b[1;32m      5\u001b[0m perf_net_vis = pn_visualizer.apply(net, initial_marking,\n\u001b[0;32m----> 6\u001b[0;31m                                 final_marking=final_marking, variant=\"performance\",log=event_log)\n\u001b[0m\u001b[1;32m      7\u001b[0m \u001b[0;34m\u001b[0m\u001b[0m\n\u001b[1;32m      8\u001b[0m \u001b[0mfigures_dir\u001b[0m \u001b[0;34m=\u001b[0m \u001b[0mos\u001b[0m\u001b[0;34m.\u001b[0m\u001b[0mpath\u001b[0m\u001b[0;34m.\u001b[0m\u001b[0mjoin\u001b[0m\u001b[0;34m(\u001b[0m\u001b[0mPROJ_ROOT\u001b[0m\u001b[0;34m,\u001b[0m \u001b[0;34m'report'\u001b[0m\u001b[0;34m,\u001b[0m \u001b[0;34m'figures'\u001b[0m\u001b[0;34m)\u001b[0m\u001b[0;34m\u001b[0m\u001b[0m\n",
      "\u001b[0;32m/Users/Tom/Library/Python/3.6/lib/python/site-packages/deprecation.py\u001b[0m in \u001b[0;36m_inner\u001b[0;34m(*args, **kwargs)\u001b[0m\n\u001b[1;32m    258\u001b[0m                               stacklevel=2)\n\u001b[1;32m    259\u001b[0m \u001b[0;34m\u001b[0m\u001b[0m\n\u001b[0;32m--> 260\u001b[0;31m             \u001b[0;32mreturn\u001b[0m \u001b[0mfunction\u001b[0m\u001b[0;34m(\u001b[0m\u001b[0;34m*\u001b[0m\u001b[0margs\u001b[0m\u001b[0;34m,\u001b[0m \u001b[0;34m**\u001b[0m\u001b[0mkwargs\u001b[0m\u001b[0;34m)\u001b[0m\u001b[0;34m\u001b[0m\u001b[0m\n\u001b[0m\u001b[1;32m    261\u001b[0m         \u001b[0;32mreturn\u001b[0m \u001b[0m_inner\u001b[0m\u001b[0;34m\u001b[0m\u001b[0m\n\u001b[1;32m    262\u001b[0m     \u001b[0;32mreturn\u001b[0m \u001b[0m_function_wrapper\u001b[0m\u001b[0;34m\u001b[0m\u001b[0m\n",
      "\u001b[0;32m/Users/Tom/Library/Python/3.6/lib/python/site-packages/pm4py/visualization/petrinet/factory.py\u001b[0m in \u001b[0;36mapply\u001b[0;34m(net, initial_marking, final_marking, log, aggregated_statistics, parameters, variant)\u001b[0m\n\u001b[1;32m     40\u001b[0m         \u001b[0mlog\u001b[0m \u001b[0;34m=\u001b[0m \u001b[0mlog_conversion\u001b[0m\u001b[0;34m.\u001b[0m\u001b[0mapply\u001b[0m\u001b[0;34m(\u001b[0m\u001b[0mlog\u001b[0m\u001b[0;34m,\u001b[0m \u001b[0mparameters\u001b[0m\u001b[0;34m,\u001b[0m \u001b[0mlog_conversion\u001b[0m\u001b[0;34m.\u001b[0m\u001b[0mTO_EVENT_LOG\u001b[0m\u001b[0;34m)\u001b[0m\u001b[0;34m\u001b[0m\u001b[0m\n\u001b[1;32m     41\u001b[0m     return VERSIONS[variant](net, initial_marking, final_marking, log=log, aggregated_statistics=aggregated_statistics,\n\u001b[0;32m---> 42\u001b[0;31m                              parameters=parameters)\n\u001b[0m\u001b[1;32m     43\u001b[0m \u001b[0;34m\u001b[0m\u001b[0m\n\u001b[1;32m     44\u001b[0m \u001b[0;34m\u001b[0m\u001b[0m\n",
      "\u001b[0;32m/Users/Tom/Library/Python/3.6/lib/python/site-packages/pm4py/visualization/petrinet/versions/token_decoration.py\u001b[0m in \u001b[0;36mapply_performance\u001b[0;34m(net, initial_marking, final_marking, log, aggregated_statistics, parameters)\u001b[0m\n\u001b[1;32m    129\u001b[0m         \u001b[0;32mif\u001b[0m \u001b[0mlog\u001b[0m \u001b[0;32mis\u001b[0m \u001b[0;32mnot\u001b[0m \u001b[0;32mNone\u001b[0m\u001b[0;34m:\u001b[0m\u001b[0;34m\u001b[0m\u001b[0m\n\u001b[1;32m    130\u001b[0m             aggregated_statistics = get_decorations(log, net, initial_marking, final_marking, parameters=parameters,\n\u001b[0;32m--> 131\u001b[0;31m                                                     measure=\"performance\")\n\u001b[0m\u001b[1;32m    132\u001b[0m     return visualize.apply(net, initial_marking, final_marking, parameters=parameters,\n\u001b[1;32m    133\u001b[0m                            decorations=aggregated_statistics)\n",
      "\u001b[0;32m/Users/Tom/Library/Python/3.6/lib/python/site-packages/pm4py/visualization/petrinet/versions/token_decoration.py\u001b[0m in \u001b[0;36mget_decorations\u001b[0;34m(log, net, initial_marking, final_marking, parameters, measure, ht_perf_method)\u001b[0m\n\u001b[1;32m     60\u001b[0m                                                                    \u001b[0mactivity_key\u001b[0m\u001b[0;34m=\u001b[0m\u001b[0mactivity_key\u001b[0m\u001b[0;34m,\u001b[0m\u001b[0;34m\u001b[0m\u001b[0m\n\u001b[1;32m     61\u001b[0m                                                                    \u001b[0mtimestamp_key\u001b[0m\u001b[0;34m=\u001b[0m\u001b[0mtimestamp_key\u001b[0m\u001b[0;34m,\u001b[0m\u001b[0;34m\u001b[0m\u001b[0m\n\u001b[0;32m---> 62\u001b[0;31m                                                                    ht_perf_method=ht_perf_method)\n\u001b[0m\u001b[1;32m     63\u001b[0m \u001b[0;34m\u001b[0m\u001b[0m\n\u001b[1;32m     64\u001b[0m     aggregated_statistics = performance_map.aggregate_statistics(element_statistics, measure=measure,\n",
      "\u001b[0;32m/Users/Tom/Library/Python/3.6/lib/python/site-packages/pm4py/objects/petri/performance_map.py\u001b[0m in \u001b[0;36msingle_element_statistics\u001b[0;34m(log, net, initial_marking, aligned_traces, variants_idx, activity_key, timestamp_key, ht_perf_method, parameters)\u001b[0m\n\u001b[1;32m    207\u001b[0m                             \u001b[0;32melse\u001b[0m\u001b[0;34m:\u001b[0m\u001b[0;34m\u001b[0m\u001b[0m\n\u001b[1;32m    208\u001b[0m                                 perf = (trace[perf_couple[0]][timestamp_key] - trace[perf_couple[1]][\n\u001b[0;32m--> 209\u001b[0;31m                                     timestamp_key]).total_seconds()\n\u001b[0m\u001b[1;32m    210\u001b[0m                         \u001b[0;32melse\u001b[0m\u001b[0;34m:\u001b[0m\u001b[0;34m\u001b[0m\u001b[0m\n\u001b[1;32m    211\u001b[0m                             \u001b[0mperf\u001b[0m \u001b[0;34m=\u001b[0m \u001b[0;36m0.0\u001b[0m\u001b[0;34m\u001b[0m\u001b[0m\n",
      "\u001b[0;31mTypeError\u001b[0m: unsupported operand type(s) for -: 'str' and 'str'"
     ]
    }
   ],
   "source": [
    "from pm4py.visualization.petrinet import factory as pn_visualizer\n",
    "\n",
    "from pm4py.algo.discovery.inductive import factory as inductive_miner\n",
    "net, initial_marking, final_marking = inductive_miner.apply(event_log, parameters=param_keys)\n",
    "perf_net_vis = pn_visualizer.apply(net, initial_marking,\n",
    "                                final_marking=final_marking, variant=\"performance\",log=event_log)\n",
    "\n",
    "figures_dir = os.path.join(PROJ_ROOT, 'report', 'figures')\n",
    "\n",
    "# fix place size\n",
    "import numpy as np\n",
    "body = np.array(perf_net_vis.body)\n",
    "body[body ==  '\\tnode [fixedsize=true shape=circle width=0.75]'] = '\\tnode [fixedsize=true shape=circle width=1]'\n",
    "perf_net_vis.body = body\n",
    "\n",
    "perf_net_vis.render(os.path.join(figures_dir, 'q3_perf_petrinet'),\n",
    "                 format='pdf',\n",
    "                 view=True)"
   ]
  },
  {
   "cell_type": "markdown",
   "metadata": {},
   "source": [
    "---\n",
    "\n",
    "# b)\n",
    "> Discuss insights obtained from you analysis, for example identify bottlenecks, and discuss their impact."
   ]
  },
  {
   "cell_type": "code",
   "execution_count": null,
   "metadata": {},
   "outputs": [],
   "source": []
  }
 ],
 "metadata": {
  "kernelspec": {
   "display_name": "Python 3",
   "language": "python",
   "name": "python3"
  },
  "language_info": {
   "codemirror_mode": {
    "name": "ipython",
    "version": 3
   },
   "file_extension": ".py",
   "mimetype": "text/x-python",
   "name": "python",
   "nbconvert_exporter": "python",
   "pygments_lexer": "ipython3",
   "version": "3.6.3"
  }
 },
 "nbformat": 4,
 "nbformat_minor": 4
}
