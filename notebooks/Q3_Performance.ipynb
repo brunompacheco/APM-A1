{
 "cells": [
  {
   "cell_type": "code",
   "execution_count": 1,
   "metadata": {},
   "outputs": [
    {
     "data": {
      "text/plain": [
       "'1.2.13'"
      ]
     },
     "execution_count": 1,
     "metadata": {},
     "output_type": "execute_result"
    }
   ],
   "source": [
    "import pm4py\n",
    "pm4py.__version__"
   ]
  },
  {
   "cell_type": "markdown",
   "metadata": {},
   "source": [
    "# Performance Analysis\n",
    "\n",
    "> Which parts of the process have the biggest influence on the total case duration?\n",
    "\n",
    "## Data loading\n",
    "\n",
    "Import the log."
   ]
  },
  {
   "cell_type": "code",
   "execution_count": 26,
   "metadata": {},
   "outputs": [],
   "source": [
    "import os\n",
    "import pandas as pd\n",
    "from pm4py.objects.log.importer.xes import factory as xes_import_factory\n",
    "from pm4py.objects.petri.importer import factory as pnml_importer\n",
    "\n",
    "PROJ_ROOT = os.path.abspath(os.path.pardir)\n",
    "\n",
    "#import the renamed event log from Q1\n",
    "event_log = xes_import_factory.apply(PROJ_ROOT+\"/data/processed_log.xes\")\n",
    "\n",
    "#import the filtered petri net obtained in Q1\n",
    "pnml_path = os.path.join(PROJ_ROOT, 'results', 'Q1', 'filtered_petri.pnml')\n",
    "net, initial_marking, final_marking = pnml_importer.apply(pnml_path)"
   ]
  },
  {
   "cell_type": "markdown",
   "metadata": {},
   "source": [
    "---\n",
    "\n",
    "# a)\n",
    "> Provide and briefly describe results of your performance analysis. Remember to also consider your current results which may give you a good entry point for a deeper analysis."
   ]
  },
  {
   "cell_type": "markdown",
   "metadata": {},
   "source": [
    "We start our exploration of the process performance by evaluating the performance of single activities. At first we compute the mean activity duration for all activities, the results can be found below."
   ]
  },
  {
   "cell_type": "code",
   "execution_count": 38,
   "metadata": {},
   "outputs": [
    {
     "data": {
      "text/html": [
       "<div>\n",
       "<style scoped>\n",
       "    .dataframe tbody tr th:only-of-type {\n",
       "        vertical-align: middle;\n",
       "    }\n",
       "\n",
       "    .dataframe tbody tr th {\n",
       "        vertical-align: top;\n",
       "    }\n",
       "\n",
       "    .dataframe thead th {\n",
       "        text-align: right;\n",
       "    }\n",
       "</style>\n",
       "<table border=\"1\" class=\"dataframe\">\n",
       "  <thead>\n",
       "    <tr style=\"text-align: right;\">\n",
       "      <th></th>\n",
       "      <th>@@duration</th>\n",
       "    </tr>\n",
       "    <tr>\n",
       "      <th>Activity</th>\n",
       "      <th></th>\n",
       "    </tr>\n",
       "  </thead>\n",
       "  <tbody>\n",
       "    <tr>\n",
       "      <th>Prescripe Special Medication</th>\n",
       "      <td>3605.705128</td>\n",
       "    </tr>\n",
       "    <tr>\n",
       "      <th>Test III</th>\n",
       "      <td>1802.110398</td>\n",
       "    </tr>\n",
       "    <tr>\n",
       "      <th>Treatment A2</th>\n",
       "      <td>1797.421006</td>\n",
       "    </tr>\n",
       "    <tr>\n",
       "      <th>Treatment A1</th>\n",
       "      <td>1200.385571</td>\n",
       "    </tr>\n",
       "    <tr>\n",
       "      <th>Initial Exam</th>\n",
       "      <td>902.963092</td>\n",
       "    </tr>\n",
       "    <tr>\n",
       "      <th>Treatment B</th>\n",
       "      <td>899.318141</td>\n",
       "    </tr>\n",
       "    <tr>\n",
       "      <th>Register Facility</th>\n",
       "      <td>601.992352</td>\n",
       "    </tr>\n",
       "    <tr>\n",
       "      <th>Treatment A3</th>\n",
       "      <td>601.773109</td>\n",
       "    </tr>\n",
       "    <tr>\n",
       "      <th>Referral</th>\n",
       "      <td>600.379962</td>\n",
       "    </tr>\n",
       "    <tr>\n",
       "      <th>Register</th>\n",
       "      <td>600.366481</td>\n",
       "    </tr>\n",
       "    <tr>\n",
       "      <th>Decide Treatment</th>\n",
       "      <td>595.453510</td>\n",
       "    </tr>\n",
       "    <tr>\n",
       "      <th>Inform Authority Fill Form</th>\n",
       "      <td>480.376181</td>\n",
       "    </tr>\n",
       "    <tr>\n",
       "      <th>Discharge Test</th>\n",
       "      <td>420.648148</td>\n",
       "    </tr>\n",
       "    <tr>\n",
       "      <th>Discharge</th>\n",
       "      <td>420.069549</td>\n",
       "    </tr>\n",
       "    <tr>\n",
       "      <th>Discharge Init Exam</th>\n",
       "      <td>419.998544</td>\n",
       "    </tr>\n",
       "    <tr>\n",
       "      <th>Test III Decision</th>\n",
       "      <td>303.339597</td>\n",
       "    </tr>\n",
       "    <tr>\n",
       "      <th>Check Treatment A1</th>\n",
       "      <td>301.096200</td>\n",
       "    </tr>\n",
       "    <tr>\n",
       "      <th>Check Treatment A3</th>\n",
       "      <td>300.964041</td>\n",
       "    </tr>\n",
       "    <tr>\n",
       "      <th>Check Treatment A2</th>\n",
       "      <td>300.704586</td>\n",
       "    </tr>\n",
       "    <tr>\n",
       "      <th>Control Call</th>\n",
       "      <td>300.505525</td>\n",
       "    </tr>\n",
       "    <tr>\n",
       "      <th>Check Treatment B</th>\n",
       "      <td>300.024434</td>\n",
       "    </tr>\n",
       "    <tr>\n",
       "      <th>Initial Exam Decision</th>\n",
       "      <td>298.915433</td>\n",
       "    </tr>\n",
       "    <tr>\n",
       "      <th>Inform Authority Send Form</th>\n",
       "      <td>120.392120</td>\n",
       "    </tr>\n",
       "    <tr>\n",
       "      <th>Emergency Send 2 Facility (Wait)</th>\n",
       "      <td>0.000000</td>\n",
       "    </tr>\n",
       "    <tr>\n",
       "      <th>Inform about Isolation</th>\n",
       "      <td>0.000000</td>\n",
       "    </tr>\n",
       "  </tbody>\n",
       "</table>\n",
       "</div>"
      ],
      "text/plain": [
       "                                   @@duration\n",
       "Activity                                     \n",
       "Prescripe Special Medication      3605.705128\n",
       "Test III                          1802.110398\n",
       "Treatment A2                      1797.421006\n",
       "Treatment A1                      1200.385571\n",
       "Initial Exam                       902.963092\n",
       "Treatment B                        899.318141\n",
       "Register Facility                  601.992352\n",
       "Treatment A3                       601.773109\n",
       "Referral                           600.379962\n",
       "Register                           600.366481\n",
       "Decide Treatment                   595.453510\n",
       "Inform Authority Fill Form         480.376181\n",
       "Discharge Test                     420.648148\n",
       "Discharge                          420.069549\n",
       "Discharge Init Exam                419.998544\n",
       "Test III Decision                  303.339597\n",
       "Check Treatment A1                 301.096200\n",
       "Check Treatment A3                 300.964041\n",
       "Check Treatment A2                 300.704586\n",
       "Control Call                       300.505525\n",
       "Check Treatment B                  300.024434\n",
       "Initial Exam Decision              298.915433\n",
       "Inform Authority Send Form         120.392120\n",
       "Emergency Send 2 Facility (Wait)     0.000000\n",
       "Inform about Isolation               0.000000"
      ]
     },
     "execution_count": 38,
     "metadata": {},
     "output_type": "execute_result"
    }
   ],
   "source": [
    "df_log = pd.read_csv(PROJ_ROOT+\"/data/log.csv\")\n",
    "\n",
    "#calculate mean duration\n",
    "df_log.groupby([\"Activity\"])[[\"@@duration\"]].mean().sort_values(by=[\"@@duration\"],ascending=False)"
   ]
  },
  {
   "cell_type": "markdown",
   "metadata": {},
   "source": [
    "What we can observe here is that the _Prescripe Special Medication_ activity has by far the largest average duration. In general we see that the activities that are relatd to treatments have the longest duration. \n",
    "\n",
    "Administrative tasks like registration activities also show a long duration, while examination decisions and treatment checks have the shortest duration.\n",
    "\n",
    "In the following we will investigate if there are large changes in the duration of an activity between cases. If an activity has a small standard deviation for its duration, it suggests that the activity always requires a certain amount of time."
   ]
  },
  {
   "cell_type": "code",
   "execution_count": 69,
   "metadata": {},
   "outputs": [
    {
     "data": {
      "text/html": [
       "<div>\n",
       "<style scoped>\n",
       "    .dataframe tbody tr th:only-of-type {\n",
       "        vertical-align: middle;\n",
       "    }\n",
       "\n",
       "    .dataframe tbody tr th {\n",
       "        vertical-align: top;\n",
       "    }\n",
       "\n",
       "    .dataframe thead th {\n",
       "        text-align: right;\n",
       "    }\n",
       "</style>\n",
       "<table border=\"1\" class=\"dataframe\">\n",
       "  <thead>\n",
       "    <tr style=\"text-align: right;\">\n",
       "      <th></th>\n",
       "      <th>@@duration</th>\n",
       "    </tr>\n",
       "    <tr>\n",
       "      <th>Activity</th>\n",
       "      <th></th>\n",
       "    </tr>\n",
       "  </thead>\n",
       "  <tbody>\n",
       "    <tr>\n",
       "      <th>Prescripe Special Medication</th>\n",
       "      <td>150.465780</td>\n",
       "    </tr>\n",
       "    <tr>\n",
       "      <th>Test III</th>\n",
       "      <td>118.784907</td>\n",
       "    </tr>\n",
       "    <tr>\n",
       "      <th>Treatment A2</th>\n",
       "      <td>116.362698</td>\n",
       "    </tr>\n",
       "    <tr>\n",
       "      <th>Initial Exam</th>\n",
       "      <td>91.817365</td>\n",
       "    </tr>\n",
       "    <tr>\n",
       "      <th>Treatment A1</th>\n",
       "      <td>89.089785</td>\n",
       "    </tr>\n",
       "  </tbody>\n",
       "</table>\n",
       "</div>"
      ],
      "text/plain": [
       "                              @@duration\n",
       "Activity                                \n",
       "Prescripe Special Medication  150.465780\n",
       "Test III                      118.784907\n",
       "Treatment A2                  116.362698\n",
       "Initial Exam                   91.817365\n",
       "Treatment A1                   89.089785"
      ]
     },
     "execution_count": 69,
     "metadata": {},
     "output_type": "execute_result"
    }
   ],
   "source": [
    "#calculate the standard deviaiton in durration for all activities\n",
    "df_log.groupby([\"Activity\"])[[\"@@duration\"]].std().sort_values(by=[\"@@duration\"],ascending=False).head()\n"
   ]
  },
  {
   "cell_type": "markdown",
   "metadata": {},
   "source": [
    "All of the standard deviations are small considering the overall duration of the activities, this means that there is not much variation in the time that is required for a specific activity in between cases."
   ]
  },
  {
   "cell_type": "code",
   "execution_count": 24,
   "metadata": {
    "scrolled": true
   },
   "outputs": [
    {
     "data": {
      "text/plain": [
       "'/Users/Tom/Documents/Uni/4. Semester M/Advanced Process Mining/Assignments/Assignment 1/APM-A1/report/figures/q3_perf_petrinet.pdf'"
      ]
     },
     "execution_count": 24,
     "metadata": {},
     "output_type": "execute_result"
    }
   ],
   "source": [
    "from pm4py.visualization.petrinet import factory as pn_visualizer\n",
    "from pm4py.algo.discovery.inductive import factory as inductive_miner\n",
    "\n",
    "#annotate the mined petri net with performance measures\n",
    "perf_net_vis = pn_visualizer.apply(net, initial_marking, final_marking=final_marking,\n",
    "                                   variant=pn_visualizer.PERFORMANCE_DECORATION, log=event_log,\n",
    "                                   parameters=param_keys)\n",
    "\n",
    "figures_dir = os.path.join(PROJ_ROOT, 'report', 'figures')\n",
    "\n",
    "# fix place size\n",
    "import numpy as np\n",
    "body = np.array(perf_net_vis.body)\n",
    "body[body ==  '\\tnode [fixedsize=true shape=circle width=0.75]'] = '\\tnode [fixedsize=true shape=circle width=1]'\n",
    "perf_net_vis.body = body\n",
    "\n",
    "perf_net_vis.render(os.path.join(figures_dir, 'q3_perf_petrinet'),\n",
    "                 format='pdf',\n",
    "                 view=True)"
   ]
  },
  {
   "cell_type": "markdown",
   "metadata": {},
   "source": [
    "We have annotated the petri net that was obtained in Q1 after preprocessing the log with a performance metric. The metric used is the mean time between two events."
   ]
  },
  {
   "cell_type": "code",
   "execution_count": 72,
   "metadata": {},
   "outputs": [],
   "source": [
    "#from pm4py.algo.filtering.log.cases import case_filter\n",
    "\n",
    "#filtered_log = case_filter.filter_on_case_performance(event_log, 86400, 864000)\n",
    "#len(filtered_log)"
   ]
  },
  {
   "cell_type": "markdown",
   "metadata": {},
   "source": [
    "---\n",
    "\n",
    "# b)\n",
    "> Discuss insights obtained from you analysis, for example identify bottlenecks, and discuss their impact."
   ]
  },
  {
   "cell_type": "code",
   "execution_count": null,
   "metadata": {},
   "outputs": [],
   "source": []
  }
 ],
 "metadata": {
  "kernelspec": {
   "display_name": "Python 3",
   "language": "python",
   "name": "python3"
  },
  "language_info": {
   "codemirror_mode": {
    "name": "ipython",
    "version": 3
   },
   "file_extension": ".py",
   "mimetype": "text/x-python",
   "name": "python",
   "nbconvert_exporter": "python",
   "pygments_lexer": "ipython3",
   "version": "3.6.3"
  }
 },
 "nbformat": 4,
 "nbformat_minor": 4
}
