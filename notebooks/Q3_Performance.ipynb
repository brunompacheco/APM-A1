{
 "cells": [
  {
   "cell_type": "code",
   "execution_count": 1,
   "metadata": {},
   "outputs": [
    {
     "data": {
      "text/plain": [
       "'1.3.0'"
      ]
     },
     "execution_count": 1,
     "metadata": {},
     "output_type": "execute_result"
    }
   ],
   "source": [
    "import pm4py\n",
    "pm4py.__version__"
   ]
  },
  {
   "cell_type": "markdown",
   "metadata": {},
   "source": [
    "# Performance Analysis\n",
    "\n",
    "> Which parts of the process have the biggest influence on the total case duration?\n",
    "\n",
    "## Data loading\n",
    "\n",
    "Import the log."
   ]
  },
  {
   "cell_type": "code",
   "execution_count": 33,
   "metadata": {},
   "outputs": [
    {
     "name": "stderr",
     "output_type": "stream",
     "text": [
      "/Library/Frameworks/Python.framework/Versions/3.6/lib/python3.6/site-packages/ipykernel_launcher.py:21: DeprecatedWarning: apply is deprecated as of 1.3.0 and will be removed in 2.0.0. Use algorithm entrypoint instead\n"
     ]
    }
   ],
   "source": [
    "import os\n",
    "import pandas as pd\n",
    "from pm4py.objects.conversion.log import factory as log_converter\n",
    "from pm4py.util import constants\n",
    "from pm4py.objects.log.importer.xes import importer as xes_importer\n",
    "\n",
    "PROJ_ROOT = os.path.abspath(os.path.pardir)\n",
    "data_path = os.path.join(PROJ_ROOT, 'data', 'log.csv')\n",
    "\n",
    "assert os.path.exists(data_path)\n",
    "\n",
    "df_log = pd.read_csv(data_path)\n",
    "\n",
    "# map dataset columns to PM4Py keys\n",
    "param_keys={constants.PARAMETER_CONSTANT_CASEID_KEY: 'Patient',\n",
    "            constants.PARAMETER_CONSTANT_RESOURCE_KEY: 'Resource', \n",
    "            constants.PARAMETER_CONSTANT_ACTIVITY_KEY: 'Activity',\n",
    "            constants.PARAMETER_CONSTANT_TIMESTAMP_KEY: 'Timestamp',\n",
    "            constants.PARAMETER_CONSTANT_START_TIMESTAMP_KEY: 'start_timestamp'}\n",
    "\n",
    "event_log = log_converter.apply(df_log, parameters=param_keys)\n",
    "\n",
    "#event_log = xes_importer.apply(PROJ_ROOT+\"/data/processed_log.xes\")\n"
   ]
  },
  {
   "cell_type": "code",
   "execution_count": 23,
   "metadata": {},
   "outputs": [],
   "source": [
    "from pm4py.objects.petri.importer import importer as pnml_importer\n",
    "\n",
    "#import the filtered petri net obtained in Q1\n",
    "net, initial_marking, final_marking = pnml_importer.apply(PROJ_ROOT+\"/results/Q1/filtered_petri.pnml\")\n"
   ]
  },
  {
   "cell_type": "markdown",
   "metadata": {},
   "source": [
    "---\n",
    "\n",
    "# a)\n",
    "> Provide and briefly describe results of your performance analysis. Remember to also consider your current results which may give you a good entry point for a deeper analysis."
   ]
  },
  {
   "cell_type": "code",
   "execution_count": 34,
   "metadata": {},
   "outputs": [
    {
     "name": "stdout",
     "output_type": "stream",
     "text": [
      "1500\n",
      "[{'variant': '', 'count': 1500}]\n"
     ]
    }
   ],
   "source": [
    "print(len(event_log))\n",
    "from pm4py.statistics.traces.log import case_statistics\n",
    "\n",
    "print(case_statistics.get_variant_statistics(event_log))\n"
   ]
  },
  {
   "cell_type": "code",
   "execution_count": 29,
   "metadata": {},
   "outputs": [
    {
     "name": "stderr",
     "output_type": "stream",
     "text": [
      "/Library/Frameworks/Python.framework/Versions/3.6/lib/python3.6/site-packages/ipykernel_launcher.py:6: DeprecatedWarning: apply is deprecated as of 1.3.0 and will be removed in 2.0.0. Use visualizer module instead.\n",
      "  \n"
     ]
    },
    {
     "ename": "NoConceptNameException",
     "evalue": "at least an event is without concept:name",
     "output_type": "error",
     "traceback": [
      "\u001b[0;31m---------------------------------------------------------------------------\u001b[0m",
      "\u001b[0;31mNoConceptNameException\u001b[0m                    Traceback (most recent call last)",
      "\u001b[0;32m<ipython-input-29-f7a863693ae7>\u001b[0m in \u001b[0;36m<module>\u001b[0;34m()\u001b[0m\n\u001b[1;32m      4\u001b[0m \u001b[0;31m#net, initial_marking, final_marking = inductive_miner.apply(event_log, parameters=param_keys)\u001b[0m\u001b[0;34m\u001b[0m\u001b[0;34m\u001b[0m\u001b[0m\n\u001b[1;32m      5\u001b[0m perf_net_vis = pn_visualizer.apply(net, initial_marking,\n\u001b[0;32m----> 6\u001b[0;31m                                 final_marking=final_marking, variant=\"frequency\",log=event_log)\n\u001b[0m\u001b[1;32m      7\u001b[0m \u001b[0;34m\u001b[0m\u001b[0m\n\u001b[1;32m      8\u001b[0m \u001b[0mfigures_dir\u001b[0m \u001b[0;34m=\u001b[0m \u001b[0mos\u001b[0m\u001b[0;34m.\u001b[0m\u001b[0mpath\u001b[0m\u001b[0;34m.\u001b[0m\u001b[0mjoin\u001b[0m\u001b[0;34m(\u001b[0m\u001b[0mPROJ_ROOT\u001b[0m\u001b[0;34m,\u001b[0m \u001b[0;34m'report'\u001b[0m\u001b[0;34m,\u001b[0m \u001b[0;34m'figures'\u001b[0m\u001b[0;34m)\u001b[0m\u001b[0;34m\u001b[0m\u001b[0m\n",
      "\u001b[0;32m/Users/Tom/Library/Python/3.6/lib/python/site-packages/deprecation.py\u001b[0m in \u001b[0;36m_inner\u001b[0;34m(*args, **kwargs)\u001b[0m\n\u001b[1;32m    258\u001b[0m                               stacklevel=2)\n\u001b[1;32m    259\u001b[0m \u001b[0;34m\u001b[0m\u001b[0m\n\u001b[0;32m--> 260\u001b[0;31m             \u001b[0;32mreturn\u001b[0m \u001b[0mfunction\u001b[0m\u001b[0;34m(\u001b[0m\u001b[0;34m*\u001b[0m\u001b[0margs\u001b[0m\u001b[0;34m,\u001b[0m \u001b[0;34m**\u001b[0m\u001b[0mkwargs\u001b[0m\u001b[0;34m)\u001b[0m\u001b[0;34m\u001b[0m\u001b[0m\n\u001b[0m\u001b[1;32m    261\u001b[0m         \u001b[0;32mreturn\u001b[0m \u001b[0m_inner\u001b[0m\u001b[0;34m\u001b[0m\u001b[0m\n\u001b[1;32m    262\u001b[0m     \u001b[0;32mreturn\u001b[0m \u001b[0m_function_wrapper\u001b[0m\u001b[0;34m\u001b[0m\u001b[0m\n",
      "\u001b[0;32m/Users/Tom/Library/Python/3.6/lib/python/site-packages/pm4py/visualization/petrinet/factory.py\u001b[0m in \u001b[0;36mapply\u001b[0;34m(net, initial_marking, final_marking, log, aggregated_statistics, parameters, variant)\u001b[0m\n\u001b[1;32m     40\u001b[0m         \u001b[0mlog\u001b[0m \u001b[0;34m=\u001b[0m \u001b[0mlog_conversion\u001b[0m\u001b[0;34m.\u001b[0m\u001b[0mapply\u001b[0m\u001b[0;34m(\u001b[0m\u001b[0mlog\u001b[0m\u001b[0;34m,\u001b[0m \u001b[0mparameters\u001b[0m\u001b[0;34m,\u001b[0m \u001b[0mlog_conversion\u001b[0m\u001b[0;34m.\u001b[0m\u001b[0mTO_EVENT_LOG\u001b[0m\u001b[0;34m)\u001b[0m\u001b[0;34m\u001b[0m\u001b[0m\n\u001b[1;32m     41\u001b[0m     return VERSIONS[variant](net, initial_marking, final_marking, log=log, aggregated_statistics=aggregated_statistics,\n\u001b[0;32m---> 42\u001b[0;31m                              parameters=parameters)\n\u001b[0m\u001b[1;32m     43\u001b[0m \u001b[0;34m\u001b[0m\u001b[0m\n\u001b[1;32m     44\u001b[0m \u001b[0;34m\u001b[0m\u001b[0m\n",
      "\u001b[0;32m/Users/Tom/Library/Python/3.6/lib/python/site-packages/pm4py/visualization/petrinet/versions/token_decoration.py\u001b[0m in \u001b[0;36mapply_frequency\u001b[0;34m(net, initial_marking, final_marking, log, aggregated_statistics, parameters)\u001b[0m\n\u001b[1;32m     96\u001b[0m         \u001b[0;32mif\u001b[0m \u001b[0mlog\u001b[0m \u001b[0;32mis\u001b[0m \u001b[0;32mnot\u001b[0m \u001b[0;32mNone\u001b[0m\u001b[0;34m:\u001b[0m\u001b[0;34m\u001b[0m\u001b[0m\n\u001b[1;32m     97\u001b[0m             aggregated_statistics = get_decorations(log, net, initial_marking, final_marking, parameters=parameters,\n\u001b[0;32m---> 98\u001b[0;31m                                                     measure=\"frequency\")\n\u001b[0m\u001b[1;32m     99\u001b[0m     return visualize.apply(net, initial_marking, final_marking, parameters=parameters,\n\u001b[1;32m    100\u001b[0m                            decorations=aggregated_statistics)\n",
      "\u001b[0;32m/Users/Tom/Library/Python/3.6/lib/python/site-packages/pm4py/visualization/petrinet/versions/token_decoration.py\u001b[0m in \u001b[0;36mget_decorations\u001b[0;34m(log, net, initial_marking, final_marking, parameters, measure, ht_perf_method)\u001b[0m\n\u001b[1;32m     51\u001b[0m \u001b[0;34m\u001b[0m\u001b[0m\n\u001b[1;32m     52\u001b[0m     \u001b[0;31m# do the replay\u001b[0m\u001b[0;34m\u001b[0m\u001b[0;34m\u001b[0m\u001b[0m\n\u001b[0;32m---> 53\u001b[0;31m     \u001b[0maligned_traces\u001b[0m \u001b[0;34m=\u001b[0m \u001b[0mtoken_replay\u001b[0m\u001b[0;34m.\u001b[0m\u001b[0mapply\u001b[0m\u001b[0;34m(\u001b[0m\u001b[0mlog\u001b[0m\u001b[0;34m,\u001b[0m \u001b[0mnet\u001b[0m\u001b[0;34m,\u001b[0m \u001b[0minitial_marking\u001b[0m\u001b[0;34m,\u001b[0m \u001b[0mfinal_marking\u001b[0m\u001b[0;34m,\u001b[0m \u001b[0mparameters\u001b[0m\u001b[0;34m=\u001b[0m\u001b[0mparameters_tr\u001b[0m\u001b[0;34m)\u001b[0m\u001b[0;34m\u001b[0m\u001b[0m\n\u001b[0m\u001b[1;32m     54\u001b[0m \u001b[0;34m\u001b[0m\u001b[0m\n\u001b[1;32m     55\u001b[0m     \u001b[0;31m# apply petri_reduction technique in order to simplify the Petri net\u001b[0m\u001b[0;34m\u001b[0m\u001b[0;34m\u001b[0m\u001b[0m\n",
      "\u001b[0;32m/Users/Tom/Library/Python/3.6/lib/python/site-packages/pm4py/algo/conformance/tokenreplay/algorithm.py\u001b[0m in \u001b[0;36mapply\u001b[0;34m(log, net, initial_marking, final_marking, parameters, variant)\u001b[0m\n\u001b[1;32m     37\u001b[0m         \u001b[0mparameters\u001b[0m \u001b[0;34m=\u001b[0m \u001b[0;34m{\u001b[0m\u001b[0;34m}\u001b[0m\u001b[0;34m\u001b[0m\u001b[0m\n\u001b[1;32m     38\u001b[0m     return exec_utils.get_variant(variant).apply(log_converter.apply(log, parameters, log_converter.TO_EVENT_LOG), net, initial_marking,\n\u001b[0;32m---> 39\u001b[0;31m                              final_marking, parameters=parameters)\n\u001b[0m",
      "\u001b[0;32m/Users/Tom/Library/Python/3.6/lib/python/site-packages/pm4py/algo/conformance/tokenreplay/versions/token_replay.py\u001b[0m in \u001b[0;36mapply\u001b[0;34m(log, net, initial_marking, final_marking, parameters)\u001b[0m\n\u001b[1;32m   1099\u001b[0m                      \u001b[0mvariants\u001b[0m\u001b[0;34m=\u001b[0m\u001b[0mvariants\u001b[0m\u001b[0;34m,\u001b[0m \u001b[0mis_reduction\u001b[0m\u001b[0;34m=\u001b[0m\u001b[0mis_reduction\u001b[0m\u001b[0;34m,\u001b[0m \u001b[0mthread_maximum_ex_time\u001b[0m\u001b[0;34m=\u001b[0m\u001b[0mthread_maximum_ex_time\u001b[0m\u001b[0;34m,\u001b[0m\u001b[0;34m\u001b[0m\u001b[0m\n\u001b[1;32m   1100\u001b[0m                      \u001b[0mcleaning_token_flood\u001b[0m\u001b[0;34m=\u001b[0m\u001b[0mcleaning_token_flood\u001b[0m\u001b[0;34m,\u001b[0m \u001b[0mdisable_variants\u001b[0m\u001b[0;34m=\u001b[0m\u001b[0mdisable_variants\u001b[0m\u001b[0;34m,\u001b[0m\u001b[0;34m\u001b[0m\u001b[0m\n\u001b[0;32m-> 1101\u001b[0;31m                      return_object_names=return_names)\n\u001b[0m\u001b[1;32m   1102\u001b[0m \u001b[0;34m\u001b[0m\u001b[0m\n\u001b[1;32m   1103\u001b[0m \u001b[0;34m\u001b[0m\u001b[0m\n",
      "\u001b[0;32m/Users/Tom/Library/Python/3.6/lib/python/site-packages/pm4py/algo/conformance/tokenreplay/versions/token_replay.py\u001b[0m in \u001b[0;36mapply_log\u001b[0;34m(log, net, initial_marking, final_marking, enable_pltr_fitness, consider_remaining_in_fitness, activity_key, reach_mark_through_hidden, stop_immediately_unfit, walk_through_hidden_trans, places_shortest_path_by_hidden, variants, is_reduction, thread_maximum_ex_time, cleaning_token_flood, disable_variants, return_object_names)\u001b[0m\n\u001b[1;32m   1044\u001b[0m                         \u001b[0maligned_traces\u001b[0m\u001b[0;34m.\u001b[0m\u001b[0mappend\u001b[0m\u001b[0;34m(\u001b[0m\u001b[0mt\u001b[0m\u001b[0;34m)\u001b[0m\u001b[0;34m\u001b[0m\u001b[0m\n\u001b[1;32m   1045\u001b[0m             \u001b[0;32melse\u001b[0m\u001b[0;34m:\u001b[0m\u001b[0;34m\u001b[0m\u001b[0m\n\u001b[0;32m-> 1046\u001b[0;31m                 \u001b[0;32mraise\u001b[0m \u001b[0mNoConceptNameException\u001b[0m\u001b[0;34m(\u001b[0m\u001b[0;34m\"at least an event is without \"\u001b[0m \u001b[0;34m+\u001b[0m \u001b[0mactivity_key\u001b[0m\u001b[0;34m)\u001b[0m\u001b[0;34m\u001b[0m\u001b[0m\n\u001b[0m\u001b[1;32m   1047\u001b[0m \u001b[0;34m\u001b[0m\u001b[0m\n\u001b[1;32m   1048\u001b[0m     \u001b[0;32mif\u001b[0m \u001b[0menable_pltr_fitness\u001b[0m\u001b[0;34m:\u001b[0m\u001b[0;34m\u001b[0m\u001b[0m\n",
      "\u001b[0;31mNoConceptNameException\u001b[0m: at least an event is without concept:name"
     ]
    }
   ],
   "source": [
    "from pm4py.visualization.petrinet import factory as pn_visualizer\n",
    "\n",
    "from pm4py.algo.discovery.inductive import factory as inductive_miner\n",
    "#net, initial_marking, final_marking = inductive_miner.apply(event_log, parameters=param_keys)\n",
    "perf_net_vis = pn_visualizer.apply(net, initial_marking,\n",
    "                                final_marking=final_marking, variant=\"frequency\",log=event_log)\n",
    "\n",
    "figures_dir = os.path.join(PROJ_ROOT, 'report', 'figures')\n",
    "\n",
    "# fix place size\n",
    "import numpy as np\n",
    "body = np.array(perf_net_vis.body)\n",
    "body[body ==  '\\tnode [fixedsize=true shape=circle width=0.75]'] = '\\tnode [fixedsize=true shape=circle width=1]'\n",
    "perf_net_vis.body = body\n",
    "\n",
    "perf_net_vis.render(os.path.join(figures_dir, 'q3_perf_petrinet'),\n",
    "                 format='pdf',\n",
    "                 view=True)"
   ]
  },
  {
   "cell_type": "markdown",
   "metadata": {},
   "source": [
    "---\n",
    "\n",
    "# b)\n",
    "> Discuss insights obtained from you analysis, for example identify bottlenecks, and discuss their impact."
   ]
  },
  {
   "cell_type": "code",
   "execution_count": null,
   "metadata": {},
   "outputs": [],
   "source": []
  }
 ],
 "metadata": {
  "kernelspec": {
   "display_name": "Python 3",
   "language": "python",
   "name": "python3"
  },
  "language_info": {
   "codemirror_mode": {
    "name": "ipython",
    "version": 3
   },
   "file_extension": ".py",
   "mimetype": "text/x-python",
   "name": "python",
   "nbconvert_exporter": "python",
   "pygments_lexer": "ipython3",
   "version": "3.6.3"
  }
 },
 "nbformat": 4,
 "nbformat_minor": 4
}
