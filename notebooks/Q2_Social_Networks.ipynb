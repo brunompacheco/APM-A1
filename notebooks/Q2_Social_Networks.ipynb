{
 "cells": [
  {
   "cell_type": "code",
   "execution_count": 1,
   "metadata": {},
   "outputs": [
    {
     "data": {
      "text/plain": [
       "'1.3.0'"
      ]
     },
     "execution_count": 1,
     "metadata": {},
     "output_type": "execute_result"
    }
   ],
   "source": [
    "import pm4py\n",
    "pm4py.__version__"
   ]
  },
  {
   "cell_type": "markdown",
   "metadata": {},
   "source": [
    "# Social Network Analysis\n",
    "\n",
    "> Discover the organizational perspective of the process. For each of the following networks, try to find a clear organizational structure and discuss the structure obtained. If no clear structure is to be found, explain why this is the case.\n",
    "\n",
    "## Data loading\n",
    "\n",
    "Import the log."
   ]
  },
  {
   "cell_type": "code",
   "execution_count": 10,
   "metadata": {},
   "outputs": [
    {
     "name": "stderr",
     "output_type": "stream",
     "text": [
      "/Library/Frameworks/Python.framework/Versions/3.6/lib/python3.6/site-packages/ipykernel_launcher.py:20: DeprecatedWarning: apply is deprecated as of 1.3.0 and will be removed in 2.0.0. Use algorithm entrypoint instead\n"
     ]
    }
   ],
   "source": [
    "import os\n",
    "import pandas as pd\n",
    "from pm4py.objects.conversion.log import factory as log_converter\n",
    "from pm4py.util import constants\n",
    "\n",
    "PROJ_ROOT = os.path.abspath(os.path.pardir)\n",
    "data_path = os.path.join(PROJ_ROOT, 'data', 'log.csv')\n",
    "\n",
    "assert os.path.exists(data_path)\n",
    "\n",
    "df_log = pd.read_csv(data_path)\n",
    "\n",
    "# map dataset columns to PM4Py keys\n",
    "param_keys={constants.PARAMETER_CONSTANT_CASEID_KEY: 'Patient',\n",
    "            constants.PARAMETER_CONSTANT_RESOURCE_KEY: 'Resource', \n",
    "            constants.PARAMETER_CONSTANT_ACTIVITY_KEY: 'Activity',\n",
    "            constants.PARAMETER_CONSTANT_TIMESTAMP_KEY: 'Timestamp',\n",
    "            constants.PARAMETER_CONSTANT_START_TIMESTAMP_KEY: 'start_timestamp'}\n",
    "\n",
    "event_log = log_converter.apply(df_log, parameters=param_keys)"
   ]
  },
  {
   "cell_type": "markdown",
   "metadata": {},
   "source": [
    "---\n",
    "\n",
    "# a)\n",
    "> Handover-of-Work Social Network"
   ]
  },
  {
   "cell_type": "code",
   "execution_count": 16,
   "metadata": {},
   "outputs": [],
   "source": [
    "# define the path where the resulting networks will be stored\n",
    "RESULT_PATH = os.path.join(PROJ_ROOT, 'results/Q2/')"
   ]
  },
  {
   "cell_type": "code",
   "execution_count": 17,
   "metadata": {},
   "outputs": [
    {
     "name": "stderr",
     "output_type": "stream",
     "text": [
      "/Library/Frameworks/Python.framework/Versions/3.6/lib/python3.6/site-packages/ipykernel_launcher.py:4: DeprecatedWarning: apply is deprecated as of 1.3.0 and will be removed in 2.0.0. Use algorithm entrypoint instead\n",
      "  after removing the cwd from sys.path.\n",
      "/Library/Frameworks/Python.framework/Versions/3.6/lib/python3.6/site-packages/ipykernel_launcher.py:7: DeprecatedWarning: apply is deprecated as of 1.3.0 and will be removed in 2.0.0. Use visualizer module instead.\n",
      "  import sys\n",
      "/Library/Frameworks/Python.framework/Versions/3.6/lib/python3.6/site-packages/ipykernel_launcher.py:10: DeprecatedWarning: save is deprecated as of 1.3.0 and will be removed in 2.0.0. Use visualizer module instead.\n",
      "  # Remove the CWD from sys.path while we load stuff.\n"
     ]
    }
   ],
   "source": [
    "from pm4py.algo.enhancement.sna import factory as sna_factory\n",
    "from pm4py.visualization.sna import factory as sna_vis_factory\n",
    "\n",
    "#discover the network\n",
    "handover_net = sna_factory.apply(event_log, parameters=param_keys, variant=\"handover\")\n",
    "\n",
    "#create a visualization of the network\n",
    "handover_viz = sna_vis_factory.apply(handover_net, variant=\"pyvis\")\n",
    "\n",
    "#save the visualization of the discovered network\n",
    "sna_vis_factory.save(handover_viz, RESULT_PATH+\"handover_net.html\", variant=\"pyvis\")\n"
   ]
  },
  {
   "cell_type": "markdown",
   "metadata": {},
   "source": [
    "As the pyvis interactive visualization cannot be embedded, the discovered network is shown below in the form of an image. The real network can be found in the results/Q2 folder.\n",
    "\n",
    "![](../report/figures/q2_handover.png)"
   ]
  },
  {
   "cell_type": "markdown",
   "metadata": {},
   "source": [
    "---\n",
    "\n",
    "# b)\n",
    "> Subcontracting Social Network"
   ]
  },
  {
   "cell_type": "code",
   "execution_count": 18,
   "metadata": {},
   "outputs": [
    {
     "name": "stderr",
     "output_type": "stream",
     "text": [
      "/Library/Frameworks/Python.framework/Versions/3.6/lib/python3.6/site-packages/ipykernel_launcher.py:2: DeprecatedWarning: apply is deprecated as of 1.3.0 and will be removed in 2.0.0. Use algorithm entrypoint instead\n",
      "  \n",
      "/Library/Frameworks/Python.framework/Versions/3.6/lib/python3.6/site-packages/ipykernel_launcher.py:5: DeprecatedWarning: apply is deprecated as of 1.3.0 and will be removed in 2.0.0. Use visualizer module instead.\n",
      "  \"\"\"\n",
      "/Library/Frameworks/Python.framework/Versions/3.6/lib/python3.6/site-packages/ipykernel_launcher.py:8: DeprecatedWarning: save is deprecated as of 1.3.0 and will be removed in 2.0.0. Use visualizer module instead.\n",
      "  \n"
     ]
    }
   ],
   "source": [
    "#discover the network\n",
    "subcontracting_net = sna_factory.apply(event_log, parameters=param_keys, variant=\"subcontracting\")\n",
    "\n",
    "#create a visualization of the network\n",
    "subcontracting_viz = sna_vis_factory.apply(subcontracting_net, variant=\"pyvis\")\n",
    "\n",
    "#save the visualization of the discovered network\n",
    "sna_vis_factory.save(subcontracting_viz, RESULT_PATH+\"subcontracting_net.html\", variant=\"pyvis\")"
   ]
  },
  {
   "cell_type": "markdown",
   "metadata": {},
   "source": [
    "As the pyvis interactive visualization cannot be embedded, the discovered network is shown below in the form of an image. The real network can be found in the results/Q2 folder.\n",
    "\n",
    "![](../report/figures/q2_subcontracting.png)"
   ]
  },
  {
   "cell_type": "markdown",
   "metadata": {},
   "source": [
    "---\n",
    "\n",
    "# c)\n",
    "> Working-Together Social Network"
   ]
  },
  {
   "cell_type": "code",
   "execution_count": 19,
   "metadata": {},
   "outputs": [
    {
     "name": "stderr",
     "output_type": "stream",
     "text": [
      "/Library/Frameworks/Python.framework/Versions/3.6/lib/python3.6/site-packages/ipykernel_launcher.py:2: DeprecatedWarning: apply is deprecated as of 1.3.0 and will be removed in 2.0.0. Use algorithm entrypoint instead\n",
      "  \n",
      "/Library/Frameworks/Python.framework/Versions/3.6/lib/python3.6/site-packages/ipykernel_launcher.py:5: DeprecatedWarning: apply is deprecated as of 1.3.0 and will be removed in 2.0.0. Use visualizer module instead.\n",
      "  \"\"\"\n",
      "/Library/Frameworks/Python.framework/Versions/3.6/lib/python3.6/site-packages/ipykernel_launcher.py:8: DeprecatedWarning: save is deprecated as of 1.3.0 and will be removed in 2.0.0. Use visualizer module instead.\n",
      "  \n"
     ]
    }
   ],
   "source": [
    "#discover the network\n",
    "working_together_net = sna_factory.apply(event_log, parameters=param_keys, variant=\"working_together\")\n",
    "\n",
    "#create a visualization of the network\n",
    "working_together_viz = sna_vis_factory.apply(working_together_net, variant=\"pyvis\")\n",
    "\n",
    "#save the visualization of the discovered network\n",
    "sna_vis_factory.save(working_together_viz, RESULT_PATH+\"working_together_net.html\", variant=\"pyvis\")"
   ]
  },
  {
   "cell_type": "markdown",
   "metadata": {},
   "source": [
    "As the pyvis interactive visualization cannot be embedded, the discovered network is shown below in the form of an image. The real network can be found in the results/Q2 folder.\n",
    "\n",
    "![](../report/figures/q2_working_together.png)"
   ]
  },
  {
   "cell_type": "markdown",
   "metadata": {},
   "source": [
    "--- \n",
    "\n",
    "# d)\n",
    "> Joint-Activity Network"
   ]
  },
  {
   "cell_type": "code",
   "execution_count": 20,
   "metadata": {},
   "outputs": [
    {
     "name": "stderr",
     "output_type": "stream",
     "text": [
      "/Library/Frameworks/Python.framework/Versions/3.6/lib/python3.6/site-packages/ipykernel_launcher.py:2: DeprecatedWarning: apply is deprecated as of 1.3.0 and will be removed in 2.0.0. Use algorithm entrypoint instead\n",
      "  \n",
      "/Library/Frameworks/Python.framework/Versions/3.6/lib/python3.6/site-packages/ipykernel_launcher.py:5: DeprecatedWarning: apply is deprecated as of 1.3.0 and will be removed in 2.0.0. Use visualizer module instead.\n",
      "  \"\"\"\n",
      "/Library/Frameworks/Python.framework/Versions/3.6/lib/python3.6/site-packages/ipykernel_launcher.py:8: DeprecatedWarning: save is deprecated as of 1.3.0 and will be removed in 2.0.0. Use visualizer module instead.\n",
      "  \n"
     ]
    }
   ],
   "source": [
    "#discover the network\n",
    "jointactivities_net = sna_factory.apply(event_log, parameters=param_keys, variant=\"jointactivities\")\n",
    "\n",
    "#create a visualization of the network\n",
    "jointactivities_viz = sna_vis_factory.apply(jointactivities_net, variant=\"pyvis\")\n",
    "\n",
    "#save the visualization of the discovered network\n",
    "sna_vis_factory.save(jointactivities_viz, RESULT_PATH+\"jointactivities_net.html\", variant=\"pyvis\")"
   ]
  },
  {
   "cell_type": "markdown",
   "metadata": {},
   "source": [
    "As the pyvis interactive visualization cannot be embedded, the discovered network is shown below in the form of an image. The real network can be found in the results/Q2 folder.\n",
    "\n",
    "![](../report/figures/q2_jointactivities.png)"
   ]
  },
  {
   "cell_type": "code",
   "execution_count": null,
   "metadata": {},
   "outputs": [],
   "source": []
  }
 ],
 "metadata": {
  "kernelspec": {
   "display_name": "Python 3",
   "language": "python",
   "name": "python3"
  },
  "language_info": {
   "codemirror_mode": {
    "name": "ipython",
    "version": 3
   },
   "file_extension": ".py",
   "mimetype": "text/x-python",
   "name": "python",
   "nbconvert_exporter": "python",
   "pygments_lexer": "ipython3",
   "version": "3.6.3"
  }
 },
 "nbformat": 4,
 "nbformat_minor": 4
}
