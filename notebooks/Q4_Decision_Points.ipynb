{
 "cells": [
  {
   "cell_type": "code",
   "execution_count": 1,
   "metadata": {},
   "outputs": [
    {
     "data": {
      "text/plain": [
       "'1.2.13'"
      ]
     },
     "execution_count": 1,
     "metadata": {},
     "output_type": "execute_result"
    }
   ],
   "source": [
    "import pm4py\n",
    "pm4py.__version__"
   ]
  },
  {
   "cell_type": "markdown",
   "metadata": {},
   "source": [
    "# Decision Points\n",
    "\n",
    "> Investigate how patients are referred for further treatment by means of a decision tree. Describe the factors that you observe.\n",
    "\n",
    "## Data loading\n",
    "\n",
    "Import the log."
   ]
  },
  {
   "cell_type": "code",
   "execution_count": 5,
   "metadata": {},
   "outputs": [],
   "source": [
    "import os\n",
    "import pandas as pd\n",
    "from pm4py.objects.log.importer.xes import factory as xes_import_factory\n",
    "from pm4py.objects.petri.importer import factory as pnml_importer\n",
    "\n",
    "PROJ_ROOT = os.path.abspath(os.path.pardir)\n",
    "\n",
    "#import the renamed event log from Q1\n",
    "event_log = xes_import_factory.apply(PROJ_ROOT+\"/data/processed_log.xes\")"
   ]
  },
  {
   "cell_type": "markdown",
   "metadata": {},
   "source": [
    "---\n",
    "\n",
    "# a)\n",
    "> Create a decision tree of reasonable complexity using the available attributes in the log. "
   ]
  },
  {
   "cell_type": "code",
   "execution_count": 7,
   "metadata": {},
   "outputs": [],
   "source": [
    "from pm4py.objects.log.util import get_log_representation\n",
    "from pm4py.objects.log.util import get_class_representation\n",
    "\n",
    "# preprocess the log for decision tree mining\n",
    "str_trace_attributes = [\"Insurance\"]\n",
    "str_event_attributes = [\"Resource\", \"Activity\"]\n",
    "num_trace_attributes = [\"Age\"]\n",
    "num_event_attributes = [\"@@duration\"]\n",
    "\n",
    "data, feature_names = get_log_representation.get_representation(event_log, str_trace_attributes, str_event_attributes,\n",
    "                                                              num_trace_attributes, num_event_attributes)\n",
    "\n",
    "target, classes = get_class_representation.get_class_representation_by_str_ev_attr_value_value(event_log, \"Activity\")\n"
   ]
  },
  {
   "cell_type": "code",
   "execution_count": 9,
   "metadata": {},
   "outputs": [
    {
     "data": {
      "text/plain": [
       "DecisionTreeClassifier(class_weight=None, criterion='gini', max_depth=None,\n",
       "                       max_features=None, max_leaf_nodes=None,\n",
       "                       min_impurity_decrease=0.0, min_impurity_split=None,\n",
       "                       min_samples_leaf=1, min_samples_split=2,\n",
       "                       min_weight_fraction_leaf=0.0, presort=False,\n",
       "                       random_state=None, splitter='best')"
      ]
     },
     "execution_count": 9,
     "metadata": {},
     "output_type": "execute_result"
    }
   ],
   "source": [
    "from sklearn import tree\n",
    "#calculate the decision tree\n",
    "\n",
    "classifier = tree.DecisionTreeClassifier()\n",
    "classifier.fit(data, target)"
   ]
  },
  {
   "cell_type": "code",
   "execution_count": 11,
   "metadata": {},
   "outputs": [
    {
     "data": {
      "text/plain": [
       "'/Users/Tom/Documents/Uni/4. Semester M/Advanced Process Mining/Assignments/Assignment 1/APM-A1/report/figures/q3_perf_petrinet.pdf'"
      ]
     },
     "execution_count": 11,
     "metadata": {},
     "output_type": "execute_result"
    }
   ],
   "source": [
    "from pm4py.visualization.decisiontree import factory as dt_vis_factory\n",
    "#visualize the obtained decision tree\n",
    "\n",
    "decision_tree_vis = dt_vis_factory.apply(clf, feature_names, classes)\n",
    "\n",
    "figures_dir = os.path.join(PROJ_ROOT, 'report', 'figures')\n",
    "decision_tree_vis.render(os.path.join(figures_dir, 'q3_perf_petrinet'),\n",
    "                 format='pdf',\n",
    "                 view=True)"
   ]
  },
  {
   "cell_type": "markdown",
   "metadata": {},
   "source": [
    "---\n",
    "\n",
    "# b)\n",
    "> Since it is likely that the resources at the treatment facilities are limited, implement a function that assigns a(n) (estimate) of the number of patients at each facility to each event. To this end, you have to decide which event occurs at which facility based on your analysis in question 2. Create a decision tree of reasonable complexity using this derived attribute."
   ]
  },
  {
   "cell_type": "code",
   "execution_count": null,
   "metadata": {},
   "outputs": [],
   "source": []
  }
 ],
 "metadata": {
  "kernelspec": {
   "display_name": "Python 3",
   "language": "python",
   "name": "python3"
  },
  "language_info": {
   "codemirror_mode": {
    "name": "ipython",
    "version": 3
   },
   "file_extension": ".py",
   "mimetype": "text/x-python",
   "name": "python",
   "nbconvert_exporter": "python",
   "pygments_lexer": "ipython3",
   "version": "3.6.3"
  }
 },
 "nbformat": 4,
 "nbformat_minor": 4
}
