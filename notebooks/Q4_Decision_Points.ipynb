{
 "cells": [
  {
   "cell_type": "code",
   "execution_count": null,
   "metadata": {},
   "outputs": [],
   "source": [
    "import pm4py\n",
    "pm4py.__version__"
   ]
  },
  {
   "cell_type": "markdown",
   "metadata": {},
   "source": [
    "# Decision Points\n",
    "\n",
    "> Investigate how patients are referred for further treatment by means of a decision tree. Describe the factors that you observe.\n",
    "\n",
    "## Data loading\n",
    "\n",
    "Import the original log and modify column names and datatypes for the following analysis."
   ]
  },
  {
   "cell_type": "code",
   "execution_count": 1,
   "metadata": {},
   "outputs": [],
   "source": [
    "import os\n",
    "import pandas as pd\n",
    "import numpy as np\n",
    "from pm4py.objects.log.importer.xes import factory as xes_import_factory\n",
    "from pm4py.objects.petri.importer import factory as pnml_importer\n",
    "from pm4py.objects.conversion.log import factory as log_converter\n",
    "from pm4py.util import constants\n",
    "\n",
    "PROJ_ROOT = os.path.abspath(os.path.pardir)\n",
    "\n",
    "# load csv from disk\n",
    "df_log_Q4 = pd.read_csv(PROJ_ROOT+\"/data/log.csv\")\n",
    "\n",
    "# convert timestamp columns to datetime friendly format\n",
    "df_log_Q4['Timestamp'] = pd.to_datetime(df_log_Q4['Timestamp'])\n",
    "df_log_Q4['start_timestamp'] = pd.to_datetime(df_log_Q4['start_timestamp'])\n",
    "\n",
    "#rename some column for better algorithm compatibillity\n",
    "df_log_Q4 = df_log_Q4.rename(columns={\"Age\": \"case:Age\", \"Insurance\": \"case:Insurance\", \"PatientName\": \"case:PatientName\", \"Timestamp\": \"time:timestamp\"})\n"
   ]
  },
  {
   "cell_type": "markdown",
   "metadata": {},
   "source": [
    "---\n",
    "\n",
    "# a)\n",
    "> Create a decision tree of reasonable complexity using the available attributes in the log. \n",
    "\n",
    "In this section we are interested in the kind of treatment that a patient will undergo based on certain properties.  For this we want to create decision trees based on case attributes that give can give us deeper insights into which patients recieve which treatment.\n",
    "\n",
    "To do so we are interested in which cases contain certain treatment related events. PM4Py offers a decision tree module, that creates a decision tree predicting the end event of a case from the case properties. Since we know that eventually all patients will be discharged from our previous analysis, most of the cases will have a discharge end event. From this we cannot infer which treatment was performed before the discharge. Because of this, before creating the decision tree, we will cut off all traces when a certain event occurs. This event is one of a set of events that describe the treatment of the patient. The events included in this set can be seen below. They are either related to a certain kind of treatment, or a discharge. The discharge events are included for cases that do not recieve any treatment."
   ]
  },
  {
   "cell_type": "code",
   "execution_count": 2,
   "metadata": {},
   "outputs": [],
   "source": [
    "NEW_END_ACTIVITIES = [\"Treatment A1\", \"Treatment A2\", \"Treatment B\", \"Discharge\", \"Discharge Test\", \"Discharge Init Exam\"]"
   ]
  },
  {
   "cell_type": "markdown",
   "metadata": {},
   "source": [
    "In the following step the original event log is filtered in such a way, that all events that occurred after one of the above events in a case will be discarded."
   ]
  },
  {
   "cell_type": "code",
   "execution_count": 4,
   "metadata": {},
   "outputs": [],
   "source": [
    "#remove all events after a final decision was made (slow)\n",
    "treatment_df = pd.DataFrame(index=np.arange(0, len(df_log_Q4)), columns=[\"case:concept:name\", \"concept:name\", \"org:resource\", \"case:PatientName\", \"case:Age\", \"case:Insurance\", \"start_timestamp\", \"Timestamp\", \"@@duration\"])\n",
    "\n",
    "current_id = -1\n",
    "keep = True\n",
    "count = 0\n",
    "\n",
    "# go through the sorted events on a case basis\n",
    "# if an event from the new end activities is found, discard all further events from that case\n",
    "for row in df_log_Q4.itertuples():\n",
    "    if current_id != row[1]:\n",
    "        current_id = row[1]\n",
    "        keep = True\n",
    "\n",
    "    if keep:\n",
    "        if row[2] in NEW_END_ACTIVITIES:\n",
    "            keep = False\n",
    "            \n",
    "        treatment_df.loc[count] = row[1:]\n",
    "        count += 1         \n",
    "\n",
    "# drop nil rows that will occur because after filtering there are fewer events\n",
    "treatment_df = treatment_df.dropna()"
   ]
  },
  {
   "cell_type": "code",
   "execution_count": 5,
   "metadata": {
    "scrolled": true
   },
   "outputs": [
    {
     "data": {
      "text/html": [
       "<div>\n",
       "<style scoped>\n",
       "    .dataframe tbody tr th:only-of-type {\n",
       "        vertical-align: middle;\n",
       "    }\n",
       "\n",
       "    .dataframe tbody tr th {\n",
       "        vertical-align: top;\n",
       "    }\n",
       "\n",
       "    .dataframe thead th {\n",
       "        text-align: right;\n",
       "    }\n",
       "</style>\n",
       "<table border=\"1\" class=\"dataframe\">\n",
       "  <thead>\n",
       "    <tr style=\"text-align: right;\">\n",
       "      <th></th>\n",
       "      <th>case:concept:name</th>\n",
       "      <th>concept:name</th>\n",
       "      <th>org:resource</th>\n",
       "      <th>case:PatientName</th>\n",
       "      <th>case:Age</th>\n",
       "      <th>case:Insurance</th>\n",
       "      <th>start_timestamp</th>\n",
       "      <th>Timestamp</th>\n",
       "      <th>@@duration</th>\n",
       "    </tr>\n",
       "  </thead>\n",
       "  <tbody>\n",
       "    <tr>\n",
       "      <th>0</th>\n",
       "      <td>1</td>\n",
       "      <td>Register</td>\n",
       "      <td>Alexander</td>\n",
       "      <td>Hermann the 1.</td>\n",
       "      <td>51</td>\n",
       "      <td>STAT</td>\n",
       "      <td>2020-06-01 06:00:00</td>\n",
       "      <td>2020-06-01 06:08:53</td>\n",
       "      <td>533</td>\n",
       "    </tr>\n",
       "    <tr>\n",
       "      <th>1</th>\n",
       "      <td>1</td>\n",
       "      <td>Initial Exam</td>\n",
       "      <td>Anna</td>\n",
       "      <td>Hermann the 1.</td>\n",
       "      <td>51</td>\n",
       "      <td>STAT</td>\n",
       "      <td>2020-06-01 06:10:48</td>\n",
       "      <td>2020-06-01 06:25:43</td>\n",
       "      <td>895</td>\n",
       "    </tr>\n",
       "    <tr>\n",
       "      <th>2</th>\n",
       "      <td>1</td>\n",
       "      <td>Initial Exam Decision</td>\n",
       "      <td>Amelie,Anna</td>\n",
       "      <td>Hermann the 1.</td>\n",
       "      <td>51</td>\n",
       "      <td>STAT</td>\n",
       "      <td>2020-06-01 06:26:43</td>\n",
       "      <td>2020-06-01 06:31:52</td>\n",
       "      <td>309</td>\n",
       "    </tr>\n",
       "    <tr>\n",
       "      <th>3</th>\n",
       "      <td>1</td>\n",
       "      <td>Inform about Isolation</td>\n",
       "      <td>Alexander</td>\n",
       "      <td>Hermann the 1.</td>\n",
       "      <td>51</td>\n",
       "      <td>STAT</td>\n",
       "      <td>2020-06-01 06:33:45</td>\n",
       "      <td>2020-06-01 06:33:45</td>\n",
       "      <td>0</td>\n",
       "    </tr>\n",
       "    <tr>\n",
       "      <th>4</th>\n",
       "      <td>1</td>\n",
       "      <td>Test III</td>\n",
       "      <td>Anna</td>\n",
       "      <td>Hermann the 1.</td>\n",
       "      <td>51</td>\n",
       "      <td>STAT</td>\n",
       "      <td>2020-06-01 06:35:35</td>\n",
       "      <td>2020-06-01 07:03:47</td>\n",
       "      <td>1692</td>\n",
       "    </tr>\n",
       "    <tr>\n",
       "      <th>5</th>\n",
       "      <td>1</td>\n",
       "      <td>Test III Decision</td>\n",
       "      <td>Adrian,Anna</td>\n",
       "      <td>Hermann the 1.</td>\n",
       "      <td>51</td>\n",
       "      <td>STAT</td>\n",
       "      <td>2020-06-01 07:03:47</td>\n",
       "      <td>2020-06-01 07:08:06</td>\n",
       "      <td>259</td>\n",
       "    </tr>\n",
       "    <tr>\n",
       "      <th>6</th>\n",
       "      <td>1</td>\n",
       "      <td>Inform Authority Fill Form</td>\n",
       "      <td>Alina</td>\n",
       "      <td>Hermann the 1.</td>\n",
       "      <td>51</td>\n",
       "      <td>STAT</td>\n",
       "      <td>2020-06-01 07:09:57</td>\n",
       "      <td>2020-06-01 07:17:47</td>\n",
       "      <td>470</td>\n",
       "    </tr>\n",
       "    <tr>\n",
       "      <th>7</th>\n",
       "      <td>1</td>\n",
       "      <td>Referral</td>\n",
       "      <td>Adrian</td>\n",
       "      <td>Hermann the 1.</td>\n",
       "      <td>51</td>\n",
       "      <td>STAT</td>\n",
       "      <td>2020-06-01 07:09:57</td>\n",
       "      <td>2020-06-01 07:18:48</td>\n",
       "      <td>531</td>\n",
       "    </tr>\n",
       "    <tr>\n",
       "      <th>8</th>\n",
       "      <td>1</td>\n",
       "      <td>Inform Authority Send Form</td>\n",
       "      <td>Alina</td>\n",
       "      <td>Hermann the 1.</td>\n",
       "      <td>51</td>\n",
       "      <td>STAT</td>\n",
       "      <td>2020-06-01 07:17:57</td>\n",
       "      <td>2020-06-01 07:20:07</td>\n",
       "      <td>130</td>\n",
       "    </tr>\n",
       "    <tr>\n",
       "      <th>9</th>\n",
       "      <td>1</td>\n",
       "      <td>Register Facility</td>\n",
       "      <td>Bernhard</td>\n",
       "      <td>Hermann the 1.</td>\n",
       "      <td>51</td>\n",
       "      <td>STAT</td>\n",
       "      <td>2020-06-01 08:21:45</td>\n",
       "      <td>2020-06-01 08:31:18</td>\n",
       "      <td>573</td>\n",
       "    </tr>\n",
       "    <tr>\n",
       "      <th>10</th>\n",
       "      <td>1</td>\n",
       "      <td>Decide Treatment</td>\n",
       "      <td>Ben</td>\n",
       "      <td>Hermann the 1.</td>\n",
       "      <td>51</td>\n",
       "      <td>STAT</td>\n",
       "      <td>2020-06-01 08:32:56</td>\n",
       "      <td>2020-06-01 08:42:30</td>\n",
       "      <td>574</td>\n",
       "    </tr>\n",
       "    <tr>\n",
       "      <th>11</th>\n",
       "      <td>1</td>\n",
       "      <td>Treatment B</td>\n",
       "      <td>Benjamin</td>\n",
       "      <td>Hermann the 1.</td>\n",
       "      <td>51</td>\n",
       "      <td>STAT</td>\n",
       "      <td>2020-06-01 09:07:02</td>\n",
       "      <td>2020-06-01 09:20:18</td>\n",
       "      <td>796</td>\n",
       "    </tr>\n",
       "    <tr>\n",
       "      <th>12</th>\n",
       "      <td>2</td>\n",
       "      <td>Register</td>\n",
       "      <td>Alexander</td>\n",
       "      <td>Georg the 2.</td>\n",
       "      <td>32</td>\n",
       "      <td>STAT</td>\n",
       "      <td>2020-06-01 09:08:53</td>\n",
       "      <td>2020-06-01 09:18:15</td>\n",
       "      <td>562</td>\n",
       "    </tr>\n",
       "  </tbody>\n",
       "</table>\n",
       "</div>"
      ],
      "text/plain": [
       "   case:concept:name                concept:name org:resource  \\\n",
       "0                  1                    Register    Alexander   \n",
       "1                  1                Initial Exam         Anna   \n",
       "2                  1       Initial Exam Decision  Amelie,Anna   \n",
       "3                  1      Inform about Isolation    Alexander   \n",
       "4                  1                    Test III         Anna   \n",
       "5                  1           Test III Decision  Adrian,Anna   \n",
       "6                  1  Inform Authority Fill Form        Alina   \n",
       "7                  1                    Referral       Adrian   \n",
       "8                  1  Inform Authority Send Form        Alina   \n",
       "9                  1           Register Facility     Bernhard   \n",
       "10                 1            Decide Treatment          Ben   \n",
       "11                 1                 Treatment B     Benjamin   \n",
       "12                 2                    Register    Alexander   \n",
       "\n",
       "   case:PatientName case:Age case:Insurance      start_timestamp  \\\n",
       "0    Hermann the 1.       51           STAT  2020-06-01 06:00:00   \n",
       "1    Hermann the 1.       51           STAT  2020-06-01 06:10:48   \n",
       "2    Hermann the 1.       51           STAT  2020-06-01 06:26:43   \n",
       "3    Hermann the 1.       51           STAT  2020-06-01 06:33:45   \n",
       "4    Hermann the 1.       51           STAT  2020-06-01 06:35:35   \n",
       "5    Hermann the 1.       51           STAT  2020-06-01 07:03:47   \n",
       "6    Hermann the 1.       51           STAT  2020-06-01 07:09:57   \n",
       "7    Hermann the 1.       51           STAT  2020-06-01 07:09:57   \n",
       "8    Hermann the 1.       51           STAT  2020-06-01 07:17:57   \n",
       "9    Hermann the 1.       51           STAT  2020-06-01 08:21:45   \n",
       "10   Hermann the 1.       51           STAT  2020-06-01 08:32:56   \n",
       "11   Hermann the 1.       51           STAT  2020-06-01 09:07:02   \n",
       "12     Georg the 2.       32           STAT  2020-06-01 09:08:53   \n",
       "\n",
       "              Timestamp @@duration  \n",
       "0   2020-06-01 06:08:53        533  \n",
       "1   2020-06-01 06:25:43        895  \n",
       "2   2020-06-01 06:31:52        309  \n",
       "3   2020-06-01 06:33:45          0  \n",
       "4   2020-06-01 07:03:47       1692  \n",
       "5   2020-06-01 07:08:06        259  \n",
       "6   2020-06-01 07:17:47        470  \n",
       "7   2020-06-01 07:18:48        531  \n",
       "8   2020-06-01 07:20:07        130  \n",
       "9   2020-06-01 08:31:18        573  \n",
       "10  2020-06-01 08:42:30        574  \n",
       "11  2020-06-01 09:20:18        796  \n",
       "12  2020-06-01 09:18:15        562  "
      ]
     },
     "execution_count": 5,
     "metadata": {},
     "output_type": "execute_result"
    }
   ],
   "source": [
    "treatment_df.head(13)"
   ]
  },
  {
   "cell_type": "markdown",
   "metadata": {},
   "source": [
    "We can see that case 1 now ends with Treatment B instead of an discharge event. In the next step we will convert the log into an PM4Py event log as seen before."
   ]
  },
  {
   "cell_type": "code",
   "execution_count": 6,
   "metadata": {},
   "outputs": [],
   "source": [
    "#convert to event log\n",
    "# map dataset columns to PM4Py keys\n",
    "param_keys_Q4 = {constants.PARAMETER_CONSTANT_CASEID_KEY: 'case:concept:name',\n",
    "            constants.PARAMETER_CONSTANT_RESOURCE_KEY: 'org:resource', \n",
    "            constants.PARAMETER_CONSTANT_ACTIVITY_KEY: 'concept:name',\n",
    "            constants.PARAMETER_CONSTANT_TIMESTAMP_KEY: 'time:timestamp',\n",
    "            constants.PARAMETER_CONSTANT_START_TIMESTAMP_KEY: 'start_timestamp'}\n",
    "\n",
    "treatment_log = log_converter.apply(treatment_df, parameters=param_keys_Q4)"
   ]
  },
  {
   "cell_type": "markdown",
   "metadata": {},
   "source": [
    "Since not all cases contain one of the new end activities, there are still traces in the event log that do not end with one of the specified activities. In order to keep just the cases that end on one of the specified events we use the end activitiy filter provided by PM4Py."
   ]
  },
  {
   "cell_type": "code",
   "execution_count": 7,
   "metadata": {},
   "outputs": [],
   "source": [
    "from pm4py.algo.filtering.log.end_activities import end_activities_filter\n",
    "\n",
    "treatment_log = end_activities_filter.apply(treatment_log, NEW_END_ACTIVITIES)"
   ]
  },
  {
   "cell_type": "markdown",
   "metadata": {},
   "source": [
    "After preprocessing the log we can now create a decision tree from it. In the first step of this, we use PM4Py to create the data, targets and classes that will be passed to the sklearn decision tree algorithm. In this step we need to specify which properties of the event log should be used for the decision tree creation. We can speecifiy trace based and event based attributes.\n",
    "\n",
    "For our first iteration we included all of the sensible log attributes (for example patient name was removed as it provides no information)."
   ]
  },
  {
   "cell_type": "code",
   "execution_count": 53,
   "metadata": {},
   "outputs": [],
   "source": [
    "from pm4py.objects.log.util import get_log_representation\n",
    "from pm4py.objects.log.util import get_class_representation\n",
    "\n",
    "# preprocess the log for decision tree mining\n",
    "str_trace_attributes = [\"Insurance\"]\n",
    "str_event_attributes = [\"org:resource\", \"concept:name\"]\n",
    "num_trace_attributes = [\"Age\"]\n",
    "num_event_attributes = [\"@@duration\"]\n",
    "\n",
    "data, feature_names = get_log_representation.get_representation(treatment_log, str_trace_attributes, str_event_attributes,\n",
    "                                                              num_trace_attributes, num_event_attributes)\n",
    "\n",
    "target, classes = get_class_representation.get_class_representation_by_str_ev_attr_value_value(treatment_log, \"concept:name\")"
   ]
  },
  {
   "cell_type": "code",
   "execution_count": 56,
   "metadata": {},
   "outputs": [
    {
     "data": {
      "text/plain": [
       "DecisionTreeClassifier(class_weight=None, criterion='gini', max_depth=None,\n",
       "                       max_features=None, max_leaf_nodes=None,\n",
       "                       min_impurity_decrease=0.0, min_impurity_split=None,\n",
       "                       min_samples_leaf=1, min_samples_split=2,\n",
       "                       min_weight_fraction_leaf=0.0, presort=False,\n",
       "                       random_state=None, splitter='best')"
      ]
     },
     "execution_count": 56,
     "metadata": {},
     "output_type": "execute_result"
    }
   ],
   "source": [
    "from sklearn import tree\n",
    "\n",
    "#calculate the decision tree\n",
    "\n",
    "# 0 treatmentB, 1 treatment A1, 2 discharge test, 3 discharge init, 4 treatment a2\n",
    "classifier = tree.DecisionTreeClassifier()\n",
    "classifier.fit(data, target)"
   ]
  },
  {
   "cell_type": "code",
   "execution_count": 57,
   "metadata": {},
   "outputs": [
    {
     "data": {
      "text/plain": [
       "'/Users/Tom/Documents/Uni/4. Semester M/Advanced Process Mining/Assignments/Assignment 1/APM-A1/report/figures/q4_tree_all.pdf'"
      ]
     },
     "execution_count": 57,
     "metadata": {},
     "output_type": "execute_result"
    }
   ],
   "source": [
    "from pm4py.visualization.decisiontree import factory as dt_vis_factory\n",
    "#visualize the obtained decision tree\n",
    "\n",
    "decision_tree_vis = dt_vis_factory.apply(classifier, feature_names, classes)\n",
    "\n",
    "figures_dir = os.path.join(PROJ_ROOT, 'report', 'figures')\n",
    "decision_tree_vis.render(os.path.join(figures_dir, 'q4_tree_all'),\n",
    "                 format='pdf',\n",
    "                 view=True)"
   ]
  },
  {
   "cell_type": "markdown",
   "metadata": {},
   "source": [
    "The obtained tree is able to perfectly classify all cases, which is unexpected. A closer investigation shows that the tree simply uses the target events themselves to classify the cases, which of course is not wanted. As some events are always performed by the same resources, the same holds for the resource attribute. The two attributes are therefore not suited to be included in a sensible decision tree for this taks.\n",
    "\n",
    "Furthermore we see that the tree once splits using the duration of an event. Since the tree holds no information about which event is related to this duration, we cannot derive meaningful results from this split. The attribute is therefore removed as well. With the remaining age and insurance attributes, we create a new decision tree in the following."
   ]
  },
  {
   "cell_type": "code",
   "execution_count": 60,
   "metadata": {},
   "outputs": [],
   "source": [
    "# preprocess the log for decision tree mining\n",
    "str_trace_attributes = [\"Insurance\"]\n",
    "str_event_attributes = []\n",
    "num_trace_attributes = [\"Age\"]\n",
    "num_event_attributes = []\n",
    "\n",
    "data, feature_names = get_log_representation.get_representation(treatment_log, str_trace_attributes, str_event_attributes,\n",
    "                                                              num_trace_attributes, num_event_attributes)\n",
    "\n",
    "target, classes = get_class_representation.get_class_representation_by_str_ev_attr_value_value(treatment_log, \"concept:name\")\n"
   ]
  },
  {
   "cell_type": "markdown",
   "metadata": {},
   "source": [
    "Since the _Discharge Init Exam_ event is disproportionally more frequent than all other classes, we need to introduce some normalization in order to obtain a sensible tree. (Else all nodes would have the same label for a small tree) Additionally, since the tree is not able to perfectly classify all cases anymore, we have to limit the depth and maximum number of child nodes in order to obtain readable results."
   ]
  },
  {
   "cell_type": "code",
   "execution_count": 61,
   "metadata": {},
   "outputs": [
    {
     "data": {
      "text/plain": [
       "DecisionTreeClassifier(class_weight={0: 0.6, 1: 1, 2: 1, 3: 0.5, 4: 2},\n",
       "                       criterion='gini', max_depth=7, max_features=None,\n",
       "                       max_leaf_nodes=8, min_impurity_decrease=0.0,\n",
       "                       min_impurity_split=None, min_samples_leaf=1,\n",
       "                       min_samples_split=2, min_weight_fraction_leaf=0.0,\n",
       "                       presort=False, random_state=None, splitter='best')"
      ]
     },
     "execution_count": 61,
     "metadata": {},
     "output_type": "execute_result"
    }
   ],
   "source": [
    "#calculate the decision tree\n",
    "\n",
    "# 0 treatmentB, 1 treatment A1, 2 discharge test, 3 discharge init, 4 treatment a2\n",
    "classifier = tree.DecisionTreeClassifier(max_depth=7,max_leaf_nodes=8,class_weight={0: 0.6, 1: 1, 2: 1, 3: 0.5, 4: 2})\n",
    "classifier.fit(data, target)"
   ]
  },
  {
   "cell_type": "code",
   "execution_count": 63,
   "metadata": {},
   "outputs": [
    {
     "data": {
      "text/plain": [
       "'/Users/Tom/Documents/Uni/4. Semester M/Advanced Process Mining/Assignments/Assignment 1/APM-A1/report/figures/q4_tree_min.pdf'"
      ]
     },
     "execution_count": 63,
     "metadata": {},
     "output_type": "execute_result"
    }
   ],
   "source": [
    "#visualize the obtained decision tree\n",
    "\n",
    "decision_tree_vis = dt_vis_factory.apply(classifier, feature_names, classes)\n",
    "\n",
    "figures_dir = os.path.join(PROJ_ROOT, 'report', 'figures')\n",
    "decision_tree_vis.render(os.path.join(figures_dir, 'q4_tree_min'),\n",
    "                 format='pdf',\n",
    "                 view=True)"
   ]
  },
  {
   "cell_type": "markdown",
   "metadata": {},
   "source": [
    "The new decision tree with an reduced attribute set is much more interpretable. For example we see that patients older than 63.5 years that have a state insurance are more often discharged after the initial exam than ones with a private insurance. This group recieves treatment B more frequently.\n",
    "\n",
    "Furthermore we can observe, that really young patients (<=15.5) are more often discharged after having been tested, while older patients between 15.5 and 39.5 years are more often directly discharged after thee initial exam.\n",
    "\n",
    "In general we can observe that privately insured patients recieve any kind of treatment more frequently and are less often discharged without treatment.\n"
   ]
  },
  {
   "cell_type": "markdown",
   "metadata": {},
   "source": [
    "---\n",
    "\n",
    "# b)\n",
    "> Since it is likely that the resources at the treatment facilities are limited, implement a function that assigns a(n) (estimate) of the number of patients at each facility to each event. To this end, you have to decide which event occurs at which facility based on your analysis in question 2. Create a decision tree of reasonable complexity using this derived attribute."
   ]
  },
  {
   "cell_type": "code",
   "execution_count": null,
   "metadata": {},
   "outputs": [],
   "source": []
  }
 ],
 "metadata": {
  "kernelspec": {
   "display_name": "Python 3",
   "language": "python",
   "name": "python3"
  },
  "language_info": {
   "codemirror_mode": {
    "name": "ipython",
    "version": 3
   },
   "file_extension": ".py",
   "mimetype": "text/x-python",
   "name": "python",
   "nbconvert_exporter": "python",
   "pygments_lexer": "ipython3",
   "version": "3.6.3"
  }
 },
 "nbformat": 4,
 "nbformat_minor": 4
}
