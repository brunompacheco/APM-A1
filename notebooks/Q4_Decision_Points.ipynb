{
 "cells": [
  {
   "cell_type": "code",
   "execution_count": null,
   "metadata": {},
   "outputs": [],
   "source": [
    "import pm4py\n",
    "pm4py.__version__"
   ]
  },
  {
   "cell_type": "markdown",
   "metadata": {},
   "source": [
    "# Decision Points\n",
    "\n",
    "> Investigate how patients are referred for further treatment by means of a decision tree. Describe the factors that you observe.\n",
    "\n",
    "## Data loading\n",
    "\n",
    "Import the original log and modify column names and datatypes for the following analysis."
   ]
  },
  {
   "cell_type": "code",
   "execution_count": null,
   "metadata": {},
   "outputs": [],
   "source": [
    "import os\n",
    "import pandas as pd\n",
    "import numpy as np\n",
    "from pm4py.objects.log.importer.xes import factory as xes_import_factory\n",
    "from pm4py.objects.petri.importer import factory as pnml_importer\n",
    "from pm4py.objects.conversion.log import factory as log_converter\n",
    "from pm4py.util import constants\n",
    "\n",
    "PROJ_ROOT = os.path.abspath(os.path.pardir)\n",
    "\n",
    "# load csv from disk\n",
    "df_log_Q4 = pd.read_csv(PROJ_ROOT+\"/data/log.csv\")\n",
    "\n",
    "# convert timestamp columns to datetime friendly format\n",
    "df_log_Q4['Timestamp'] = pd.to_datetime(df_log_Q4['Timestamp'])\n",
    "df_log_Q4['start_timestamp'] = pd.to_datetime(df_log_Q4['start_timestamp'])\n",
    "\n",
    "#rename some column for better algorithm compatibillity\n",
    "df_log_Q4 = df_log_Q4.rename(columns={\"Age\": \"case:Age\", \"Insurance\": \"case:Insurance\", \"PatientName\": \"case:PatientName\", \"Timestamp\": \"time:timestamp\"})\n"
   ]
  },
  {
   "cell_type": "markdown",
   "metadata": {},
   "source": [
    "---\n",
    "\n",
    "# a)\n",
    "> Create a decision tree of reasonable complexity using the available attributes in the log. \n",
    "\n",
    "In this section we are interested in the kind of treatment that a patient will undergo based on certain properties.  For this we want to create decision trees based on case attributes that can give us deeper insights into which patients recieve which treatment.\n",
    "\n",
    "To do so we are interested in which cases contain certain treatment related events. PM4Py offers a decision tree module, that creates a decision tree predicting the end event of a case from the case properties. Since we know that eventually all patients will be discharged from our previous analysis, most of the cases will have a discharge end event. From this we cannot infer which treatment was performed before the discharge. Because of this, before creating the decision tree, we will cut off all traces when a certain event occurs. This event is one of a set of events that describe the treatment of the patient. The events included in this set can be seen below. They are either related to a certain kind of treatment, or a discharge. The discharge events are included for cases that do not recieve any treatment."
   ]
  },
  {
   "cell_type": "code",
   "execution_count": null,
   "metadata": {},
   "outputs": [],
   "source": [
    "NEW_END_ACTIVITIES = [\"Treatment A1\", \"Treatment A2\", \"Treatment B\", \"Discharge\", \"Discharge Test\", \"Discharge Init Exam\"]"
   ]
  },
  {
   "cell_type": "markdown",
   "metadata": {},
   "source": [
    "In the following step the original event log is filtered in such a way, that all events that occurred after one of the above events in a case will be discarded."
   ]
  },
  {
   "cell_type": "code",
   "execution_count": null,
   "metadata": {},
   "outputs": [],
   "source": [
    "#remove all events after a final decision was made (slow)\n",
    "treatment_df = pd.DataFrame(index=np.arange(0, len(df_log_Q4)), columns=[\"case:concept:name\", \"concept:name\", \"org:resource\", \"case:PatientName\", \"case:Age\", \"case:Insurance\", \"start_timestamp\", \"Timestamp\", \"@@duration\"])\n",
    "\n",
    "current_id = -1\n",
    "keep = True\n",
    "count = 0\n",
    "\n",
    "# go through the sorted events on a case basis\n",
    "# if an event from the new end activities is found, discard all further events from that case\n",
    "for row in df_log_Q4.itertuples():\n",
    "    if current_id != row[1]:\n",
    "        current_id = row[1]\n",
    "        keep = True\n",
    "\n",
    "    if keep:\n",
    "        if row[2] in NEW_END_ACTIVITIES:\n",
    "            keep = False\n",
    "            \n",
    "        treatment_df.loc[count] = row[1:]\n",
    "        count += 1         \n",
    "\n",
    "# drop nil rows that will occur because after filtering there are fewer events\n",
    "treatment_df = treatment_df.dropna()\n"
   ]
  },
  {
   "cell_type": "code",
   "execution_count": null,
   "metadata": {
    "scrolled": true
   },
   "outputs": [],
   "source": [
    "treatment_df.head(13)"
   ]
  },
  {
   "cell_type": "markdown",
   "metadata": {},
   "source": [
    "We can see that case 1 now ends with Treatment B instead of an discharge event. In the next step we will convert the log into an PM4Py event log as seen before."
   ]
  },
  {
   "cell_type": "code",
   "execution_count": null,
   "metadata": {},
   "outputs": [],
   "source": [
    "#convert to event log\n",
    "# map dataset columns to PM4Py keys\n",
    "param_keys_Q4 = {constants.PARAMETER_CONSTANT_CASEID_KEY: 'case:concept:name',\n",
    "            constants.PARAMETER_CONSTANT_RESOURCE_KEY: 'org:resource', \n",
    "            constants.PARAMETER_CONSTANT_ACTIVITY_KEY: 'concept:name',\n",
    "            constants.PARAMETER_CONSTANT_TIMESTAMP_KEY: 'time:timestamp',\n",
    "            constants.PARAMETER_CONSTANT_START_TIMESTAMP_KEY: 'start_timestamp'}\n",
    "\n",
    "treatment_log = log_converter.apply(treatment_df, parameters=param_keys_Q4)"
   ]
  },
  {
   "cell_type": "markdown",
   "metadata": {},
   "source": [
    "Since not all cases contain one of the new end activities, there are still traces in the event log that do not end with one of the specified activities. In order to keep just the cases that end on one of the specified events we use the end activitiy filter provided by PM4Py."
   ]
  },
  {
   "cell_type": "code",
   "execution_count": null,
   "metadata": {},
   "outputs": [],
   "source": [
    "from pm4py.algo.filtering.log.end_activities import end_activities_filter\n",
    "\n",
    "treatment_log = end_activities_filter.apply(treatment_log, NEW_END_ACTIVITIES)"
   ]
  },
  {
   "cell_type": "markdown",
   "metadata": {},
   "source": [
    "After preprocessing the log we can now create a decision tree from it. In the first step of this, we use PM4Py to create the data, targets and classes that will be passed to the sklearn decision tree algorithm. In this step we need to specify which properties of the event log should be used for the decision tree creation. We can speecifiy trace based and event based attributes.\n",
    "\n",
    "For our first iteration we included all of the sensible log attributes (for example patient name was removed as it provides no information)."
   ]
  },
  {
   "cell_type": "code",
   "execution_count": null,
   "metadata": {},
   "outputs": [],
   "source": [
    "from pm4py.objects.log.util import get_log_representation\n",
    "from pm4py.objects.log.util import get_class_representation\n",
    "\n",
    "# preprocess the log for decision tree mining\n",
    "str_trace_attributes = [\"Insurance\"]\n",
    "str_event_attributes = [\"org:resource\", \"concept:name\"]\n",
    "num_trace_attributes = [\"Age\"]\n",
    "num_event_attributes = [\"@@duration\"]\n",
    "\n",
    "data, feature_names = get_log_representation.get_representation(treatment_log, str_trace_attributes, str_event_attributes,\n",
    "                                                              num_trace_attributes, num_event_attributes)\n",
    "\n",
    "target, classes = get_class_representation.get_class_representation_by_str_ev_attr_value_value(treatment_log, \"concept:name\")"
   ]
  },
  {
   "cell_type": "code",
   "execution_count": null,
   "metadata": {},
   "outputs": [],
   "source": [
    "from sklearn import tree\n",
    "\n",
    "#calculate the decision tree\n",
    "\n",
    "# 0 treatmentB, 1 treatment A1, 2 discharge test, 3 discharge init, 4 treatment a2\n",
    "classifier = tree.DecisionTreeClassifier()\n",
    "classifier.fit(data, target)"
   ]
  },
  {
   "cell_type": "code",
   "execution_count": null,
   "metadata": {},
   "outputs": [],
   "source": [
    "from pm4py.visualization.decisiontree import factory as dt_vis_factory\n",
    "#visualize the obtained decision tree\n",
    "\n",
    "decision_tree_vis = dt_vis_factory.apply(classifier, feature_names, classes)\n",
    "\n",
    "figures_dir = os.path.join(PROJ_ROOT, 'report', 'figures')\n",
    "decision_tree_vis.render(os.path.join(figures_dir, 'q4_tree_all'),\n",
    "                 format='pdf',\n",
    "                 view=True)"
   ]
  },
  {
   "cell_type": "markdown",
   "metadata": {},
   "source": [
    "The obtained tree is able to perfectly classify all cases, which is unexpected. A closer investigation shows that the tree simply uses the target events themselves to classify the cases, which of course is not wanted. As some events are always performed by the same resources, the same holds for the resource attribute. The two attributes are therefore not suited to be included in a sensible decision tree for this taks.\n",
    "\n",
    "Furthermore we see that the tree once splits using the duration of an event. Since the tree holds no information about which event is related to this duration, we cannot derive meaningful results from this split. The attribute is therefore removed as well. With the remaining age and insurance attributes, we create a new decision tree in the following."
   ]
  },
  {
   "cell_type": "code",
   "execution_count": null,
   "metadata": {},
   "outputs": [],
   "source": [
    "# preprocess the log for decision tree mining\n",
    "str_trace_attributes = [\"Insurance\"]\n",
    "str_event_attributes = []\n",
    "num_trace_attributes = [\"Age\"]\n",
    "num_event_attributes = []\n",
    "\n",
    "data, feature_names = get_log_representation.get_representation(treatment_log, str_trace_attributes, str_event_attributes,\n",
    "                                                              num_trace_attributes, num_event_attributes)\n",
    "\n",
    "target, classes = get_class_representation.get_class_representation_by_str_ev_attr_value_value(treatment_log, \"concept:name\")\n"
   ]
  },
  {
   "cell_type": "markdown",
   "metadata": {},
   "source": [
    "Since the _Discharge Init Exam_ event is disproportionally more frequent than all other classes, we need to introduce some normalization in order to obtain a sensible tree. (Else all nodes would have the same label for a small tree) Additionally, since the tree is not able to perfectly classify all cases anymore, we have to limit the depth and maximum number of child nodes in order to obtain readable results."
   ]
  },
  {
   "cell_type": "code",
   "execution_count": null,
   "metadata": {},
   "outputs": [],
   "source": [
    "#calculate the decision tree\n",
    "\n",
    "# 0 treatmentB, 1 treatment A1, 2 discharge test, 3 discharge init, 4 treatment a2\n",
    "classifier = tree.DecisionTreeClassifier(max_depth=7,max_leaf_nodes=8,class_weight={0: 0.6, 1: 1, 2: 1, 3: 0.5, 4: 2})\n",
    "classifier.fit(data, target)"
   ]
  },
  {
   "cell_type": "code",
   "execution_count": null,
   "metadata": {},
   "outputs": [],
   "source": [
    "#visualize the obtained decision tree\n",
    "\n",
    "decision_tree_vis = dt_vis_factory.apply(classifier, feature_names, classes)\n",
    "\n",
    "figures_dir = os.path.join(PROJ_ROOT, 'report', 'figures')\n",
    "decision_tree_vis.render(os.path.join(figures_dir, 'q4_tree_min'),\n",
    "                 format='pdf',\n",
    "                 view=True)"
   ]
  },
  {
   "cell_type": "markdown",
   "metadata": {},
   "source": [
    "The new decision tree with an reduced attribute set is much more interpretable. For example we see that patients older than 63.5 years that have a state insurance are more often discharged after the initial exam than ones with a private insurance. This group recieves treatment B more frequently.\n",
    "\n",
    "Furthermore we can observe, that really young patients (<=15.5) are more often discharged after having been tested, while older patients between 15.5 and 39.5 years are more often directly discharged after thee initial exam.\n",
    "\n",
    "In general we can observe that privately insured patients recieve any kind of treatment more frequently and are less often discharged without treatment.\n"
   ]
  },
  {
   "cell_type": "markdown",
   "metadata": {},
   "source": [
    "---\n",
    "\n",
    "# b)\n",
    "> Since it is likely that the resources at the treatment facilities are limited, implement a function that assigns a(n) (estimate) of the number of patients at each facility to each event. To this end, you have to decide which event occurs at which facility based on your analysis in question 2. Create a decision tree of reasonable complexity using this derived attribute."
   ]
  },
  {
   "cell_type": "markdown",
   "metadata": {},
   "source": [
    "Based on our analysis in Q2, we know that the respurces are heavily related to the facilities. More concrete the first letter of the name of the resource corresponds to the facility of the resource. We will therefore use this property for the distinction between the different facilities.\n",
    "\n",
    "For this we first create a new property called facillity that is derived from the first letter of the resource of the event. Based on this we add a new column that documents the move of a patient between two facilities."
   ]
  },
  {
   "cell_type": "code",
   "execution_count": null,
   "metadata": {},
   "outputs": [],
   "source": [
    "def create_fac(row):\n",
    "    return row[\"org:resource\"][0]\n",
    "\n",
    "def create_fac_move(row):\n",
    "    patient = row[\"case:concept:name\"]\n",
    "    last_patient = row[\"last_patient\"]\n",
    "    next_patient = row[\"next_patient\"]\n",
    "    \n",
    "    facility = row[\"facility\"]\n",
    "    last_facility = row[\"last_facility\"]\n",
    "    \n",
    "    if patient == last_patient:\n",
    "        if next_patient == patient:\n",
    "            if last_facility is not None:\n",
    "                return str(last_facility)+\"->\"+str(facility)\n",
    "            else:\n",
    "                return \"start->\"+str(facility)\n",
    "        else:\n",
    "            return str(facility)+\"->end\"\n",
    "    else:\n",
    "        return \"start->\"+str(facility)\n",
    "    \n",
    "\n",
    "df_fac = treatment_df.copy()\n",
    "\n",
    "#obtain the facility from the resource name for all events\n",
    "df_fac[\"facility\"] = df_fac.apply(lambda row: create_fac(row), axis=1)\n",
    "\n",
    "#Find out which facilities exist\n",
    "pd.unique(df_fac[\"facility\"])"
   ]
  },
  {
   "cell_type": "code",
   "execution_count": null,
   "metadata": {},
   "outputs": [],
   "source": [
    "#shift the facility and patient column down, so each row knows what the last facility and patient was\n",
    "df_fac[\"last_facility\"] = df_fac[\"facility\"].shift(1)\n",
    "df_fac[\"last_patient\"] = df_fac[\"case:concept:name\"].shift(1)\n",
    "\n",
    "#shift the patient row up so we know what the next patient is (important for last event)\n",
    "df_fac[\"next_patient\"] = df_fac[\"case:concept:name\"].shift(-1)\n",
    "\n",
    "#create a move in the form last_facility->current_facility for each event\n",
    "df_fac[\"fac_move\"] = df_fac.apply (lambda row: create_fac_move(row), axis=1)\n",
    "\n",
    "df_fac = df_fac.drop([\"facility\", \"last_facility\", \"last_patient\", \"next_patient\"], 1)\n",
    "df_fac.head(24)"
   ]
  },
  {
   "cell_type": "markdown",
   "metadata": {},
   "source": [
    "As can be seen above, each event now contains the information about the facility move that has happened. We assume that the move between facilities happens at the start time of the current event. We can now use this move record to calculate for each event, how many patients currently are assigned to a certain facility.\n"
   ]
  },
  {
   "cell_type": "code",
   "execution_count": null,
   "metadata": {},
   "outputs": [],
   "source": [
    "FACILITIES = [\"A\", \"B\", \"C\", \"D\", \"I\", \"H\"]\n",
    "results = np.zeros(len(df_fac))\n",
    "\n",
    "def get_fac_count(facility_index, row, index):\n",
    "    facility = FACILITIES[facility_index]\n",
    "    facs = row[1].split(\"->\")\n",
    "\n",
    "    old_fac = facs[0]\n",
    "    current_fac = facs[1]\n",
    "\n",
    "    old_count = 0\n",
    "    if index > 0:\n",
    "        old_count = results[index-1]\n",
    "    else:\n",
    "        #set fitting initial values, obtained from a prior run of the algorithm\n",
    "        if facility == \"A\":\n",
    "            old_count = 10\n",
    "        elif facility == \"I\":\n",
    "            old_count = 20\n",
    "        elif facility in [\"A\", \"B\", \"C\", \"D\"]:\n",
    "            old_count = 1\n",
    "        \n",
    "    new_count = old_count\n",
    "\n",
    "    #increase / decrease count based on facility move\n",
    "    if old_fac != current_fac:\n",
    "        if current_fac == facility:\n",
    "            new_count = old_count + 1\n",
    "        elif old_fac == facility:\n",
    "            if old_count > 0:\n",
    "                new_count = old_count - 1\n",
    "            \n",
    "    return new_count\n",
    "\n",
    "#sort the dataframe by start timestamp\n",
    "df_fac = df_fac.sort_values(\"start_timestamp\").reset_index(drop=True)\n",
    "\n",
    "df_count = df_fac[[\"fac_move\"]].copy()\n",
    "\n",
    "# assign patient counts to all events for all facilities\n",
    "for facility_index in range(0, len(FACILITIES)):\n",
    "    facility = FACILITIES[facility_index]\n",
    "    results = np.zeros(len(df_fac))\n",
    "    index = 0\n",
    "    \n",
    "    for row in df_count.itertuples():\n",
    "        results[index] = get_fac_count(facility_index, row, index)\n",
    "        index = index + 1\n",
    "\n",
    "    df_count[facility] = results\n",
    "    \n",
    "# join with the original dataframe to keep all value columns  \n",
    "df_fac_count = df_fac.join(df_count[FACILITIES])\n"
   ]
  },
  {
   "cell_type": "markdown",
   "metadata": {},
   "source": [
    "Below we can see the resulting dataframe with the values for the facilities."
   ]
  },
  {
   "cell_type": "code",
   "execution_count": null,
   "metadata": {
    "scrolled": true
   },
   "outputs": [],
   "source": [
    "df_fac_count.head(15)"
   ]
  },
  {
   "cell_type": "markdown",
   "metadata": {},
   "source": [
    "As can be seen in the dataframe above, we have assigned an initial patient count to all of the facilities. This was done because the given dataset is presumably not complete and the facilities have also operated in the time that is not captured by the dataset. The initial values were chosen on the metrics that can be seen below. A fitting initial value for the facilities was chosen based on the mean value of patients from a previous run of the algorithm and a visual interpretation of the patient counts.\n",
    "\n",
    "Below, the patient counts of two of the facilities are plotted (A blue, I orange). We can see that there is some kind of weekly pattern and that the patient count in facility A steadily rises up until the end."
   ]
  },
  {
   "cell_type": "code",
   "execution_count": null,
   "metadata": {},
   "outputs": [],
   "source": [
    "from matplotlib import pyplot as plt\n",
    "\n",
    "plt.figure(figsize=(20,5))\n",
    "plt.plot(df_fac_count[\"start_timestamp\"], df_fac_count[\"A\"], label=\"Facility A\")\n",
    "plt.plot(df_fac_count[\"start_timestamp\"], df_fac_count[\"I\"], label=\"Facility I\")\n",
    "plt.xlabel(\"Start Timestamp\")\n",
    "plt.ylabel(\"Patient Count\")\n",
    "plt.legend(loc=\"upper left\")\n",
    "\n",
    "plt.show()\n"
   ]
  },
  {
   "cell_type": "code",
   "execution_count": null,
   "metadata": {},
   "outputs": [],
   "source": [
    "# check what initial value to assing to the patient counts\n",
    "df_fac_count.mean()"
   ]
  },
  {
   "cell_type": "markdown",
   "metadata": {},
   "source": [
    "In the next steps, the obtained dataframe with the counts is transformed into an event log again. As parameters for the decision tree we only choose the patient count of the facilities. Again we want to predict the kind of treatment a patient recieves."
   ]
  },
  {
   "cell_type": "code",
   "execution_count": null,
   "metadata": {},
   "outputs": [],
   "source": [
    "fac_count_log = log_converter.apply(df_fac_count, parameters=param_keys_Q4)"
   ]
  },
  {
   "cell_type": "code",
   "execution_count": null,
   "metadata": {},
   "outputs": [],
   "source": [
    "# preprocess the log for decision tree mining\n",
    "str_trace_attributes = []\n",
    "str_event_attributes = []\n",
    "num_trace_attributes = []\n",
    "num_event_attributes = FACILITIES\n",
    "\n",
    "data, feature_names = get_log_representation.get_representation(fac_count_log, str_trace_attributes, str_event_attributes,\n",
    "                                                              num_trace_attributes, num_event_attributes)\n",
    "\n",
    "target, classes = get_class_representation.get_class_representation_by_str_ev_attr_value_value(fac_count_log, \"concept:name\")\n"
   ]
  },
  {
   "cell_type": "code",
   "execution_count": null,
   "metadata": {},
   "outputs": [],
   "source": [
    "#calculate the decision tree\n",
    "\n",
    "# 0 treatmentB, 1 treatment A1, 2 discharge test, 3 discharge init, 4 treatment a2\n",
    "classifier = tree.DecisionTreeClassifier(max_depth=8,max_leaf_nodes=8,class_weight={0: 0.6, 1: 1, 2: 1, 3: 0.5, 4: 2})\n",
    "classifier.fit(data, target)"
   ]
  },
  {
   "cell_type": "code",
   "execution_count": null,
   "metadata": {},
   "outputs": [],
   "source": [
    "#visualize the obtained decision tree\n",
    "\n",
    "decision_tree_vis = dt_vis_factory.apply(classifier, feature_names, classes)\n",
    "\n",
    "figures_dir = os.path.join(PROJ_ROOT, 'report', 'figures')\n",
    "decision_tree_vis.render(os.path.join(figures_dir, 'q4_facility_tree'),\n",
    "                 format='pdf',\n",
    "                 view=True)"
   ]
  },
  {
   "cell_type": "markdown",
   "metadata": {},
   "source": [
    "We obtain a decision tree that is splitting the cases based on the number of patients in each of the facilities. \n",
    "\n",
    "The first split is done on the A facility. We observe that when there are fewer (less than 21) patients in facility A, more treatments are prescribed and less patients are discharged at the initial exam. This could mean that the facility is somehow overloaded when there are many patients, which influences the decision making. \n",
    "\n",
    "On the second level we can also observe that there are more initial discharges if there are not many patients in facility C. As discovered in Q2, facility C is mainly concerned with checking treatments, so the reason here might be that when there are more people discharged, there is less need for treatment checks. On the other hand this may also indicate a potential bottleneck in C: There are not enough resources to perform checks, so patients are more frequently discharged.\n",
    "\n",
    "We also see that the facilities B and D were never used as a splitting criterion, which might indicate that the number of patients in these facilities has no big influence on the treatment and therefore there are enough resources in these facilities.\n",
    "\n",
    "Facility I is a good indicator for the overall number of _active_ patients that are currently in the process, as patients stay in that facility for a longer time (for the control calls). The I facality patient count is therefore also used as a splitting criterion for some nodes. We again observe that treatments are less frequent for higher patient numbers.\n",
    "\n",
    "In a last step we calculated the number of resources in each facility to compare those numbers with the obtained patient numbers. The results can be seen below.\n"
   ]
  },
  {
   "cell_type": "code",
   "execution_count": null,
   "metadata": {},
   "outputs": [],
   "source": [
    "from collections import Counter\n",
    "\n",
    "# find out how many resources there are in every facility\n",
    "resources = list(df_log_Q4[\"Resource\"])\n",
    "resources = [r for rs in (resource.split(\",\") for resource in resources) for r in rs]\n",
    "resources = list(set(resources))\n",
    "resources = [r[0] for r in resources]\n",
    "Counter(resources)"
   ]
  },
  {
   "cell_type": "markdown",
   "metadata": {},
   "source": [
    "We see that, altough facility A has the highest patient load, it has the lowest number of resources compared to the other \"normal\" facilities B, C and D. This is a further indicator that facility A might be understaffed.\n",
    "\n",
    "We also see that there is only one resource in facility I, we have already observed this fact in Q2. This is probably the case as the control calls are somehow automated and performed by a single system, so there can be no resource bottlenecks here."
   ]
  },
  {
   "cell_type": "code",
   "execution_count": null,
   "metadata": {},
   "outputs": [],
   "source": []
  }
 ],
 "metadata": {
  "kernelspec": {
   "display_name": "Python 3",
   "language": "python",
   "name": "python3"
  },
  "language_info": {
   "codemirror_mode": {
    "name": "ipython",
    "version": 3
   },
   "file_extension": ".py",
   "mimetype": "text/x-python",
   "name": "python",
   "nbconvert_exporter": "python",
   "pygments_lexer": "ipython3",
   "version": "3.6.3"
  }
 },
 "nbformat": 4,
 "nbformat_minor": 4
}
