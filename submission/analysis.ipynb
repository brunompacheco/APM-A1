{
 "cells": [
  {
   "cell_type": "code",
   "execution_count": 1,
   "metadata": {},
   "outputs": [],
   "source": [
    "import pm4py\n",
    "import os\n",
    "import pandas as pd"
   ]
  },
  {
   "cell_type": "markdown",
   "metadata": {},
   "source": [
    "# Q1. Inductive Miner\n",
    "\n",
    "> In this question you should discover a model for the given event log with a special focus on the Inductive Miner implemented in PM4Py.\n",
    "\n",
    "## Data loading and exploration"
   ]
  },
  {
   "cell_type": "code",
   "execution_count": 2,
   "metadata": {},
   "outputs": [
    {
     "data": {
      "text/html": [
       "<div>\n",
       "<style scoped>\n",
       "    .dataframe tbody tr th:only-of-type {\n",
       "        vertical-align: middle;\n",
       "    }\n",
       "\n",
       "    .dataframe tbody tr th {\n",
       "        vertical-align: top;\n",
       "    }\n",
       "\n",
       "    .dataframe thead th {\n",
       "        text-align: right;\n",
       "    }\n",
       "</style>\n",
       "<table border=\"1\" class=\"dataframe\">\n",
       "  <thead>\n",
       "    <tr style=\"text-align: right;\">\n",
       "      <th></th>\n",
       "      <th>Patient</th>\n",
       "      <th>Activity</th>\n",
       "      <th>Resource</th>\n",
       "      <th>case:PatientName</th>\n",
       "      <th>case:Age</th>\n",
       "      <th>case:Insurance</th>\n",
       "      <th>start_timestamp</th>\n",
       "      <th>Timestamp</th>\n",
       "      <th>@@duration</th>\n",
       "    </tr>\n",
       "  </thead>\n",
       "  <tbody>\n",
       "    <tr>\n",
       "      <th>0</th>\n",
       "      <td>1</td>\n",
       "      <td>Register</td>\n",
       "      <td>Alexander</td>\n",
       "      <td>Hermann the 1.</td>\n",
       "      <td>51</td>\n",
       "      <td>STAT</td>\n",
       "      <td>2020-06-01 06:00:00</td>\n",
       "      <td>2020-06-01 06:08:53</td>\n",
       "      <td>533.0</td>\n",
       "    </tr>\n",
       "    <tr>\n",
       "      <th>1</th>\n",
       "      <td>1</td>\n",
       "      <td>Initial Exam</td>\n",
       "      <td>Anna</td>\n",
       "      <td>Hermann the 1.</td>\n",
       "      <td>51</td>\n",
       "      <td>STAT</td>\n",
       "      <td>2020-06-01 06:10:48</td>\n",
       "      <td>2020-06-01 06:25:43</td>\n",
       "      <td>895.0</td>\n",
       "    </tr>\n",
       "    <tr>\n",
       "      <th>2</th>\n",
       "      <td>1</td>\n",
       "      <td>Initial Exam Decision</td>\n",
       "      <td>Amelie,Anna</td>\n",
       "      <td>Hermann the 1.</td>\n",
       "      <td>51</td>\n",
       "      <td>STAT</td>\n",
       "      <td>2020-06-01 06:26:43</td>\n",
       "      <td>2020-06-01 06:31:52</td>\n",
       "      <td>309.0</td>\n",
       "    </tr>\n",
       "    <tr>\n",
       "      <th>3</th>\n",
       "      <td>1</td>\n",
       "      <td>Inform about Isolation</td>\n",
       "      <td>Alexander</td>\n",
       "      <td>Hermann the 1.</td>\n",
       "      <td>51</td>\n",
       "      <td>STAT</td>\n",
       "      <td>2020-06-01 06:33:45</td>\n",
       "      <td>2020-06-01 06:33:45</td>\n",
       "      <td>0.0</td>\n",
       "    </tr>\n",
       "    <tr>\n",
       "      <th>4</th>\n",
       "      <td>1</td>\n",
       "      <td>Test III</td>\n",
       "      <td>Anna</td>\n",
       "      <td>Hermann the 1.</td>\n",
       "      <td>51</td>\n",
       "      <td>STAT</td>\n",
       "      <td>2020-06-01 06:35:35</td>\n",
       "      <td>2020-06-01 07:03:47</td>\n",
       "      <td>1692.0</td>\n",
       "    </tr>\n",
       "  </tbody>\n",
       "</table>\n",
       "</div>"
      ],
      "text/plain": [
       "   Patient                Activity     Resource case:PatientName  case:Age  \\\n",
       "0        1                Register    Alexander   Hermann the 1.        51   \n",
       "1        1            Initial Exam         Anna   Hermann the 1.        51   \n",
       "2        1   Initial Exam Decision  Amelie,Anna   Hermann the 1.        51   \n",
       "3        1  Inform about Isolation    Alexander   Hermann the 1.        51   \n",
       "4        1                Test III         Anna   Hermann the 1.        51   \n",
       "\n",
       "  case:Insurance     start_timestamp           Timestamp  @@duration  \n",
       "0           STAT 2020-06-01 06:00:00 2020-06-01 06:08:53       533.0  \n",
       "1           STAT 2020-06-01 06:10:48 2020-06-01 06:25:43       895.0  \n",
       "2           STAT 2020-06-01 06:26:43 2020-06-01 06:31:52       309.0  \n",
       "3           STAT 2020-06-01 06:33:45 2020-06-01 06:33:45         0.0  \n",
       "4           STAT 2020-06-01 06:35:35 2020-06-01 07:03:47      1692.0  "
      ]
     },
     "execution_count": 2,
     "metadata": {},
     "output_type": "execute_result"
    }
   ],
   "source": [
    "data_path = \"log.csv\"\n",
    "figures_dir = \"./figures/\"\n",
    "\n",
    "assert os.path.exists(data_path)\n",
    "\n",
    "# load csv and rename patieent and activity column\n",
    "df_log = pd.read_csv(data_path)\n",
    "\n",
    "# convert timestamp columns to datetime friendly format\n",
    "df_log['Timestamp'] = pd.to_datetime(df_log['Timestamp'])\n",
    "df_log['start_timestamp'] = pd.to_datetime(df_log['start_timestamp'])\n",
    "\n",
    "# rename certain columns to ensure recognition by pm4py\n",
    "df_log = df_log.rename(columns={\"Age\": \"case:Age\", \"Insurance\": \"case:Insurance\", \"PatientName\": \"case:PatientName\"})\n",
    "\n",
    "df_log.head()"
   ]
  },
  {
   "cell_type": "code",
   "execution_count": 3,
   "metadata": {},
   "outputs": [],
   "source": [
    "#from pandas_profiling import ProfileReport\n",
    "\n",
    "#log_profile = ProfileReport(df_log, title=\"Raw Log Profile\")\n",
    "\n",
    "#log_profile.to_notebook_iframe()"
   ]
  },
  {
   "cell_type": "markdown",
   "metadata": {},
   "source": [
    "We first verify if the `Patient` has repeated traces, i.e., if it is used again in case the patient returns to the institution. We can test this through the `PatientName` column."
   ]
  },
  {
   "cell_type": "code",
   "execution_count": 4,
   "metadata": {},
   "outputs": [
    {
     "data": {
      "text/plain": [
       "False"
      ]
     },
     "execution_count": 4,
     "metadata": {},
     "output_type": "execute_result"
    }
   ],
   "source": [
    "# count unique patient identification number for each patient name\n",
    "patients_n_ids = df_log.groupby('case:PatientName')['Patient'].nunique()\n",
    "\n",
    "(patients_n_ids > 1).any()"
   ]
  },
  {
   "cell_type": "markdown",
   "metadata": {},
   "source": [
    "So no patient has more than one ID, which means we can use the `Patient` column as an identifier of the traces.\n",
    "\n",
    "Let's take a look at some traces:"
   ]
  },
  {
   "cell_type": "code",
   "execution_count": 5,
   "metadata": {},
   "outputs": [
    {
     "name": "stdout",
     "output_type": "stream",
     "text": [
      "Initial Exam -> Initial Exam Decision -> Inform about Isolation -> Control Call -> Control Call -> Control Call -> Control Call -> Control Call -> Control Call -> Control Call -> Control Call -> Control Call -> Test III -> Test III Decision -> Discharge Test\n",
      "\n",
      "Register -> Initial Exam -> Initial Exam Decision -> Inform about Isolation -> Control Call -> Control Call -> Control Call -> Test III -> Test III Decision -> Control Call -> Control Call -> Inform Authority Fill Form -> Inform Authority Send Form -> Control Call -> Control Call -> Control Call -> Control Call -> Control Call -> Control Call -> Control Call -> Control Call -> Control Call -> Control Call -> Control Call -> Control Call -> Referral -> Register Facility -> Decide Treatment -> Treatment B -> Check Treatment B -> Check Treatment B -> Treatment B -> Check Treatment B -> Treatment B -> Check Treatment B -> Treatment B -> Check Treatment B -> Discharge\n",
      "\n",
      "Register -> Initial Exam -> Initial Exam Decision -> Discharge Init Exam\n",
      "\n",
      "Register -> Initial Exam -> Initial Exam Decision -> Discharge Init Exam\n",
      "\n",
      "Register -> Initial Exam -> Initial Exam Decision -> Discharge Init Exam\n",
      "\n"
     ]
    }
   ],
   "source": [
    "import numpy as np\n",
    "\n",
    "# group activities into traces\n",
    "traces = df_log.groupby('Patient')['Activity'].apply(np.array)\n",
    "\n",
    "for trace in traces.sample(5).values:\n",
    "    print(' -> '.join(trace))\n",
    "    print()"
   ]
  },
  {
   "cell_type": "markdown",
   "metadata": {},
   "source": [
    "Now we transform the dataset into an event log, proper for analysis."
   ]
  },
  {
   "cell_type": "code",
   "execution_count": 6,
   "metadata": {},
   "outputs": [
    {
     "data": {
      "text/plain": [
       "[{'attributes': {'PatientName': 'Hermann the 1.', 'Age': 51, 'Insurance': 'STAT', 'concept:name': 1}, 'events': [{'Patient': 1, 'Activity': 'Register', 'Resource': 'Alexander', 'start_timestamp': Timestamp('2020-06-01 06:00:00'), 'Timestamp': Timestamp('2020-06-01 06:08:53'), '@@duration': 533.0}, '..', {'Patient': 1, 'Activity': 'Discharge', 'Resource': 'Brigitte', 'start_timestamp': Timestamp('2020-06-06 10:58:34'), 'Timestamp': Timestamp('2020-06-06 11:04:55'), '@@duration': 381.0}]}, '....', {'attributes': {'PatientName': 'Ulrich the 1500.', 'Age': 51, 'Insurance': 'PRIV', 'concept:name': 1500}, 'events': [{'Patient': 1500, 'Activity': 'Register', 'Resource': 'Alexander', 'start_timestamp': Timestamp('2020-07-12 11:23:10'), 'Timestamp': Timestamp('2020-07-12 11:33:39'), '@@duration': 629.0}, '..', {'Patient': 1500, 'Activity': 'Discharge Test', 'Resource': 'Alexander', 'start_timestamp': Timestamp('2020-07-14 14:21:11'), 'Timestamp': Timestamp('2020-07-14 14:28:18'), '@@duration': 427.0}]}]"
      ]
     },
     "execution_count": 6,
     "metadata": {},
     "output_type": "execute_result"
    }
   ],
   "source": [
    "from pm4py.objects.conversion.log import factory as log_converter\n",
    "from pm4py.util import constants\n",
    "\n",
    "# map dataset columns to PM4Py keys\n",
    "param_keys={constants.PARAMETER_CONSTANT_CASEID_KEY: 'Patient',\n",
    "            constants.PARAMETER_CONSTANT_RESOURCE_KEY: 'Resource', \n",
    "            constants.PARAMETER_CONSTANT_ACTIVITY_KEY: 'Activity',\n",
    "            constants.PARAMETER_CONSTANT_TIMESTAMP_KEY: 'Timestamp',\n",
    "            constants.PARAMETER_CONSTANT_START_TIMESTAMP_KEY: 'start_timestamp'}\n",
    "\n",
    "event_log = log_converter.apply(df_log, parameters=param_keys)\n",
    "\n",
    "event_log"
   ]
  },
  {
   "cell_type": "markdown",
   "metadata": {},
   "source": [
    "## a)\n",
    "\n",
    "> Apply the Inductive Miner implemented in PM4Py to the given event log and describe the process. Furthermore, give and reason about the fitness and precision results, respectively. On a high level, describe the potential problems of the model and reason how they were caused by the algorithm and the log."
   ]
  },
  {
   "cell_type": "markdown",
   "metadata": {},
   "source": [
    "We generate both the petri net and the process tree, the two possible outcomes of the implementation of the inductive miner."
   ]
  },
  {
   "cell_type": "code",
   "execution_count": 7,
   "metadata": {},
   "outputs": [
    {
     "data": {
      "text/plain": [
       "'./figures/q1_a_petrinet.pdf'"
      ]
     },
     "execution_count": 7,
     "metadata": {},
     "output_type": "execute_result"
    }
   ],
   "source": [
    "from pm4py.algo.discovery.inductive import factory as inductive_miner\n",
    "from pm4py.visualization.petrinet import factory as pn_visualizer\n",
    "\n",
    "net, initial_marking, final_marking = inductive_miner.apply(event_log, parameters=param_keys)\n",
    "\n",
    "net_graph = pn_visualizer.apply(net, initial_marking=initial_marking, final_marking=final_marking,\n",
    "                                log=event_log, parameters=param_keys)\n",
    "\n",
    "# fix places size in the graph\n",
    "import numpy as np\n",
    "body = np.array(net_graph.body)\n",
    "body[body ==  '\\tnode [fixedsize=true shape=circle width=0.75]'] = '\\tnode [fixedsize=true shape=circle width=1]'\n",
    "net_graph.body = body\n",
    "\n",
    "net_graph.render(os.path.join(figures_dir, 'q1_a_petrinet'), format='pdf', view=True)"
   ]
  },
  {
   "cell_type": "code",
   "execution_count": 8,
   "metadata": {},
   "outputs": [
    {
     "data": {
      "text/plain": [
       "'./figures/q1_a_tree.pdf'"
      ]
     },
     "execution_count": 8,
     "metadata": {},
     "output_type": "execute_result"
    }
   ],
   "source": [
    "from pm4py.visualization.process_tree import factory as pt_visualizer\n",
    "\n",
    "tree = inductive_miner.apply_tree(event_log, parameters=param_keys)\n",
    "\n",
    "tree_graph = pt_visualizer.apply(tree)\n",
    "\n",
    "# fix operations size in the graph\n",
    "tree_graph.body = list(map(lambda r:r.replace('width=0.6', 'width=1'),\n",
    "                           tree_graph.body))\n",
    "\n",
    "tree_graph.render(os.path.join(figures_dir, 'q1_a_tree'),\n",
    "                 format='pdf',\n",
    "                 view=True)"
   ]
  },
  {
   "cell_type": "markdown",
   "metadata": {},
   "source": [
    "## b)\n",
    "\n",
    "> From the process owner we know that patients are called in order to control the quarantine and that there are two potential quarantine phases, i.e., before and after a positive test. Implement a function that resolves the duplicate activity Control Call by context sensitive renaming. Discuss the impact on the discovered model."
   ]
  },
  {
   "cell_type": "markdown",
   "metadata": {},
   "source": [
    "Let's assume that the `Test III` is what distinguishes the two `Control Call` possibilities. We'll rename the one after the positive test as `Control Call (+)`."
   ]
  },
  {
   "cell_type": "code",
   "execution_count": 9,
   "metadata": {},
   "outputs": [
    {
     "data": {
      "text/plain": [
       "Control Call                        5082\n",
       "Control Call (+)                    4872\n",
       "Check Treatment A1                  2921\n",
       "Treatment A1                        2897\n",
       "Treatment B                         2238\n",
       "Check Treatment B                   1678\n",
       "Register                            1438\n",
       "Initial Exam                        1436\n",
       "Initial Exam Decision               1419\n",
       "Check Treatment A2                  1134\n",
       "Treatment A2                        1133\n",
       "Test III                             779\n",
       "Inform about Isolation               758\n",
       "Test III Decision                    745\n",
       "Discharge Init Exam                  687\n",
       "Treatment A3                         595\n",
       "Check Treatment A3                   584\n",
       "Inform Authority Send Form           533\n",
       "Discharge                            532\n",
       "Referral                             529\n",
       "Inform Authority Fill Form           529\n",
       "Decide Treatment                     527\n",
       "Register Facility                    523\n",
       "Discharge Test                       216\n",
       "Prescripe Special Medication          78\n",
       "Emergency Send 2 Facility (Wait)       1\n",
       "Name: Activity, dtype: int64"
      ]
     },
     "execution_count": 9,
     "metadata": {},
     "output_type": "execute_result"
    }
   ],
   "source": [
    "new_cc_name = 'Control Call (+)'\n",
    "split_on_activity = 'Test III'\n",
    "\n",
    "# get `Test III` moment\n",
    "df_log_test = df_log[df_log['Activity'] == split_on_activity]\n",
    "split_timestamp = df_log_test.groupby('Patient')['Timestamp'].first()\n",
    "\n",
    "# map timestamp to whole patient trace\n",
    "df_renaming = df_log.copy()\n",
    "df_renaming[split_on_activity + ' Timestamp'] = df_log['Patient'].map(split_timestamp)\n",
    "\n",
    "# renames `Control Call` activities that happen after `Test III`\n",
    "new_cc = df_renaming['Activity'].str.replace('Control Call', new_cc_name)\n",
    "df_renaming['Activity'] = new_cc.where(\n",
    "    df_renaming['Timestamp'] > df_renaming[split_on_activity + ' Timestamp'],\n",
    "    df_renaming['Activity']\n",
    ")\n",
    "df_renaming['Activity'].value_counts()"
   ]
  },
  {
   "cell_type": "markdown",
   "metadata": {},
   "source": [
    "Check if it worked."
   ]
  },
  {
   "cell_type": "code",
   "execution_count": 10,
   "metadata": {},
   "outputs": [
    {
     "data": {
      "text/plain": [
       "Check Treatment A1                  0\n",
       "Check Treatment A2                  0\n",
       "Check Treatment A3                  0\n",
       "Check Treatment B                   0\n",
       "Decide Treatment                    0\n",
       "Discharge                           0\n",
       "Discharge Init Exam                 0\n",
       "Discharge Test                      0\n",
       "Emergency Send 2 Facility (Wait)    0\n",
       "Inform Authority Fill Form          0\n",
       "Inform Authority Send Form          0\n",
       "Inform about Isolation              0\n",
       "Initial Exam                        0\n",
       "Initial Exam Decision               0\n",
       "Prescripe Special Medication        0\n",
       "Referral                            0\n",
       "Register                            0\n",
       "Register Facility                   0\n",
       "Test III                            0\n",
       "Test III Decision                   0\n",
       "Treatment A1                        0\n",
       "Treatment A2                        0\n",
       "Treatment A3                        0\n",
       "Treatment B                         0\n",
       "Name: Activity, dtype: int64"
      ]
     },
     "execution_count": 10,
     "metadata": {},
     "output_type": "execute_result"
    }
   ],
   "source": [
    "df_renaming['Activity'].value_counts().drop(['Control Call', new_cc_name]) - \\\n",
    "    df_log['Activity'].value_counts().drop('Control Call')"
   ]
  },
  {
   "cell_type": "code",
   "execution_count": 11,
   "metadata": {},
   "outputs": [
    {
     "data": {
      "text/plain": [
       "array([array(['Register', 'Initial Exam', 'Initial Exam Decision',\n",
       "       'Inform about Isolation', 'Control Call', 'Control Call',\n",
       "       'Control Call', 'Control Call', 'Control Call', 'Control Call',\n",
       "       'Control Call', 'Control Call', 'Control Call', 'Control Call',\n",
       "       'Test III', 'Test III Decision', 'Control Call (+)',\n",
       "       'Inform Authority Fill Form', 'Inform Authority Send Form',\n",
       "       'Control Call (+)', 'Control Call (+)', 'Control Call (+)',\n",
       "       'Referral', 'Register Facility', 'Decide Treatment', 'Treatment B',\n",
       "       'Check Treatment B', 'Treatment B', 'Check Treatment B',\n",
       "       'Treatment B', 'Check Treatment B', 'Treatment B', 'Treatment B',\n",
       "       'Check Treatment B', 'Discharge'], dtype=object),\n",
       "       array(['Register', 'Initial Exam', 'Initial Exam Decision',\n",
       "       'Discharge Init Exam'], dtype=object),\n",
       "       array(['Register', 'Initial Exam', 'Initial Exam Decision',\n",
       "       'Discharge Init Exam'], dtype=object),\n",
       "       array(['Register', 'Inform about Isolation', 'Control Call',\n",
       "       'Control Call', 'Control Call', 'Control Call', 'Control Call',\n",
       "       'Control Call', 'Control Call', 'Test III', 'Test III Decision',\n",
       "       'Inform Authority Fill Form', 'Inform Authority Send Form',\n",
       "       'Control Call (+)', 'Control Call (+)', 'Control Call (+)',\n",
       "       'Control Call (+)', 'Control Call (+)', 'Control Call (+)',\n",
       "       'Control Call (+)', 'Control Call (+)', 'Control Call (+)',\n",
       "       'Control Call (+)', 'Referral', 'Register Facility',\n",
       "       'Decide Treatment', 'Treatment B', 'Check Treatment B',\n",
       "       'Treatment B', 'Check Treatment B', 'Check Treatment B',\n",
       "       'Treatment B', 'Check Treatment B', 'Treatment B',\n",
       "       'Check Treatment B', 'Discharge'], dtype=object),\n",
       "       array(['Register', 'Initial Exam', 'Initial Exam Decision',\n",
       "       'Discharge Init Exam'], dtype=object),\n",
       "       array(['Register', 'Initial Exam', 'Initial Exam Decision',\n",
       "       'Inform about Isolation', 'Control Call', 'Control Call',\n",
       "       'Control Call', 'Control Call', 'Control Call', 'Control Call',\n",
       "       'Control Call', 'Test III', 'Test III Decision',\n",
       "       'Control Call (+)', 'Inform Authority Send Form',\n",
       "       'Control Call (+)', 'Control Call (+)', 'Control Call (+)',\n",
       "       'Control Call (+)', 'Control Call (+)', 'Control Call (+)',\n",
       "       'Control Call (+)', 'Control Call (+)', 'Control Call (+)',\n",
       "       'Referral', 'Register Facility', 'Decide Treatment', 'Treatment B',\n",
       "       'Check Treatment B', 'Treatment B', 'Check Treatment B',\n",
       "       'Treatment B', 'Check Treatment B', 'Treatment B',\n",
       "       'Check Treatment B', 'Discharge'], dtype=object),\n",
       "       array(['Register', 'Initial Exam', 'Initial Exam Decision',\n",
       "       'Discharge Init Exam'], dtype=object),\n",
       "       array(['Register', 'Initial Exam', 'Initial Exam Decision',\n",
       "       'Inform about Isolation', 'Control Call', 'Control Call',\n",
       "       'Control Call', 'Control Call', 'Control Call', 'Control Call',\n",
       "       'Control Call', 'Control Call', 'Test III', 'Test III Decision',\n",
       "       'Referral', 'Register Facility', 'Decide Treatment', 'Treatment B',\n",
       "       'Inform Authority Fill Form', 'Inform Authority Send Form',\n",
       "       'Treatment B', 'Treatment B', 'Treatment B', 'Treatment B',\n",
       "       'Treatment B', 'Discharge'], dtype=object),\n",
       "       array(['Register', 'Initial Exam', 'Initial Exam Decision',\n",
       "       'Inform about Isolation', 'Control Call', 'Control Call',\n",
       "       'Control Call', 'Test III', 'Test III Decision', 'Referral',\n",
       "       'Register Facility', 'Decide Treatment',\n",
       "       'Inform Authority Fill Form', 'Inform Authority Send Form',\n",
       "       'Treatment B', 'Check Treatment B', 'Treatment B',\n",
       "       'Check Treatment B', 'Treatment B', 'Check Treatment B',\n",
       "       'Treatment B', 'Check Treatment B', 'Treatment B', 'Discharge'],\n",
       "      dtype=object),\n",
       "       array(['Register', 'Initial Exam', 'Initial Exam Decision',\n",
       "       'Discharge Init Exam'], dtype=object)], dtype=object)"
      ]
     },
     "execution_count": 11,
     "metadata": {},
     "output_type": "execute_result"
    }
   ],
   "source": [
    "renamed_traces = df_renaming.groupby('Patient')['Activity'].apply(np.array)\n",
    "\n",
    "renamed_traces.sample(10).values"
   ]
  },
  {
   "cell_type": "markdown",
   "metadata": {},
   "source": [
    "No problems detected.\n",
    "\n",
    "Generate the tree."
   ]
  },
  {
   "cell_type": "code",
   "execution_count": 12,
   "metadata": {},
   "outputs": [
    {
     "data": {
      "text/plain": [
       "'./figures/q1_b_tree.pdf'"
      ]
     },
     "execution_count": 12,
     "metadata": {},
     "output_type": "execute_result"
    }
   ],
   "source": [
    "# generate a new event log based on the modified dataset\n",
    "renamed_event_log = log_converter.apply(df_renaming, parameters=param_keys)\n",
    "\n",
    "#save the renamed event log\n",
    "from pm4py.objects.log.exporter.xes import factory as xes_exporter\n",
    "log_path = \"processed_log.xes\"\n",
    "xes_exporter.apply(renamed_event_log, log_path)\n",
    "\n",
    "tree = inductive_miner.apply_tree(renamed_event_log, parameters=param_keys)\n",
    "\n",
    "tree_graph = pt_visualizer.apply(tree)\n",
    "\n",
    "# fix operations size\n",
    "tree_graph.body = list(map(lambda r:r.replace('width=0.6', 'width=1'),\n",
    "                           tree_graph.body))\n",
    "\n",
    "tree_graph.render(os.path.join(figures_dir, 'q1_b_tree'),\n",
    "                 format='pdf',\n",
    "                 view=True)"
   ]
  },
  {
   "cell_type": "markdown",
   "metadata": {},
   "source": [
    "## c)\n",
    "\n",
    "> The log contains a considerable amount of noise induced by errors during the event logging. Apply the IM to a DFG filtered for noise. Describe your results and explain why the IM mines a different model. Which type of noise is prominent in the log?"
   ]
  },
  {
   "cell_type": "markdown",
   "metadata": {},
   "source": [
    "First we generate the DFG with the log after context-sensitive renaming."
   ]
  },
  {
   "cell_type": "code",
   "execution_count": 13,
   "metadata": {},
   "outputs": [
    {
     "data": {
      "text/plain": [
       "'./figures/q1_c_dfg_renaming.pdf'"
      ]
     },
     "execution_count": 13,
     "metadata": {},
     "output_type": "execute_result"
    }
   ],
   "source": [
    "from pm4py.algo.discovery.dfg import factory as dfg_discovery\n",
    "from pm4py.visualization.dfg import factory as dfg_visualization\n",
    "\n",
    "dfg = dfg_discovery.apply(renamed_event_log, parameters=param_keys)\n",
    "\n",
    "dfg_viz = dfg_visualization.apply(dfg, log=renamed_event_log, parameters=param_keys)\n",
    "\n",
    "dfg_viz.render(os.path.join(figures_dir, 'q1_c_dfg_renaming'),\n",
    "               format='pdf',\n",
    "               view=True)"
   ]
  },
  {
   "cell_type": "markdown",
   "metadata": {},
   "source": [
    "Then we filter the graph."
   ]
  },
  {
   "cell_type": "code",
   "execution_count": 14,
   "metadata": {},
   "outputs": [
    {
     "data": {
      "text/plain": [
       "'./figures/q1_c_dfg_filtered.pdf'"
      ]
     },
     "execution_count": 14,
     "metadata": {},
     "output_type": "execute_result"
    }
   ],
   "source": [
    "from pm4py.objects.dfg.filtering import dfg_filtering\n",
    "\n",
    "filt_dfg = dfg_filtering.apply(dfg, parameters=param_keys)\n",
    "\n",
    "filt_dfg_viz = dfg_visualization.apply(filt_dfg, log=renamed_event_log, parameters=param_keys)\n",
    "\n",
    "filt_dfg_viz.render(os.path.join(figures_dir, 'q1_c_dfg_filtered'),\n",
    "                    format='pdf',\n",
    "                    view=True)"
   ]
  },
  {
   "cell_type": "markdown",
   "metadata": {},
   "source": [
    "We can already notice the improvement through the DFG, which is much more readable. There are way less edges and the flow seems much more linear. Even though, the structure about the treatments A1, A2 and A3 is still unsettled.\n",
    "\n",
    "Finally, we apply the IM algorithm again."
   ]
  },
  {
   "cell_type": "code",
   "execution_count": 15,
   "metadata": {},
   "outputs": [
    {
     "data": {
      "text/plain": [
       "'./figures/q1_c_filt_tree.pdf'"
      ]
     },
     "execution_count": 15,
     "metadata": {},
     "output_type": "execute_result"
    }
   ],
   "source": [
    "filt_tree = inductive_miner.apply_tree_dfg(filt_dfg, parameters=param_keys)\n",
    "\n",
    "tree_graph = pt_visualizer.apply(filt_tree)\n",
    "\n",
    "# fix operations size\n",
    "tree_graph.body = list(map(lambda r:r.replace('width=0.6', 'width=1'),\n",
    "                           tree_graph.body))\n",
    "\n",
    "tree_graph.render(os.path.join(figures_dir, 'q1_c_filt_tree'),\n",
    "                  format='pdf',\n",
    "                  view=True)"
   ]
  },
  {
   "cell_type": "markdown",
   "metadata": {},
   "source": [
    "The new model generated is much closer to the expected from the superficial analysis of the traces. The noise removed comes mostly from skipped activities, as we can notice that the edges in the DFG reduced and, therefore the amount of silent transitions as well. Still, there are plenty of them, related to the `Treatment A*` activities.\n",
    "\n",
    "Let's check the traces in which these activities are present."
   ]
  },
  {
   "cell_type": "code",
   "execution_count": 16,
   "metadata": {},
   "outputs": [
    {
     "data": {
      "text/plain": [
       "123"
      ]
     },
     "execution_count": 16,
     "metadata": {},
     "output_type": "execute_result"
    }
   ],
   "source": [
    "treatment_A_traces = renamed_traces[renamed_traces.apply(lambda t: any('Treatment A' in a for a in t))]\n",
    "\n",
    "treatment_A_traces.shape[0]"
   ]
  },
  {
   "cell_type": "code",
   "execution_count": 17,
   "metadata": {},
   "outputs": [
    {
     "data": {
      "text/plain": [
       "array([array(['Register', 'Initial Exam', 'Initial Exam Decision',\n",
       "       'Inform about Isolation', 'Control Call', 'Control Call',\n",
       "       'Control Call', 'Control Call', 'Control Call', 'Control Call',\n",
       "       'Control Call', 'Test III', 'Test III Decision',\n",
       "       'Inform Authority Fill Form', 'Inform Authority Send Form',\n",
       "       'Control Call (+)', 'Control Call (+)', 'Control Call (+)',\n",
       "       'Control Call (+)', 'Control Call (+)', 'Control Call (+)',\n",
       "       'Control Call (+)', 'Control Call (+)', 'Control Call (+)',\n",
       "       'Control Call (+)', 'Referral', 'Decide Treatment', 'Treatment A1',\n",
       "       'Check Treatment A1', 'Treatment A2', 'Check Treatment A2',\n",
       "       'Treatment A3', 'Check Treatment A3', 'Treatment A1',\n",
       "       'Check Treatment A1', 'Treatment A1', 'Check Treatment A1',\n",
       "       'Treatment A2', 'Check Treatment A2', 'Treatment A1',\n",
       "       'Check Treatment A1', 'Treatment A1', 'Check Treatment A1',\n",
       "       'Treatment A1', 'Check Treatment A1', 'Treatment A3',\n",
       "       'Check Treatment A3', 'Treatment A2', 'Check Treatment A2',\n",
       "       'Treatment A1', 'Check Treatment A1', 'Treatment A1',\n",
       "       'Check Treatment A1', 'Treatment A2', 'Check Treatment A2',\n",
       "       'Treatment A1', 'Check Treatment A1', 'Treatment A1',\n",
       "       'Check Treatment A1', 'Check Treatment A1', 'Treatment A3',\n",
       "       'Check Treatment A3', 'Treatment A2', 'Check Treatment A2',\n",
       "       'Treatment A1', 'Check Treatment A1', 'Treatment A1',\n",
       "       'Check Treatment A1', 'Treatment A2', 'Check Treatment A2',\n",
       "       'Check Treatment A1', 'Treatment A1', 'Check Treatment A1',\n",
       "       'Treatment A1', 'Check Treatment A1', 'Treatment A3',\n",
       "       'Check Treatment A3', 'Treatment A2', 'Check Treatment A2',\n",
       "       'Treatment A1', 'Check Treatment A1', 'Treatment A1',\n",
       "       'Check Treatment A1', 'Treatment A1', 'Check Treatment A1',\n",
       "       'Treatment A2', 'Check Treatment A2', 'Treatment A1',\n",
       "       'Check Treatment A1', 'Treatment A1', 'Check Treatment A1',\n",
       "       'Treatment A3', 'Check Treatment A3', 'Treatment A1',\n",
       "       'Check Treatment A1', 'Treatment A2', 'Check Treatment A2',\n",
       "       'Treatment A1', 'Check Treatment A1', 'Treatment A1',\n",
       "       'Check Treatment A1', 'Treatment A2', 'Check Treatment A2',\n",
       "       'Treatment A1', 'Check Treatment A1', 'Treatment A1',\n",
       "       'Check Treatment A1', 'Treatment A3', 'Check Treatment A3',\n",
       "       'Treatment A1', 'Check Treatment A1', 'Treatment A2',\n",
       "       'Check Treatment A2', 'Treatment A1', 'Check Treatment A1',\n",
       "       'Treatment A1', 'Check Treatment A1', 'Treatment A2',\n",
       "       'Check Treatment A2', 'Treatment A1', 'Check Treatment A1',\n",
       "       'Treatment A1', 'Treatment A3', 'Check Treatment A3',\n",
       "       'Treatment A1', 'Check Treatment A1', 'Treatment A2',\n",
       "       'Check Treatment A2', 'Treatment A1', 'Check Treatment A1',\n",
       "       'Discharge'], dtype=object),\n",
       "       array(['Register', 'Initial Exam', 'Initial Exam Decision',\n",
       "       'Inform about Isolation', 'Control Call', 'Control Call',\n",
       "       'Control Call', 'Control Call', 'Control Call', 'Control Call',\n",
       "       'Control Call', 'Control Call', 'Control Call', 'Test III',\n",
       "       'Test III Decision', 'Control Call (+)',\n",
       "       'Inform Authority Fill Form', 'Inform Authority Send Form',\n",
       "       'Control Call (+)', 'Control Call (+)', 'Control Call (+)',\n",
       "       'Control Call (+)', 'Register Facility', 'Decide Treatment',\n",
       "       'Treatment A1', 'Check Treatment A1', 'Treatment A3',\n",
       "       'Check Treatment A3', 'Check Treatment A2', 'Treatment A1',\n",
       "       'Check Treatment A1', 'Treatment A1', 'Treatment A2',\n",
       "       'Treatment A1', 'Check Treatment A1', 'Treatment A1',\n",
       "       'Check Treatment A1', 'Treatment A1', 'Check Treatment A1',\n",
       "       'Treatment A3', 'Check Treatment A3', 'Treatment A2',\n",
       "       'Check Treatment A2', 'Treatment A1', 'Check Treatment A1',\n",
       "       'Treatment A1', 'Check Treatment A1', 'Treatment A2',\n",
       "       'Check Treatment A2', 'Treatment A1', 'Check Treatment A1',\n",
       "       'Treatment A1', 'Check Treatment A1', 'Treatment A1',\n",
       "       'Check Treatment A1', 'Treatment A3', 'Check Treatment A3',\n",
       "       'Treatment A2', 'Check Treatment A2', 'Treatment A1',\n",
       "       'Treatment A1', 'Check Treatment A1', 'Treatment A2',\n",
       "       'Treatment A1', 'Check Treatment A1', 'Treatment A1',\n",
       "       'Check Treatment A1', 'Treatment A1', 'Check Treatment A1',\n",
       "       'Treatment A3', 'Check Treatment A3', 'Treatment A2',\n",
       "       'Check Treatment A2', 'Treatment A1', 'Check Treatment A1',\n",
       "       'Treatment A1', 'Check Treatment A1', 'Treatment A2',\n",
       "       'Check Treatment A2', 'Treatment A1', 'Check Treatment A1',\n",
       "       'Treatment A1', 'Check Treatment A1', 'Treatment A1',\n",
       "       'Check Treatment A1', 'Treatment A3', 'Check Treatment A3',\n",
       "       'Treatment A2', 'Check Treatment A2', 'Treatment A1',\n",
       "       'Check Treatment A1', 'Treatment A1', 'Check Treatment A1',\n",
       "       'Treatment A2', 'Check Treatment A2', 'Treatment A1',\n",
       "       'Check Treatment A1', 'Treatment A1', 'Check Treatment A1',\n",
       "       'Treatment A1', 'Check Treatment A1', 'Treatment A3',\n",
       "       'Check Treatment A3', 'Treatment A2', 'Check Treatment A2',\n",
       "       'Treatment A1', 'Check Treatment A1', 'Treatment A1',\n",
       "       'Check Treatment A1', 'Discharge'], dtype=object),\n",
       "       array(['Register', 'Initial Exam', 'Initial Exam Decision',\n",
       "       'Inform about Isolation', 'Control Call', 'Control Call',\n",
       "       'Control Call', 'Control Call', 'Control Call', 'Control Call',\n",
       "       'Control Call', 'Control Call', 'Test III', 'Test III Decision',\n",
       "       'Prescripe Special Medication', 'Control Call (+)',\n",
       "       'Inform Authority Fill Form', 'Inform Authority Send Form',\n",
       "       'Control Call (+)', 'Control Call (+)', 'Control Call (+)',\n",
       "       'Control Call (+)', 'Control Call (+)', 'Control Call (+)',\n",
       "       'Control Call (+)', 'Control Call (+)', 'Control Call (+)',\n",
       "       'Referral', 'Register Facility', 'Decide Treatment',\n",
       "       'Treatment A2', 'Check Treatment A2', 'Treatment A3',\n",
       "       'Check Treatment A3', 'Treatment A1', 'Check Treatment A1',\n",
       "       'Treatment A1', 'Check Treatment A1', 'Treatment A1',\n",
       "       'Check Treatment A1', 'Treatment A2', 'Check Treatment A2',\n",
       "       'Check Treatment A1', 'Treatment A1', 'Check Treatment A1',\n",
       "       'Treatment A1', 'Check Treatment A1', 'Treatment A3',\n",
       "       'Check Treatment A3', 'Treatment A2', 'Check Treatment A2',\n",
       "       'Treatment A1', 'Check Treatment A1', 'Treatment A1',\n",
       "       'Check Treatment A1', 'Treatment A1', 'Check Treatment A1',\n",
       "       'Treatment A2', 'Check Treatment A2', 'Treatment A1',\n",
       "       'Check Treatment A1', 'Treatment A1', 'Check Treatment A1',\n",
       "       'Treatment A3', 'Check Treatment A3', 'Treatment A2',\n",
       "       'Check Treatment A2', 'Treatment A1', 'Check Treatment A1',\n",
       "       'Treatment A1', 'Check Treatment A1', 'Treatment A1',\n",
       "       'Check Treatment A1', 'Treatment A2', 'Check Treatment A2',\n",
       "       'Treatment A1', 'Check Treatment A1', 'Treatment A1',\n",
       "       'Check Treatment A1', 'Treatment A3', 'Check Treatment A3',\n",
       "       'Treatment A2', 'Check Treatment A2', 'Treatment A1',\n",
       "       'Check Treatment A1', 'Treatment A1', 'Treatment A1',\n",
       "       'Check Treatment A1', 'Treatment A2', 'Check Treatment A2',\n",
       "       'Treatment A1', 'Check Treatment A1', 'Treatment A1',\n",
       "       'Check Treatment A1', 'Discharge'], dtype=object),\n",
       "       array(['Register', 'Initial Exam', 'Initial Exam Decision',\n",
       "       'Inform about Isolation', 'Control Call', 'Control Call',\n",
       "       'Control Call', 'Control Call', 'Control Call', 'Test III',\n",
       "       'Test III Decision', 'Prescripe Special Medication',\n",
       "       'Inform Authority Fill Form', 'Inform Authority Send Form',\n",
       "       'Control Call (+)', 'Control Call (+)', 'Control Call (+)',\n",
       "       'Control Call (+)', 'Control Call (+)', 'Control Call (+)',\n",
       "       'Control Call (+)', 'Control Call (+)', 'Control Call (+)',\n",
       "       'Control Call (+)', 'Control Call (+)', 'Control Call (+)',\n",
       "       'Control Call (+)', 'Referral', 'Register Facility',\n",
       "       'Decide Treatment', 'Treatment A1', 'Check Treatment A1',\n",
       "       'Treatment A2', 'Check Treatment A2', 'Treatment A3',\n",
       "       'Check Treatment A3', 'Treatment A1', 'Check Treatment A1',\n",
       "       'Treatment A1', 'Check Treatment A1', 'Treatment A2',\n",
       "       'Check Treatment A2', 'Treatment A1', 'Check Treatment A1',\n",
       "       'Treatment A1', 'Check Treatment A1', 'Treatment A1',\n",
       "       'Check Treatment A1', 'Treatment A3', 'Check Treatment A3',\n",
       "       'Treatment A2', 'Check Treatment A2', 'Treatment A1',\n",
       "       'Check Treatment A1', 'Treatment A1', 'Check Treatment A1',\n",
       "       'Treatment A2', 'Check Treatment A2', 'Treatment A1',\n",
       "       'Check Treatment A1', 'Treatment A1', 'Check Treatment A1',\n",
       "       'Treatment A1', 'Check Treatment A1', 'Treatment A3',\n",
       "       'Check Treatment A3', 'Treatment A2', 'Check Treatment A2',\n",
       "       'Treatment A1', 'Check Treatment A1', 'Treatment A1',\n",
       "       'Check Treatment A1', 'Treatment A2', 'Check Treatment A2',\n",
       "       'Treatment A1', 'Treatment A1', 'Check Treatment A1',\n",
       "       'Treatment A1', 'Treatment A3', 'Check Treatment A3',\n",
       "       'Treatment A2', 'Check Treatment A2', 'Treatment A1',\n",
       "       'Check Treatment A1', 'Treatment A1', 'Check Treatment A1',\n",
       "       'Treatment A2', 'Check Treatment A2', 'Treatment A1',\n",
       "       'Check Treatment A1', 'Treatment A1', 'Check Treatment A1',\n",
       "       'Discharge'], dtype=object),\n",
       "       array(['Register', 'Initial Exam', 'Initial Exam Decision',\n",
       "       'Inform about Isolation', 'Control Call', 'Control Call',\n",
       "       'Control Call', 'Control Call', 'Control Call', 'Control Call',\n",
       "       'Control Call', 'Control Call', 'Control Call', 'Control Call',\n",
       "       'Test III', 'Prescripe Special Medication', 'Control Call (+)',\n",
       "       'Control Call (+)', 'Inform Authority Fill Form', 'Referral',\n",
       "       'Inform Authority Send Form', 'Decide Treatment', 'Treatment A1',\n",
       "       'Treatment A3', 'Check Treatment A3', 'Treatment A2',\n",
       "       'Check Treatment A2', 'Treatment A1', 'Check Treatment A1',\n",
       "       'Check Treatment A1', 'Treatment A2', 'Check Treatment A2',\n",
       "       'Treatment A1', 'Check Treatment A1', 'Treatment A1',\n",
       "       'Check Treatment A1', 'Treatment A1', 'Check Treatment A1',\n",
       "       'Treatment A3', 'Check Treatment A3', 'Treatment A2',\n",
       "       'Check Treatment A2', 'Treatment A1', 'Check Treatment A1',\n",
       "       'Treatment A2', 'Check Treatment A2', 'Treatment A1',\n",
       "       'Check Treatment A1', 'Treatment A1', 'Check Treatment A1',\n",
       "       'Treatment A1', 'Check Treatment A1', 'Treatment A3',\n",
       "       'Check Treatment A3', 'Treatment A2', 'Check Treatment A2',\n",
       "       'Treatment A1', 'Check Treatment A1', 'Treatment A1',\n",
       "       'Check Treatment A1', 'Treatment A1', 'Check Treatment A1',\n",
       "       'Check Treatment A2', 'Treatment A1', 'Check Treatment A1',\n",
       "       'Treatment A1', 'Check Treatment A1', 'Treatment A3',\n",
       "       'Check Treatment A3', 'Treatment A2', 'Check Treatment A2',\n",
       "       'Treatment A1', 'Check Treatment A1', 'Check Treatment A1',\n",
       "       'Treatment A1', 'Check Treatment A1', 'Treatment A2',\n",
       "       'Check Treatment A2', 'Treatment A1', 'Check Treatment A1',\n",
       "       'Treatment A1', 'Check Treatment A1', 'Treatment A3',\n",
       "       'Check Treatment A3', 'Treatment A1', 'Check Treatment A1',\n",
       "       'Treatment A2', 'Check Treatment A2', 'Treatment A1',\n",
       "       'Check Treatment A1', 'Treatment A1', 'Check Treatment A1',\n",
       "       'Treatment A2', 'Check Treatment A2', 'Treatment A1',\n",
       "       'Check Treatment A1', 'Treatment A1', 'Check Treatment A1',\n",
       "       'Discharge'], dtype=object),\n",
       "       array(['Register', 'Initial Exam', 'Initial Exam Decision',\n",
       "       'Inform about Isolation', 'Control Call', 'Control Call',\n",
       "       'Control Call', 'Control Call', 'Control Call', 'Control Call',\n",
       "       'Test III', 'Test III Decision', 'Control Call (+)',\n",
       "       'Inform Authority Fill Form', 'Inform Authority Send Form',\n",
       "       'Control Call (+)', 'Control Call (+)', 'Control Call (+)',\n",
       "       'Control Call (+)', 'Control Call (+)', 'Control Call (+)',\n",
       "       'Control Call (+)', 'Control Call (+)', 'Referral',\n",
       "       'Register Facility', 'Decide Treatment', 'Treatment A1',\n",
       "       'Check Treatment A1', 'Treatment A2', 'Check Treatment A2',\n",
       "       'Check Treatment A3', 'Treatment A1', 'Check Treatment A1',\n",
       "       'Treatment A1', 'Check Treatment A1', 'Treatment A2',\n",
       "       'Check Treatment A2', 'Treatment A1', 'Check Treatment A1',\n",
       "       'Treatment A1', 'Check Treatment A1', 'Treatment A3',\n",
       "       'Check Treatment A3', 'Treatment A2', 'Check Treatment A2',\n",
       "       'Treatment A1', 'Check Treatment A1', 'Treatment A1',\n",
       "       'Check Treatment A1', 'Treatment A1', 'Check Treatment A1',\n",
       "       'Treatment A2', 'Treatment A1', 'Check Treatment A1',\n",
       "       'Treatment A1', 'Check Treatment A1', 'Treatment A1',\n",
       "       'Check Treatment A1', 'Treatment A3', 'Check Treatment A3',\n",
       "       'Treatment A2', 'Check Treatment A2', 'Treatment A1',\n",
       "       'Check Treatment A1', 'Treatment A1', 'Check Treatment A1',\n",
       "       'Treatment A2', 'Check Treatment A2', 'Treatment A1',\n",
       "       'Check Treatment A1', 'Treatment A1', 'Check Treatment A1',\n",
       "       'Treatment A1', 'Check Treatment A1', 'Treatment A3',\n",
       "       'Check Treatment A3', 'Treatment A2', 'Check Treatment A2',\n",
       "       'Treatment A1', 'Check Treatment A1', 'Treatment A1',\n",
       "       'Check Treatment A1', 'Treatment A2', 'Check Treatment A2',\n",
       "       'Treatment A1', 'Check Treatment A1', 'Check Treatment A1',\n",
       "       'Treatment A1', 'Check Treatment A1', 'Treatment A3',\n",
       "       'Check Treatment A3', 'Treatment A2', 'Check Treatment A2',\n",
       "       'Treatment A1', 'Check Treatment A1', 'Treatment A1',\n",
       "       'Check Treatment A1', 'Treatment A2', 'Check Treatment A2',\n",
       "       'Check Treatment A1', 'Treatment A1', 'Check Treatment A1',\n",
       "       'Check Treatment A1', 'Treatment A3', 'Check Treatment A3',\n",
       "       'Treatment A2', 'Check Treatment A2', 'Treatment A1',\n",
       "       'Check Treatment A1', 'Check Treatment A1', 'Treatment A2',\n",
       "       'Check Treatment A2', 'Treatment A1', 'Check Treatment A1',\n",
       "       'Treatment A1', 'Check Treatment A1', 'Treatment A1',\n",
       "       'Check Treatment A1', 'Treatment A3', 'Check Treatment A3',\n",
       "       'Check Treatment A2', 'Treatment A1', 'Check Treatment A1',\n",
       "       'Discharge'], dtype=object),\n",
       "       array(['Register', 'Initial Exam', 'Initial Exam Decision',\n",
       "       'Inform about Isolation', 'Control Call', 'Control Call',\n",
       "       'Control Call', 'Control Call', 'Control Call', 'Control Call',\n",
       "       'Control Call', 'Control Call', 'Control Call', 'Test III',\n",
       "       'Test III Decision', 'Prescripe Special Medication',\n",
       "       'Inform Authority Fill Form', 'Inform Authority Send Form',\n",
       "       'Control Call (+)', 'Control Call (+)', 'Control Call (+)',\n",
       "       'Control Call (+)', 'Control Call (+)', 'Control Call (+)',\n",
       "       'Control Call (+)', 'Control Call (+)', 'Control Call (+)',\n",
       "       'Control Call (+)', 'Control Call (+)', 'Control Call (+)',\n",
       "       'Control Call (+)', 'Control Call (+)', 'Control Call (+)',\n",
       "       'Referral', 'Register Facility', 'Decide Treatment',\n",
       "       'Treatment A2', 'Check Treatment A2', 'Treatment A3',\n",
       "       'Check Treatment A3', 'Treatment A1', 'Check Treatment A1',\n",
       "       'Treatment A1', 'Check Treatment A1', 'Treatment A1',\n",
       "       'Check Treatment A1', 'Treatment A2', 'Check Treatment A2',\n",
       "       'Treatment A1', 'Check Treatment A1', 'Treatment A1',\n",
       "       'Check Treatment A1', 'Treatment A1', 'Check Treatment A1',\n",
       "       'Treatment A3', 'Check Treatment A3', 'Treatment A2',\n",
       "       'Check Treatment A2', 'Treatment A1', 'Check Treatment A1',\n",
       "       'Check Treatment A1', 'Treatment A2', 'Check Treatment A2',\n",
       "       'Treatment A1', 'Check Treatment A1', 'Check Treatment A1',\n",
       "       'Treatment A1', 'Check Treatment A1', 'Treatment A3',\n",
       "       'Check Treatment A3', 'Treatment A2', 'Check Treatment A2',\n",
       "       'Treatment A1', 'Check Treatment A1', 'Treatment A1',\n",
       "       'Check Treatment A1', 'Treatment A1', 'Check Treatment A1',\n",
       "       'Treatment A2', 'Check Treatment A2', 'Treatment A1',\n",
       "       'Check Treatment A1', 'Treatment A1', 'Check Treatment A1',\n",
       "       'Treatment A3', 'Check Treatment A3', 'Treatment A1',\n",
       "       'Check Treatment A1', 'Treatment A2', 'Treatment A1',\n",
       "       'Check Treatment A1', 'Treatment A1', 'Check Treatment A1',\n",
       "       'Treatment A1', 'Treatment A2', 'Check Treatment A2',\n",
       "       'Treatment A1', 'Check Treatment A1', 'Discharge'], dtype=object),\n",
       "       array(['Register', 'Initial Exam', 'Initial Exam Decision',\n",
       "       'Inform about Isolation', 'Control Call', 'Control Call',\n",
       "       'Control Call', 'Control Call', 'Control Call', 'Test III',\n",
       "       'Test III Decision', 'Prescripe Special Medication',\n",
       "       'Control Call (+)', 'Control Call (+)',\n",
       "       'Inform Authority Fill Form', 'Inform Authority Send Form',\n",
       "       'Control Call (+)', 'Control Call (+)', 'Control Call (+)',\n",
       "       'Control Call (+)', 'Control Call (+)', 'Control Call (+)',\n",
       "       'Register Facility', 'Decide Treatment', 'Treatment A2',\n",
       "       'Check Treatment A2', 'Treatment A3', 'Check Treatment A3',\n",
       "       'Treatment A1', 'Check Treatment A1', 'Treatment A1',\n",
       "       'Check Treatment A1', 'Treatment A1', 'Check Treatment A1',\n",
       "       'Treatment A2', 'Check Treatment A2', 'Check Treatment A1',\n",
       "       'Treatment A1', 'Check Treatment A1', 'Treatment A3',\n",
       "       'Check Treatment A3', 'Treatment A2', 'Check Treatment A2',\n",
       "       'Treatment A1', 'Check Treatment A1', 'Treatment A1',\n",
       "       'Check Treatment A1', 'Treatment A1', 'Check Treatment A1',\n",
       "       'Treatment A2', 'Check Treatment A2', 'Treatment A1',\n",
       "       'Check Treatment A1', 'Treatment A1', 'Check Treatment A1',\n",
       "       'Treatment A3', 'Check Treatment A3', 'Treatment A1',\n",
       "       'Check Treatment A1', 'Check Treatment A2', 'Treatment A1',\n",
       "       'Check Treatment A1', 'Treatment A1', 'Check Treatment A1',\n",
       "       'Treatment A2', 'Check Treatment A2', 'Treatment A1',\n",
       "       'Check Treatment A1', 'Treatment A1', 'Check Treatment A1',\n",
       "       'Check Treatment A1', 'Treatment A3', 'Check Treatment A3',\n",
       "       'Treatment A2', 'Check Treatment A2', 'Treatment A1',\n",
       "       'Check Treatment A1', 'Treatment A1', 'Check Treatment A1',\n",
       "       'Treatment A2', 'Check Treatment A2', 'Treatment A1',\n",
       "       'Check Treatment A1', 'Treatment A1', 'Check Treatment A1',\n",
       "       'Discharge'], dtype=object),\n",
       "       array(['Register', 'Initial Exam', 'Initial Exam Decision',\n",
       "       'Inform about Isolation', 'Control Call', 'Control Call',\n",
       "       'Control Call', 'Control Call', 'Control Call', 'Control Call',\n",
       "       'Control Call', 'Control Call', 'Test III', 'Test III Decision',\n",
       "       'Prescripe Special Medication', 'Inform Authority Fill Form',\n",
       "       'Control Call (+)', 'Inform Authority Send Form',\n",
       "       'Control Call (+)', 'Control Call (+)', 'Control Call (+)',\n",
       "       'Control Call (+)', 'Control Call (+)', 'Control Call (+)',\n",
       "       'Control Call (+)', 'Control Call (+)', 'Control Call (+)',\n",
       "       'Control Call (+)', 'Control Call (+)', 'Control Call (+)',\n",
       "       'Control Call (+)', 'Control Call (+)', 'Control Call (+)',\n",
       "       'Control Call (+)', 'Control Call (+)', 'Control Call (+)',\n",
       "       'Control Call (+)', 'Control Call (+)', 'Control Call (+)',\n",
       "       'Control Call (+)', 'Referral', 'Register Facility',\n",
       "       'Treatment A1', 'Check Treatment A1', 'Treatment A3',\n",
       "       'Treatment A2', 'Check Treatment A2', 'Treatment A1',\n",
       "       'Check Treatment A1', 'Treatment A1', 'Check Treatment A1',\n",
       "       'Treatment A2', 'Check Treatment A2', 'Treatment A1',\n",
       "       'Check Treatment A1', 'Treatment A1', 'Check Treatment A1',\n",
       "       'Treatment A1', 'Check Treatment A1', 'Treatment A3',\n",
       "       'Check Treatment A3', 'Treatment A2', 'Check Treatment A2',\n",
       "       'Treatment A1', 'Check Treatment A1', 'Treatment A1',\n",
       "       'Check Treatment A1', 'Treatment A1', 'Check Treatment A1',\n",
       "       'Treatment A2', 'Check Treatment A2', 'Treatment A1',\n",
       "       'Check Treatment A1', 'Treatment A1', 'Check Treatment A1',\n",
       "       'Treatment A3', 'Treatment A2', 'Check Treatment A2',\n",
       "       'Treatment A1', 'Treatment A1', 'Check Treatment A1',\n",
       "       'Treatment A1', 'Check Treatment A1', 'Treatment A2',\n",
       "       'Treatment A1', 'Check Treatment A1', 'Treatment A1',\n",
       "       'Check Treatment A1', 'Treatment A3', 'Check Treatment A3',\n",
       "       'Treatment A2', 'Check Treatment A2', 'Treatment A1',\n",
       "       'Check Treatment A1', 'Treatment A1', 'Check Treatment A1',\n",
       "       'Treatment A1', 'Check Treatment A1', 'Treatment A2',\n",
       "       'Check Treatment A2', 'Treatment A1', 'Check Treatment A1',\n",
       "       'Treatment A1', 'Check Treatment A1', 'Discharge'], dtype=object),\n",
       "       array(['Register', 'Initial Exam', 'Initial Exam Decision',\n",
       "       'Inform about Isolation', 'Control Call', 'Control Call',\n",
       "       'Control Call', 'Control Call', 'Test III', 'Test III Decision',\n",
       "       'Prescripe Special Medication', 'Control Call (+)',\n",
       "       'Inform Authority Fill Form', 'Inform Authority Send Form',\n",
       "       'Control Call (+)', 'Control Call (+)', 'Control Call (+)',\n",
       "       'Control Call (+)', 'Control Call (+)', 'Control Call (+)',\n",
       "       'Control Call (+)', 'Control Call (+)', 'Control Call (+)',\n",
       "       'Referral', 'Register Facility', 'Decide Treatment',\n",
       "       'Treatment A1', 'Check Treatment A1', 'Treatment A2',\n",
       "       'Treatment A3', 'Check Treatment A3', 'Treatment A1',\n",
       "       'Check Treatment A1', 'Check Treatment A1', 'Treatment A2',\n",
       "       'Check Treatment A2', 'Treatment A1', 'Check Treatment A1',\n",
       "       'Treatment A1', 'Check Treatment A1', 'Treatment A1',\n",
       "       'Check Treatment A1', 'Treatment A3', 'Check Treatment A3',\n",
       "       'Check Treatment A2', 'Treatment A1', 'Check Treatment A1',\n",
       "       'Treatment A1', 'Check Treatment A1', 'Treatment A1',\n",
       "       'Treatment A2', 'Check Treatment A2', 'Treatment A1',\n",
       "       'Check Treatment A1', 'Treatment A1', 'Check Treatment A1',\n",
       "       'Treatment A3', 'Check Treatment A3', 'Treatment A2',\n",
       "       'Check Treatment A2', 'Treatment A1', 'Check Treatment A1',\n",
       "       'Treatment A1', 'Check Treatment A1', 'Treatment A1',\n",
       "       'Check Treatment A1', 'Treatment A2', 'Check Treatment A2',\n",
       "       'Treatment A1', 'Check Treatment A1', 'Treatment A1',\n",
       "       'Check Treatment A1', 'Treatment A3', 'Check Treatment A3',\n",
       "       'Treatment A2', 'Check Treatment A2', 'Treatment A1',\n",
       "       'Check Treatment A1', 'Treatment A1', 'Check Treatment A1',\n",
       "       'Treatment A1', 'Check Treatment A1', 'Treatment A2',\n",
       "       'Check Treatment A2', 'Treatment A1', 'Check Treatment A1',\n",
       "       'Treatment A1', 'Check Treatment A1', 'Discharge'], dtype=object)],\n",
       "      dtype=object)"
      ]
     },
     "execution_count": 17,
     "metadata": {},
     "output_type": "execute_result"
    }
   ],
   "source": [
    "treatment_A_traces.sample(10).values"
   ]
  },
  {
   "cell_type": "markdown",
   "metadata": {},
   "source": [
    "We can notice how the rarity of traces with `Treatment A*` activities impacted in them being filtered, as the transitions from `Decide Treatment` to the `Treatment A*` were filtered out. But as the `Treatment A*` happen many times in a single trace, the structure was roughly kept."
   ]
  },
  {
   "cell_type": "markdown",
   "metadata": {},
   "source": [
    "## d)\n",
    "\n",
    "> Investigate the DFG of the log after applying the preceding steps. Which activities might be filtered out in order to obtain an improved model that explains most of the process more precisely? Why might this yield better results when applying the IM? Implement a filter and apply the IM to the filtered log."
   ]
  },
  {
   "cell_type": "markdown",
   "metadata": {},
   "source": [
    "Perhaps the resulting model can be improved by tuning the noise threshold or by removing the `* Treatment A*` activities completely.\n",
    "\n",
    "#### Total `* Treatment A*` removal\n",
    "\n",
    "As the traces in which the A* treatments were applied account for only 123 traces (8,2%), we can say that removing them totally we will still represent the majority of the process."
   ]
  },
  {
   "cell_type": "code",
   "execution_count": 18,
   "metadata": {},
   "outputs": [
    {
     "data": {
      "text/html": [
       "<div>\n",
       "<style scoped>\n",
       "    .dataframe tbody tr th:only-of-type {\n",
       "        vertical-align: middle;\n",
       "    }\n",
       "\n",
       "    .dataframe tbody tr th {\n",
       "        vertical-align: top;\n",
       "    }\n",
       "\n",
       "    .dataframe thead th {\n",
       "        text-align: right;\n",
       "    }\n",
       "</style>\n",
       "<table border=\"1\" class=\"dataframe\">\n",
       "  <thead>\n",
       "    <tr style=\"text-align: right;\">\n",
       "      <th></th>\n",
       "      <th>Patient</th>\n",
       "      <th>Activity</th>\n",
       "      <th>Resource</th>\n",
       "      <th>case:PatientName</th>\n",
       "      <th>case:Age</th>\n",
       "      <th>case:Insurance</th>\n",
       "      <th>start_timestamp</th>\n",
       "      <th>Timestamp</th>\n",
       "      <th>@@duration</th>\n",
       "      <th>Test III Timestamp</th>\n",
       "    </tr>\n",
       "  </thead>\n",
       "  <tbody>\n",
       "    <tr>\n",
       "      <th>0</th>\n",
       "      <td>1</td>\n",
       "      <td>Register</td>\n",
       "      <td>Alexander</td>\n",
       "      <td>Hermann the 1.</td>\n",
       "      <td>51</td>\n",
       "      <td>STAT</td>\n",
       "      <td>2020-06-01 06:00:00</td>\n",
       "      <td>2020-06-01 06:08:53</td>\n",
       "      <td>533.0</td>\n",
       "      <td>2020-06-01 07:03:47</td>\n",
       "    </tr>\n",
       "    <tr>\n",
       "      <th>1</th>\n",
       "      <td>1</td>\n",
       "      <td>Initial Exam</td>\n",
       "      <td>Anna</td>\n",
       "      <td>Hermann the 1.</td>\n",
       "      <td>51</td>\n",
       "      <td>STAT</td>\n",
       "      <td>2020-06-01 06:10:48</td>\n",
       "      <td>2020-06-01 06:25:43</td>\n",
       "      <td>895.0</td>\n",
       "      <td>2020-06-01 07:03:47</td>\n",
       "    </tr>\n",
       "    <tr>\n",
       "      <th>2</th>\n",
       "      <td>1</td>\n",
       "      <td>Initial Exam Decision</td>\n",
       "      <td>Amelie,Anna</td>\n",
       "      <td>Hermann the 1.</td>\n",
       "      <td>51</td>\n",
       "      <td>STAT</td>\n",
       "      <td>2020-06-01 06:26:43</td>\n",
       "      <td>2020-06-01 06:31:52</td>\n",
       "      <td>309.0</td>\n",
       "      <td>2020-06-01 07:03:47</td>\n",
       "    </tr>\n",
       "    <tr>\n",
       "      <th>3</th>\n",
       "      <td>1</td>\n",
       "      <td>Inform about Isolation</td>\n",
       "      <td>Alexander</td>\n",
       "      <td>Hermann the 1.</td>\n",
       "      <td>51</td>\n",
       "      <td>STAT</td>\n",
       "      <td>2020-06-01 06:33:45</td>\n",
       "      <td>2020-06-01 06:33:45</td>\n",
       "      <td>0.0</td>\n",
       "      <td>2020-06-01 07:03:47</td>\n",
       "    </tr>\n",
       "    <tr>\n",
       "      <th>4</th>\n",
       "      <td>1</td>\n",
       "      <td>Test III</td>\n",
       "      <td>Anna</td>\n",
       "      <td>Hermann the 1.</td>\n",
       "      <td>51</td>\n",
       "      <td>STAT</td>\n",
       "      <td>2020-06-01 06:35:35</td>\n",
       "      <td>2020-06-01 07:03:47</td>\n",
       "      <td>1692.0</td>\n",
       "      <td>2020-06-01 07:03:47</td>\n",
       "    </tr>\n",
       "    <tr>\n",
       "      <th>...</th>\n",
       "      <td>...</td>\n",
       "      <td>...</td>\n",
       "      <td>...</td>\n",
       "      <td>...</td>\n",
       "      <td>...</td>\n",
       "      <td>...</td>\n",
       "      <td>...</td>\n",
       "      <td>...</td>\n",
       "      <td>...</td>\n",
       "      <td>...</td>\n",
       "    </tr>\n",
       "    <tr>\n",
       "      <th>33859</th>\n",
       "      <td>1500</td>\n",
       "      <td>Control Call</td>\n",
       "      <td>InspectorInis</td>\n",
       "      <td>Ulrich the 1500.</td>\n",
       "      <td>51</td>\n",
       "      <td>PRIV</td>\n",
       "      <td>2020-07-14 07:35:39</td>\n",
       "      <td>2020-07-14 07:40:58</td>\n",
       "      <td>319.0</td>\n",
       "      <td>2020-07-14 14:13:27</td>\n",
       "    </tr>\n",
       "    <tr>\n",
       "      <th>33860</th>\n",
       "      <td>1500</td>\n",
       "      <td>Control Call</td>\n",
       "      <td>InspectorInis</td>\n",
       "      <td>Ulrich the 1500.</td>\n",
       "      <td>51</td>\n",
       "      <td>PRIV</td>\n",
       "      <td>2020-07-14 11:05:01</td>\n",
       "      <td>2020-07-14 11:09:47</td>\n",
       "      <td>286.0</td>\n",
       "      <td>2020-07-14 14:13:27</td>\n",
       "    </tr>\n",
       "    <tr>\n",
       "      <th>33861</th>\n",
       "      <td>1500</td>\n",
       "      <td>Test III</td>\n",
       "      <td>Amalia</td>\n",
       "      <td>Ulrich the 1500.</td>\n",
       "      <td>51</td>\n",
       "      <td>PRIV</td>\n",
       "      <td>2020-07-14 13:41:46</td>\n",
       "      <td>2020-07-14 14:13:27</td>\n",
       "      <td>1901.0</td>\n",
       "      <td>2020-07-14 14:13:27</td>\n",
       "    </tr>\n",
       "    <tr>\n",
       "      <th>33862</th>\n",
       "      <td>1500</td>\n",
       "      <td>Test III Decision</td>\n",
       "      <td>Amelie,Amalia</td>\n",
       "      <td>Ulrich the 1500.</td>\n",
       "      <td>51</td>\n",
       "      <td>PRIV</td>\n",
       "      <td>2020-07-14 14:13:27</td>\n",
       "      <td>2020-07-14 14:19:18</td>\n",
       "      <td>351.0</td>\n",
       "      <td>2020-07-14 14:13:27</td>\n",
       "    </tr>\n",
       "    <tr>\n",
       "      <th>33863</th>\n",
       "      <td>1500</td>\n",
       "      <td>Discharge Test</td>\n",
       "      <td>Alexander</td>\n",
       "      <td>Ulrich the 1500.</td>\n",
       "      <td>51</td>\n",
       "      <td>PRIV</td>\n",
       "      <td>2020-07-14 14:21:11</td>\n",
       "      <td>2020-07-14 14:28:18</td>\n",
       "      <td>427.0</td>\n",
       "      <td>2020-07-14 14:13:27</td>\n",
       "    </tr>\n",
       "  </tbody>\n",
       "</table>\n",
       "<p>21131 rows × 10 columns</p>\n",
       "</div>"
      ],
      "text/plain": [
       "       Patient                Activity       Resource  case:PatientName  \\\n",
       "0            1                Register      Alexander    Hermann the 1.   \n",
       "1            1            Initial Exam           Anna    Hermann the 1.   \n",
       "2            1   Initial Exam Decision    Amelie,Anna    Hermann the 1.   \n",
       "3            1  Inform about Isolation      Alexander    Hermann the 1.   \n",
       "4            1                Test III           Anna    Hermann the 1.   \n",
       "...        ...                     ...            ...               ...   \n",
       "33859     1500            Control Call  InspectorInis  Ulrich the 1500.   \n",
       "33860     1500            Control Call  InspectorInis  Ulrich the 1500.   \n",
       "33861     1500                Test III         Amalia  Ulrich the 1500.   \n",
       "33862     1500       Test III Decision  Amelie,Amalia  Ulrich the 1500.   \n",
       "33863     1500          Discharge Test      Alexander  Ulrich the 1500.   \n",
       "\n",
       "       case:Age case:Insurance     start_timestamp           Timestamp  \\\n",
       "0            51           STAT 2020-06-01 06:00:00 2020-06-01 06:08:53   \n",
       "1            51           STAT 2020-06-01 06:10:48 2020-06-01 06:25:43   \n",
       "2            51           STAT 2020-06-01 06:26:43 2020-06-01 06:31:52   \n",
       "3            51           STAT 2020-06-01 06:33:45 2020-06-01 06:33:45   \n",
       "4            51           STAT 2020-06-01 06:35:35 2020-06-01 07:03:47   \n",
       "...         ...            ...                 ...                 ...   \n",
       "33859        51           PRIV 2020-07-14 07:35:39 2020-07-14 07:40:58   \n",
       "33860        51           PRIV 2020-07-14 11:05:01 2020-07-14 11:09:47   \n",
       "33861        51           PRIV 2020-07-14 13:41:46 2020-07-14 14:13:27   \n",
       "33862        51           PRIV 2020-07-14 14:13:27 2020-07-14 14:19:18   \n",
       "33863        51           PRIV 2020-07-14 14:21:11 2020-07-14 14:28:18   \n",
       "\n",
       "       @@duration  Test III Timestamp  \n",
       "0           533.0 2020-06-01 07:03:47  \n",
       "1           895.0 2020-06-01 07:03:47  \n",
       "2           309.0 2020-06-01 07:03:47  \n",
       "3             0.0 2020-06-01 07:03:47  \n",
       "4          1692.0 2020-06-01 07:03:47  \n",
       "...           ...                 ...  \n",
       "33859       319.0 2020-07-14 14:13:27  \n",
       "33860       286.0 2020-07-14 14:13:27  \n",
       "33861      1901.0 2020-07-14 14:13:27  \n",
       "33862       351.0 2020-07-14 14:13:27  \n",
       "33863       427.0 2020-07-14 14:13:27  \n",
       "\n",
       "[21131 rows x 10 columns]"
      ]
     },
     "execution_count": 18,
     "metadata": {},
     "output_type": "execute_result"
    }
   ],
   "source": [
    "df_no_A = df_renaming[~df_renaming['Patient'].isin(treatment_A_traces.index)]\n",
    "\n",
    "df_no_A"
   ]
  },
  {
   "cell_type": "code",
   "execution_count": 19,
   "metadata": {},
   "outputs": [
    {
     "data": {
      "text/plain": [
       "'./figures/q1_d_no_A.pdf'"
      ]
     },
     "execution_count": 19,
     "metadata": {},
     "output_type": "execute_result"
    }
   ],
   "source": [
    "log_no_A = log_converter.apply(df_no_A, parameters=param_keys)\n",
    "\n",
    "dfg_no_A = dfg_discovery.apply(log_no_A, parameters=param_keys)\n",
    "\n",
    "dfg_no_A = dfg_filtering.apply(dfg_no_A, parameters=param_keys)\n",
    "\n",
    "dfg_viz = dfg_visualization.apply(dfg_no_A, log=log_no_A, parameters=param_keys)\n",
    "\n",
    "dfg_viz.render(os.path.join(figures_dir, 'q1_d_no_A'),\n",
    "               format='pdf',\n",
    "               view=True)"
   ]
  },
  {
   "cell_type": "markdown",
   "metadata": {},
   "source": [
    "The DFG now looks very concise."
   ]
  },
  {
   "cell_type": "code",
   "execution_count": 20,
   "metadata": {},
   "outputs": [
    {
     "data": {
      "text/plain": [
       "'./figures/q1_d_tree_no_A.pdf'"
      ]
     },
     "execution_count": 20,
     "metadata": {},
     "output_type": "execute_result"
    }
   ],
   "source": [
    "tree_no_A = inductive_miner.apply_tree_dfg(dfg_no_A, parameters=param_keys)\n",
    "\n",
    "tree_graph = pt_visualizer.apply(tree_no_A)\n",
    "\n",
    "# fix operations size\n",
    "tree_graph.body = list(map(lambda r:r.replace('width=0.6', 'width=1'),\n",
    "                           tree_graph.body))\n",
    "\n",
    "tree_graph.render(os.path.join(figures_dir, 'q1_d_tree_no_A'),\n",
    "                  format='pdf',\n",
    "                  view=True)"
   ]
  },
  {
   "cell_type": "markdown",
   "metadata": {},
   "source": [
    "We can see that the PT is also much closer to the majority of the traces, representing well the process. Still, it keeps the silent activities."
   ]
  },
  {
   "cell_type": "markdown",
   "metadata": {},
   "source": [
    "#### Partial `* Treatment A*` removal\n",
    "\n",
    "We can also remove only the activities related to these treatments, keeping the traces. This ensures that we do not loose too much data."
   ]
  },
  {
   "cell_type": "code",
   "execution_count": 21,
   "metadata": {},
   "outputs": [
    {
     "data": {
      "text/html": [
       "<div>\n",
       "<style scoped>\n",
       "    .dataframe tbody tr th:only-of-type {\n",
       "        vertical-align: middle;\n",
       "    }\n",
       "\n",
       "    .dataframe tbody tr th {\n",
       "        vertical-align: top;\n",
       "    }\n",
       "\n",
       "    .dataframe thead th {\n",
       "        text-align: right;\n",
       "    }\n",
       "</style>\n",
       "<table border=\"1\" class=\"dataframe\">\n",
       "  <thead>\n",
       "    <tr style=\"text-align: right;\">\n",
       "      <th></th>\n",
       "      <th>Patient</th>\n",
       "      <th>Activity</th>\n",
       "      <th>Resource</th>\n",
       "      <th>case:PatientName</th>\n",
       "      <th>case:Age</th>\n",
       "      <th>case:Insurance</th>\n",
       "      <th>start_timestamp</th>\n",
       "      <th>Timestamp</th>\n",
       "      <th>@@duration</th>\n",
       "      <th>Test III Timestamp</th>\n",
       "    </tr>\n",
       "  </thead>\n",
       "  <tbody>\n",
       "    <tr>\n",
       "      <th>0</th>\n",
       "      <td>1</td>\n",
       "      <td>Register</td>\n",
       "      <td>Alexander</td>\n",
       "      <td>Hermann the 1.</td>\n",
       "      <td>51</td>\n",
       "      <td>STAT</td>\n",
       "      <td>2020-06-01 06:00:00</td>\n",
       "      <td>2020-06-01 06:08:53</td>\n",
       "      <td>533.0</td>\n",
       "      <td>2020-06-01 07:03:47</td>\n",
       "    </tr>\n",
       "    <tr>\n",
       "      <th>1</th>\n",
       "      <td>1</td>\n",
       "      <td>Initial Exam</td>\n",
       "      <td>Anna</td>\n",
       "      <td>Hermann the 1.</td>\n",
       "      <td>51</td>\n",
       "      <td>STAT</td>\n",
       "      <td>2020-06-01 06:10:48</td>\n",
       "      <td>2020-06-01 06:25:43</td>\n",
       "      <td>895.0</td>\n",
       "      <td>2020-06-01 07:03:47</td>\n",
       "    </tr>\n",
       "    <tr>\n",
       "      <th>2</th>\n",
       "      <td>1</td>\n",
       "      <td>Initial Exam Decision</td>\n",
       "      <td>Amelie,Anna</td>\n",
       "      <td>Hermann the 1.</td>\n",
       "      <td>51</td>\n",
       "      <td>STAT</td>\n",
       "      <td>2020-06-01 06:26:43</td>\n",
       "      <td>2020-06-01 06:31:52</td>\n",
       "      <td>309.0</td>\n",
       "      <td>2020-06-01 07:03:47</td>\n",
       "    </tr>\n",
       "    <tr>\n",
       "      <th>3</th>\n",
       "      <td>1</td>\n",
       "      <td>Inform about Isolation</td>\n",
       "      <td>Alexander</td>\n",
       "      <td>Hermann the 1.</td>\n",
       "      <td>51</td>\n",
       "      <td>STAT</td>\n",
       "      <td>2020-06-01 06:33:45</td>\n",
       "      <td>2020-06-01 06:33:45</td>\n",
       "      <td>0.0</td>\n",
       "      <td>2020-06-01 07:03:47</td>\n",
       "    </tr>\n",
       "    <tr>\n",
       "      <th>4</th>\n",
       "      <td>1</td>\n",
       "      <td>Test III</td>\n",
       "      <td>Anna</td>\n",
       "      <td>Hermann the 1.</td>\n",
       "      <td>51</td>\n",
       "      <td>STAT</td>\n",
       "      <td>2020-06-01 06:35:35</td>\n",
       "      <td>2020-06-01 07:03:47</td>\n",
       "      <td>1692.0</td>\n",
       "      <td>2020-06-01 07:03:47</td>\n",
       "    </tr>\n",
       "    <tr>\n",
       "      <th>...</th>\n",
       "      <td>...</td>\n",
       "      <td>...</td>\n",
       "      <td>...</td>\n",
       "      <td>...</td>\n",
       "      <td>...</td>\n",
       "      <td>...</td>\n",
       "      <td>...</td>\n",
       "      <td>...</td>\n",
       "      <td>...</td>\n",
       "      <td>...</td>\n",
       "    </tr>\n",
       "    <tr>\n",
       "      <th>33859</th>\n",
       "      <td>1500</td>\n",
       "      <td>Control Call</td>\n",
       "      <td>InspectorInis</td>\n",
       "      <td>Ulrich the 1500.</td>\n",
       "      <td>51</td>\n",
       "      <td>PRIV</td>\n",
       "      <td>2020-07-14 07:35:39</td>\n",
       "      <td>2020-07-14 07:40:58</td>\n",
       "      <td>319.0</td>\n",
       "      <td>2020-07-14 14:13:27</td>\n",
       "    </tr>\n",
       "    <tr>\n",
       "      <th>33860</th>\n",
       "      <td>1500</td>\n",
       "      <td>Control Call</td>\n",
       "      <td>InspectorInis</td>\n",
       "      <td>Ulrich the 1500.</td>\n",
       "      <td>51</td>\n",
       "      <td>PRIV</td>\n",
       "      <td>2020-07-14 11:05:01</td>\n",
       "      <td>2020-07-14 11:09:47</td>\n",
       "      <td>286.0</td>\n",
       "      <td>2020-07-14 14:13:27</td>\n",
       "    </tr>\n",
       "    <tr>\n",
       "      <th>33861</th>\n",
       "      <td>1500</td>\n",
       "      <td>Test III</td>\n",
       "      <td>Amalia</td>\n",
       "      <td>Ulrich the 1500.</td>\n",
       "      <td>51</td>\n",
       "      <td>PRIV</td>\n",
       "      <td>2020-07-14 13:41:46</td>\n",
       "      <td>2020-07-14 14:13:27</td>\n",
       "      <td>1901.0</td>\n",
       "      <td>2020-07-14 14:13:27</td>\n",
       "    </tr>\n",
       "    <tr>\n",
       "      <th>33862</th>\n",
       "      <td>1500</td>\n",
       "      <td>Test III Decision</td>\n",
       "      <td>Amelie,Amalia</td>\n",
       "      <td>Ulrich the 1500.</td>\n",
       "      <td>51</td>\n",
       "      <td>PRIV</td>\n",
       "      <td>2020-07-14 14:13:27</td>\n",
       "      <td>2020-07-14 14:19:18</td>\n",
       "      <td>351.0</td>\n",
       "      <td>2020-07-14 14:13:27</td>\n",
       "    </tr>\n",
       "    <tr>\n",
       "      <th>33863</th>\n",
       "      <td>1500</td>\n",
       "      <td>Discharge Test</td>\n",
       "      <td>Alexander</td>\n",
       "      <td>Ulrich the 1500.</td>\n",
       "      <td>51</td>\n",
       "      <td>PRIV</td>\n",
       "      <td>2020-07-14 14:21:11</td>\n",
       "      <td>2020-07-14 14:28:18</td>\n",
       "      <td>427.0</td>\n",
       "      <td>2020-07-14 14:13:27</td>\n",
       "    </tr>\n",
       "  </tbody>\n",
       "</table>\n",
       "<p>24600 rows × 10 columns</p>\n",
       "</div>"
      ],
      "text/plain": [
       "       Patient                Activity       Resource  case:PatientName  \\\n",
       "0            1                Register      Alexander    Hermann the 1.   \n",
       "1            1            Initial Exam           Anna    Hermann the 1.   \n",
       "2            1   Initial Exam Decision    Amelie,Anna    Hermann the 1.   \n",
       "3            1  Inform about Isolation      Alexander    Hermann the 1.   \n",
       "4            1                Test III           Anna    Hermann the 1.   \n",
       "...        ...                     ...            ...               ...   \n",
       "33859     1500            Control Call  InspectorInis  Ulrich the 1500.   \n",
       "33860     1500            Control Call  InspectorInis  Ulrich the 1500.   \n",
       "33861     1500                Test III         Amalia  Ulrich the 1500.   \n",
       "33862     1500       Test III Decision  Amelie,Amalia  Ulrich the 1500.   \n",
       "33863     1500          Discharge Test      Alexander  Ulrich the 1500.   \n",
       "\n",
       "       case:Age case:Insurance     start_timestamp           Timestamp  \\\n",
       "0            51           STAT 2020-06-01 06:00:00 2020-06-01 06:08:53   \n",
       "1            51           STAT 2020-06-01 06:10:48 2020-06-01 06:25:43   \n",
       "2            51           STAT 2020-06-01 06:26:43 2020-06-01 06:31:52   \n",
       "3            51           STAT 2020-06-01 06:33:45 2020-06-01 06:33:45   \n",
       "4            51           STAT 2020-06-01 06:35:35 2020-06-01 07:03:47   \n",
       "...         ...            ...                 ...                 ...   \n",
       "33859        51           PRIV 2020-07-14 07:35:39 2020-07-14 07:40:58   \n",
       "33860        51           PRIV 2020-07-14 11:05:01 2020-07-14 11:09:47   \n",
       "33861        51           PRIV 2020-07-14 13:41:46 2020-07-14 14:13:27   \n",
       "33862        51           PRIV 2020-07-14 14:13:27 2020-07-14 14:19:18   \n",
       "33863        51           PRIV 2020-07-14 14:21:11 2020-07-14 14:28:18   \n",
       "\n",
       "       @@duration  Test III Timestamp  \n",
       "0           533.0 2020-06-01 07:03:47  \n",
       "1           895.0 2020-06-01 07:03:47  \n",
       "2           309.0 2020-06-01 07:03:47  \n",
       "3             0.0 2020-06-01 07:03:47  \n",
       "4          1692.0 2020-06-01 07:03:47  \n",
       "...           ...                 ...  \n",
       "33859       319.0 2020-07-14 14:13:27  \n",
       "33860       286.0 2020-07-14 14:13:27  \n",
       "33861      1901.0 2020-07-14 14:13:27  \n",
       "33862       351.0 2020-07-14 14:13:27  \n",
       "33863       427.0 2020-07-14 14:13:27  \n",
       "\n",
       "[24600 rows x 10 columns]"
      ]
     },
     "execution_count": 21,
     "metadata": {},
     "output_type": "execute_result"
    }
   ],
   "source": [
    "df_silent_A = df_renaming[df_renaming['Activity'].str.find('Treatment A') == -1]\n",
    "df_silent_A"
   ]
  },
  {
   "cell_type": "code",
   "execution_count": 22,
   "metadata": {},
   "outputs": [
    {
     "data": {
      "text/plain": [
       "'./figures/q1_d_silent_A.pdf'"
      ]
     },
     "execution_count": 22,
     "metadata": {},
     "output_type": "execute_result"
    }
   ],
   "source": [
    "log_silent_A = log_converter.apply(df_silent_A, parameters=param_keys)\n",
    "\n",
    "dfg_silent_A = dfg_discovery.apply(log_silent_A, parameters=param_keys)\n",
    "\n",
    "dfg_silent_A = dfg_filtering.apply(dfg_silent_A, parameters=param_keys)\n",
    "\n",
    "dfg_viz = dfg_visualization.apply(dfg_silent_A, log=log_silent_A, parameters=param_keys)\n",
    "\n",
    "dfg_viz.render(os.path.join(figures_dir, 'q1_d_silent_A'),\n",
    "               format='pdf',\n",
    "               view=True)"
   ]
  },
  {
   "cell_type": "markdown",
   "metadata": {},
   "source": [
    "We notice this way the `Prescripe Special Medication` activity is kept."
   ]
  },
  {
   "cell_type": "code",
   "execution_count": 23,
   "metadata": {},
   "outputs": [
    {
     "data": {
      "text/plain": [
       "'./figures/q1_d_tree_silent_A.pdf'"
      ]
     },
     "execution_count": 23,
     "metadata": {},
     "output_type": "execute_result"
    }
   ],
   "source": [
    "tree_silent_A = inductive_miner.apply_tree_dfg(dfg_silent_A, parameters=param_keys)\n",
    "\n",
    "tree_graph = pt_visualizer.apply(tree_silent_A)\n",
    "\n",
    "# fix operations size\n",
    "tree_graph.body = list(map(lambda r:r.replace('width=0.6', 'width=1'),\n",
    "                           tree_graph.body))\n",
    "\n",
    "tree_graph.render(os.path.join(figures_dir, 'q1_d_tree_silent_A'),\n",
    "                  format='pdf',\n",
    "                  view=True)"
   ]
  },
  {
   "cell_type": "markdown",
   "metadata": {},
   "source": [
    "The biggest difference in the Process Tree is that the `Discharge Test` activity was dragged away from the exclusive choice operator with the other 3 activities to a different exclusive choice with `Prescripe Special Medication`."
   ]
  },
  {
   "cell_type": "markdown",
   "metadata": {},
   "source": [
    "#### Noise threshold tuning\n",
    "\n",
    "For the reasons stated in c), the noise threshold will be tuned."
   ]
  },
  {
   "cell_type": "code",
   "execution_count": 24,
   "metadata": {},
   "outputs": [
    {
     "data": {
      "text/plain": [
       "'./figures/q1_d_dfg_noise_threshold_tuning.pdf'"
      ]
     },
     "execution_count": 24,
     "metadata": {},
     "output_type": "execute_result"
    }
   ],
   "source": [
    "param_keys['noiseThreshold'] = 0.07\n",
    "\n",
    "filt_dfg = dfg_filtering.apply(dfg, parameters=param_keys)\n",
    "\n",
    "filt_dfg_viz = dfg_visualization.apply(filt_dfg, log=renamed_event_log, parameters=param_keys)\n",
    "\n",
    "filt_dfg_viz.render(os.path.join(figures_dir, 'q1_d_dfg_noise_threshold_tuning'),\n",
    "                    format='pdf',\n",
    "                    view=True)"
   ]
  },
  {
   "cell_type": "markdown",
   "metadata": {},
   "source": [
    "We can already notice the improvement in the DFG, which is much more readable. There are way less edges and the flow seems much more linear. Even though, the structure about the treatments A1, A2 and A3 is still unsettled."
   ]
  },
  {
   "cell_type": "code",
   "execution_count": 25,
   "metadata": {},
   "outputs": [
    {
     "data": {
      "text/plain": [
       "'./figures/q1_d_noise_threshold_tuning.pdf'"
      ]
     },
     "execution_count": 25,
     "metadata": {},
     "output_type": "execute_result"
    }
   ],
   "source": [
    "filt_tree = inductive_miner.apply_tree_dfg(filt_dfg, parameters=param_keys)\n",
    "\n",
    "tree_graph = pt_visualizer.apply(filt_tree)\n",
    "\n",
    "# fix operations size\n",
    "tree_graph.body = list(map(lambda r:r.replace('width=0.6', 'width=1'),\n",
    "                           tree_graph.body))\n",
    "\n",
    "tree_graph.render(os.path.join(figures_dir, 'q1_d_noise_threshold_tuning'),\n",
    "                  format='pdf',\n",
    "                  view=True)"
   ]
  },
  {
   "cell_type": "markdown",
   "metadata": {},
   "source": [
    "Even though the final model is not so readable and can still accept some unreasonable mixes between applying one treatment and checking for another, one can say that it is more complete as to the amount of structures that it presents."
   ]
  },
  {
   "cell_type": "code",
   "execution_count": 26,
   "metadata": {},
   "outputs": [],
   "source": [
    "from pm4py.objects.conversion.process_tree import factory as pt_converter\n",
    "from pm4py.objects.petri.exporter import factory as pnml_exporter\n",
    "\n",
    "# convert the obtained process tree into a petri net\n",
    "filt_net, filt_initial_marking, filt_final_marking = pt_converter.apply(filt_tree, variant=pt_converter.TO_PETRI_NET)\n",
    "\n",
    "#save the obtained petri net for further use\n",
    "pnml_path = \"filtered_petri.pnml\"\n",
    "pnml_exporter.apply(filt_net, filt_initial_marking, pnml_path, final_marking=filt_final_marking)"
   ]
  },
  {
   "cell_type": "markdown",
   "metadata": {},
   "source": [
    "## e)\n",
    "\n",
    "> Consider the process model for the patients who were prescript the special medication. What do you observe? How is this behavior captured by the complete model in d)?"
   ]
  },
  {
   "cell_type": "markdown",
   "metadata": {},
   "source": [
    "Let's have a look at the traces that contain this activity."
   ]
  },
  {
   "cell_type": "code",
   "execution_count": 27,
   "metadata": {},
   "outputs": [
    {
     "data": {
      "text/plain": [
       "array([array(['Register', 'Initial Exam', 'Inform about Isolation',\n",
       "       'Control Call', 'Control Call', 'Control Call', 'Control Call',\n",
       "       'Control Call', 'Control Call', 'Test III', 'Test III Decision',\n",
       "       'Prescripe Special Medication', 'Inform Authority Fill Form',\n",
       "       'Inform Authority Send Form', 'Control Call (+)',\n",
       "       'Control Call (+)', 'Control Call (+)', 'Control Call (+)',\n",
       "       'Control Call (+)', 'Control Call (+)', 'Control Call (+)',\n",
       "       'Control Call (+)', 'Referral', 'Register Facility',\n",
       "       'Decide Treatment', 'Treatment A3', 'Treatment A2',\n",
       "       'Check Treatment A2', 'Treatment A1', 'Check Treatment A1',\n",
       "       'Treatment A1', 'Check Treatment A1', 'Treatment A1',\n",
       "       'Check Treatment A1', 'Treatment A2', 'Check Treatment A2',\n",
       "       'Treatment A1', 'Check Treatment A1', 'Treatment A1',\n",
       "       'Check Treatment A1', 'Treatment A3', 'Check Treatment A3',\n",
       "       'Treatment A1', 'Check Treatment A1', 'Treatment A2',\n",
       "       'Check Treatment A2', 'Treatment A1', 'Check Treatment A1',\n",
       "       'Treatment A1', 'Check Treatment A1', 'Treatment A2',\n",
       "       'Check Treatment A2', 'Treatment A1', 'Check Treatment A1',\n",
       "       'Treatment A1', 'Check Treatment A1', 'Treatment A3',\n",
       "       'Check Treatment A3', 'Treatment A1', 'Check Treatment A1',\n",
       "       'Check Treatment A2', 'Treatment A1', 'Check Treatment A1',\n",
       "       'Treatment A1', 'Check Treatment A1', 'Treatment A2',\n",
       "       'Check Treatment A2', 'Treatment A1', 'Check Treatment A1',\n",
       "       'Check Treatment A1', 'Treatment A3', 'Check Treatment A3',\n",
       "       'Check Treatment A1', 'Treatment A2', 'Check Treatment A2',\n",
       "       'Treatment A1', 'Check Treatment A1', 'Treatment A1',\n",
       "       'Treatment A2', 'Check Treatment A2', 'Treatment A1',\n",
       "       'Check Treatment A1', 'Treatment A1', 'Check Treatment A1',\n",
       "       'Discharge'], dtype=object),\n",
       "       array(['Register', 'Initial Exam', 'Initial Exam Decision',\n",
       "       'Inform about Isolation', 'Control Call', 'Control Call',\n",
       "       'Control Call', 'Control Call', 'Control Call', 'Control Call',\n",
       "       'Control Call', 'Control Call', 'Test III', 'Test III Decision',\n",
       "       'Prescripe Special Medication', 'Inform Authority Fill Form',\n",
       "       'Inform Authority Send Form', 'Control Call (+)',\n",
       "       'Control Call (+)', 'Control Call (+)', 'Control Call (+)',\n",
       "       'Control Call (+)', 'Control Call (+)', 'Control Call (+)',\n",
       "       'Control Call (+)', 'Control Call (+)', 'Control Call (+)',\n",
       "       'Control Call (+)', 'Control Call (+)', 'Referral',\n",
       "       'Register Facility', 'Decide Treatment', 'Treatment A1',\n",
       "       'Check Treatment A1', 'Treatment A3', 'Check Treatment A3',\n",
       "       'Treatment A2', 'Check Treatment A2', 'Treatment A1',\n",
       "       'Check Treatment A1', 'Treatment A1', 'Check Treatment A1',\n",
       "       'Treatment A1', 'Check Treatment A1', 'Treatment A2',\n",
       "       'Check Treatment A2', 'Treatment A1', 'Check Treatment A1',\n",
       "       'Treatment A1', 'Check Treatment A1', 'Treatment A3',\n",
       "       'Check Treatment A3', 'Treatment A2', 'Check Treatment A2',\n",
       "       'Treatment A1', 'Check Treatment A1', 'Treatment A1',\n",
       "       'Check Treatment A1', 'Treatment A1', 'Check Treatment A1',\n",
       "       'Treatment A2', 'Check Treatment A2', 'Treatment A1',\n",
       "       'Check Treatment A1', 'Treatment A1', 'Check Treatment A1',\n",
       "       'Treatment A3', 'Check Treatment A3', 'Treatment A1',\n",
       "       'Check Treatment A1', 'Treatment A2', 'Check Treatment A2',\n",
       "       'Treatment A1', 'Check Treatment A1', 'Treatment A1',\n",
       "       'Check Treatment A1', 'Treatment A2', 'Check Treatment A2',\n",
       "       'Treatment A1', 'Check Treatment A1', 'Treatment A1',\n",
       "       'Check Treatment A1', 'Treatment A3', 'Check Treatment A3',\n",
       "       'Treatment A1', 'Check Treatment A1', 'Treatment A2',\n",
       "       'Treatment A1', 'Check Treatment A1', 'Treatment A1',\n",
       "       'Check Treatment A1', 'Treatment A1', 'Check Treatment A1',\n",
       "       'Treatment A2', 'Check Treatment A2', 'Treatment A1',\n",
       "       'Check Treatment A1', 'Discharge'], dtype=object),\n",
       "       array(['Register', 'Initial Exam', 'Initial Exam Decision',\n",
       "       'Inform about Isolation', 'Control Call', 'Control Call',\n",
       "       'Control Call', 'Control Call', 'Control Call', 'Control Call',\n",
       "       'Control Call', 'Control Call', 'Control Call', 'Test III',\n",
       "       'Test III Decision', 'Prescripe Special Medication',\n",
       "       'Inform Authority Fill Form', 'Inform Authority Send Form',\n",
       "       'Control Call (+)', 'Control Call (+)', 'Control Call (+)',\n",
       "       'Control Call (+)', 'Control Call (+)', 'Control Call (+)',\n",
       "       'Control Call (+)', 'Control Call (+)', 'Control Call (+)',\n",
       "       'Control Call (+)', 'Control Call (+)', 'Control Call (+)',\n",
       "       'Control Call (+)', 'Control Call (+)', 'Control Call (+)',\n",
       "       'Referral', 'Register Facility', 'Decide Treatment',\n",
       "       'Treatment A2', 'Check Treatment A2', 'Treatment A3',\n",
       "       'Check Treatment A3', 'Treatment A1', 'Check Treatment A1',\n",
       "       'Treatment A1', 'Check Treatment A1', 'Treatment A1',\n",
       "       'Check Treatment A1', 'Treatment A2', 'Check Treatment A2',\n",
       "       'Treatment A1', 'Check Treatment A1', 'Treatment A1',\n",
       "       'Check Treatment A1', 'Treatment A1', 'Check Treatment A1',\n",
       "       'Treatment A3', 'Check Treatment A3', 'Treatment A2',\n",
       "       'Check Treatment A2', 'Treatment A1', 'Check Treatment A1',\n",
       "       'Check Treatment A1', 'Treatment A2', 'Check Treatment A2',\n",
       "       'Treatment A1', 'Check Treatment A1', 'Check Treatment A1',\n",
       "       'Treatment A1', 'Check Treatment A1', 'Treatment A3',\n",
       "       'Check Treatment A3', 'Treatment A2', 'Check Treatment A2',\n",
       "       'Treatment A1', 'Check Treatment A1', 'Treatment A1',\n",
       "       'Check Treatment A1', 'Treatment A1', 'Check Treatment A1',\n",
       "       'Treatment A2', 'Check Treatment A2', 'Treatment A1',\n",
       "       'Check Treatment A1', 'Treatment A1', 'Check Treatment A1',\n",
       "       'Treatment A3', 'Check Treatment A3', 'Treatment A1',\n",
       "       'Check Treatment A1', 'Treatment A2', 'Treatment A1',\n",
       "       'Check Treatment A1', 'Treatment A1', 'Check Treatment A1',\n",
       "       'Treatment A1', 'Treatment A2', 'Check Treatment A2',\n",
       "       'Treatment A1', 'Check Treatment A1', 'Discharge'], dtype=object),\n",
       "       array(['Register', 'Initial Exam', 'Initial Exam Decision',\n",
       "       'Inform about Isolation', 'Control Call', 'Control Call',\n",
       "       'Control Call', 'Control Call', 'Control Call', 'Control Call',\n",
       "       'Control Call', 'Control Call', 'Test III', 'Test III Decision',\n",
       "       'Prescripe Special Medication', 'Control Call (+)',\n",
       "       'Inform Authority Fill Form', 'Inform Authority Send Form',\n",
       "       'Control Call (+)', 'Control Call (+)', 'Control Call (+)',\n",
       "       'Control Call (+)', 'Control Call (+)', 'Control Call (+)',\n",
       "       'Control Call (+)', 'Control Call (+)', 'Control Call (+)',\n",
       "       'Referral', 'Register Facility', 'Decide Treatment',\n",
       "       'Treatment A2', 'Check Treatment A2', 'Treatment A3',\n",
       "       'Check Treatment A3', 'Treatment A1', 'Check Treatment A1',\n",
       "       'Treatment A1', 'Check Treatment A1', 'Treatment A1',\n",
       "       'Check Treatment A1', 'Treatment A2', 'Check Treatment A2',\n",
       "       'Check Treatment A1', 'Treatment A1', 'Check Treatment A1',\n",
       "       'Treatment A1', 'Check Treatment A1', 'Treatment A3',\n",
       "       'Check Treatment A3', 'Treatment A2', 'Check Treatment A2',\n",
       "       'Treatment A1', 'Check Treatment A1', 'Treatment A1',\n",
       "       'Check Treatment A1', 'Treatment A1', 'Check Treatment A1',\n",
       "       'Treatment A2', 'Check Treatment A2', 'Treatment A1',\n",
       "       'Check Treatment A1', 'Treatment A1', 'Check Treatment A1',\n",
       "       'Treatment A3', 'Check Treatment A3', 'Treatment A2',\n",
       "       'Check Treatment A2', 'Treatment A1', 'Check Treatment A1',\n",
       "       'Treatment A1', 'Check Treatment A1', 'Treatment A1',\n",
       "       'Check Treatment A1', 'Treatment A2', 'Check Treatment A2',\n",
       "       'Treatment A1', 'Check Treatment A1', 'Treatment A1',\n",
       "       'Check Treatment A1', 'Treatment A3', 'Check Treatment A3',\n",
       "       'Treatment A2', 'Check Treatment A2', 'Treatment A1',\n",
       "       'Check Treatment A1', 'Treatment A1', 'Treatment A1',\n",
       "       'Check Treatment A1', 'Treatment A2', 'Check Treatment A2',\n",
       "       'Treatment A1', 'Check Treatment A1', 'Treatment A1',\n",
       "       'Check Treatment A1', 'Discharge'], dtype=object),\n",
       "       array(['Register', 'Initial Exam', 'Initial Exam Decision',\n",
       "       'Inform about Isolation', 'Control Call', 'Control Call',\n",
       "       'Control Call', 'Control Call', 'Control Call', 'Control Call',\n",
       "       'Test III', 'Test III Decision', 'Prescripe Special Medication',\n",
       "       'Control Call (+)', 'Inform Authority Fill Form',\n",
       "       'Inform Authority Send Form', 'Control Call (+)',\n",
       "       'Control Call (+)', 'Control Call (+)', 'Control Call (+)',\n",
       "       'Control Call (+)', 'Control Call (+)', 'Control Call (+)',\n",
       "       'Control Call (+)', 'Control Call (+)', 'Control Call (+)',\n",
       "       'Referral', 'Register Facility', 'Decide Treatment',\n",
       "       'Treatment A3', 'Check Treatment A3', 'Treatment A2',\n",
       "       'Check Treatment A2', 'Treatment A1', 'Check Treatment A1',\n",
       "       'Treatment A1', 'Check Treatment A1', 'Treatment A1',\n",
       "       'Check Treatment A1', 'Treatment A2', 'Check Treatment A2',\n",
       "       'Check Treatment A1', 'Treatment A1', 'Check Treatment A1',\n",
       "       'Treatment A1', 'Check Treatment A1', 'Treatment A3',\n",
       "       'Check Treatment A3', 'Treatment A2', 'Check Treatment A2',\n",
       "       'Treatment A1', 'Check Treatment A1', 'Treatment A1',\n",
       "       'Check Treatment A1', 'Treatment A2', 'Check Treatment A2',\n",
       "       'Treatment A1', 'Check Treatment A1', 'Treatment A1',\n",
       "       'Check Treatment A1', 'Treatment A1', 'Check Treatment A1',\n",
       "       'Treatment A3', 'Treatment A2', 'Check Treatment A2',\n",
       "       'Treatment A1', 'Check Treatment A1', 'Treatment A1',\n",
       "       'Check Treatment A1', 'Treatment A2', 'Check Treatment A2',\n",
       "       'Treatment A1', 'Check Treatment A1', 'Treatment A1',\n",
       "       'Check Treatment A1', 'Treatment A1', 'Check Treatment A1',\n",
       "       'Treatment A3', 'Check Treatment A3', 'Treatment A2',\n",
       "       'Check Treatment A2', 'Treatment A1', 'Check Treatment A1',\n",
       "       'Treatment A1', 'Check Treatment A1', 'Treatment A1',\n",
       "       'Check Treatment A1', 'Treatment A2', 'Check Treatment A2',\n",
       "       'Treatment A1', 'Check Treatment A1', 'Treatment A1',\n",
       "       'Check Treatment A1', 'Discharge'], dtype=object),\n",
       "       array(['Register', 'Initial Exam', 'Initial Exam Decision',\n",
       "       'Inform about Isolation', 'Control Call', 'Control Call',\n",
       "       'Control Call', 'Control Call', 'Control Call', 'Control Call',\n",
       "       'Control Call', 'Control Call', 'Test III', 'Test III Decision',\n",
       "       'Prescripe Special Medication', 'Inform Authority Fill Form',\n",
       "       'Inform Authority Send Form', 'Control Call (+)',\n",
       "       'Control Call (+)', 'Control Call (+)', 'Control Call (+)',\n",
       "       'Control Call (+)', 'Control Call (+)', 'Control Call (+)',\n",
       "       'Control Call (+)', 'Control Call (+)', 'Control Call (+)',\n",
       "       'Control Call (+)', 'Control Call (+)', 'Control Call (+)',\n",
       "       'Referral', 'Register Facility', 'Decide Treatment',\n",
       "       'Treatment A3', 'Check Treatment A3', 'Treatment A2',\n",
       "       'Check Treatment A2', 'Treatment A1', 'Check Treatment A1',\n",
       "       'Treatment A1', 'Check Treatment A1', 'Treatment A1',\n",
       "       'Check Treatment A1', 'Treatment A2', 'Check Treatment A2',\n",
       "       'Treatment A1', 'Check Treatment A1', 'Treatment A1',\n",
       "       'Check Treatment A1', 'Treatment A1', 'Check Treatment A1',\n",
       "       'Treatment A3', 'Check Treatment A3', 'Treatment A2',\n",
       "       'Check Treatment A2', 'Treatment A1', 'Check Treatment A1',\n",
       "       'Treatment A1', 'Check Treatment A1', 'Treatment A2',\n",
       "       'Check Treatment A2', 'Treatment A1', 'Treatment A1',\n",
       "       'Check Treatment A1', 'Treatment A1', 'Check Treatment A1',\n",
       "       'Treatment A3', 'Check Treatment A3', 'Treatment A2',\n",
       "       'Check Treatment A2', 'Treatment A1', 'Check Treatment A1',\n",
       "       'Treatment A1', 'Check Treatment A1', 'Treatment A2',\n",
       "       'Treatment A1', 'Check Treatment A1', 'Treatment A1',\n",
       "       'Check Treatment A1', 'Treatment A1', 'Check Treatment A1',\n",
       "       'Treatment A3', 'Check Treatment A3', 'Treatment A2',\n",
       "       'Check Treatment A2', 'Treatment A1', 'Check Treatment A1',\n",
       "       'Treatment A1', 'Check Treatment A1', 'Treatment A1',\n",
       "       'Check Treatment A1', 'Treatment A2', 'Check Treatment A2',\n",
       "       'Treatment A1', 'Check Treatment A1', 'Treatment A1',\n",
       "       'Check Treatment A1', 'Discharge'], dtype=object),\n",
       "       array(['Register', 'Initial Exam', 'Initial Exam Decision',\n",
       "       'Inform about Isolation', 'Control Call', 'Control Call',\n",
       "       'Control Call', 'Control Call', 'Control Call', 'Test III',\n",
       "       'Test III Decision', 'Prescripe Special Medication',\n",
       "       'Inform Authority Fill Form', 'Inform Authority Send Form',\n",
       "       'Control Call (+)', 'Control Call (+)', 'Control Call (+)',\n",
       "       'Control Call (+)', 'Control Call (+)', 'Control Call (+)',\n",
       "       'Control Call (+)', 'Control Call (+)', 'Control Call (+)',\n",
       "       'Control Call (+)', 'Control Call (+)', 'Control Call (+)',\n",
       "       'Control Call (+)', 'Control Call (+)', 'Control Call (+)',\n",
       "       'Control Call (+)', 'Control Call (+)', 'Control Call (+)',\n",
       "       'Control Call (+)', 'Control Call (+)', 'Referral',\n",
       "       'Register Facility', 'Decide Treatment', 'Treatment A3',\n",
       "       'Check Treatment A3', 'Check Treatment A1', 'Treatment A2',\n",
       "       'Check Treatment A2', 'Treatment A1', 'Check Treatment A1',\n",
       "       'Treatment A1', 'Check Treatment A1', 'Treatment A2',\n",
       "       'Check Treatment A2', 'Treatment A1', 'Check Treatment A1',\n",
       "       'Treatment A1', 'Check Treatment A1', 'Treatment A3',\n",
       "       'Check Treatment A3', 'Treatment A2', 'Check Treatment A2',\n",
       "       'Treatment A1', 'Check Treatment A1', 'Treatment A1',\n",
       "       'Check Treatment A1', 'Treatment A1', 'Check Treatment A1',\n",
       "       'Treatment A2', 'Check Treatment A2', 'Treatment A1',\n",
       "       'Check Treatment A1', 'Treatment A1', 'Check Treatment A1',\n",
       "       'Treatment A3', 'Check Treatment A3', 'Treatment A2',\n",
       "       'Check Treatment A2', 'Treatment A1', 'Check Treatment A1',\n",
       "       'Treatment A1', 'Check Treatment A1', 'Treatment A1',\n",
       "       'Check Treatment A1', 'Treatment A2', 'Check Treatment A2',\n",
       "       'Treatment A1', 'Check Treatment A1', 'Treatment A1',\n",
       "       'Check Treatment A1', 'Treatment A3', 'Check Treatment A3',\n",
       "       'Treatment A1', 'Check Treatment A1', 'Treatment A2',\n",
       "       'Treatment A1', 'Check Treatment A1', 'Treatment A1',\n",
       "       'Check Treatment A1', 'Treatment A2', 'Check Treatment A2',\n",
       "       'Check Treatment A1', 'Treatment A1', 'Check Treatment A1',\n",
       "       'Treatment A1', 'Check Treatment A1', 'Treatment A3',\n",
       "       'Check Treatment A3', 'Treatment A2', 'Check Treatment A2',\n",
       "       'Treatment A1', 'Check Treatment A1', 'Treatment A1',\n",
       "       'Check Treatment A1', 'Treatment A2', 'Check Treatment A2',\n",
       "       'Treatment A1', 'Check Treatment A1', 'Treatment A1',\n",
       "       'Check Treatment A1', 'Discharge'], dtype=object),\n",
       "       array(['Register', 'Initial Exam', 'Initial Exam Decision',\n",
       "       'Inform about Isolation', 'Control Call', 'Control Call',\n",
       "       'Control Call', 'Control Call', 'Control Call', 'Control Call',\n",
       "       'Control Call', 'Control Call', 'Test III', 'Test III Decision',\n",
       "       'Prescripe Special Medication', 'Inform Authority Fill Form',\n",
       "       'Inform Authority Send Form', 'Control Call (+)',\n",
       "       'Control Call (+)', 'Control Call (+)', 'Control Call (+)',\n",
       "       'Control Call (+)', 'Control Call (+)', 'Control Call (+)',\n",
       "       'Control Call (+)', 'Control Call (+)', 'Control Call (+)',\n",
       "       'Control Call (+)', 'Referral', 'Register Facility',\n",
       "       'Decide Treatment', 'Treatment A1', 'Check Treatment A1',\n",
       "       'Treatment A3', 'Treatment A2', 'Check Treatment A2',\n",
       "       'Treatment A1', 'Check Treatment A1', 'Treatment A1',\n",
       "       'Check Treatment A1', 'Treatment A2', 'Check Treatment A2',\n",
       "       'Treatment A1', 'Check Treatment A1', 'Treatment A1',\n",
       "       'Check Treatment A1', 'Treatment A3', 'Check Treatment A3',\n",
       "       'Treatment A1', 'Check Treatment A1', 'Treatment A2',\n",
       "       'Check Treatment A2', 'Treatment A1', 'Check Treatment A1',\n",
       "       'Treatment A1', 'Check Treatment A1', 'Treatment A2',\n",
       "       'Treatment A1', 'Check Treatment A1', 'Treatment A1',\n",
       "       'Check Treatment A1', 'Treatment A3', 'Check Treatment A3',\n",
       "       'Treatment A1', 'Check Treatment A1', 'Treatment A2',\n",
       "       'Check Treatment A2', 'Treatment A1', 'Check Treatment A1',\n",
       "       'Treatment A1', 'Check Treatment A1', 'Treatment A2',\n",
       "       'Check Treatment A2', 'Treatment A1', 'Check Treatment A1',\n",
       "       'Treatment A1', 'Check Treatment A1', 'Treatment A1',\n",
       "       'Check Treatment A1', 'Treatment A3', 'Check Treatment A3',\n",
       "       'Treatment A2', 'Check Treatment A2', 'Check Treatment A1',\n",
       "       'Treatment A1', 'Check Treatment A1', 'Treatment A2',\n",
       "       'Check Treatment A2', 'Treatment A1', 'Check Treatment A1',\n",
       "       'Treatment A1', 'Check Treatment A1', 'Discharge'], dtype=object),\n",
       "       array(['Register', 'Initial Exam', 'Initial Exam Decision',\n",
       "       'Inform about Isolation', 'Control Call', 'Control Call',\n",
       "       'Control Call', 'Control Call', 'Control Call', 'Control Call',\n",
       "       'Control Call', 'Control Call', 'Control Call', 'Test III',\n",
       "       'Test III Decision', 'Prescripe Special Medication',\n",
       "       'Inform Authority Fill Form', 'Control Call (+)',\n",
       "       'Control Call (+)', 'Control Call (+)', 'Control Call (+)',\n",
       "       'Control Call (+)', 'Control Call (+)', 'Control Call (+)',\n",
       "       'Control Call (+)', 'Control Call (+)', 'Control Call (+)',\n",
       "       'Referral', 'Register Facility', 'Decide Treatment',\n",
       "       'Treatment A1', 'Check Treatment A1', 'Treatment A2',\n",
       "       'Check Treatment A2', 'Treatment A3', 'Check Treatment A3',\n",
       "       'Treatment A1', 'Check Treatment A1', 'Treatment A1',\n",
       "       'Check Treatment A1', 'Treatment A2', 'Check Treatment A2',\n",
       "       'Treatment A1', 'Treatment A1', 'Check Treatment A1',\n",
       "       'Treatment A1', 'Check Treatment A1', 'Treatment A3',\n",
       "       'Check Treatment A3', 'Treatment A2', 'Treatment A1',\n",
       "       'Check Treatment A1', 'Treatment A1', 'Check Treatment A1',\n",
       "       'Treatment A2', 'Check Treatment A2', 'Treatment A1',\n",
       "       'Check Treatment A1', 'Treatment A1', 'Check Treatment A1',\n",
       "       'Treatment A1', 'Check Treatment A1', 'Treatment A3',\n",
       "       'Check Treatment A3', 'Check Treatment A2', 'Treatment A1',\n",
       "       'Check Treatment A1', 'Treatment A1', 'Check Treatment A1',\n",
       "       'Treatment A2', 'Check Treatment A2', 'Treatment A1',\n",
       "       'Check Treatment A1', 'Treatment A1', 'Check Treatment A1',\n",
       "       'Treatment A1', 'Check Treatment A1', 'Treatment A3',\n",
       "       'Check Treatment A3', 'Treatment A2', 'Check Treatment A2',\n",
       "       'Treatment A1', 'Check Treatment A1', 'Treatment A1',\n",
       "       'Check Treatment A1', 'Treatment A2', 'Check Treatment A2',\n",
       "       'Check Treatment A1', 'Treatment A1', 'Check Treatment A1',\n",
       "       'Treatment A1', 'Check Treatment A1', 'Treatment A3',\n",
       "       'Check Treatment A3', 'Treatment A1', 'Check Treatment A1',\n",
       "       'Treatment A2', 'Check Treatment A2', 'Treatment A1',\n",
       "       'Check Treatment A1', 'Treatment A1', 'Check Treatment A1',\n",
       "       'Treatment A2', 'Check Treatment A2', 'Treatment A1',\n",
       "       'Check Treatment A1', 'Treatment A1', 'Check Treatment A1',\n",
       "       'Discharge'], dtype=object),\n",
       "       array(['Register', 'Initial Exam', 'Initial Exam Decision',\n",
       "       'Inform about Isolation', 'Control Call', 'Control Call',\n",
       "       'Control Call', 'Control Call', 'Control Call', 'Control Call',\n",
       "       'Control Call', 'Test III', 'Test III Decision',\n",
       "       'Prescripe Special Medication', 'Inform Authority Fill Form',\n",
       "       'Inform Authority Send Form', 'Control Call (+)',\n",
       "       'Control Call (+)', 'Control Call (+)', 'Control Call (+)',\n",
       "       'Control Call (+)', 'Control Call (+)', 'Control Call (+)',\n",
       "       'Control Call (+)', 'Control Call (+)', 'Control Call (+)',\n",
       "       'Control Call (+)', 'Referral', 'Register Facility',\n",
       "       'Decide Treatment', 'Treatment A3', 'Treatment A1',\n",
       "       'Check Treatment A1', 'Treatment A2', 'Check Treatment A2',\n",
       "       'Treatment A1', 'Check Treatment A1', 'Treatment A1',\n",
       "       'Check Treatment A1', 'Treatment A2', 'Check Treatment A2',\n",
       "       'Check Treatment A1', 'Treatment A1', 'Check Treatment A1',\n",
       "       'Treatment A1', 'Check Treatment A1', 'Treatment A3',\n",
       "       'Check Treatment A3', 'Treatment A2', 'Check Treatment A2',\n",
       "       'Treatment A1', 'Check Treatment A1', 'Treatment A1',\n",
       "       'Check Treatment A1', 'Treatment A2', 'Check Treatment A2',\n",
       "       'Treatment A1', 'Check Treatment A1', 'Treatment A1',\n",
       "       'Check Treatment A1', 'Treatment A1', 'Check Treatment A1',\n",
       "       'Treatment A3', 'Check Treatment A3', 'Treatment A2',\n",
       "       'Check Treatment A2', 'Treatment A1', 'Check Treatment A1',\n",
       "       'Check Treatment A1', 'Treatment A2', 'Check Treatment A2',\n",
       "       'Treatment A1', 'Check Treatment A1', 'Treatment A1',\n",
       "       'Check Treatment A1', 'Treatment A1', 'Check Treatment A1',\n",
       "       'Treatment A3', 'Check Treatment A3', 'Treatment A2',\n",
       "       'Check Treatment A2', 'Treatment A1', 'Check Treatment A1',\n",
       "       'Treatment A1', 'Check Treatment A1', 'Treatment A1',\n",
       "       'Check Treatment A1', 'Treatment A2', 'Treatment A1',\n",
       "       'Check Treatment A1', 'Treatment A1', 'Check Treatment A1',\n",
       "       'Discharge'], dtype=object)], dtype=object)"
      ]
     },
     "execution_count": 27,
     "metadata": {},
     "output_type": "execute_result"
    }
   ],
   "source": [
    "special_medication_traces = renamed_traces[renamed_traces.apply(lambda t: 'Prescripe Special Medication' in t)]\n",
    "\n",
    "special_medication_traces.sample(10).values"
   ]
  },
  {
   "cell_type": "code",
   "execution_count": 28,
   "metadata": {},
   "outputs": [
    {
     "data": {
      "text/plain": [
       "Series([], Name: Activity, dtype: object)"
      ]
     },
     "execution_count": 28,
     "metadata": {},
     "output_type": "execute_result"
    }
   ],
   "source": [
    "special_medication_traces[special_medication_traces.apply(lambda t: 'Treatment B' in t)]"
   ]
  },
  {
   "cell_type": "markdown",
   "metadata": {},
   "source": [
    "Through further inspection we can assume that the special medication is only prescribed together with the A treatments, therefore it was damaged by the actions taken in d), as previously highlighted.\n",
    "\n",
    "So we'll generate the model just for the patients that were prescribed special medication to."
   ]
  },
  {
   "cell_type": "code",
   "execution_count": 29,
   "metadata": {},
   "outputs": [
    {
     "data": {
      "text/html": [
       "<div>\n",
       "<style scoped>\n",
       "    .dataframe tbody tr th:only-of-type {\n",
       "        vertical-align: middle;\n",
       "    }\n",
       "\n",
       "    .dataframe tbody tr th {\n",
       "        vertical-align: top;\n",
       "    }\n",
       "\n",
       "    .dataframe thead th {\n",
       "        text-align: right;\n",
       "    }\n",
       "</style>\n",
       "<table border=\"1\" class=\"dataframe\">\n",
       "  <thead>\n",
       "    <tr style=\"text-align: right;\">\n",
       "      <th></th>\n",
       "      <th>Patient</th>\n",
       "      <th>Activity</th>\n",
       "      <th>Resource</th>\n",
       "      <th>case:PatientName</th>\n",
       "      <th>case:Age</th>\n",
       "      <th>case:Insurance</th>\n",
       "      <th>start_timestamp</th>\n",
       "      <th>Timestamp</th>\n",
       "      <th>@@duration</th>\n",
       "      <th>Test III Timestamp</th>\n",
       "    </tr>\n",
       "  </thead>\n",
       "  <tbody>\n",
       "    <tr>\n",
       "      <th>405</th>\n",
       "      <td>31</td>\n",
       "      <td>Register</td>\n",
       "      <td>Alexander</td>\n",
       "      <td>Alexander the 31.</td>\n",
       "      <td>60</td>\n",
       "      <td>STAT</td>\n",
       "      <td>2020-06-01 15:24:21</td>\n",
       "      <td>2020-06-01 15:33:24</td>\n",
       "      <td>543.0</td>\n",
       "      <td>2020-06-02 10:58:47</td>\n",
       "    </tr>\n",
       "    <tr>\n",
       "      <th>406</th>\n",
       "      <td>31</td>\n",
       "      <td>Initial Exam</td>\n",
       "      <td>Anna</td>\n",
       "      <td>Alexander the 31.</td>\n",
       "      <td>60</td>\n",
       "      <td>STAT</td>\n",
       "      <td>2020-06-01 15:35:24</td>\n",
       "      <td>2020-06-01 15:50:21</td>\n",
       "      <td>897.0</td>\n",
       "      <td>2020-06-02 10:58:47</td>\n",
       "    </tr>\n",
       "    <tr>\n",
       "      <th>407</th>\n",
       "      <td>31</td>\n",
       "      <td>Inform about Isolation</td>\n",
       "      <td>Anna</td>\n",
       "      <td>Alexander the 31.</td>\n",
       "      <td>60</td>\n",
       "      <td>STAT</td>\n",
       "      <td>2020-06-01 15:58:38</td>\n",
       "      <td>2020-06-01 15:58:38</td>\n",
       "      <td>0.0</td>\n",
       "      <td>2020-06-02 10:58:47</td>\n",
       "    </tr>\n",
       "    <tr>\n",
       "      <th>408</th>\n",
       "      <td>31</td>\n",
       "      <td>Control Call</td>\n",
       "      <td>InspectorInis</td>\n",
       "      <td>Alexander the 31.</td>\n",
       "      <td>60</td>\n",
       "      <td>STAT</td>\n",
       "      <td>2020-06-01 19:00:26</td>\n",
       "      <td>2020-06-01 19:05:29</td>\n",
       "      <td>303.0</td>\n",
       "      <td>2020-06-02 10:58:47</td>\n",
       "    </tr>\n",
       "    <tr>\n",
       "      <th>409</th>\n",
       "      <td>31</td>\n",
       "      <td>Control Call</td>\n",
       "      <td>InspectorInis</td>\n",
       "      <td>Alexander the 31.</td>\n",
       "      <td>60</td>\n",
       "      <td>STAT</td>\n",
       "      <td>2020-06-02 06:00:00</td>\n",
       "      <td>2020-06-02 06:05:11</td>\n",
       "      <td>311.0</td>\n",
       "      <td>2020-06-02 10:58:47</td>\n",
       "    </tr>\n",
       "    <tr>\n",
       "      <th>...</th>\n",
       "      <td>...</td>\n",
       "      <td>...</td>\n",
       "      <td>...</td>\n",
       "      <td>...</td>\n",
       "      <td>...</td>\n",
       "      <td>...</td>\n",
       "      <td>...</td>\n",
       "      <td>...</td>\n",
       "      <td>...</td>\n",
       "      <td>...</td>\n",
       "    </tr>\n",
       "    <tr>\n",
       "      <th>33171</th>\n",
       "      <td>1460</td>\n",
       "      <td>Check Treatment A2</td>\n",
       "      <td>Caddy,Cornelia</td>\n",
       "      <td>Dietrich the 1460.</td>\n",
       "      <td>59</td>\n",
       "      <td>STAT</td>\n",
       "      <td>2020-07-29 16:55:35</td>\n",
       "      <td>2020-07-29 17:00:29</td>\n",
       "      <td>294.0</td>\n",
       "      <td>2020-07-13 15:10:20</td>\n",
       "    </tr>\n",
       "    <tr>\n",
       "      <th>33172</th>\n",
       "      <td>1460</td>\n",
       "      <td>Treatment A1</td>\n",
       "      <td>Carla</td>\n",
       "      <td>Dietrich the 1460.</td>\n",
       "      <td>59</td>\n",
       "      <td>STAT</td>\n",
       "      <td>2020-07-29 22:53:20</td>\n",
       "      <td>2020-07-29 23:13:04</td>\n",
       "      <td>1184.0</td>\n",
       "      <td>2020-07-13 15:10:20</td>\n",
       "    </tr>\n",
       "    <tr>\n",
       "      <th>33173</th>\n",
       "      <td>1460</td>\n",
       "      <td>Check Treatment A1</td>\n",
       "      <td>Carlotta,Carla</td>\n",
       "      <td>Dietrich the 1460.</td>\n",
       "      <td>59</td>\n",
       "      <td>STAT</td>\n",
       "      <td>2020-07-29 23:14:25</td>\n",
       "      <td>2020-07-29 23:19:38</td>\n",
       "      <td>313.0</td>\n",
       "      <td>2020-07-13 15:10:20</td>\n",
       "    </tr>\n",
       "    <tr>\n",
       "      <th>33174</th>\n",
       "      <td>1460</td>\n",
       "      <td>Treatment A1</td>\n",
       "      <td>Claudia</td>\n",
       "      <td>Dietrich the 1460.</td>\n",
       "      <td>59</td>\n",
       "      <td>STAT</td>\n",
       "      <td>2020-07-30 07:19:51</td>\n",
       "      <td>2020-07-30 07:39:25</td>\n",
       "      <td>1174.0</td>\n",
       "      <td>2020-07-13 15:10:20</td>\n",
       "    </tr>\n",
       "    <tr>\n",
       "      <th>33175</th>\n",
       "      <td>1460</td>\n",
       "      <td>Discharge</td>\n",
       "      <td>Cadan</td>\n",
       "      <td>Dietrich the 1460.</td>\n",
       "      <td>59</td>\n",
       "      <td>STAT</td>\n",
       "      <td>2020-07-30 10:49:19</td>\n",
       "      <td>2020-07-30 10:56:35</td>\n",
       "      <td>436.0</td>\n",
       "      <td>2020-07-13 15:10:20</td>\n",
       "    </tr>\n",
       "  </tbody>\n",
       "</table>\n",
       "<p>7572 rows × 10 columns</p>\n",
       "</div>"
      ],
      "text/plain": [
       "       Patient                Activity        Resource    case:PatientName  \\\n",
       "405         31                Register       Alexander   Alexander the 31.   \n",
       "406         31            Initial Exam            Anna   Alexander the 31.   \n",
       "407         31  Inform about Isolation            Anna   Alexander the 31.   \n",
       "408         31            Control Call   InspectorInis   Alexander the 31.   \n",
       "409         31            Control Call   InspectorInis   Alexander the 31.   \n",
       "...        ...                     ...             ...                 ...   \n",
       "33171     1460      Check Treatment A2  Caddy,Cornelia  Dietrich the 1460.   \n",
       "33172     1460            Treatment A1           Carla  Dietrich the 1460.   \n",
       "33173     1460      Check Treatment A1  Carlotta,Carla  Dietrich the 1460.   \n",
       "33174     1460            Treatment A1         Claudia  Dietrich the 1460.   \n",
       "33175     1460               Discharge           Cadan  Dietrich the 1460.   \n",
       "\n",
       "       case:Age case:Insurance     start_timestamp           Timestamp  \\\n",
       "405          60           STAT 2020-06-01 15:24:21 2020-06-01 15:33:24   \n",
       "406          60           STAT 2020-06-01 15:35:24 2020-06-01 15:50:21   \n",
       "407          60           STAT 2020-06-01 15:58:38 2020-06-01 15:58:38   \n",
       "408          60           STAT 2020-06-01 19:00:26 2020-06-01 19:05:29   \n",
       "409          60           STAT 2020-06-02 06:00:00 2020-06-02 06:05:11   \n",
       "...         ...            ...                 ...                 ...   \n",
       "33171        59           STAT 2020-07-29 16:55:35 2020-07-29 17:00:29   \n",
       "33172        59           STAT 2020-07-29 22:53:20 2020-07-29 23:13:04   \n",
       "33173        59           STAT 2020-07-29 23:14:25 2020-07-29 23:19:38   \n",
       "33174        59           STAT 2020-07-30 07:19:51 2020-07-30 07:39:25   \n",
       "33175        59           STAT 2020-07-30 10:49:19 2020-07-30 10:56:35   \n",
       "\n",
       "       @@duration  Test III Timestamp  \n",
       "405         543.0 2020-06-02 10:58:47  \n",
       "406         897.0 2020-06-02 10:58:47  \n",
       "407           0.0 2020-06-02 10:58:47  \n",
       "408         303.0 2020-06-02 10:58:47  \n",
       "409         311.0 2020-06-02 10:58:47  \n",
       "...           ...                 ...  \n",
       "33171       294.0 2020-07-13 15:10:20  \n",
       "33172      1184.0 2020-07-13 15:10:20  \n",
       "33173       313.0 2020-07-13 15:10:20  \n",
       "33174      1174.0 2020-07-13 15:10:20  \n",
       "33175       436.0 2020-07-13 15:10:20  \n",
       "\n",
       "[7572 rows x 10 columns]"
      ]
     },
     "execution_count": 29,
     "metadata": {},
     "output_type": "execute_result"
    }
   ],
   "source": [
    "df_special = df_renaming[df_renaming['Patient'].isin(special_medication_traces.index)]\n",
    "\n",
    "df_special"
   ]
  },
  {
   "cell_type": "code",
   "execution_count": 30,
   "metadata": {},
   "outputs": [
    {
     "data": {
      "text/plain": [
       "'./figures/q1_e_special.pdf'"
      ]
     },
     "execution_count": 30,
     "metadata": {},
     "output_type": "execute_result"
    }
   ],
   "source": [
    "log_special = log_converter.apply(df_special, parameters=param_keys)\n",
    "\n",
    "dfg_special = dfg_discovery.apply(log_special, parameters=param_keys)\n",
    "\n",
    "dfg_special = dfg_filtering.apply(dfg_special, parameters=param_keys)\n",
    "\n",
    "dfg_viz = dfg_visualization.apply(dfg_special, log=log_special, parameters=param_keys)\n",
    "\n",
    "dfg_viz.render(os.path.join(figures_dir, 'q1_e_special'),\n",
    "               format='pdf',\n",
    "               view=True)"
   ]
  },
  {
   "cell_type": "code",
   "execution_count": 31,
   "metadata": {},
   "outputs": [
    {
     "data": {
      "text/plain": [
       "'./figures/q1_e_tree_special.pdf'"
      ]
     },
     "execution_count": 31,
     "metadata": {},
     "output_type": "execute_result"
    }
   ],
   "source": [
    "tree_special = inductive_miner.apply_tree_dfg(dfg_special, parameters=param_keys)\n",
    "\n",
    "tree_graph = pt_visualizer.apply(tree_special)\n",
    "\n",
    "# fix operations size\n",
    "tree_graph.body = list(map(lambda r:r.replace('width=0.6', 'width=1'),\n",
    "                           tree_graph.body))\n",
    "\n",
    "tree_graph.render(os.path.join(figures_dir, 'q1_e_tree_special'),\n",
    "                  format='pdf',\n",
    "                  view=True)"
   ]
  },
  {
   "cell_type": "markdown",
   "metadata": {},
   "source": [
    "It is very similar, as previously stated. One can say that the previous models failed to capture the non-local influence of the `Prescripe Special Medication` in the choice of the treatment, which it is possible to assume that must be one of the A treatments."
   ]
  },
  {
   "cell_type": "markdown",
   "metadata": {},
   "source": [
    "## f)\n",
    "\n",
    "> Apply additional miners to the log and compare the results. Which model is the best model?\n",
    "\n",
    "#### Alpha Miner"
   ]
  },
  {
   "cell_type": "code",
   "execution_count": 32,
   "metadata": {},
   "outputs": [
    {
     "data": {
      "text/plain": [
       "'./figures/q1_f_alpha_miner.pdf'"
      ]
     },
     "execution_count": 32,
     "metadata": {},
     "output_type": "execute_result"
    }
   ],
   "source": [
    "from pm4py.algo.discovery.alpha import factory as alpha_miner\n",
    "from pm4py.objects.dfg.filtering.dfg_filtering import DEFAULT_NOISE_THRESH_DF\n",
    "\n",
    "param_keys['noiseThreshold'] = DEFAULT_NOISE_THRESH_DF\n",
    "filt_dfg = dfg_filtering.apply(dfg, parameters=param_keys)\n",
    "\n",
    "net, initial_marking, final_marking = alpha_miner.apply_dfg(filt_dfg, parameters=param_keys)\n",
    "\n",
    "net_graph = pn_visualizer.apply(net,\n",
    "                                initial_marking=initial_marking,\n",
    "                                final_marking=final_marking)\n",
    "\n",
    "# fix place size\n",
    "import numpy as np\n",
    "body = np.array(net_graph.body)\n",
    "body[body ==  '\\tnode [fixedsize=true shape=circle width=0.75]'] = '\\tnode [fixedsize=true shape=circle width=1]'\n",
    "net_graph.body = body\n",
    "\n",
    "net_graph.render(os.path.join(figures_dir, 'q1_f_alpha_miner'),\n",
    "                 format='pdf',\n",
    "                 view=True)"
   ]
  },
  {
   "cell_type": "markdown",
   "metadata": {},
   "source": [
    "#### Heuristics Miner"
   ]
  },
  {
   "cell_type": "code",
   "execution_count": 33,
   "metadata": {},
   "outputs": [
    {
     "data": {
      "text/plain": [
       "'./figures/q1_f_heuristics_miner.pdf'"
      ]
     },
     "execution_count": 33,
     "metadata": {},
     "output_type": "execute_result"
    }
   ],
   "source": [
    "from pm4py.algo.discovery.heuristics import factory as heuristics_miner\n",
    "\n",
    "net, initial_marking, final_marking = heuristics_miner.apply_dfg(filt_dfg, parameters=param_keys)\n",
    "\n",
    "net_graph = pn_visualizer.apply(net,\n",
    "                                initial_marking=initial_marking,\n",
    "                                final_marking=final_marking)\n",
    "\n",
    "# fix place size\n",
    "import numpy as np\n",
    "body = np.array(net_graph.body)\n",
    "body[body ==  '\\tnode [fixedsize=true shape=circle width=0.75]'] = '\\tnode [fixedsize=true shape=circle width=1]'\n",
    "net_graph.body = body\n",
    "\n",
    "net_graph.render(os.path.join(figures_dir, 'q1_f_heuristics_miner'),\n",
    "                 format='pdf',\n",
    "                 view=True)"
   ]
  },
  {
   "cell_type": "markdown",
   "metadata": {},
   "source": [
    "The Alpha miner fails completely to most of the structures beyond the initial activities. The Heuristics miner presents a good job up until the treatments start, showing precisely the control calls and its relation with the `Inform Authority*` activities. Both fail to understand non-local influence of the `Prescripe Special Medication` and the sequencing of the A treatments and checks. Therefore, one can say the most precise model is still the one generated by the IM, even though the one generated by the HM is more readable."
   ]
  },
  {
   "cell_type": "markdown",
   "metadata": {},
   "source": [
    "# Social Network Analysis\n",
    "\n",
    "> Discover the organizational perspective of the process. For each of the following networks, try to find a clear organizational structure and discuss the structure obtained. If no clear structure is to be found, explain why this is the case."
   ]
  },
  {
   "cell_type": "markdown",
   "metadata": {},
   "source": [
    "---\n",
    "\n",
    "# a)\n",
    "> Handover-of-Work Social Network"
   ]
  },
  {
   "cell_type": "code",
   "execution_count": 35,
   "metadata": {},
   "outputs": [],
   "source": [
    "# define the path where the resulting networks will be stored\n",
    "RESULT_PATH = figures_dir"
   ]
  },
  {
   "cell_type": "code",
   "execution_count": 36,
   "metadata": {},
   "outputs": [],
   "source": [
    "from pm4py.algo.enhancement.sna import factory as sna_factory\n",
    "from pm4py.visualization.sna import factory as sna_vis_factory\n",
    "\n",
    "#discover the network\n",
    "handover_net = sna_factory.apply(event_log, parameters=param_keys, variant=\"handover\")\n",
    "\n",
    "#create a visualization of the network\n",
    "handover_viz = sna_vis_factory.apply(handover_net, variant=\"pyvis\")\n",
    "\n",
    "#save the visualization of the discovered network\n",
    "sna_vis_factory.save(handover_viz, RESULT_PATH+\"handover_net.html\", variant=\"pyvis\")\n"
   ]
  },
  {
   "cell_type": "markdown",
   "metadata": {},
   "source": [
    "As the pyvis interactive visualization cannot be embedded, the discovered network is shown below in the form of an image. The real network can be found in the figures folder.\n",
    "\n",
    "![](./figures/q2_handover.png)"
   ]
  },
  {
   "cell_type": "markdown",
   "metadata": {},
   "source": [
    "A handover-of-work network connects two resources when an activity performed by one resource directly follows the activity performed by another resource. The more frequent this relationship is in the log, the higher is the weight of an edge. In the graphic above the handover-of-work network that was discovered from the given log can be seen.\n",
    "\n",
    "We see that the network consists of four strongly connected main components and a single resource that has only one connection. Further we see that the resources in each of the strongly connected components all have a common first letter. The outer three components contain resources with first letters B, C and D. The inner component consists of resources with the first letter A. The nodes in the three outer components are connected only to themselves and the inner A component, but not to the other outer components. Most of the nodes in the A component have connections to all other components and the nodes in the A component have overall the most connections to other nodes. There is a single resource that does not belong to any of the components and has only one incoming edge.\n",
    "\n",
    "From an orgainzational perspective the observed network might be explained in the following way: The outer components B, C, D all represent certain distinct departments. All of the resources in such a department do similar work and are working together on a certain part of the process. The central A component however consist of resources that are delegating and inspecting work. They pass process instances from one department to another. Since the singular resource has only incoming edges, it must be concerned with the end of the process. It might be a kind of supervisor role that makes a final assertion of a process before it ends. However this node is not involved in most cases, as its connection is rather weak."
   ]
  },
  {
   "cell_type": "markdown",
   "metadata": {},
   "source": [
    "---\n",
    "\n",
    "# b)\n",
    "> Subcontracting Social Network"
   ]
  },
  {
   "cell_type": "code",
   "execution_count": 37,
   "metadata": {},
   "outputs": [],
   "source": [
    "#discover the network\n",
    "subcontracting_net = sna_factory.apply(event_log, parameters=param_keys, variant=\"subcontracting\")\n",
    "\n",
    "#create a visualization of the network\n",
    "subcontracting_viz = sna_vis_factory.apply(subcontracting_net, variant=\"pyvis\")\n",
    "\n",
    "#save the visualization of the discovered network\n",
    "sna_vis_factory.save(subcontracting_viz, RESULT_PATH+\"subcontracting_net.html\", variant=\"pyvis\")"
   ]
  },
  {
   "cell_type": "markdown",
   "metadata": {},
   "source": [
    "As the pyvis interactive visualization cannot be embedded, the discovered network is shown below in the form of an image. The real network can be found in the figure folder.\n",
    "\n",
    "![](./figures/q2_subcontracting.png)"
   ]
  },
  {
   "cell_type": "markdown",
   "metadata": {},
   "source": [
    "A subcontracting social network visualizes what resources are involved in the work of another resource.\n",
    "\n",
    "The obtained network that can be seen above has a kind of forest structure. We again see distinct connected components that show the same A, B, C, D division as in the handover-of-work network discussed above. There is one component for each of these, except for the A component, which now consists of two not connected components. As a common structure we can observe a kind of star pattern for many nodes, meaning that one resource is involved in the work of many other resources. We can see that one of the A components has a very strong relation between two of the resources.\n",
    "\n",
    "From an organizational perspective we can again see that the work of one department never involves the work of another department. Subcontracting only happens within the A, B, C, D departments. The star structures suggest that there are supervisor roles, resources that often subcontract work to other resources which do not subcontract any work. The strong connection between the _Alexander_ and _Ava_ resources suggests that Alexander is in a leadership position and Ava might be her secretary, as most of the work is subcontracted."
   ]
  },
  {
   "cell_type": "markdown",
   "metadata": {},
   "source": [
    "---\n",
    "\n",
    "# c)\n",
    "> Working-Together Social Network"
   ]
  },
  {
   "cell_type": "code",
   "execution_count": 39,
   "metadata": {},
   "outputs": [],
   "source": [
    "#discover the network\n",
    "working_together_net = sna_factory.apply(event_log, parameters=param_keys, variant=\"working_together\")\n",
    "\n",
    "#create a visualization of the network\n",
    "working_together_viz = sna_vis_factory.apply(working_together_net, variant=\"pyvis\")\n",
    "\n",
    "#save the visualization of the discovered network\n",
    "sna_vis_factory.save(working_together_viz, RESULT_PATH+\"working_together_net.html\", variant=\"pyvis\")"
   ]
  },
  {
   "cell_type": "markdown",
   "metadata": {},
   "source": [
    "As the pyvis interactive visualization cannot be embedded, the discovered network is shown below in the form of an image. The real network can be found in the figures folder.\n",
    "\n",
    "![](./figures/q2_working_together.png)"
   ]
  },
  {
   "cell_type": "markdown",
   "metadata": {},
   "source": [
    "The working-together network depicts which resources are often working together on the same case, so in which fraction of cases they were both involved.\n",
    "\n",
    "We see a similar structure as in the hondover-of-work network, which is expected. We again have four main components, with three outer ones and an inner one, following the recurring A, B, C, D pattern. We see that the connections in this network are even stronger than in the handover of work network. All of the components are almost fully connected. The inner A component is most strongly connected. Again the outer components have no connections to the other outer connections, but are all connected to the inner component. The singular resource is again present and is only connected to resources in the A component.\n",
    "\n",
    "From an organizational point of view, we see that the resources in the A component are the most important ones. They are involved in almost all cases and are almost always working together. Again it seems that they delegate work to the outer components. The almost full connection of the components suggests that when a department is involved in a case at all, usually the whole department is involved and not only certain resources. From the subcontracting network we have seen that in the outer components, much of the work is subcontracted, which explains the involvement of many different resources of each component we can see in the working-together network."
   ]
  },
  {
   "cell_type": "markdown",
   "metadata": {},
   "source": [
    "--- \n",
    "\n",
    "# d)\n",
    "> Joint-Activity Network"
   ]
  },
  {
   "cell_type": "code",
   "execution_count": 40,
   "metadata": {},
   "outputs": [],
   "source": [
    "#discover the network\n",
    "jointactivities_net = sna_factory.apply(event_log, parameters=param_keys, variant=\"jointactivities\")\n",
    "\n",
    "#create a visualization of the network\n",
    "jointactivities_viz = sna_vis_factory.apply(jointactivities_net, variant=\"pyvis\")\n",
    "\n",
    "#save the visualization of the discovered network\n",
    "sna_vis_factory.save(jointactivities_viz, RESULT_PATH+\"jointactivities_net.html\", variant=\"pyvis\")"
   ]
  },
  {
   "cell_type": "markdown",
   "metadata": {},
   "source": [
    "As the pyvis interactive visualization cannot be embedded, the discovered network is shown below in the form of an image. The real network can be found in the figures folder.\n",
    "\n",
    "![](./figures/q2_jointactivities.png)"
   ]
  },
  {
   "cell_type": "markdown",
   "metadata": {},
   "source": [
    "The jointactivities network depicts how similar the types of activities are that the resources perform. Meaning that two resources have a strong connection if they always perform the same e.g. three activities but never any other.\n",
    "\n",
    "The structure of the obtained network is very different from all networks we have considered up to this point. It consists of six strongly connected components. It seems that all of the components are fully connected, meaning that all resources in a component perform very similar activities. We see that the destinction between components is no longer based on the first letter of the resource name, as we have seen before. The components are now mixtures of these resources. This is not true for one of the components, which only contains A resources.\n",
    "\n",
    "For the organizational structure this again suggests the supervisor role for the A resources, there are certain activities that are only performed by these resources. Other activities however seem to occur in all of the B, C, D departments. Combining these findings with the findings from the other networks we cann assume that the process is structured in such a way that the A department is a supervision department that performs certain specialized taks. The other departments B, C, D, however perform similar activities (as the jointactivities network suggest) but they never mix. This suggests that a case is delegate by the A resources to one of the departments and this department then fully handles the case. It is in a way not a delegation of cases based on certain types of cases, but just a balancing of cases over all departments."
   ]
  },
  {
   "cell_type": "markdown",
   "metadata": {},
   "source": [
    "In the following we are taking a closer look at the relation between groups and activities."
   ]
  },
  {
   "cell_type": "code",
   "execution_count": 41,
   "metadata": {},
   "outputs": [
    {
     "data": {
      "text/plain": [
       "0            Alexander\n",
       "1                 Anna\n",
       "2          Amelie,Anna\n",
       "3            Alexander\n",
       "4                 Anna\n",
       "             ...      \n",
       "33859    InspectorInis\n",
       "33860    InspectorInis\n",
       "33861           Amalia\n",
       "33862    Amelie,Amalia\n",
       "33863        Alexander\n",
       "Name: Resource, Length: 33864, dtype: object"
      ]
     },
     "execution_count": 41,
     "metadata": {},
     "output_type": "execute_result"
    }
   ],
   "source": [
    "df_log['Resource']"
   ]
  },
  {
   "cell_type": "code",
   "execution_count": 42,
   "metadata": {},
   "outputs": [
    {
     "data": {
      "text/plain": [
       "0"
      ]
     },
     "execution_count": 42,
     "metadata": {},
     "output_type": "execute_result"
    }
   ],
   "source": [
    "first_person_group = df_log['Resource'].str[0]\n",
    "second_person_group = df_log['Resource'].str.split(',').apply(lambda a: a[-1]).str[0]\n",
    "\n",
    "(first_person_group != second_person_group).sum()"
   ]
  },
  {
   "cell_type": "markdown",
   "metadata": {},
   "source": [
    "This means that when two resources share the activity, it is contained in one of the groups of strongly connected resources."
   ]
  },
  {
   "cell_type": "code",
   "execution_count": 43,
   "metadata": {},
   "outputs": [
    {
     "data": {
      "text/plain": [
       "I    9954\n",
       "A    9147\n",
       "B    5401\n",
       "D    4755\n",
       "C    4606\n",
       "H       1\n",
       "Name: Component, dtype: int64"
      ]
     },
     "execution_count": 43,
     "metadata": {},
     "output_type": "execute_result"
    }
   ],
   "source": [
    "df_log['Component'] = first_person_group\n",
    "\n",
    "df_log['Component'].value_counts()"
   ]
  },
  {
   "cell_type": "code",
   "execution_count": 44,
   "metadata": {},
   "outputs": [
    {
     "name": "stdout",
     "output_type": "stream",
     "text": [
      "==== Component  A\n",
      "Register                        1438\n",
      "Initial Exam                    1436\n",
      "Initial Exam Decision           1419\n",
      "Test III                         779\n",
      "Inform about Isolation           758\n",
      "Test III Decision                745\n",
      "Discharge Init Exam              687\n",
      "Inform Authority Send Form       533\n",
      "Referral                         529\n",
      "Inform Authority Fill Form       529\n",
      "Discharge Test                   216\n",
      "Prescripe Special Medication      78\n",
      "Name: Activity, dtype: int64\n",
      "==== Component  B\n",
      "Check Treatment A1    1053\n",
      "Treatment A1          1047\n",
      "Treatment B            738\n",
      "Check Treatment B      737\n",
      "Check Treatment A2     411\n",
      "Treatment A2           408\n",
      "Treatment A3           215\n",
      "Check Treatment A3     213\n",
      "Decide Treatment       194\n",
      "Register Facility      193\n",
      "Discharge              192\n",
      "Name: Activity, dtype: int64\n",
      "==== Component  D\n",
      "Check Treatment A1    824\n",
      "Treatment A1          811\n",
      "Treatment B           795\n",
      "Check Treatment B     794\n",
      "Treatment A2          318\n",
      "Check Treatment A2    314\n",
      "Discharge             197\n",
      "Register Facility     191\n",
      "Decide Treatment      190\n",
      "Treatment A3          164\n",
      "Check Treatment A3    157\n",
      "Name: Activity, dtype: int64\n",
      "==== Component  I\n",
      "Control Call    9954\n",
      "Name: Activity, dtype: int64\n",
      "==== Component  C\n",
      "Check Treatment A1    1044\n",
      "Treatment A1          1039\n",
      "Treatment B            705\n",
      "Check Treatment A2     409\n",
      "Treatment A2           407\n",
      "Treatment A3           216\n",
      "Check Treatment A3     214\n",
      "Check Treatment B      147\n",
      "Decide Treatment       143\n",
      "Discharge              143\n",
      "Register Facility      139\n",
      "Name: Activity, dtype: int64\n",
      "==== Component  H\n",
      "Emergency Send 2 Facility (Wait)    1\n",
      "Name: Activity, dtype: int64\n"
     ]
    }
   ],
   "source": [
    "for c in df_log['Component'].unique():\n",
    "    print('==== Component ', c)\n",
    "    print(df_log[df_log['Component'] == c]['Activity'].value_counts())"
   ]
  },
  {
   "cell_type": "markdown",
   "metadata": {},
   "source": [
    "We verify that, indeed, the components represent groups of resources that act in different activities. We can estimate that groups B, C and D are responsible for the treatment of confirmed cases; group I is responsible for the control call only; H is the helicopter, only used in emergencies; and group A deals with the remaining activities related to the trial of the patients."
   ]
  },
  {
   "cell_type": "markdown",
   "metadata": {},
   "source": [
    "### What are the components of the jointacitivites"
   ]
  },
  {
   "cell_type": "markdown",
   "metadata": {},
   "source": [
    "Right-most component:"
   ]
  },
  {
   "cell_type": "code",
   "execution_count": 45,
   "metadata": {},
   "outputs": [
    {
     "data": {
      "text/plain": [
       "array(['Treatment A1', 'Treatment B', 'Discharge', 'Treatment A2',\n",
       "       'Treatment A3'], dtype=object)"
      ]
     },
     "execution_count": 45,
     "metadata": {},
     "output_type": "execute_result"
    }
   ],
   "source": [
    "df_log[df_log['Resource'] == 'Daniela']['Activity'].unique()"
   ]
  },
  {
   "cell_type": "markdown",
   "metadata": {},
   "source": [
    "Most dense ball:"
   ]
  },
  {
   "cell_type": "code",
   "execution_count": 46,
   "metadata": {},
   "outputs": [
    {
     "data": {
      "text/plain": [
       "array(['Check Treatment A1', 'Check Treatment A2', 'Check Treatment A3'],\n",
       "      dtype=object)"
      ]
     },
     "execution_count": 46,
     "metadata": {},
     "output_type": "execute_result"
    }
   ],
   "source": [
    "df_log[df_log['Resource'] == 'Benedikt,Bella']['Activity'].unique()"
   ]
  },
  {
   "cell_type": "code",
   "execution_count": 47,
   "metadata": {},
   "outputs": [
    {
     "data": {
      "text/plain": [
       "array(['Check Treatment A2', 'Check Treatment A1', 'Check Treatment A3',\n",
       "       'Check Treatment B'], dtype=object)"
      ]
     },
     "execution_count": 47,
     "metadata": {},
     "output_type": "execute_result"
    }
   ],
   "source": [
    "df_log[df_log['Resource'] == 'Babatunde,Bruno']['Activity'].unique()"
   ]
  },
  {
   "cell_type": "code",
   "execution_count": 48,
   "metadata": {},
   "outputs": [
    {
     "data": {
      "text/plain": [
       "array(['Check Treatment A1', 'Check Treatment A3', 'Check Treatment A2',\n",
       "       'Check Treatment B'], dtype=object)"
      ]
     },
     "execution_count": 48,
     "metadata": {},
     "output_type": "execute_result"
    }
   ],
   "source": [
    "df_log[df_log['Resource'] == 'Celina,Cedrik']['Activity'].unique()"
   ]
  },
  {
   "cell_type": "markdown",
   "metadata": {},
   "source": [
    "Line segment:"
   ]
  },
  {
   "cell_type": "code",
   "execution_count": 49,
   "metadata": {},
   "outputs": [
    {
     "data": {
      "text/plain": [
       "array(['Referral', 'Prescripe Special Medication'], dtype=object)"
      ]
     },
     "execution_count": 49,
     "metadata": {},
     "output_type": "execute_result"
    }
   ],
   "source": [
    "df_log[df_log['Resource'] == 'Adrian']['Activity'].unique()"
   ]
  },
  {
   "cell_type": "markdown",
   "metadata": {},
   "source": [
    "Octogon:"
   ]
  },
  {
   "cell_type": "code",
   "execution_count": 50,
   "metadata": {},
   "outputs": [
    {
     "data": {
      "text/plain": [
       "array(['Initial Exam Decision', 'Test III Decision'], dtype=object)"
      ]
     },
     "execution_count": 50,
     "metadata": {},
     "output_type": "execute_result"
    }
   ],
   "source": [
    "df_log[df_log['Resource'] == 'Adrian,Amalia']['Activity'].unique()"
   ]
  },
  {
   "cell_type": "markdown",
   "metadata": {},
   "source": [
    "Square:"
   ]
  },
  {
   "cell_type": "code",
   "execution_count": 51,
   "metadata": {},
   "outputs": [
    {
     "data": {
      "text/plain": [
       "array(['Initial Exam', 'Test III', 'Inform about Isolation'], dtype=object)"
      ]
     },
     "execution_count": 51,
     "metadata": {},
     "output_type": "execute_result"
    }
   ],
   "source": [
    "df_log[df_log['Resource'] == 'Anna']['Activity'].unique()"
   ]
  },
  {
   "cell_type": "markdown",
   "metadata": {},
   "source": [
    "Left-most component:"
   ]
  },
  {
   "cell_type": "code",
   "execution_count": 52,
   "metadata": {},
   "outputs": [
    {
     "data": {
      "text/plain": [
       "array(['Decide Treatment'], dtype=object)"
      ]
     },
     "execution_count": 52,
     "metadata": {},
     "output_type": "execute_result"
    }
   ],
   "source": [
    "df_log[df_log['Resource'] == 'Diana']['Activity'].unique()"
   ]
  },
  {
   "cell_type": "code",
   "execution_count": null,
   "metadata": {},
   "outputs": [],
   "source": []
  }
 ],
 "metadata": {
  "kernelspec": {
   "display_name": "Python 3",
   "language": "python",
   "name": "python3"
  },
  "language_info": {
   "codemirror_mode": {
    "name": "ipython",
    "version": 3
   },
   "file_extension": ".py",
   "mimetype": "text/x-python",
   "name": "python",
   "nbconvert_exporter": "python",
   "pygments_lexer": "ipython3",
   "version": "3.6.3"
  }
 },
 "nbformat": 4,
 "nbformat_minor": 4
}
